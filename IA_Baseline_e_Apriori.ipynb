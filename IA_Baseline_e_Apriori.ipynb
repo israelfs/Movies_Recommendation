{
  "cells": [
    {
      "cell_type": "markdown",
      "id": "o2QOjzlCzfHn",
      "metadata": {
        "id": "o2QOjzlCzfHn"
      },
      "source": [
        "# Recomendação de filmes utilizando o dataset do MovieLens\n",
        "## Tratamento dos dados, implementação e comparação entre o método Baseline e o modelo Apriori"
      ]
    },
    {
      "cell_type": "markdown",
      "id": "ccDuYXGUzfHu",
      "metadata": {
        "id": "ccDuYXGUzfHu"
      },
      "source": [
        "### Importar Bibliotecas"
      ]
    },
    {
      "cell_type": "code",
      "execution_count": 1,
      "id": "pc6oV0EZzfHv",
      "metadata": {
        "colab": {
          "base_uri": "https://localhost:8080/"
        },
        "id": "pc6oV0EZzfHv",
        "outputId": "5eb854fc-098d-4a7f-a4ed-edb2aa788529"
      },
      "outputs": [
        {
          "name": "stdout",
          "output_type": "stream",
          "text": [
            "Defaulting to user installation because normal site-packages is not writeable\n",
            "Requirement already satisfied: numpy in /home/gustavo_lelli/.local/lib/python3.10/site-packages (1.26.2)\n",
            "Requirement already satisfied: pandas in /home/gustavo_lelli/.local/lib/python3.10/site-packages (2.1.3)\n",
            "Requirement already satisfied: mlxtend in /home/gustavo_lelli/.local/lib/python3.10/site-packages (0.23.0)\n",
            "Requirement already satisfied: wget in /home/gustavo_lelli/.local/lib/python3.10/site-packages (3.2)\n",
            "Requirement already satisfied: tzdata>=2022.1 in /home/gustavo_lelli/.local/lib/python3.10/site-packages (from pandas) (2023.3)\n",
            "Requirement already satisfied: pytz>=2020.1 in /usr/lib/python3/dist-packages (from pandas) (2022.1)\n",
            "Requirement already satisfied: python-dateutil>=2.8.2 in /home/gustavo_lelli/.local/lib/python3.10/site-packages (from pandas) (2.8.2)\n",
            "Requirement already satisfied: scipy>=1.2.1 in /home/gustavo_lelli/.local/lib/python3.10/site-packages (from mlxtend) (1.11.4)\n",
            "Requirement already satisfied: joblib>=0.13.2 in /home/gustavo_lelli/.local/lib/python3.10/site-packages (from mlxtend) (1.3.2)\n",
            "Requirement already satisfied: matplotlib>=3.0.0 in /home/gustavo_lelli/.local/lib/python3.10/site-packages (from mlxtend) (3.8.2)\n",
            "Requirement already satisfied: scikit-learn>=1.0.2 in /home/gustavo_lelli/.local/lib/python3.10/site-packages (from mlxtend) (1.3.2)\n",
            "Requirement already satisfied: packaging>=20.0 in /home/gustavo_lelli/.local/lib/python3.10/site-packages (from matplotlib>=3.0.0->mlxtend) (23.0)\n",
            "Requirement already satisfied: cycler>=0.10 in /home/gustavo_lelli/.local/lib/python3.10/site-packages (from matplotlib>=3.0.0->mlxtend) (0.12.1)\n",
            "Requirement already satisfied: contourpy>=1.0.1 in /home/gustavo_lelli/.local/lib/python3.10/site-packages (from matplotlib>=3.0.0->mlxtend) (1.2.0)\n",
            "Requirement already satisfied: pillow>=8 in /usr/lib/python3/dist-packages (from matplotlib>=3.0.0->mlxtend) (9.0.1)\n",
            "Requirement already satisfied: fonttools>=4.22.0 in /home/gustavo_lelli/.local/lib/python3.10/site-packages (from matplotlib>=3.0.0->mlxtend) (4.45.1)\n",
            "Requirement already satisfied: pyparsing>=2.3.1 in /usr/lib/python3/dist-packages (from matplotlib>=3.0.0->mlxtend) (2.4.7)\n",
            "Requirement already satisfied: kiwisolver>=1.3.1 in /home/gustavo_lelli/.local/lib/python3.10/site-packages (from matplotlib>=3.0.0->mlxtend) (1.4.5)\n",
            "Requirement already satisfied: six>=1.5 in /usr/lib/python3/dist-packages (from python-dateutil>=2.8.2->pandas) (1.16.0)\n",
            "Requirement already satisfied: threadpoolctl>=2.0.0 in /home/gustavo_lelli/.local/lib/python3.10/site-packages (from scikit-learn>=1.0.2->mlxtend) (3.2.0)\n"
          ]
        }
      ],
      "source": [
        "!pip install numpy pandas mlxtend wget"
      ]
    },
    {
      "cell_type": "code",
      "execution_count": 2,
      "id": "QdQIBtvTzfHx",
      "metadata": {
        "id": "QdQIBtvTzfHx"
      },
      "outputs": [],
      "source": [
        "import numpy as np\n",
        "import pandas as pd"
      ]
    },
    {
      "cell_type": "markdown",
      "id": "g4QaIIdUzfHx",
      "metadata": {
        "id": "g4QaIIdUzfHx"
      },
      "source": [
        "### Dados crus do dataset movieLens"
      ]
    },
    {
      "cell_type": "code",
      "execution_count": 3,
      "id": "9Luwnd-QzfHy",
      "metadata": {
        "colab": {
          "base_uri": "https://localhost:8080/"
        },
        "id": "9Luwnd-QzfHy",
        "outputId": "7cd05c13-95f8-4a84-cffb-10850977a983"
      },
      "outputs": [
        {
          "name": "stdout",
          "output_type": "stream",
          "text": [
            "100% [....................................................] 65019041 / 65019041\n",
            "Saved under ml-20m-compact.tar (7).gz\n",
            "dataset/\n",
            "dataset/tags_sample.csv\n",
            "dataset/._.DS_Store\n",
            "dataset/.DS_Store\n",
            "dataset/movies_sample.csv\n",
            "dataset/._genome-tags.csv\n",
            "dataset/genome-tags.csv\n",
            "dataset/._ml-youtube.csv\n",
            "dataset/ml-youtube.csv\n",
            "dataset/._genome-scores.csv\n",
            "dataset/genome-scores.csv\n",
            "dataset/ratings_sample.csv\n"
          ]
        }
      ],
      "source": [
        "import wget\n",
        "!python3 -m wget https://github.com/mmanzato/MBABigData/raw/master/ml-20m-compact.tar.gz\n",
        "# Botar referência e créditos ao Marcelo Manzato\n",
        "!tar -xvzf ml-20m-compact.tar.gz\n",
        "# Aprox 400 filmes e 11k usuarios"
      ]
    },
    {
      "cell_type": "code",
      "execution_count": 4,
      "id": "NeFuDnV_zfHz",
      "metadata": {
        "id": "NeFuDnV_zfHz"
      },
      "outputs": [],
      "source": [
        "# Explorar os dados\n",
        "movies = pd.read_csv('./dataset/movies_sample.csv')\n",
        "ratings = pd.read_csv('./dataset/ratings_sample.csv')\n",
        "df = ratings[['userId', 'movieId', 'rating']]\n",
        "df = df.merge(movies[['movieId', 'title']])\n",
        "# Mapeamento em idx\n",
        "map_users = {user: idx for idx, user in enumerate(df.userId.unique())}\n",
        "map_items = {item: idx for idx, item in enumerate(df.movieId.unique())}\n",
        "df['userId'] = df['userId'].map(map_users)\n",
        "df['movieId'] = df['movieId'].map(map_items)\n",
        "\n",
        "map_title = {}\n",
        "for _, row in df.iterrows():\n",
        "    map_title[row.movieId] = row.title"
      ]
    },
    {
      "cell_type": "code",
      "execution_count": 5,
      "id": "opsO-eqXzfHz",
      "metadata": {
        "colab": {
          "base_uri": "https://localhost:8080/",
          "height": 206
        },
        "id": "opsO-eqXzfHz",
        "outputId": "8d4ec2bf-fa01-4c50-afc6-09e41b94b9e9"
      },
      "outputs": [
        {
          "data": {
            "text/html": [
              "<div>\n",
              "<style scoped>\n",
              "    .dataframe tbody tr th:only-of-type {\n",
              "        vertical-align: middle;\n",
              "    }\n",
              "\n",
              "    .dataframe tbody tr th {\n",
              "        vertical-align: top;\n",
              "    }\n",
              "\n",
              "    .dataframe thead th {\n",
              "        text-align: right;\n",
              "    }\n",
              "</style>\n",
              "<table border=\"1\" class=\"dataframe\">\n",
              "  <thead>\n",
              "    <tr style=\"text-align: right;\">\n",
              "      <th></th>\n",
              "      <th>movieId</th>\n",
              "      <th>title</th>\n",
              "      <th>genres</th>\n",
              "    </tr>\n",
              "  </thead>\n",
              "  <tbody>\n",
              "    <tr>\n",
              "      <th>0</th>\n",
              "      <td>30</td>\n",
              "      <td>Shanghai Triad (Yao a yao yao dao waipo qiao) ...</td>\n",
              "      <td>Crime|Drama</td>\n",
              "    </tr>\n",
              "    <tr>\n",
              "      <th>1</th>\n",
              "      <td>31</td>\n",
              "      <td>Dangerous Minds (1995)</td>\n",
              "      <td>Drama</td>\n",
              "    </tr>\n",
              "    <tr>\n",
              "      <th>2</th>\n",
              "      <td>37</td>\n",
              "      <td>Across the Sea of Time (1995)</td>\n",
              "      <td>Documentary|IMAX</td>\n",
              "    </tr>\n",
              "    <tr>\n",
              "      <th>3</th>\n",
              "      <td>161</td>\n",
              "      <td>Crimson Tide (1995)</td>\n",
              "      <td>Drama|Thriller|War</td>\n",
              "    </tr>\n",
              "    <tr>\n",
              "      <th>4</th>\n",
              "      <td>193</td>\n",
              "      <td>Showgirls (1995)</td>\n",
              "      <td>Drama</td>\n",
              "    </tr>\n",
              "  </tbody>\n",
              "</table>\n",
              "</div>"
            ],
            "text/plain": [
              "   movieId                                              title  \\\n",
              "0       30  Shanghai Triad (Yao a yao yao dao waipo qiao) ...   \n",
              "1       31                             Dangerous Minds (1995)   \n",
              "2       37                      Across the Sea of Time (1995)   \n",
              "3      161                                Crimson Tide (1995)   \n",
              "4      193                                   Showgirls (1995)   \n",
              "\n",
              "               genres  \n",
              "0         Crime|Drama  \n",
              "1               Drama  \n",
              "2    Documentary|IMAX  \n",
              "3  Drama|Thriller|War  \n",
              "4               Drama  "
            ]
          },
          "execution_count": 5,
          "metadata": {},
          "output_type": "execute_result"
        }
      ],
      "source": [
        "movies.head()"
      ]
    },
    {
      "cell_type": "code",
      "execution_count": 6,
      "id": "xvGhjIX6zfH0",
      "metadata": {
        "colab": {
          "base_uri": "https://localhost:8080/",
          "height": 206
        },
        "id": "xvGhjIX6zfH0",
        "outputId": "d3b1cd14-f3a8-4567-aee7-dd6e7e7705bd"
      },
      "outputs": [
        {
          "data": {
            "text/html": [
              "<div>\n",
              "<style scoped>\n",
              "    .dataframe tbody tr th:only-of-type {\n",
              "        vertical-align: middle;\n",
              "    }\n",
              "\n",
              "    .dataframe tbody tr th {\n",
              "        vertical-align: top;\n",
              "    }\n",
              "\n",
              "    .dataframe thead th {\n",
              "        text-align: right;\n",
              "    }\n",
              "</style>\n",
              "<table border=\"1\" class=\"dataframe\">\n",
              "  <thead>\n",
              "    <tr style=\"text-align: right;\">\n",
              "      <th></th>\n",
              "      <th>userId</th>\n",
              "      <th>movieId</th>\n",
              "      <th>rating</th>\n",
              "      <th>timestamp</th>\n",
              "    </tr>\n",
              "  </thead>\n",
              "  <tbody>\n",
              "    <tr>\n",
              "      <th>0</th>\n",
              "      <td>11</td>\n",
              "      <td>7481</td>\n",
              "      <td>5.0</td>\n",
              "      <td>1230788624</td>\n",
              "    </tr>\n",
              "    <tr>\n",
              "      <th>1</th>\n",
              "      <td>11</td>\n",
              "      <td>1046</td>\n",
              "      <td>4.5</td>\n",
              "      <td>1251144145</td>\n",
              "    </tr>\n",
              "    <tr>\n",
              "      <th>2</th>\n",
              "      <td>11</td>\n",
              "      <td>616</td>\n",
              "      <td>4.0</td>\n",
              "      <td>1230782542</td>\n",
              "    </tr>\n",
              "    <tr>\n",
              "      <th>3</th>\n",
              "      <td>11</td>\n",
              "      <td>3535</td>\n",
              "      <td>2.0</td>\n",
              "      <td>1230784884</td>\n",
              "    </tr>\n",
              "    <tr>\n",
              "      <th>4</th>\n",
              "      <td>11</td>\n",
              "      <td>5669</td>\n",
              "      <td>5.0</td>\n",
              "      <td>1230853788</td>\n",
              "    </tr>\n",
              "  </tbody>\n",
              "</table>\n",
              "</div>"
            ],
            "text/plain": [
              "   userId  movieId  rating   timestamp\n",
              "0      11     7481     5.0  1230788624\n",
              "1      11     1046     4.5  1251144145\n",
              "2      11      616     4.0  1230782542\n",
              "3      11     3535     2.0  1230784884\n",
              "4      11     5669     5.0  1230853788"
            ]
          },
          "execution_count": 6,
          "metadata": {},
          "output_type": "execute_result"
        }
      ],
      "source": [
        "ratings.head()"
      ]
    },
    {
      "cell_type": "code",
      "execution_count": 7,
      "id": "UWRv7GZGzfH1",
      "metadata": {
        "colab": {
          "base_uri": "https://localhost:8080/",
          "height": 206
        },
        "id": "UWRv7GZGzfH1",
        "outputId": "a853ab8b-e48f-40d5-d6da-114efe145ae3"
      },
      "outputs": [
        {
          "data": {
            "text/html": [
              "<div>\n",
              "<style scoped>\n",
              "    .dataframe tbody tr th:only-of-type {\n",
              "        vertical-align: middle;\n",
              "    }\n",
              "\n",
              "    .dataframe tbody tr th {\n",
              "        vertical-align: top;\n",
              "    }\n",
              "\n",
              "    .dataframe thead th {\n",
              "        text-align: right;\n",
              "    }\n",
              "</style>\n",
              "<table border=\"1\" class=\"dataframe\">\n",
              "  <thead>\n",
              "    <tr style=\"text-align: right;\">\n",
              "      <th></th>\n",
              "      <th>userId</th>\n",
              "      <th>movieId</th>\n",
              "      <th>rating</th>\n",
              "      <th>title</th>\n",
              "    </tr>\n",
              "  </thead>\n",
              "  <tbody>\n",
              "    <tr>\n",
              "      <th>0</th>\n",
              "      <td>0</td>\n",
              "      <td>0</td>\n",
              "      <td>5.0</td>\n",
              "      <td>Enemy Mine (1985)</td>\n",
              "    </tr>\n",
              "    <tr>\n",
              "      <th>1</th>\n",
              "      <td>1</td>\n",
              "      <td>0</td>\n",
              "      <td>4.0</td>\n",
              "      <td>Enemy Mine (1985)</td>\n",
              "    </tr>\n",
              "    <tr>\n",
              "      <th>2</th>\n",
              "      <td>2</td>\n",
              "      <td>0</td>\n",
              "      <td>3.0</td>\n",
              "      <td>Enemy Mine (1985)</td>\n",
              "    </tr>\n",
              "    <tr>\n",
              "      <th>3</th>\n",
              "      <td>3</td>\n",
              "      <td>0</td>\n",
              "      <td>3.0</td>\n",
              "      <td>Enemy Mine (1985)</td>\n",
              "    </tr>\n",
              "    <tr>\n",
              "      <th>4</th>\n",
              "      <td>4</td>\n",
              "      <td>0</td>\n",
              "      <td>3.0</td>\n",
              "      <td>Enemy Mine (1985)</td>\n",
              "    </tr>\n",
              "  </tbody>\n",
              "</table>\n",
              "</div>"
            ],
            "text/plain": [
              "   userId  movieId  rating              title\n",
              "0       0        0     5.0  Enemy Mine (1985)\n",
              "1       1        0     4.0  Enemy Mine (1985)\n",
              "2       2        0     3.0  Enemy Mine (1985)\n",
              "3       3        0     3.0  Enemy Mine (1985)\n",
              "4       4        0     3.0  Enemy Mine (1985)"
            ]
          },
          "execution_count": 7,
          "metadata": {},
          "output_type": "execute_result"
        }
      ],
      "source": [
        "df.head()"
      ]
    },
    {
      "cell_type": "markdown",
      "id": "kemK6c7fzfH1",
      "metadata": {
        "id": "kemK6c7fzfH1"
      },
      "source": [
        "### Divisão da base em treino e teste"
      ]
    },
    {
      "cell_type": "code",
      "execution_count": 8,
      "id": "nXitH-H1zfH2",
      "metadata": {
        "id": "nXitH-H1zfH2"
      },
      "outputs": [],
      "source": [
        "from sklearn.model_selection import train_test_split\n",
        "train, test = train_test_split(df, test_size=.2, random_state=2)"
      ]
    },
    {
      "cell_type": "markdown",
      "id": "DOzHB3HxzfH2",
      "metadata": {
        "id": "DOzHB3HxzfH2"
      },
      "source": [
        "### Funções para obter informações específicas do DataFrame"
      ]
    },
    {
      "cell_type": "code",
      "execution_count": 9,
      "id": "npgbVPULzfH2",
      "metadata": {
        "colab": {
          "base_uri": "https://localhost:8080/"
        },
        "id": "npgbVPULzfH2",
        "outputId": "f0b1c3f2-22af-47e3-cec8-100b8679a666"
      },
      "outputs": [
        {
          "data": {
            "text/plain": [
              "3.5"
            ]
          },
          "execution_count": 9,
          "metadata": {},
          "output_type": "execute_result"
        }
      ],
      "source": [
        "# Obter a nota que um usuário deu para um item.\n",
        "def get_rating(userId,movieId):\n",
        "    if len(df[(df['userId']==userId)&(df['movieId']==movieId)]) == 0:\n",
        "        return 0\n",
        "    return (df.loc[(df.userId==userId) & (df.movieId == movieId),'rating'].iloc[0])\n",
        "\n",
        "get_rating(6102, 413)"
      ]
    },
    {
      "cell_type": "code",
      "execution_count": 10,
      "id": "S3ctqONwzfH2",
      "metadata": {
        "colab": {
          "base_uri": "https://localhost:8080/"
        },
        "id": "S3ctqONwzfH2",
        "outputId": "c5f89816-55cc-4690-bd14-f77595e9ee9b"
      },
      "outputs": [
        {
          "data": {
            "text/plain": [
              "[0, 1, 2, 3, 4, 5, 6, 7, 8, 9, 10, 11, 12]"
            ]
          },
          "execution_count": 10,
          "metadata": {},
          "output_type": "execute_result"
        }
      ],
      "source": [
        "# Obter a lista de todos os filmes que um usuário avaliou.\n",
        "def get_movie_ids(userId):\n",
        "    if userId not in df['userId'].values:\n",
        "        return []\n",
        "    return (df.loc[(df.userId==userId),'movieId'].tolist())\n",
        "\n",
        "get_movie_ids(0)"
      ]
    },
    {
      "cell_type": "code",
      "execution_count": 11,
      "id": "9W_urycjzfH3",
      "metadata": {
        "colab": {
          "base_uri": "https://localhost:8080/",
          "height": 36
        },
        "id": "9W_urycjzfH3",
        "outputId": "cd207a13-ba89-44ae-aefa-6ec30d4fc7a1"
      },
      "outputs": [
        {
          "data": {
            "text/plain": [
              "'Enemy Mine (1985)'"
            ]
          },
          "execution_count": 11,
          "metadata": {},
          "output_type": "execute_result"
        }
      ],
      "source": [
        "# Obter o título do item dado o seu id.\n",
        "def get_movie_title(movieId):\n",
        "    if movieId not in df['movieId'].values:\n",
        "        return ''\n",
        "    return (df.loc[(df.movieId == movieId),'title'].iloc[0])\n",
        "\n",
        "get_movie_title(0)"
      ]
    },
    {
      "cell_type": "code",
      "execution_count": 12,
      "id": "2ddnjQ0gzfH3",
      "metadata": {
        "colab": {
          "base_uri": "https://localhost:8080/"
        },
        "id": "2ddnjQ0gzfH3",
        "outputId": "0eb2a71f-f907-4117-bb42-13508269ed45"
      },
      "outputs": [
        {
          "data": {
            "text/plain": [
              "[5.0, 4.5, 4.0, 2.0, 5.0, 5.0, 5.0, 5.0, 3.0, 5.0, 5.0, 3.5, 5.0]"
            ]
          },
          "execution_count": 12,
          "metadata": {},
          "output_type": "execute_result"
        }
      ],
      "source": [
        "# Obter a lista de ratings de um usuário.\n",
        "def get_user_ratings(userId):\n",
        "    if userId not in df['userId'].values:\n",
        "        return []\n",
        "    return (df.loc[(df.userId==userId),'rating'].tolist())\n",
        "\n",
        "get_user_ratings(0)"
      ]
    },
    {
      "cell_type": "code",
      "execution_count": 13,
      "id": "B3ZkME25zfH4",
      "metadata": {
        "colab": {
          "base_uri": "https://localhost:8080/"
        },
        "id": "B3ZkME25zfH4",
        "outputId": "6366284f-c07d-42fe-85b2-a40092c8e7f9"
      },
      "outputs": [
        {
          "data": {
            "text/plain": [
              "3.38"
            ]
          },
          "execution_count": 13,
          "metadata": {},
          "output_type": "execute_result"
        }
      ],
      "source": [
        "# Obter a média de ratings de um usuário\n",
        "def get_user_mean(userId):\n",
        "    return np.mean(get_user_ratings(userId))\n",
        "\n",
        "get_user_mean(1)"
      ]
    },
    {
      "cell_type": "code",
      "execution_count": 14,
      "id": "4j-uRGrnzfH4",
      "metadata": {
        "id": "4j-uRGrnzfH4"
      },
      "outputs": [],
      "source": [
        "# Obter a lista de todos os usuários que avaliaram o filme\n",
        "def get_user_ids(movieId):\n",
        "    if movieId not in df['movieId'].values:\n",
        "        return []\n",
        "    return (df.loc[(df.movieId==movieId),'userId'].tolist())\n",
        "\n"
      ]
    },
    {
      "cell_type": "code",
      "execution_count": 15,
      "id": "E9IZ9qx9zfH4",
      "metadata": {
        "id": "E9IZ9qx9zfH4"
      },
      "outputs": [],
      "source": [
        "# Obter todas as notas do filme\n",
        "def get_movie_ratings(movieId):\n",
        "    if movieId not in df['movieId'].values:\n",
        "        return []\n",
        "    return (df.loc[(df.movieId==movieId),'rating'].tolist())\n"
      ]
    },
    {
      "cell_type": "code",
      "execution_count": 16,
      "id": "iAnl9_8ozfH4",
      "metadata": {
        "colab": {
          "base_uri": "https://localhost:8080/"
        },
        "id": "iAnl9_8ozfH4",
        "outputId": "560b029c-cfcd-4ebe-9212-3b9e3fcbbc7f"
      },
      "outputs": [
        {
          "data": {
            "text/plain": [
              "3.4496732026143793"
            ]
          },
          "execution_count": 16,
          "metadata": {},
          "output_type": "execute_result"
        }
      ],
      "source": [
        "# Obter a média de notas do filme\n",
        "def get_movie_mean(movieId):\n",
        "    return np.mean(get_movie_ratings(movieId))\n",
        "\n",
        "get_movie_mean(0)"
      ]
    },
    {
      "cell_type": "markdown",
      "id": "EbHZiyOkzfH4",
      "metadata": {
        "id": "EbHZiyOkzfH4"
      },
      "source": [
        "# Método Baseline\n",
        "### Método simples para predição de avaliações baseado em tendências de cada usuário e item\n",
        "\n",
        "> Recomeda filmes considerando o contexto e os dados tanto dos filmes quanto dos usuários, e a associação entre os filmes e os usuários"
      ]
    },
    {
      "cell_type": "code",
      "execution_count": 17,
      "id": "0wF0fZuyzfH5",
      "metadata": {
        "id": "0wF0fZuyzfH5"
      },
      "outputs": [
        {
          "name": "stdout",
          "output_type": "stream",
          "text": [
            "{0: 0.9591448165754742, 1: -0.04869727647102709, 2: -0.564784684687678, 3: -0.22195443098479137, 4: 0.12998848795779563, 5: -0.056108067733634866, 6: 0.18304527377715707, 7: -0.4811877759425817, 8: -0.5245319081526818, 9: -0.32186096131863956, 10: -0.045975197312582844, 11: -0.12273996608529551, 12: -0.5694747105118395, 13: 0.3625331276706996, 14: 0.2911454074577962, 15: -0.6912442063291419, 16: -0.007081374528962683, 17: 0.7757812547498685, 18: 0.18606010816996008, 19: 0.31638587085475744, 20: 0.3658605317796833, 21: -0.06471141741088646, 22: 0.016013654059483105, 23: 0.41291764036439116, 24: -0.6260452013207763, 25: -0.18314854259600688, 26: 0.16205030356365327, 27: -0.20106221606561445, 28: 0.340775101254133, 29: -0.07040215684299775, 30: 0.784051275227572, 31: 0.398622620265576, 32: 0.49325755227192775, 33: 0.5363116119298528, 34: -0.2435998389799411, 35: -0.3280983833995616, 36: -0.1183245883859704, 37: -0.4053958263635231, 38: 0.3012311690523328, 39: -0.6668458104345114, 40: 0.12614889233547216, 41: 0.0033744842362694793, 42: 0.08583119617995634, 43: -0.3590706175698308, 44: -0.18277838306406538, 45: -0.43317598032496535, 46: -0.6189039031479501, 47: 0.08400583178164867, 48: -0.44743007343203905, 49: -0.15311599593073663, 50: -0.9000955817839335, 51: -0.4098442473180045, 52: 0.02806200251501604, 53: -0.45588611702217485, 54: -0.500955429372885, 55: 0.04653494003713532, 56: -0.3120580415859252, 57: 0.12288481594497269, 58: 0.30747808939847504, 59: -0.6698656008411712, 60: 0.4129105609330707, 61: 0.3054074125482747, 62: -0.4744469755514778, 63: -0.37458849657369025, 64: 0.18226129255203344, 65: 0.05349971468195081, 66: -0.10407683593073998, 67: 0.11094660016129364, 68: -0.2734325253334042, 69: 0.5498653891722453, 70: 0.11416141577531239, 71: -0.27682031220366554, 72: 0.27209685700152836, 73: -0.18118155395090257, 74: -0.11189817322607201, 75: -0.07767009026055131, 76: 0.37522774361352224, 77: -0.4773862587550135, 78: -0.1528905855552993, 79: 0.2570089434988711, 80: -0.21150277463223804, 81: -0.5425983282990884, 82: -0.3358385360955262, 83: 0.19067148333245096, 84: 0.3539968345737146, 85: -0.36399887716214374, 86: 0.1521803269662533, 87: -0.6501872627040048, 88: -0.8369693198303216, 89: -0.5660428497818837, 90: -0.29080954432458656, 91: -0.006475991053220765, 92: 0.5379448638676043, 93: -0.24124329699849495, 94: -0.4127501243007762, 95: -0.34078791820064774, 96: 0.17468362251547506, 97: 0.3346523917162931, 98: 0.6118573657113613, 99: 0.4308288177559632, 100: -0.11672524749535187, 101: 0.2747499581026614, 102: -0.37619834252957507, 103: 0.25801570602523793, 104: 0.0479916422322996, 105: 0.4212593164510691, 106: 0.06722466700205487, 107: -0.3836060937396222, 108: -0.0514327658206084, 109: 0.2124625419296808, 110: -0.04019457061934057, 111: -0.254927356477774, 112: 0.39424250948639816, 113: 0.0350328449211566, 114: 0.14255728701206613, 115: 0.09728366447809318, 116: 0.9708838062953743, 117: -0.6255567271617695, 118: 0.9234849921617965, 119: 0.37870077386769047, 120: 0.0401136722395035, 121: 0.4155504772413959, 122: -0.06214519297781616, 123: -0.46944315550451793, 124: -0.5339136426815718, 125: -0.19058120685574245, 126: 0.1807613206219545, 127: -0.2798308253991757, 128: 0.1412437210144593, 129: 0.2376007222556062, 130: -0.015300078243081494, 131: 0.23708633033119988, 132: -0.5646651469420085, 133: 0.3260551162775579, 134: 0.09464077412786856, 135: 0.04207481461497046, 136: -0.11847563242329612, 137: 0.21541272274786039, 138: -0.07976015325573071, 139: -0.8293346529518145, 140: -0.24894271327034945, 141: 0.4567237819564109, 142: 0.22860284573740475, 143: -0.027199793299288098, 144: 0.2849387000907119, 145: 0.330273824949364, 146: -0.27664091738662344, 147: -0.13909731578813717, 148: 0.1390169306727477, 149: 0.14214950622620434, 150: 0.30766067794205404, 151: -0.5017517241178894, 152: 0.12617427275910212, 153: -0.1427603398965077, 154: -0.3498667166517295, 155: -0.7949084317501346, 156: -0.2547750895059497, 157: 0.36125102909427514, 158: 0.5672518862487057, 159: -0.09510796375722692, 160: -0.21831342406483736, 161: -0.41672587299972075, 162: -0.004158335556233921, 163: 0.036970872783005315, 164: 0.45255994122670695, 165: 0.4548442849444336, 166: -0.3189984536130966, 167: 0.005685854932595499, 168: -0.008853753555885037, 169: 0.021688414764397135, 170: -0.2489543998368811, 171: 0.09394289702511491, 172: 0.019867389819957042, 173: 0.21438100727956483, 174: 0.11882747427151874, 175: -0.02496785620356974, 176: -0.14737389247786442, 177: 0.30441529167024733, 178: -0.325690904084798, 179: 0.8598792833439667, 180: 0.13294126068549583, 181: 0.28603238903401496, 182: -0.23102124668466115, 183: -0.40973243798862014, 184: 0.3159913368953323, 185: 0.08740659703618821, 186: 0.22254761106730392, 187: 0.2674555289085582, 188: 0.4878204777366324, 189: -0.1824230521359093, 190: -0.06817599932789178, 191: -0.15152435396558747, 192: -0.2085073545422417, 193: -0.13291170297026908, 194: -0.7897436236727352, 195: 0.2629870705978492, 196: 0.6306894007566057, 197: 0.542960002456577, 198: 0.22053966289586444, 199: -0.07537396318091633, 200: -0.512154584323512, 201: 0.2894886236589299, 202: 0.0677883336459578, 203: -0.3132653840020445, 204: 0.3329334114384459, 205: -1.7157420994100472, 206: 1.1757067087083202, 207: -0.43127500241107103, 208: 0.4700576578885778, 209: 0.13541167058699163, 210: -0.8558923626458576, 211: -0.4386050814579083, 212: -0.6121627573184677, 213: -0.14239290342884983, 214: 0.007579822356305593, 215: -0.48792421895479793, 216: 0.14776694378669636, 217: 0.4618027884674002, 218: -0.28581871027265937, 219: -0.04828526575608559, 220: -0.011259470759781714, 221: -0.02108054595665863, 222: -0.4249938228311914, 223: -0.407413735235097, 224: -0.16098896702607288, 225: -0.4093227467904325, 226: -0.18130485387656473, 227: -0.0894479452687041, 228: -0.13897416175948266, 229: 0.22345641141618672, 230: 0.41407164192356233, 231: -0.6144911785991902, 232: -0.05287282949733359, 233: 0.5652446513076667, 234: 0.13387539773259563, 235: -0.053413837669232855, 236: 0.6008620958900384, 237: 0.41736644272744344, 238: 0.8005133652446084, 239: 0.018753102460806158, 240: -0.045224384489048565, 241: 0.5631080109020342, 242: -0.7811948425358929, 243: 0.25686194001123513, 244: 0.30697675456136764, 245: -0.38878371343379486, 246: -0.17586911390854543, 247: 0.08186251755999674, 248: -0.30367016612606, 249: -0.08232925519420774, 250: 0.1641944398392155, 251: -0.07867228382947354, 252: 0.7215934496212651, 253: -0.1170742804250552, 254: -0.1328333259219887, 255: 0.6832223661027107, 256: 0.711743629123901, 257: 0.503615093802504, 258: 0.4006083116404531, 259: 0.05902127533135954, 260: -0.6876542251114024, 261: 0.05488223801436123, 262: 0.07834878574787586, 263: 0.09607823444352863, 264: 0.11986118094422321, 265: -0.03711546917671682, 266: -0.16578707477635118, 267: -0.685229359575657, 268: 0.04494190924124699, 269: -0.07857878276995937, 270: -0.4690845389551688, 271: 0.1476619034611878, 272: 0.7577471370880046, 273: 0.26099135995886236, 274: 0.2501756093255279, 275: 0.05456304574098446, 276: 0.29904589351499083, 277: 0.07911048867571556, 278: 0.37347782295330223, 279: -0.5511943987840682, 280: 0.06641428216399255, 281: -0.39366052513068694, 282: 0.3661638428717253, 283: -0.10185451274682125, 284: 0.8917110477962025, 285: -0.5233915865157349, 286: 0.8319052768669755, 287: -0.15686174276334733, 288: 0.016696347671619843, 289: -0.11760776069856417, 290: -0.008603103560864567, 291: -0.11621198494001414, 292: 0.2407289735824935, 293: 0.31636775994124616, 294: -0.43758618360786034, 295: -0.4741962452488166, 296: 0.1718242350061755, 297: -0.37386329561769926, 298: -0.12762404136766056, 299: -0.5899678579434101, 300: 0.35963488329152615, 301: -0.5378486798960097, 302: -0.2043212295848676, 303: -0.05188641516427276, 304: 0.06155887163520011, 305: -0.07003974874895687, 306: 0.07818668660441495, 307: 1.0086807736057806, 308: -0.12155057381745545, 309: 0.09171290839597794, 310: -0.2167782533785273, 311: 0.295020597907031, 312: -0.2537064153862336, 313: 0.20000518638402162, 314: 0.12222089909723949, 315: 0.021684130914246907, 316: -0.04733959331516705, 317: -0.008969665167350054, 318: -0.25397563926277417, 319: 0.07858708684981329, 320: -0.02100348143968579, 321: 0.7318231224095502, 322: 0.2590130142910978, 323: 0.08729039952782815, 324: -0.10781476616370213, 325: -0.22665667685058888, 326: 0.376841142532477, 327: 0.3453653050907171, 328: 0.4406266868061044, 329: -0.5884725498130208, 330: 0.02340193838980888, 331: -0.38863225683872815, 332: 0.20023964756405313, 333: 0.6602925367598369, 334: 0.35117064677533244, 335: 0.42318909247074893, 336: 0.07573117056412781, 337: 0.05434777187697926, 338: -0.5916739426558915, 339: -0.013908644170670906, 340: -0.002488952728510706, 341: 0.27364877116471187, 342: -0.12693465905514104, 343: -0.008397584614944482, 344: 0.3710733035623431, 345: -0.2735792619969883, 346: 0.2652247370931752, 347: 0.0821222367120724, 348: 0.03163596391351901, 349: -0.23279487779162322, 350: -0.6172748668568077, 351: 0.18597434456322434, 352: 0.22688273650477347, 353: 0.8901741072608745, 354: -0.09693041154739339, 355: -0.19313407035955535, 356: -0.9485739059789636, 357: 0.17786358469837843, 358: -0.23565293407100812, 359: 0.18837423273379, 360: -0.4942974642954614, 361: -0.01054203432789413, 362: 0.23145862984298884, 363: 0.2480061938586302, 364: -0.288248234617814, 365: 0.2867863843965677, 366: -0.4953283299609258, 367: -0.14570303723630101, 368: 0.40880921982742174, 369: 0.1530162487798591, 370: 0.34627356107182017, 371: 0.20616408031443284, 372: 0.1282266977755424, 373: -0.15740140024411167, 374: -0.17300906396186844, 375: 0.19575679137990812, 376: -0.5866225365033854, 377: 0.11093823792582098, 378: 0.08317361511771629, 379: -0.17315958806244006, 380: 0.018092710615020564, 381: -0.4178100957009814, 382: -0.3852277682182065, 383: -0.36549228931062383, 384: 0.4260328240361236, 385: -0.5560607555134941, 386: -0.7747425033789119, 387: 0.1420793845375793, 388: 0.31998883438902215, 389: 0.021994083989811578, 390: -0.024651103244189284, 391: 0.14172546446354187, 392: 0.13528290898018905, 393: 0.3782846892182426, 394: -0.1039511911595317, 395: 0.41996766750120934, 396: 0.16926135325408947, 397: -0.33883393231139897, 398: -0.04797620966998647, 399: 0.27941805337505904, 400: 0.8148099935051947, 401: -0.387073994728934, 402: 0.1020213775622448, 403: -0.024724113639842952, 404: 0.27065403176954383, 405: 0.3852798979576535, 406: -0.453446813888991, 407: 0.9613272232137573, 408: -0.04848597681038728, 409: -0.1507702347375621, 410: -0.03432235747712726, 411: 0.37689528926182836, 412: -0.39313641668516547, 413: 0.45228430545419557, 414: 0.14984574479497095, 415: -0.28181177429723203, 416: 0.16197139422273416, 417: -0.46586246985109486, 418: 0.2443294782694874, 419: -0.06263624384763541, 420: 0.2864300107393542, 421: -1.3925463430231615, 422: -0.4443857376845733, 423: -0.7940001209289383, 424: 0.22454239138635573, 425: -1.3325506796250057, 426: 0.42613383892243883, 427: -0.05200395589154016, 428: -0.26642625495389666, 429: 0.05910130641791488, 430: -0.1872065216912275, 431: -0.6937080157261918, 432: -0.9307844104865347, 433: 0.6590070536973422, 434: 0.32025313545039136, 435: -1.1880745370000831, 436: 0.4440247867464542, 437: 0.8805380396287458, 438: 0.2535528947732919, 439: -1.205567675221779, 440: 0.338428967237618, 441: 0.36851418000495695, 442: 0.20426562889225947, 443: -0.003892563917483135, 444: -0.07433276275640509, 445: 0.12069715133603394, 446: 0.2917372178294448, 447: -0.19010141496415217, 448: 0.320682205056197, 449: 0.6218005858008512, 450: -0.2606892439310968, 451: -0.5857360253494458, 452: 0.43663181085798963, 453: -0.04191013886172829, 454: -0.5961879265250946, 455: -0.012797198098703309, 456: 0.4440971661939017, 457: 0.3904056013828742, 458: -0.10052949446985542, 459: 0.11746200822416182, 460: -0.17528916124341004, 461: 0.12395798908569239, 462: 0.6633781999949123, 463: -0.4694824869869271, 464: 0.7147392274519954, 465: 0.3934354270974733, 466: -1.2442956208335665, 467: 0.140208238263253, 468: 0.0531203465609899, 469: 0.13060940805751642, 470: -0.6294173070771723, 471: -0.46703535130305956, 472: -0.08972073404793846, 473: -0.6096897541770575, 474: 0.013351847872044282, 475: 0.11776769425404106, 476: -0.4862088468827563, 477: 0.7451997841770994, 478: 0.5433526517508699, 479: 0.08060071775025085, 480: 0.492458054565909, 481: 0.09188080789438409, 482: -0.20003072829599033, 483: -0.8285937238403062, 484: -0.7927368537341933, 485: -0.3339883585195738, 486: -0.6232116632350418, 487: 0.026716154003712963, 488: -0.32242603759321037, 489: 0.1794244450611932, 490: -0.14974804188108712, 491: -1.0333476441710772, 492: 0.23504086574485145, 493: -0.21496986440888646, 494: 0.098888948331805, 495: -0.07015494781533661, 496: -0.1562855779453747, 497: 0.2880386348009887, 498: -0.38308319179904887, 499: -0.024822529893402973, 500: -0.31627064991511356, 501: 0.22223366346910534, 502: 0.6523007669000397, 503: 0.16814370714928442, 504: -0.2705896360641196, 505: 0.7687872463797153, 506: 0.19158897292421437, 507: 0.6512333554285272, 508: 0.08621040783879952, 509: -0.260105898559061, 510: 0.7883576560937301, 511: 0.3023120585037384, 512: -0.42895130754834654, 513: -0.1662811655930185, 514: 0.7260664710420043, 515: 0.08259279763624465, 516: -0.09678162445266293, 517: -0.3778704351065053, 518: 0.7685197203315526, 519: -0.3391037670122296, 520: -0.5642646770760092, 521: -0.05351826007655772, 522: -0.36738057936765717, 523: -0.22657955873026386, 524: -0.8094770372887184, 525: 0.650169164802368, 526: 0.17426648567048791, 527: 0.28018617993880407, 528: 0.39451946138743355, 529: -0.47028584244452604, 530: 0.22919749130813344, 531: -0.9363359107364347, 532: -0.19831820200724248, 533: 0.030787069656208515, 534: -1.038304744564907, 535: -0.20246395928260302, 536: 0.28213241651552334, 537: 0.5760243557086436, 538: -0.5565680999681941, 539: 0.32036353018263114, 540: 0.14295912173043268, 541: 0.21367894147463729, 542: -1.2577824890165676, 543: 0.10206785271697037, 544: 0.8534749059745252, 545: 0.30429680909129514, 546: 1.0159930506664785, 547: 0.010548221306929237, 548: 0.39494474052632844, 549: -0.5520312753809002, 550: -0.39260112861744373, 551: -0.2894455098557776, 552: -0.7229247670207161, 553: -0.015086856738560573, 554: 0.606837173968286, 555: 0.14743596785232124, 556: -0.28414968754935455, 557: 0.39742165182231515, 558: 0.004005335718922621, 559: -0.0061074930508216475, 560: -0.35392867309743087, 561: -0.2325651793853606, 562: -1.077373129434084, 563: -0.2416539672111069, 564: -0.02558864244313293, 565: 0.19348902116441702, 566: -0.11441347901864032, 567: 0.32228369669813167, 568: -0.07020647292053904, 569: 0.3279668766975332, 570: -0.028726196155394308, 571: -0.168242483624697, 572: -0.6544338780395101, 573: -0.25394907444827924, 574: -0.3335446084292309, 575: -0.8346128710933335, 576: -0.05127192150225976, 577: 0.5132576433451278, 578: -0.04687588028176319, 579: 0.10175636181356758, 580: -0.08455160479557845, 581: 0.15469625809135695, 582: -0.1640444294301197, 583: 0.1967920056237219, 584: 0.12064731731776514, 585: 0.10518803115979238, 586: 0.18076012009190637, 587: 0.44477968624600717, 588: -0.4016967450157153, 589: -1.0200276657495553, 590: -0.0051948866490333515, 591: 0.6490226588199416, 592: 0.35548838018348955, 593: 0.2054296565717687, 594: 0.13639982802071232, 595: 0.5984584152483129, 596: -0.7236899856767403, 597: -0.21594394404509348, 598: 0.020735752581697273, 599: 0.17539541034795317, 600: 0.038058701136321954, 601: 0.2046645843823538, 602: -0.10296491928530556, 603: -0.05740389765271138, 604: 0.4062549622080572, 605: -0.3324105956318893, 606: 0.1706945556504952, 607: 0.33097617849824024, 608: -0.19471460416937714, 609: 0.05265203252427879, 610: 0.4435447206520791, 611: 0.02062291886221245, 612: -0.6552741223732612, 613: -0.18907487507914322, 614: 0.9137137714235363, 615: 0.6436933777533217, 616: -0.494932356047367, 617: 0.019831627709109248, 618: 0.12785172950862156, 619: 0.4729296701528506, 620: 0.3176440007345071, 621: -0.3133693255867907, 622: -0.6692560358285257, 623: 0.7744319406442202, 624: -0.426544834066154, 625: -0.37774586289923784, 626: -0.28674343194481283, 627: 0.00879189478046341, 628: 0.129516529989102, 629: -0.6852694267731005, 630: -0.17209082627978828, 631: -0.5957032501443185, 632: 0.33407738349068034, 633: -0.2633290293831133, 634: -0.6594822271100896, 635: -0.029318927677686527, 636: -0.2204444162382617, 637: -0.04851819125976145, 638: -0.11664687252942026, 639: -0.5077901736265978, 640: -0.2640275016170868, 641: 0.26070484192861676, 642: 0.5639372960563195, 643: 0.6540154822112321, 644: 0.18136451563854167, 645: -0.2896497338674742, 646: 0.07459074417784402, 647: 0.11707491842010194, 648: 0.6094717325161122, 649: -0.1506720509504567, 650: -0.196550935187108, 651: 0.6598818886483905, 652: 0.11024345368269192, 653: -0.357153197424318, 654: 0.09224730164810531, 655: -0.27668448683572194, 656: -0.14444634849474716, 657: 0.24054356776905228, 658: 0.2463883818909602, 659: 0.35185681786454165, 660: 0.256375086101381, 661: -0.46254235277224054, 662: 0.6936861589480189, 663: -0.17668765392039532, 664: 0.23537656920549782, 665: -0.6257963294258135, 666: 0.08465499849349577, 667: 0.36272440289004504, 668: -0.4327915514690868, 669: -0.1609661344934868, 670: -0.20004930890022654, 671: -0.1129345362505248, 672: -0.0379797382141074, 673: 0.15167040025727865, 674: 0.02801873839948122, 675: -0.545794604677412, 676: 0.08661870094411953, 677: 0.9510599361988402, 678: 0.1841453201560496, 679: -0.22969166551210485, 680: 0.5561931002747424, 681: 0.4203916788049375, 682: -0.1524038636142543, 683: -0.08060241804866998, 684: 0.44870963003368086, 685: 0.4353438722517789, 686: 0.12257103022073311, 687: 0.3931035446631338, 688: 0.47850824576729883, 689: 0.4201628427443866, 690: 0.44514034745408215, 691: -0.37243290889627784, 692: 0.11463097965104435, 693: -0.3635153553532266, 694: -0.04751204941701874, 695: -0.533909839201075, 696: -1.1788252670662216, 697: -0.466672813843728, 698: -0.4610830975001221, 699: 0.5959263990448954, 700: 0.16908202178412254, 701: 0.49361020784159265, 702: -0.05977900438010657, 703: -0.11083290559954884, 704: 0.5645823629636629, 705: -0.06919855132764999, 706: -0.07961813266097763, 707: -0.005909484743522511, 708: -0.1873456533019961, 709: 0.24267337157766142, 710: -0.3923055593016574, 711: -0.22073134219558435, 712: -0.2717102455479825, 713: 0.10584827661106819, 714: 0.00943937499891696, 715: 0.19808843503838505, 716: -0.2607861922736221, 717: -0.18227056544134573, 718: 0.23176412398078924, 719: 0.3557080584148165, 720: -0.1625373639887677, 721: -0.040276045904760666, 722: 0.4442118279657781, 723: 0.07449632489715996, 724: -0.5658632046937345, 725: -0.28852778571152116, 726: 0.27208330999877045, 727: -0.7510378236746496, 728: -0.19171976248876008, 729: 1.0401802302865517, 730: 0.04456469816296959, 731: -0.7163448053727942, 732: 0.5903162164999184, 733: -0.04820289687970661, 734: -0.3328896717940637, 735: -0.023722422616349118, 736: 0.14231050202653506, 737: 0.2969247107494228, 738: 0.11537544476354274, 739: -0.14112750873889482, 740: 0.25920954739060836, 741: 0.4019303777142793, 742: 0.005552324979061532, 743: -0.41429796324873724, 744: -0.13556104978293756, 745: -0.49071017692843516, 746: 0.1050115995631005, 747: 0.4545876825251667, 748: 1.1082909855332153, 749: -0.6831010068793922, 750: 0.545228629291308, 751: 0.5206717860148525, 752: 0.11030286195766525, 753: 0.21546721191582507, 754: -0.44088909992200553, 755: 0.6230695056974244, 756: 0.431648923284626, 757: 0.4025613541141149, 758: -0.05912536603549552, 759: -0.4656337987570623, 760: 0.16028238893563096, 761: 0.18742444575261466, 762: 0.14939515848208335, 763: -0.08146256516128526, 764: 0.42444541484652365, 765: 0.09460352410874133, 766: -0.8869456887047967, 767: -0.6342227193239414, 768: 0.3642147833854434, 769: 0.6442395109940058, 770: -0.33732809244747863, 771: 0.18059247437565032, 772: 0.20510485334108847, 773: 0.36466913636113607, 774: 0.011747487595017111, 775: 0.019900442481830826, 776: 0.13034473310598352, 777: 0.3268964853084818, 778: -0.4955780544213188, 779: 0.5438683467317286, 780: 0.4876617808135128, 781: -0.21180246834794594, 782: 0.5090968960106084, 783: -0.011657850880519101, 784: 0.44643316869092814, 785: 0.12291818715737653, 786: -0.09148603586495312, 787: -0.6840901003734827, 788: 0.327573969451113, 789: 0.14798987073058018, 790: -0.497287185139504, 791: 0.3829660334429914, 792: 0.8170369717497438, 793: -0.24347940049975533, 794: -0.25388404537710557, 795: 0.22030788443528376, 796: -0.3590696823828664, 797: -0.11619698333335247, 798: 0.2724147802200201, 799: -0.051077702615160384, 800: -0.07889423994797991, 801: 0.19143951312304247, 802: -0.952138675445443, 803: -0.05326077114278855, 804: -0.02394722481598327, 805: -0.22858363848977115, 806: -0.37814829283703283, 807: -0.7151751910230506, 808: -0.09216209979935505, 809: -0.09316106976738442, 810: 0.2880004237496285, 811: 0.501154391233228, 812: 0.4503178725067354, 813: -0.026364723794864587, 814: -0.2169835367793779, 815: 0.25112204893623286, 816: -0.5668416276215067, 817: 0.21686607980062167, 818: 0.19109255166882444, 819: 0.5222051147380556, 820: -0.24185936024247676, 821: 0.27838794935025724, 822: -0.28823094637253055, 823: 0.8343615214818556, 824: -0.038415465512108386, 825: -0.08971393704183864, 826: 0.16246530158955996, 827: 0.20547148789218025, 828: -0.02250415968709518, 829: -0.4839276412217962, 830: -0.09895839999289736, 831: 0.17808617670425853, 832: 0.1621641925612869, 833: -0.03981151554444106, 834: 0.24835233542802485, 835: -0.29453525585052814, 836: 0.20535548640044, 837: -0.47466927462937814, 838: -0.2921598617468157, 839: 0.05536791186009066, 840: -0.00014945608677406503, 841: 0.7383473289369156, 842: -0.16491026244911824, 843: -0.33927225938359507, 844: 0.3021461259878075, 845: 0.482069110044913, 846: -0.3189774794730544, 847: -0.2583155114673261, 848: 0.6529287654663531, 849: -0.0800751923663954, 850: -0.48858265057318023, 851: -0.3638500841036856, 852: -0.36887669453818217, 853: -0.21136202435418944, 854: -0.24338585655210832, 855: 0.24855879039447343, 856: -0.25726759295396556, 857: -0.023960446773574118, 858: 0.3023792832471614, 859: 0.03534296510584416, 860: 0.09062665146952567, 861: -0.3159160778690388, 862: -0.8525261399612067, 863: 0.5972943410068579, 864: -0.08352383813824237, 865: 0.06504395255114231, 866: 0.3892304403605248, 867: 0.07528102191328605, 868: -0.10063363042870735, 869: 0.16248712523944284, 870: 0.37568591120077155, 871: 0.3685120883912362, 872: -0.0114826248894836, 873: -0.08379769238923157, 874: -0.11858222813275553, 875: 0.056476995924914654, 876: -0.02362275815252751, 877: -1.3033489193180943, 878: -0.05082891120532341, 879: -0.29630475738392476, 880: 1.0204736343462384, 881: 0.6599458404659789, 882: 0.6002314898504787, 883: -0.10092389130557235, 884: -0.1124227492425149, 885: -0.4359640639818666, 886: 0.12596630026440692, 887: -0.053826341059945756, 888: -1.0784068496082617, 889: -0.21472738277462086, 890: 0.1457563035470887, 891: -0.2305383698731245, 892: -0.010908047036579598, 893: 0.2021167640708727, 894: 0.0035133143502139373, 895: -0.19026414461439323, 896: -0.407252218255392, 897: -0.11146436848458323, 898: -0.20218468245062676, 899: -0.023579654328139184, 900: 0.6412439840080741, 901: -0.0003289549637556726, 902: -0.03644460203808937, 903: -0.060936732593815865, 904: 0.09331459479736659, 905: 0.34517204037162574, 906: -0.35036610531851525, 907: 0.2869026215623855, 908: -0.4676497397540991, 909: 0.08384226282773184, 910: -0.0071473691193170855, 911: -0.7970210709049456, 912: -0.00155681264001033, 913: 0.29565141274737444, 914: -0.09988212954089164, 915: 0.526945789224362, 916: -0.3126551227077085, 917: -0.10380074942466426, 918: -0.32422151231897184, 919: 0.48774188367667026, 920: -0.09209166530061148, 921: 0.21745603347184048, 922: 0.06245996962148795, 923: 0.014621148658265588, 924: 0.4899297043771086, 925: -0.35960716741753745, 926: -0.28282248361079304, 927: -0.9457697476265899, 928: 0.3111229158194595, 929: -0.04549673911563793, 930: 0.6855476132116721, 931: 0.42969647753370444, 932: -0.009533770427098399, 933: 0.2179099360214841, 934: -0.24419237256366513, 935: 0.32850163825621936, 936: -0.34991711088300886, 937: -1.166164226325834, 938: -0.5046056391721084, 939: 0.07005921345785669, 940: -0.08062706775057564, 941: 0.19307869741410671, 942: 0.08301232311129639, 943: 0.3779106559587155, 944: -0.30139201395159165, 945: 0.19561726928620318, 946: -0.07780005756839034, 947: 0.15222452355217564, 948: 0.2172542674839199, 949: 0.235819043806997, 950: 0.8201943577797097, 951: -1.1085031506721863, 952: -0.19793144558536052, 953: 0.015438036702177018, 954: -0.055470501276087186, 955: -0.3325811454828274, 956: -0.02015972405059576, 957: -0.6173871838785591, 958: -0.5462987218775587, 959: 0.23370100923412654, 960: 0.6688242967517127, 961: -0.2516970712686311, 962: 0.39746837505961974, 963: 0.10619997883233444, 964: 0.1876205600041551, 965: -0.1406416330338151, 966: -0.009747967180456452, 967: -0.37970461680326384, 968: -0.36380928769248977, 969: -0.1501575918432029, 970: -1.1938987156448664, 971: 0.1640567717778095, 972: 0.25531247776180305, 973: 0.21356162439455542, 974: -0.2683728546878482, 975: -1.0217508627561234, 976: -0.0779809662362926, 977: -0.17094467847726283, 978: -0.20545739053786985, 979: -0.3453035191683046, 980: 0.45878360142448443, 981: 0.3526936458848113, 982: -0.017779438746779928, 983: 0.6470200991980668, 984: 0.21050780732175492, 985: 0.15062475688451074, 986: 0.10026440349431151, 987: -0.30790987179353135, 988: -0.24666110201421396, 989: -0.028850861464633375, 990: 0.23991022740463516, 991: -0.3782732622130602, 992: 0.2021733484782255, 993: -0.3935100517338046, 994: -0.3111636305730367, 995: -0.02873374268287261, 996: 0.49046092613751163, 997: -0.04053007350348234, 998: 0.23008045357966056, 999: 0.5236858453337836, 1000: -0.32061426281350575, 1001: -0.03684315333199096, 1002: 0.5932670093033985, 1003: -0.06589605482840658, 1004: 0.17785495291540818, 1005: -0.2380672333300587, 1006: 0.05574828930839179, 1007: 0.11776791059456462, 1008: -0.18449823179777872, 1009: 0.2000594557113132, 1010: 0.7913247134456076, 1011: -0.5605961425328938, 1012: -0.19451712400645102, 1013: -0.28836644937150363, 1014: -0.17038223571643715, 1015: 0.21807537687770986, 1016: -0.11737858215385112, 1017: -0.37451361575828995, 1018: 0.09165338215864553, 1019: 0.12586482054467132, 1020: -0.7916570277058477, 1021: -0.21138670947132596, 1022: -0.08217558430681308, 1023: 1.0723596880866135, 1024: -0.7131296712889634, 1025: -2.5929416867958337, 1026: -0.514733509984163, 1027: 0.24709326164974427, 1028: -0.6508276968231043, 1029: 0.3017121627610776, 1030: -0.023605156154790453, 1031: -0.20107672080970118, 1032: 0.2969984284636652, 1033: -0.28390706453946335, 1034: 0.5569289310021146, 1035: 0.6576541654953264, 1036: -0.08266968567453056, 1037: 1.0714188059277552, 1038: 0.05426103554246094, 1039: -0.1903380490512441, 1040: -0.20084017035621562, 1041: 0.1344914765704876, 1042: -0.5289188610027362, 1043: 0.23572235859506696, 1044: 0.417960193674399, 1045: 0.26556871212493094, 1046: -0.13218882837036744, 1047: -0.018142330873082407, 1048: 0.12976381112664437, 1049: 0.3620424237271801, 1050: -0.9727988295196386, 1051: -0.3034633996477871, 1052: -0.23508560691997285, 1053: 0.42800245251261465, 1054: -0.06361019338410798, 1055: 0.35341683116845435, 1056: 0.5591067124957411, 1057: -0.10246094024817826, 1058: 0.09756778498879158, 1059: -0.27456559749470666, 1060: 0.3949981894108462, 1061: 0.9193287629454752, 1062: -0.36524846885425055, 1063: -0.32706143398813936, 1064: -0.023552666098889306, 1065: 0.21248356399962368, 1066: -0.02343215516014141, 1067: -0.20091179976502552, 1068: 0.08855787043158181, 1069: 0.1680568067661564, 1070: 0.11864233537227308, 1071: -0.13519235409396507, 1072: 0.9134217195140386, 1073: -0.48743026406553736, 1074: -0.4195365856795498, 1075: 0.1013225042440128, 1076: 0.1160144994062875, 1077: 0.26277711617606436, 1078: 0.14353242134438177, 1079: 0.2993375904508469, 1080: 0.40622873214333793, 1081: 0.006171829395659682, 1082: 0.3026505550189115, 1083: 0.20733370115683555, 1084: -0.3674205884039805, 1085: 0.019349905535463903, 1086: 0.15520315951744992, 1087: -0.19939827758798673, 1088: -0.4772823729605744, 1089: 0.4618940804937152, 1090: 0.09597446653117982, 1091: 0.5820984578825377, 1092: 0.4935615156047383, 1093: 0.04224483911075436, 1094: -0.05301991265643083, 1095: -0.4385167532919902, 1096: 0.17980734731825132, 1097: 0.07067489214940686, 1098: -0.3051504109393152, 1099: -0.8836521779020798, 1100: -0.5732196784496038, 1101: -0.05180640874348884, 1102: 0.13238604674651813, 1103: -0.13579168280347628, 1104: -0.12521187963919467, 1105: 0.5836787781191496, 1106: 0.3648911552579577, 1107: -1.1046493498239307, 1108: 0.3831759896783011, 1109: -0.4352689408853497, 1110: -0.15594255535881016, 1111: 0.013510373395877578, 1112: -0.18999131665939653, 1113: -0.4548898504171431, 1114: -0.4729406136774855, 1115: -0.21782830668076755, 1116: -0.25241522690062007, 1117: 0.3020570143821602, 1118: 0.15847860600523656, 1119: -0.4968786151726884, 1120: -0.36113164197316067, 1121: -0.3204773827846143, 1122: -0.95921923578219, 1123: 0.42585238910024686, 1124: 0.07934056995189731, 1125: -0.19076223036102255, 1126: 0.5758388978727664, 1127: 0.11869789359537002, 1128: 0.1104562391878692, 1129: 0.03312847378861719, 1130: -0.3837847408679072, 1131: 0.42375376053758823, 1132: 0.22367021840189152, 1133: -0.2917494093650315, 1134: 0.09123950966350908, 1135: 0.4190266564591264, 1136: 0.22366501514684395, 1137: -0.4540689478501499, 1138: 0.6521887106639497, 1139: 0.07672635143959906, 1140: -0.23169968025297794, 1141: 0.21387520301563298, 1142: -0.444863475367884, 1143: -0.531079735857605, 1144: 0.20352348841566667, 1145: -0.16856985172757302, 1146: -0.3006803555187289, 1147: 0.2776704466094015, 1148: -0.5060004920201444, 1149: 0.029292962464381067, 1150: -0.13525532832377024, 1151: -0.09547884435489366, 1152: 0.14670520897592687, 1153: -0.0011954521859475025, 1154: -0.11986211459558907, 1155: -0.2518098162810355, 1156: 1.0519317208422738, 1157: -0.9803216728404779, 1158: -0.023484670813035825, 1159: 0.41590274920439857, 1160: 0.07009863422986137, 1161: 0.34051009836727925, 1162: -0.1211537000007639, 1163: 0.379868230066621, 1164: -0.19303022087410424, 1165: -0.05329519779978367, 1166: 1.2331816503789774, 1167: -0.47981371552741336, 1168: -0.3375913789081085, 1169: -0.12977517355773277, 1170: -0.47251782323565217, 1171: -0.09631268948519223, 1172: 0.3180798145620498, 1173: -0.22209493334032346, 1174: 0.33183595074460115, 1175: -0.46062071646253383, 1176: 0.02265057890252539, 1177: -0.5813479407563207, 1178: -0.2799822373797273, 1179: 0.4628233780608776, 1180: -0.534004839706725, 1181: 0.1465050939264939, 1182: -0.6213232997369599, 1183: 0.008147090689836111, 1184: 0.569545504093345, 1185: 0.3582301614802417, 1186: -2.2121638237998, 1187: 0.3577880020343199, 1188: 0.5144871026375172, 1189: -0.5099533027466079, 1190: -0.14324687673122138, 1191: -0.8311788515745673, 1192: 0.09650886832456868, 1193: -0.3108874891139109, 1194: -0.018402755651644124, 1195: -0.8095334347654984, 1196: 0.24489973409024426, 1197: -0.17732600492428272, 1198: 0.09489615055296592, 1199: 0.037264209510422516, 1200: -0.006100212369109964, 1201: -0.21356417276667414, 1202: 0.1730148593155658, 1203: 0.7541691058033848, 1204: 0.6946567630071818, 1205: -0.48041921754859496, 1206: -0.33786926859231997, 1207: -0.2868625396314516, 1208: 0.6613582704287025, 1209: -0.4054044553298123, 1210: 0.07562438896050545, 1211: 0.08104785191983108, 1212: 0.12106514525320383, 1213: 0.33651820401704763, 1214: 0.18616566496697265, 1215: 0.6724689796293382, 1216: -0.36586652379244483, 1217: -0.20392317346593042, 1218: -0.3169430331045932, 1219: 0.385822735151725, 1220: 0.29578533245960476, 1221: -0.15807137334891683, 1222: 0.5990139054953063, 1223: -0.1284466996056543, 1224: -0.008280526052203863, 1225: -0.240406547166357, 1226: 0.24555995712689357, 1227: 0.11561362641410713, 1228: 0.3091628980917966, 1229: 0.11151945427339814, 1230: 0.20614939203908625, 1231: -0.25909893366233766, 1232: -0.00931744096174127, 1233: 0.7867266280895588, 1234: 0.6453461292640768, 1235: 0.012379043036980158, 1236: 0.1276470943512231, 1237: -0.3176607107884486, 1238: -0.2094119255192018, 1239: 0.3758599232857947, 1240: 0.41552635526512377, 1241: 0.4302601402823706, 1242: -0.48476421232001965, 1243: -0.6682261021170528, 1244: 0.5510614511383785, 1245: -0.28505521079233276, 1246: -0.06502673840200125, 1247: -0.8859240693293019, 1248: 0.11469371261658981, 1249: -0.27369131371870964, 1250: 0.054385541492493056, 1251: -0.6111275445132924, 1252: 0.26544154066972503, 1253: 0.0326577276473016, 1254: -0.02869338426625436, 1255: -0.32296142289679053, 1256: -0.07882626778962809, 1257: 0.36678330131072645, 1258: 0.45844425158469126, 1259: 0.44239039667623953, 1260: 0.17674873026085178, 1261: -0.31172959892962887, 1262: 0.16818376074827007, 1263: 0.05383292695933317, 1264: -0.5033395239035962, 1265: -0.3455838770194477, 1266: -0.7482278361236483, 1267: 0.011499911844679587, 1268: -0.26672826298401014, 1269: 0.5663885776801117, 1270: -0.0200227716061623, 1271: -0.3037366015955309, 1272: -0.10624920558928615, 1273: -0.09048312813682163, 1274: -0.019384678947024447, 1275: 1.0626341944973587, 1276: -0.5876248035647973, 1277: -0.03435095370675566, 1278: 0.19545811820163134, 1279: 0.10054605643497126, 1280: 0.3467395788198099, 1281: -0.39270278079089, 1282: 0.31027414336875786, 1283: -0.014316020676936329, 1284: -0.18813652463885672, 1285: -0.22655138945677752, 1286: -0.22105954318180412, 1287: -0.3019312449392284, 1288: -0.20654497592523813, 1289: 0.0016353152752084377, 1290: -0.26461273127708335, 1291: -0.12127617173919532, 1292: 0.593275766019041, 1293: -0.3153808685779877, 1294: -0.13089264150622326, 1295: -0.18795096978073775, 1296: 0.01374701755955801, 1297: -0.08693015443113629, 1298: 0.5043333588332574, 1299: -0.027627508090162973, 1300: -0.12704629362981146, 1301: -0.07406491170011113, 1302: -0.28575334325210433, 1303: 0.21451347261288578, 1304: 0.4068093316661816, 1305: 0.2197284785399006, 1306: -0.3053026834276709, 1307: -0.9613231556837243, 1308: 0.30294666386967284, 1309: 0.4693245796076578, 1310: 0.6236033131429091, 1311: 0.2698710805710648, 1312: 0.45499969484466213, 1313: 0.17972645187529254, 1314: 0.25267384394769893, 1315: 0.24492104027142436, 1316: -0.010859053615841583, 1317: 0.7704172791049949, 1318: -1.7626246585085588, 1319: 0.14008223981655854, 1320: 0.2952211716505945, 1321: 0.7346511661360255, 1322: 0.5973314380324539, 1323: -0.7574553523092026, 1324: 0.12521137305919058, 1325: 0.34291576789019296, 1326: -0.4519026494608142, 1327: -0.7793873349891124, 1328: -0.031368407383673406, 1329: -0.681736798787897, 1330: -0.30591773614902845, 1331: 0.37812963737980954, 1332: -0.13975746945249118, 1333: -0.4978406633819071, 1334: 0.11305513611755554, 1335: -0.17071641658198913, 1336: 0.2958992935338885, 1337: 0.06724279701891486, 1338: -0.3544499706573583, 1339: -0.3964267646767819, 1340: -0.48079093815211116, 1341: -0.47969847045626773, 1342: 0.17228647366573094, 1343: 0.08557126648312315, 1344: 0.05967812502754463, 1345: -0.3594786988094927, 1346: -0.36943842067604404, 1347: 1.3567568198992184, 1348: -0.7022595983798584, 1349: 0.599107019036973, 1350: 0.17342225470125064, 1351: 0.2703721755548054, 1352: 0.04419634629598841, 1353: 0.8142083067553219, 1354: 0.27311353448756476, 1355: 0.4064361070187537, 1356: 0.38987594834143624, 1357: -0.24270442681313986, 1358: 0.19251651418691337, 1359: -0.5536925028630868, 1360: -0.05677779546968359, 1361: -0.6596880786150772, 1362: -0.5852464694399002, 1363: -0.22201667700939864, 1364: -0.17803141703977976, 1365: -0.04752599554307795, 1366: 0.23143096950474776, 1367: 0.5383088212835765, 1368: 0.060975954449916214, 1369: -0.11008640626332186, 1370: -0.9881538528318015, 1371: -0.25907320578484977, 1372: -0.05757971214558655, 1373: 0.0392050053129627, 1374: -0.13244953887781025, 1375: -0.44327995328932807, 1376: -0.648194851784101, 1377: -1.366033515378052, 1378: 0.19523710959462812, 1379: -0.8327678462359793, 1380: -0.8906117685894183, 1381: 0.06273406104501976, 1382: 0.44825943582860467, 1383: -0.03973341566446069, 1384: -0.5094470698292582, 1385: -0.11549540848399882, 1386: -0.1589728399952174, 1387: 0.5758567045729176, 1388: 0.0069774765105849006, 1389: -0.4973345397242451, 1390: 0.04400910913293834, 1391: 0.22141908914669675, 1392: 0.2953339004093588, 1393: -0.38693390478181217, 1394: -0.15723468813289318, 1395: -0.2687056070352856, 1396: 0.27760119280286744, 1397: -0.07265613725518953, 1398: -0.1092861971813768, 1399: 0.4415147170097184, 1400: -0.03258289911523384, 1401: -0.38555412079553913, 1402: 0.08057689531224885, 1403: -0.12081807813493572, 1404: 0.689898012821942, 1405: -0.0711048273480991, 1406: 0.177526177309736, 1407: -0.0644445463582269, 1408: 0.009950470718406861, 1409: -0.32275636352842996, 1410: -0.4752305302029444, 1411: -0.3560958411892588, 1412: -0.30946066967729685, 1413: 0.3210460629795768, 1414: -0.0827054839037653, 1415: -0.5647339388558075, 1416: 0.17182700529887013, 1417: -0.11332839315405044, 1418: -0.5239989451018758, 1419: 0.37843759958814666, 1420: 0.3739385247304897, 1421: 0.059908935993718875, 1422: 0.10480255700841352, 1423: 0.1090767324901696, 1424: -0.40390512945602963, 1425: -0.3955098150742878, 1426: -0.109739908792785, 1427: -0.5203471852101955, 1428: -0.29565647385625743, 1429: -0.9061282313174345, 1430: 0.30394112437238385, 1431: 0.7246507099976454, 1432: -0.32285223338178853, 1433: 0.02513764746806344, 1434: 0.1814810837317819, 1435: -0.31976176147720226, 1436: 0.23191416793521646, 1437: -0.2209691352701947, 1438: 0.10542824766043192, 1439: -0.34969898379891184, 1440: 0.6567669548345341, 1441: 0.4753378039708214, 1442: -0.22514795320976286, 1443: 0.6389836273859887, 1444: 0.3053339252966241, 1445: 0.3412295503741421, 1446: -1.4621489768316112, 1447: 0.06749165329513447, 1448: 0.04589845001912272, 1449: 0.6603631667277957, 1450: -0.6558172654425954, 1451: -0.03216035862614339, 1452: 0.35808366753164106, 1453: -0.6445658856905947, 1454: -0.5701298364192204, 1455: 0.08576963329500674, 1456: -0.5580418060743222, 1457: -0.22338556785930427, 1458: 0.6245119804620474, 1459: 0.04790063960710459, 1460: -0.5274251614021892, 1461: -0.007866791795671069, 1462: 0.5112167911728059, 1463: 0.034939148878057595, 1464: -0.3177877084796236, 1465: 1.255447811833728, 1466: -0.3161898319562496, 1467: 0.5042445326213245, 1468: -0.17434277990436375, 1469: 0.41512967561858727, 1470: 0.693554553589193, 1471: 0.1348453525500934, 1472: -0.22875490358944556, 1473: -0.5718836683681247, 1474: -1.1471790580772823, 1475: 0.2099994174910695, 1476: 0.41727849080703955, 1477: -0.9550661119713846, 1478: 0.8438018298607917, 1479: 0.3105571794812411, 1480: 0.15262522452495572, 1481: 0.3220542756882212, 1482: 0.1225183563618741, 1483: 0.034274743181997094, 1484: -0.028755362825825366, 1485: -0.6228492135088809, 1486: 0.2452678395121361, 1487: 0.25357080379155716, 1488: 0.0879027162592386, 1489: 0.21355308872721737, 1490: -1.0573242353509715, 1491: -0.3107368832064399, 1492: -0.17339896081053005, 1493: -0.2505020015940195, 1494: 0.22854221612112738, 1495: 0.24513709848900989, 1496: 0.03429972041991925, 1497: -0.13959389069657505, 1498: -0.3077708441444973, 1499: 0.8878473177756525, 1500: 0.6332449301584686, 1501: 0.1928903093532674, 1502: 0.049768682883593734, 1503: -0.4285807354703661, 1504: -0.94367337039726, 1505: 0.49981150027388815, 1506: -0.22913251818782174, 1507: -0.16950386321788372, 1508: -0.3353630915032584, 1509: 0.08960051833957008, 1510: 0.33918186137287365, 1511: 0.6827572106256322, 1512: 0.09254032603584124, 1513: -0.08333920972684734, 1514: 0.42735249132136816, 1515: 0.532486068668121, 1516: -0.02768567184262232, 1517: 0.47215261301202527, 1518: 0.11402634765360913, 1519: 0.13806415534487668, 1520: -0.5600663483252157, 1521: 0.06461116127111606, 1522: -0.46087000550369545, 1523: -0.08210267275651453, 1524: -0.10650642934040713, 1525: 0.019481566189773657, 1526: 0.4934191354558586, 1527: 0.34285069045686106, 1528: -1.5345470672477652, 1529: 0.0655598321879361, 1530: 0.6621670941924016, 1531: 0.35282153895486107, 1532: -0.7070556202804883, 1533: -0.3925236003466492, 1534: -0.600058616359333, 1535: -0.015435899724416724, 1536: -0.16907998088684464, 1537: 0.1185527322003722, 1538: 0.07603169889062517, 1539: -0.00155767454017426, 1540: 0.2301098980776109, 1541: -0.2593397347185947, 1542: -0.5490181145896518, 1543: -0.03956883226072606, 1544: -0.06705270510924059, 1545: -0.08457786369402967, 1546: 0.4646803929080126, 1547: -0.11731977550512027, 1548: 0.5636508005239487, 1549: 0.32370878638273554, 1550: -0.10127095095210689, 1551: 0.38656591255205447, 1552: 0.12557021571567964, 1553: -0.6194682606880824, 1554: -0.6837110293987811, 1555: -0.5753108160143918, 1556: -0.45143582936175125, 1557: 0.3752517517377687, 1558: -0.09502434990484707, 1559: 0.11719846337981277, 1560: 0.062452014576628155, 1561: 0.2777169688934573, 1562: 0.273465132128464, 1563: 0.6631911390461045, 1564: 0.2142786095226465, 1565: 0.20226994478028282, 1566: 0.6205421860895782, 1567: -0.10058223869270286, 1568: -0.42508944140485055, 1569: -0.23858069834878112, 1570: 0.23498660256876683, 1571: -0.17946795172000726, 1572: 0.10495300624120772, 1573: -0.08715142726274303, 1574: -0.23695063479331077, 1575: -0.5137139631214578, 1576: -0.7551013657279512, 1577: -0.5389818045978453, 1578: 0.2239328147276485, 1579: -0.12318519114586947, 1580: -0.047922429466209386, 1581: 0.7928450684696403, 1582: 0.11057559839471266, 1583: -0.06977734346450631, 1584: 0.08618503815846434, 1585: 0.6187467941094569, 1586: -0.15920164818203947, 1587: 0.0017424553252705366, 1588: 0.025144782509666192, 1589: -0.49555295676205047, 1590: 0.4111207064658972, 1591: -0.04702601297048494, 1592: -0.14746129859693483, 1593: 0.27616446697465796, 1594: 0.011358550468143089, 1595: 0.437252100566741, 1596: 0.18793698280370552, 1597: 0.30011157141215095, 1598: 0.5970449567222798, 1599: 0.26285041222568367, 1600: 0.23307338822137802, 1601: 0.42929232495472947, 1602: -0.34107913347408475, 1603: 0.40044679762912155, 1604: -0.110321647713198, 1605: -0.20796099454091896, 1606: 0.10529328627757924, 1607: -0.04340083067559756, 1608: 0.004420291561531809, 1609: -0.10860242316862805, 1610: -0.20269875575674667, 1611: -0.44210495415997714, 1612: -0.3494315721932059, 1613: -0.9546187280901898, 1614: 0.3647384504799696, 1615: 0.0314345881642792, 1616: -0.15043026290046027, 1617: -0.9451754313139474, 1618: -0.22477366765245876, 1619: -0.28050544271430666, 1620: 0.24918929200471318, 1621: 0.003304961136315813, 1622: -1.0226690999877373, 1623: -0.40711208732226806, 1624: -0.1700637009835432, 1625: 0.08920251329894224, 1626: 0.12262818579340616, 1627: 1.005078830656119, 1628: 0.35005010797329705, 1629: 0.10977824602315983, 1630: 0.11604673837715432, 1631: -0.10154867212175742, 1632: -0.5147699531025918, 1633: 0.0655361390823114, 1634: 0.39415177317201505, 1635: 0.3794396172073862, 1636: -0.05395844045772602, 1637: 0.34673184221184045, 1638: 0.433070415484103, 1639: -1.491844930207175, 1640: -0.5328473545945631, 1641: -0.1713547900663736, 1642: -0.46112498029272186, 1643: -0.4178341333460998, 1644: 0.42570621914635765, 1645: 0.28556776251882304, 1646: 0.19193478462286673, 1647: -0.6486807607754259, 1648: 0.663167291322366, 1649: 0.5643102348643624, 1650: -0.18628513140115138, 1651: -0.0244521405559671, 1652: 0.18565149485891125, 1653: -0.43497471117669606, 1654: -0.2700005158001535, 1655: 0.4093132846097029, 1656: 0.6507856264015455, 1657: 0.04860650860565939, 1658: 0.20187197879020993, 1659: 0.047902890218939204, 1660: 0.13386317106650628, 1661: -0.9104214255003078, 1662: 0.0364525352617395, 1663: -0.2771709992888856, 1664: 0.012351369879169136, 1665: 0.46257540818946924, 1666: -0.3424373680348058, 1667: -0.05881574960009613, 1668: -0.09150577066231157, 1669: 0.41377121191102556, 1670: -0.05822743379864421, 1671: -0.18554591093297787, 1672: 0.09753971256496237, 1673: 0.6920779372275336, 1674: 0.28460578794744057, 1675: -0.8700540618415018, 1676: 0.3071922647627243, 1677: 0.49166963609453657, 1678: -0.5104234010739254, 1679: 0.7804698061808799, 1680: 0.39761741257130107, 1681: 0.1421913248468386, 1682: 0.6336799482039265, 1683: -0.016743795984072954, 1684: 0.4166972966699987, 1685: 0.7530562857987643, 1686: -0.3231061275094103, 1687: 0.11989508999037521, 1688: -0.10824720691181726, 1689: 0.36862183303914403, 1690: 0.19455540277720043, 1691: 0.4348933919278415, 1692: -0.19160080813114017, 1693: -0.051833583863743746, 1694: 0.36299164813188756, 1695: -0.22564322794300318, 1696: 0.132264757342008, 1697: 0.6866871099137709, 1698: -0.846552033651994, 1699: -0.11298418771673888, 1700: -0.03407627466760625, 1701: 0.6443289205587385, 1702: 0.3610476712400234, 1703: -0.04732693117345416, 1704: 0.36359004757546715, 1705: -0.7707761084350528, 1706: 0.5154398811011798, 1707: -0.27322950945230884, 1708: -0.4795151997591423, 1709: -0.15085862479446194, 1710: 0.41778927425437007, 1711: 0.11734860998875882, 1712: 0.7204422649089378, 1713: -0.039653721486040405, 1714: -0.3977719181042275, 1715: -0.5720275370132004, 1716: 0.5169307782340633, 1717: -0.011337922714498565, 1718: 0.5613454558044604, 1719: -0.30750711406133957, 1720: 0.5805049911006376, 1721: 0.39669701536691115, 1722: 0.1760862828506386, 1723: 0.1497677923872332, 1724: -0.07337331396327901, 1725: 0.35067436795171897, 1726: -1.3958927170042734, 1727: 0.01617567604051572, 1728: 0.42830821773002603, 1729: -0.2777854380714947, 1730: -0.08687814468630546, 1731: 0.04752902856983677, 1732: 0.09729786259654895, 1733: 0.6071401202027868, 1734: 0.24387531362713097, 1735: 0.4227178586203013, 1736: 0.1726189851453136, 1737: 0.21688326002259278, 1738: 0.27449544747425364, 1739: 0.0898937531846418, 1740: 0.21666304811993667, 1741: -0.13480055922188092, 1742: 0.03895694709430168, 1743: -0.5433359577456627, 1744: 0.2925337584641986, 1745: 0.6775596047308005, 1746: -0.32012135742477493, 1747: -0.6157653082726712, 1748: -0.5397567176627055, 1749: 0.4465359522618724, 1750: 0.2899268046383624, 1751: 0.35044313166972463, 1752: -0.44656526338283087, 1753: 0.12986089562405156, 1754: 0.2719600735458567, 1755: 0.08470021568984414, 1756: 0.40485985037618805, 1757: 0.5986999107577741, 1758: -0.3134210916258158, 1759: 0.3222470821448586, 1760: 0.8385337938345763, 1761: 1.5677043042052743, 1762: -0.576307977303444, 1763: 0.38785783625448694, 1764: -0.3204594322152998, 1765: -0.2891855684250211, 1766: 0.06834713382686561, 1767: 0.14054640529657741, 1768: -0.3707651489893258, 1769: 0.41453136467365853, 1770: -0.7784451228032631, 1771: 0.2037588343140813, 1772: -0.10214587921256252, 1773: -0.4962614224530932, 1774: 0.15546251536197117, 1775: -0.15774761328391443, 1776: -0.7257473172857878, 1777: -0.4411527466161348, 1778: 0.133170424963622, 1779: 0.08071098314437011, 1780: 0.470572255521909, 1781: -0.015808815190335737, 1782: 0.18544894042541762, 1783: -0.07562923800102787, 1784: 0.16754463810892284, 1785: -0.42636699580311865, 1786: 0.489196564742856, 1787: 0.05948745238054015, 1788: 0.7116374395755999, 1789: 0.06898150065167906, 1790: 0.6909093997656949, 1791: -0.1413646251893061, 1792: 0.20943249006623152, 1793: -0.35853652415701726, 1794: -0.11391821740895837, 1795: -0.17547728149066075, 1796: -0.36353595535660344, 1797: 0.09981325923664285, 1798: -0.49418043921653615, 1799: -0.2358732886219223, 1800: 0.2738541288278775, 1801: 0.26012709776897336, 1802: -0.12199133542605248, 1803: 0.2882439646942322, 1804: -0.01497524212941318, 1805: -0.5535326084708632, 1806: -0.1401874432007819, 1807: -0.08400083021232861, 1808: -0.5593633604394707, 1809: -0.3767901655348432, 1810: -0.21723951722486143, 1811: 0.3018489383589258, 1812: -0.02447534181982799, 1813: -0.4175844615204389, 1814: 0.43001272848944433, 1815: -0.003137813292499419, 1816: 0.22269634394579516, 1817: 0.2333546105224569, 1818: -0.317884597881057, 1819: -0.1830871918513293, 1820: -0.9955948567284824, 1821: -0.5387644472759252, 1822: -0.3883587192293485, 1823: -0.9691947018594299, 1824: -0.40276649526307334, 1825: 0.6875633066082228, 1826: 0.16099855536438465, 1827: 0.0009791762010295801, 1828: -0.02175623169534608, 1829: -0.7748505964956848, 1830: 0.28650790872144744, 1831: 0.11505308572479665, 1832: 0.20240483993163363, 1833: 0.09478153972848856, 1834: -0.2171466405107418, 1835: -0.1466168808569492, 1836: 0.714129678932328, 1837: 0.034015055985853235, 1838: 0.024206263598587328, 1839: 0.06050484329013305, 1840: 0.19402235868558243, 1841: 0.8652682583796559, 1842: 0.6675051675999898, 1843: 0.21571254105659177, 1844: 0.12480149300606597, 1845: 0.18698394759253006, 1846: 0.23918526974862567, 1847: 0.2075921187123338, 1848: 0.5399167331193321, 1849: -0.0397474230596888, 1850: -0.04711504283185204, 1851: 1.6617730832815734, 1852: -0.35065688509420895, 1853: -0.5251204246745856, 1854: 0.9395561831954036, 1855: -0.06634293305074306, 1856: -0.2506288867549958, 1857: 0.18967814928510116, 1858: -0.24437022888135582, 1859: 0.34321651921450463, 1860: -0.7047899006293856, 1861: -0.2790994193646845, 1862: 0.23322073951999256, 1863: 0.2503501056556953, 1864: 0.22870979195434316, 1865: -0.21694736841687903, 1866: -0.08159941495532828, 1867: 0.012067103748836723, 1868: -0.2833909476139161, 1869: 0.9304684022577923, 1870: 0.3498592391367807, 1871: 0.6324478303095404, 1872: 0.5805122566582691, 1873: 0.04728723614220917, 1874: 0.46503524173835475, 1875: -1.4895031466320447, 1876: -0.5979354512896791, 1877: -0.1830761706761517, 1878: -0.367076262947757, 1879: -0.5713130578617386, 1880: 0.14196722066423215, 1881: -0.018957156471504356, 1882: -0.43920768891445094, 1883: 0.2624341493126367, 1884: 0.7965729888148461, 1885: 0.8244087499263225, 1886: -0.4513626282392262, 1887: 0.05537648452460471, 1888: 0.1673519129578346, 1889: -0.4113993441907334, 1890: -0.23542500647471712, 1891: -0.40199529433504977, 1892: -0.04644017828459563, 1893: 0.2891236661460579, 1894: 0.8218783793140104, 1895: 0.22402936809721044, 1896: -0.49352272282482873, 1897: -0.1873614111234881, 1898: -1.0048482510932963, 1899: 0.05144659652698091, 1900: -0.6040299710096503, 1901: -0.10323646067353769, 1902: 0.5693870954137621, 1903: 0.20518042359488917, 1904: -0.3513180201497026, 1905: 0.0892990805794361, 1906: -0.2425739622489114, 1907: -0.020078943612800278, 1908: -0.42774907162257325, 1909: -0.04087183015125267, 1910: -0.09557726520342316, 1911: 0.2058361931649958, 1912: 0.09276984304679116, 1913: -0.12862349750858904, 1914: -0.25851565423661305, 1915: 0.4430579085094238, 1916: 0.7489521020904094, 1917: 0.9996622404854386, 1918: -0.08704105791772272, 1919: -0.07624677938702616, 1920: 0.7441323553118456, 1921: 0.012011402887367795, 1922: 0.29286925853670337, 1923: 1.003867947914806, 1924: 0.45348608890666814, 1925: 0.37044700457278634, 1926: 0.32438452613384877, 1927: -0.12906256992000337, 1928: 0.648797724359301, 1929: -0.8212807173445185, 1930: 0.23753924344755797, 1931: 0.38033919564429386, 1932: 0.4787370797145034, 1933: -0.3022573771922565, 1934: 0.05852374328826544, 1935: 0.19472224434848792, 1936: 0.1676522932817911, 1937: 0.5474324678399725, 1938: 0.12154512769014252, 1939: 0.29382188662545294, 1940: 0.11165905042969232, 1941: -0.24923061705724964, 1942: -0.008963057393303959, 1943: -0.35555672258659415, 1944: 0.14560009145524588, 1945: 0.2762951154686031, 1946: 0.2659688525078534, 1947: -0.6999963230509794, 1948: -0.4972458486784917, 1949: -0.43358395331600197, 1950: 0.5227043334376172, 1951: 0.4261693226951096, 1952: 0.19255314143310945, 1953: -0.5910759020306506, 1954: 0.300873484879446, 1955: -0.209830824048017, 1956: -0.6604416501066371, 1957: 0.16664464291092926, 1958: 0.631451327742034, 1959: -0.29376060885410754, 1960: 0.300654396182909, 1961: -1.4205895298838684, 1962: 0.45776461996692547, 1963: 0.5107208790736733, 1964: -0.08496696442942042, 1965: 0.14735562037659816, 1966: -0.10151076090037893, 1967: 0.07007041886702947, 1968: 0.4503451718313331, 1969: 0.21852969969229247, 1970: -0.5369858856358689, 1971: -0.07308547825256395, 1972: 0.48428789233052644, 1973: 0.10576273125992368, 1974: -0.6996991828630309, 1975: 0.09508578733403358, 1976: -0.43742402217964765, 1977: 0.05116460878357769, 1978: 0.6137261046810671, 1979: 0.3630882499741536, 1980: -0.7460168335080429, 1981: 0.5952599238536416, 1982: 0.3297418570694381, 1983: -0.2591115553357667, 1984: -0.14142164776947777, 1985: 0.39263376027557645, 1986: -0.3725210124734752, 1987: 0.49548484734826964, 1988: -0.48944790677666417, 1989: -0.28793795170871433, 1990: 0.1569825491045184, 1991: 0.022527650560530882, 1992: 0.24795014345819227, 1993: -0.2660316997627264, 1994: -0.671488776533843, 1995: -0.01246276810037161, 1996: 0.8085315078457092, 1997: 0.06602605213001536, 1998: 0.9572533313870291, 1999: -0.31065027314562227, 2000: -0.35699166887184386, 2001: -0.3807078768846657, 2002: -0.4962244401447161, 2003: 0.5774168683141517, 2004: 1.1318307539374592, 2005: 0.3621571194112261, 2006: 0.2556659834305505, 2007: -0.16919778752710615, 2008: 0.3587420930850111, 2009: -0.03332605003421945, 2010: -0.050774363767293725, 2011: 0.3002993505952361, 2012: 0.48304283020525784, 2013: -0.46761565056836585, 2014: -0.62615323762017, 2015: 0.4743282882187981, 2016: -0.8680195543418917, 2017: 0.0772062689547961, 2018: 0.4840225099077027, 2019: 0.4959636591053795, 2020: -0.07795925767322057, 2021: -0.38967329783658655, 2022: 0.23415918014856182, 2023: -0.3447558086708671, 2024: 0.214123865162839, 2025: 0.6623779901854339, 2026: 0.3552656386381784, 2027: 0.4371228993948697, 2028: 0.13929375830829197, 2029: 0.05951473032027836, 2030: -0.055037054306562055, 2031: -0.34697977769616933, 2032: -0.4372859533836126, 2033: -0.2206252070426746, 2034: -0.18482847555891302, 2035: -0.42110430591766035, 2036: 0.04528173226092005, 2037: 0.2986366601804636, 2038: -0.45774599965795043, 2039: -0.008515366285848591, 2040: 0.24986435806228074, 2041: 0.4048290800624212, 2042: 0.3747653126539717, 2043: -0.024364988665479502, 2044: 0.19618684807834147, 2045: -0.09052139989129761, 2046: 0.6211566692785393, 2047: 0.25276446348023823, 2048: 0.48241555389683843, 2049: 0.0685082497509035, 2050: -0.05916241392849281, 2051: -0.6831394018960646, 2052: -0.14019773654621978, 2053: -0.24069205061813817, 2054: 0.08611380017332522, 2055: -0.15815224589590662, 2056: 0.6968274164950786, 2057: 0.20368408541410718, 2058: 1.001443383749776, 2059: -0.02200746135073035, 2060: 0.8847812959837357, 2061: -1.2457790494662706, 2062: 0.0979623946376896, 2063: 0.07088152339232918, 2064: -0.12314175057993802, 2065: 0.12345094176630658, 2066: 0.3510171134265002, 2067: 0.6074895406255147, 2068: 0.4491744355268839, 2069: -0.06921947560438596, 2070: -1.4158452433607105, 2071: -0.04527631754398824, 2072: 0.22366732795655686, 2073: -0.04144905349530129, 2074: -0.179575255808578, 2075: -0.3221056908285637, 2076: -0.074391984257491, 2077: 0.0626614216987349, 2078: 0.6702132922559896, 2079: 0.5822700489322762, 2080: 0.33072841479120124, 2081: 0.288405310991243, 2082: 0.4042213592730667, 2083: 0.05851376343060602, 2084: 0.29626144884650646, 2085: -0.7985268816037737, 2086: -0.4251117331999904, 2087: 0.28416444167533184, 2088: -0.06731952087956707, 2089: -0.09075368525758523, 2090: -0.2551328373241196, 2091: 0.23754116922422058, 2092: -0.4310733916735331, 2093: 0.07531358436634483, 2094: -1.0644064080666158, 2095: 0.5490717183395987, 2096: 0.13521025224707098, 2097: -0.3572475514913893, 2098: -0.3525376257647437, 2099: -0.023036829155495632, 2100: -0.17522478228532773, 2101: 0.03294382101696902, 2102: -0.38789636052821863, 2103: -0.5928300151478024, 2104: 0.3079542000043375, 2105: 0.5412826512779578, 2106: 0.6184318423466221, 2107: 0.11373725097819475, 2108: 0.31826116676663385, 2109: -0.2943238776399461, 2110: 0.7889859493412391, 2111: -0.8148122795730163, 2112: 0.06057592480575496, 2113: -0.3603824671978269, 2114: 0.1897467611253663, 2115: 0.008904144714846114, 2116: 0.26452974532930207, 2117: 0.14045307073114924, 2118: 0.24670662694361686, 2119: -0.3180312915007618, 2120: 1.031589222357381, 2121: 0.424541127663351, 2122: 0.42439863975671466, 2123: -0.049689012567761814, 2124: -0.12085329394964202, 2125: 0.14276236959748237, 2126: -0.24257946394458074, 2127: -0.0077830339127217775, 2128: -0.2839891512815079, 2129: 0.06146526446265896, 2130: -0.10761729484252483, 2131: 0.21901470463534106, 2132: 0.035440797573784946, 2133: -0.16042867708016337, 2134: -0.9463872135612317, 2135: 0.15812198663945337, 2136: -0.1957820411301272, 2137: -0.3079226725849795, 2138: 0.18837789028655674, 2139: -0.37037011291437294, 2140: -0.17197030633087584, 2141: 1.0178069962053016, 2142: 0.29359406209526384, 2143: 0.3582871356430926, 2144: 0.33243060264957575, 2145: 0.27163578764095947, 2146: 0.037208200116655904, 2147: -1.0188879956338797, 2148: 0.0387494017417603, 2149: 0.5400082296384552, 2150: -0.406238268180975, 2151: 0.16017937499377716, 2152: -0.5069416706766678, 2153: -0.47909912956160833, 2154: -0.17022178925014192, 2155: 0.4063498504436098, 2156: -0.4826333178378116, 2157: -0.3559072913860812, 2158: -0.2717732776384315, 2159: 0.11807734306047876, 2160: 0.3271044539607827, 2161: -0.14275358382743933, 2162: -0.1554725537316957, 2163: 0.05383378331162451, 2164: 0.44118184876707334, 2165: -0.30363115668597496, 2166: 0.7586828315792165, 2167: 0.31844758191476913, 2168: 0.13916985824898587, 2169: -0.199302725864268, 2170: -0.2207107537263631, 2171: 0.03460704650022594, 2172: 0.3962732109524991, 2173: -0.38487926296227887, 2174: -0.43715328656671487, 2175: -0.43795670041775164, 2176: -0.4637892067908936, 2177: -0.17910730657948457, 2178: -0.36359942951364016, 2179: -0.8933686512491925, 2180: 0.5201952717735684, 2181: -0.0319883312136863, 2182: 0.48024913952275156, 2183: 0.523922299255949, 2184: -0.36215011725617663, 2185: 0.583402977597294, 2186: -0.619812956469923, 2187: 0.027211918981510118, 2188: 1.2056109455597226, 2189: -0.23678363525318635, 2190: -0.1370580553806519, 2191: -0.2775122569404841, 2192: -0.2563125380418967, 2193: -0.65727505810866, 2194: 0.427713966931161, 2195: 0.24070555140725391, 2196: -0.1073308201339128, 2197: 0.4362677575611776, 2198: -0.030628331297886086, 2199: 0.5096847947561854, 2200: 0.35622953598544455, 2201: 0.02152734981732139, 2202: 0.010215828480235535, 2203: 0.2025068254076147, 2204: 0.33083881621600736, 2205: -0.02852127709555069, 2206: 0.5133502195217869, 2207: -0.49406727728500893, 2208: -0.6547977283105151, 2209: -0.38594782358957647, 2210: 0.13010690319294643, 2211: -0.4272649225065598, 2212: -0.4573148309263768, 2213: 0.351619402395739, 2214: 0.16882080184395928, 2215: 0.16707382946715615, 2216: 0.17369025998724183, 2217: 0.23246775200192563, 2218: -0.33130292990796395, 2219: 0.6564550293590078, 2220: 0.2256204178751335, 2221: 0.05161502986871508, 2222: -0.7887682529905524, 2223: -0.33090440075267696, 2224: 0.26654911846385615, 2225: 0.27212729214636383, 2226: -0.3860185926289104, 2227: -0.2665688971556568, 2228: 0.09576533602497905, 2229: 0.14767316661960356, 2230: -0.4169188720851405, 2231: 0.002907620929854964, 2232: 0.036837909721981615, 2233: -0.12371028132190293, 2234: -0.10622819802491877, 2235: -0.17585145755609696, 2236: -0.18494825239316828, 2237: -0.29900210639602176, 2238: 0.7253156449093732, 2239: -0.03004720990125077, 2240: -0.07662976170482176, 2241: 0.04554629759265368, 2242: -0.10525815273173472, 2243: 0.34461186408252575, 2244: -0.4005762835135785, 2245: 0.43189767378388927, 2246: 0.5387101436254773, 2247: -0.15516861444332153, 2248: 0.17180721171865387, 2249: 0.3521643569680605, 2250: 0.5290768705452968, 2251: -0.05237960803436706, 2252: 0.1978212581535312, 2253: 0.37391223073186325, 2254: -0.04823301389058494, 2255: -0.5352138224267647, 2256: 0.3375267881414001, 2257: 0.4868441814783182, 2258: -0.3334625747216659, 2259: -0.15012709737616245, 2260: 0.5521632232688571, 2261: 0.29887758389548297, 2262: 0.671352608465042, 2263: 0.059978082618123624, 2264: -0.20816874402159177, 2265: 0.03847868679640924, 2266: -0.11891808776898524, 2267: -0.46930111597814406, 2268: -0.24169924436481707, 2269: 0.5895573877982409, 2270: 0.1563237308934154, 2271: 0.42292476856132133, 2272: -0.0008876991919017918, 2273: 0.08382748058606919, 2274: -0.06300117917786495, 2275: 0.12488714683485395, 2276: -0.3577945087054637, 2277: -0.22499413930354198, 2278: -0.2113664582520282, 2279: -0.15535209892347432, 2280: 0.07296470166227814, 2281: -0.23717023897885883, 2282: -0.39392476867989756, 2283: -0.7193830459802425, 2284: -0.48361720865671776, 2285: -0.9537715410831088, 2286: -0.13144110368498146, 2287: 0.11068545776491798, 2288: -0.013121712853870537, 2289: 0.0519256678701936, 2290: 0.027426606910556813, 2291: -0.005036962799851736, 2292: 0.37144941663505093, 2293: 0.771270558446358, 2294: -0.3121606304641185, 2295: 0.27948616713222835, 2296: -0.2542831414921904, 2297: 0.3004966847694472, 2298: -0.3619786160626777, 2299: 0.006135078470659493, 2300: 0.11087573807336616, 2301: -0.3394866529542533, 2302: 0.3963534943001747, 2303: -0.1812007638233073, 2304: 0.26179681473493366, 2305: 0.20113592624374788, 2306: -0.09504080578384319, 2307: 0.28035735336855655, 2308: -0.029975959980627426, 2309: 0.11151617938525822, 2310: -0.34172282619771993, 2311: -0.7692133216196569, 2312: 0.4480271649389934, 2313: 0.4502903516771028, 2314: 0.005185167624585335, 2315: 0.03038598728219078, 2316: -0.03977022869541951, 2317: -0.2950727615784169, 2318: 0.1871934806795551, 2319: 0.4388277896099995, 2320: -0.11919300530126525, 2321: -0.3573637291401084, 2322: -1.332606311318853, 2323: 0.946555596670259, 2324: 0.2669580588024508, 2325: 0.36778032420841034, 2326: -0.2928305845506922, 2327: -0.18592317817887946, 2328: 0.74561841482873, 2329: -0.2023400902583323, 2330: 0.43249451422320395, 2331: -0.17528462949998816, 2332: -1.3536410613919057, 2333: 0.29173854658385023, 2334: 0.5079575510079947, 2335: 0.1325582022955971, 2336: -0.07120127015865767, 2337: 0.39015196270104324, 2338: 0.02242569575873623, 2339: -0.7090545487162335, 2340: -0.20805796979536056, 2341: 0.9265706239066908, 2342: 0.06110022862727238, 2343: 0.3333013838504191, 2344: 0.020224294349293955, 2345: 0.38996275632531924, 2346: -0.014966393070612871, 2347: 0.191445400459643, 2348: -0.16506652286592718, 2349: -0.404131569029405, 2350: 0.40619256795425995, 2351: -0.1298771474946185, 2352: 0.048745716827310895, 2353: -0.01831516583597209, 2354: 0.02940496673042814, 2355: 0.2239892297486316, 2356: -0.050967783135150345, 2357: 0.6064914213411198, 2358: 0.2779736932436961, 2359: 0.17926326268865392, 2360: 0.060687053213315405, 2361: 0.5443054047974945, 2362: 0.7450473947327325, 2363: 0.7021723000503177, 2364: -0.47693262825789917, 2365: -0.7269437588933071, 2366: -0.28313708091851714, 2367: 0.143348358340344, 2368: -0.19192601481142757, 2369: -0.33184411438779976, 2370: 0.041770288221984565, 2371: 0.34390538478829946, 2372: 0.16951514844690668, 2373: 0.811878990709236, 2374: 0.05617400342259972, 2375: 0.8117880271541373, 2376: 0.6343441103433359, 2377: 0.09724422004795767, 2378: -0.6605052383934404, 2379: -0.38891013254155327, 2380: 0.16927740438416877, 2381: -0.3989783515686827, 2382: 0.34518128506940143, 2383: 0.14650001463464357, 2384: 0.3544279315158177, 2385: 0.7516712588488234, 2386: 1.1595342118288312, 2387: 0.08501332452635539, 2388: 0.29451007327980894, 2389: -0.13673652502276706, 2390: 0.11244578272609869, 2391: 0.24365122717068266, 2392: 0.4593909402731223, 2393: 0.09921267301429006, 2394: 0.5551459552030815, 2395: 0.14319148924818675, 2396: 0.048614466201623054, 2397: 0.0033870252659245832, 2398: -0.3344960047293018, 2399: -0.5481629005147536, 2400: 0.3566222784615469, 2401: 0.040820112243409166, 2402: -0.1744397967997783, 2403: 0.08332960224359842, 2404: -0.3763305529466517, 2405: 0.4709700914210211, 2406: -0.3434008059218806, 2407: 0.40665794959420204, 2408: -0.055676632556863614, 2409: -0.2711816730706945, 2410: -1.272394648846152, 2411: 0.22770934717365637, 2412: -0.08396803032463064, 2413: -0.38008679454285454, 2414: -0.3441395351353784, 2415: -0.9744642532110349, 2416: -0.14024865747591503, 2417: -0.020325795323840656, 2418: 1.057852151985157, 2419: -0.35199028561192297, 2420: -0.26247232792509395, 2421: -0.10098450152565035, 2422: -0.12450167943314994, 2423: 0.5611932019739178, 2424: 0.0001955196420188559, 2425: -0.06072570250528646, 2426: -0.11812764773858926, 2427: 0.6472990036723502, 2428: 0.5728052662176899, 2429: 0.18595323358710067, 2430: -0.7647578372229001, 2431: 0.4668914153567615, 2432: -0.42639032326588083, 2433: 0.14885565310646046, 2434: -0.5905888517531144, 2435: 0.027808988663874528, 2436: -0.145955040044791, 2437: -0.47374815563167066, 2438: -0.0848053518910741, 2439: -0.418644951257682, 2440: -0.16605809551080392, 2441: -0.17508446361690302, 2442: 0.4102703974740866, 2443: 0.31085302220709815, 2444: -0.11777056607523335, 2445: 0.21947506992621804, 2446: 0.31622271438249994, 2447: -0.7879443007952495, 2448: 0.1655411310035511, 2449: -0.5367246369214792, 2450: 0.05671003335784205, 2451: -0.047340809178177116, 2452: 0.42271744998565525, 2453: 0.3849527705087847, 2454: 0.1840977676791747, 2455: -0.46607964955927994, 2456: -0.3617339726212396, 2457: -1.1220287857846472, 2458: 0.3216782995153656, 2459: 0.48973765489842, 2460: -0.0024237949885617246, 2461: -0.3188000771764487, 2462: 0.5839411888698484, 2463: -0.4077819898253, 2464: -0.9014027395585148, 2465: 0.3155029239936448, 2466: 0.45977466829667285, 2467: -0.004984621074129614, 2468: -0.5872195393724876, 2469: 0.2608970343434819, 2470: 0.3090327267329875, 2471: -0.11319825335902821, 2472: 0.2687471322312565, 2473: -0.13901940562682968, 2474: -0.03762890695139988, 2475: 0.39366073574027766, 2476: 0.5261090687725625, 2477: -0.18915832898544901, 2478: 0.024109437199711523, 2479: -0.03847039236608037, 2480: -0.09275896099328589, 2481: -0.21688617380603334, 2482: 0.06683838386321657, 2483: -0.6838252267438473, 2484: -0.8606587454843834, 2485: 0.729534524991951, 2486: -0.940819201010923, 2487: 0.05980803748874105, 2488: 0.47410525774999934, 2489: 0.16987128047378341, 2490: -0.21189589649501, 2491: 0.08470184560319984, 2492: 0.15147713859341866, 2493: -0.4529810038367897, 2494: 0.29295238924999467, 2495: -0.20704594842149673, 2496: 0.3945364787894562, 2497: 0.025677068967063472, 2498: 0.18106258395418776, 2499: 0.1000507702081638, 2500: 0.9314063912248902, 2501: -0.36485884115827205, 2502: -0.09427630359752112, 2503: -0.031005454072752844, 2504: -0.48453978312003715, 2505: -0.5615196908785614, 2506: 0.47045016130598716, 2507: 0.10624440337704177, 2508: 0.2760599308332596, 2509: -0.1740460848256221, 2510: 0.4919820880791505, 2511: -0.3901705971143919, 2512: 0.32756217375907676, 2513: 0.016090323513098758, 2514: -0.2655998530600008, 2515: 0.3487703125890468, 2516: 0.19790073375006487, 2517: -0.733839421940404, 2518: 0.1516296532092322, 2519: -0.0027080549233156324, 2520: -0.006657449040933545, 2521: 0.38781796190517137, 2522: -0.2776810607309296, 2523: 0.29903253675604113, 2524: 0.4118104890360587, 2525: -0.5338756729267937, 2526: -0.016327598065885535, 2527: 0.0705884468055582, 2528: -0.30939655020440254, 2529: -0.0383279382860728, 2530: -0.11158519932086915, 2531: 0.4325856673982046, 2532: 0.014357724229340917, 2533: 0.007132743875574523, 2534: 0.23084543285108666, 2535: -0.23853592304809912, 2536: 0.11710418170747064, 2537: -0.00742465123041782, 2538: 0.3996978583249683, 2539: -0.04301045784262473, 2540: 0.745751491595209, 2541: -0.6900289115014141, 2542: 0.03625976922540867, 2543: 1.0344536432414078, 2544: 0.027634332725925453, 2545: 0.2606121543144167, 2546: -1.1943791371958123, 2547: -0.4730063114089109, 2548: -1.051424567383015, 2549: -0.6078758659793343, 2550: -0.7040719971701715, 2551: 0.06440051940161692, 2552: 0.40421996185406495, 2553: -0.425490940547104, 2554: 0.10426260378401161, 2555: 0.5007522514939178, 2556: -0.07763205049417578, 2557: 0.41850209306922903, 2558: 0.6106116945862016, 2559: 0.39815935465539315, 2560: 0.3228464678495546, 2561: -0.225393242494765, 2562: -0.8625853765906644, 2563: 0.24431020026456177, 2564: -0.002403147002528039, 2565: 0.24125040208691612, 2566: 0.008839390160055067, 2567: 0.38507407867838717, 2568: 0.190990021810677, 2569: 0.6024775020463039, 2570: -0.18924571386867198, 2571: -0.45455553453958886, 2572: -0.8314292664838328, 2573: 0.5156666871547494, 2574: -0.5945645735483166, 2575: -1.1819631352459088, 2576: 0.7075570900735682, 2577: 0.04401487409387188, 2578: 0.22555486982337547, 2579: -0.25620863282872486, 2580: -0.01773580391472372, 2581: 0.8516030985955841, 2582: -0.12037748648089197, 2583: -0.06786247354280535, 2584: -0.37481687383774936, 2585: -0.4394009293180094, 2586: 0.15775999406627034, 2587: -0.2369785207587144, 2588: 0.007129106227076559, 2589: -0.36443969334298726, 2590: -0.09084240126095672, 2591: 0.36612818452358736, 2592: -0.027903205129504723, 2593: -0.15679565414882893, 2594: 0.36143415494256936, 2595: 0.5085779080175837, 2596: 0.4799865206001998, 2597: -0.35653666383030697, 2598: -0.29087748948250236, 2599: 0.16382499151045907, 2600: 0.4853630808678394, 2601: 0.8367990020262341, 2602: 0.12754858275786193, 2603: 0.8271904559306935, 2604: 0.4218314627841617, 2605: -0.15520889862070306, 2606: 0.5219153200512257, 2607: 0.10221574554393088, 2608: 0.13736942183994838, 2609: 0.6654352142749445, 2610: -0.17266764540244242, 2611: 0.09463672095418943, 2612: -0.3709359619632328, 2613: 0.434434277393449, 2614: -0.10944859260940186, 2615: 0.4615416325759696, 2616: -0.18914164835292865, 2617: -0.03321006503932822, 2618: 0.3141208826955856, 2619: -0.05927125441061995, 2620: 0.39492011037258634, 2621: 0.12472069279620344, 2622: 0.20109265315517086, 2623: 0.02720952428821819, 2624: 0.24623928194352832, 2625: -0.4671124960352316, 2626: -0.08764924227607254, 2627: -0.3557088745829741, 2628: 1.0136271895436726, 2629: 0.6852650671958269, 2630: 0.28404310688658085, 2631: 0.3096118673913558, 2632: -0.015345618479292921, 2633: 0.1762548275762864, 2634: -0.16398816778381264, 2635: -0.06132325013877034, 2636: 0.18262111020783756, 2637: -0.3637785677645926, 2638: 0.5242956440076416, 2639: 0.2078813627035025, 2640: -0.8041817594334423, 2641: 0.6633291609639543, 2642: -1.122174638937939, 2643: 0.30553658443208426, 2644: 0.41035174068682845, 2645: 0.2105014949684831, 2646: -1.0206531280868711, 2647: 0.7813148011942388, 2648: 0.023560404961519794, 2649: -0.7869128709430754, 2650: -0.0626584765809287, 2651: -0.32853393456571595, 2652: -0.3596959141765629, 2653: -0.4342089329085929, 2654: 0.08619743518854925, 2655: 0.22390354475247826, 2656: 0.3123546983309601, 2657: 0.11527174196426337, 2658: -0.09805446215521756, 2659: 0.388461106515372, 2660: -0.013865219394936172, 2661: 0.17291862019513557, 2662: -0.2940609185853732, 2663: 0.7984384278591853, 2664: -0.30839652728969535, 2665: 0.10027892476127671, 2666: -0.456454062628713, 2667: -0.6754349219844755, 2668: 0.08745457556596159, 2669: -0.12335249184614003, 2670: 0.5430642546112497, 2671: 0.000889398703511036, 2672: -0.0642920930249582, 2673: -0.3714463532696436, 2674: 0.4092351221867971, 2675: -0.17854146594759807, 2676: -0.03599437453977897, 2677: 0.2536629955600801, 2678: 0.21741370909208158, 2679: -0.40982748768447574, 2680: 1.0183285556213468, 2681: 0.1177308403367457, 2682: -0.22101005834667256, 2683: -0.16459816908649222, 2684: 0.16983437537899704, 2685: -0.10966387475879684, 2686: -0.10425745812140241, 2687: -0.09451228250544115, 2688: 0.19220917194725415, 2689: -0.42060358886740123, 2690: 0.3103843633641839, 2691: -0.18115066384204287, 2692: -0.1741036552578526, 2693: -0.44821205870978303, 2694: 0.48194955342706397, 2695: -0.36629005035197937, 2696: 0.43425308182698436, 2697: 0.34643845892910086, 2698: -0.06119323998796871, 2699: 0.5191447787026229, 2700: 0.4787252957436992, 2701: -0.33106267808593925, 2702: 0.1642888594512619, 2703: -0.14352976957224173, 2704: -0.6586267931085197, 2705: 0.08176776596276569, 2706: -0.20856208305908552, 2707: -0.2935746527771923, 2708: 0.21864781721802143, 2709: 0.011790339909476732, 2710: -0.16301490946045824, 2711: 0.034821652582945124, 2712: -1.0295616994533077, 2713: -0.08209624268728632, 2714: -0.016441283263076648, 2715: 0.09989652396823638, 2716: 0.38800833321809514, 2717: 0.46088251290755233, 2718: 0.12022625397161536, 2719: 0.29679121458782887, 2720: -0.8044462958701886, 2721: -0.7380881958789293, 2722: 0.1873405829312665, 2723: -0.0740056802812591, 2724: 0.6461855063094262, 2725: 0.1331383787520503, 2726: -0.26664163917957917, 2727: 0.15427430735772654, 2728: 0.27827107734083745, 2729: 0.630699461274732, 2730: -0.2886102673227299, 2731: 0.354155065306946, 2732: -0.5033045373813947, 2733: 0.13527010143938534, 2734: -0.18313529936093584, 2735: 0.012877811776153266, 2736: -0.5324591916771244, 2737: 0.11268234794842086, 2738: 0.18562789932515045, 2739: 0.19589648008095686, 2740: -0.11085883659437402, 2741: 0.24768973144689585, 2742: 0.11523701941985856, 2743: 0.024623251233877198, 2744: -0.14885169359293282, 2745: 0.16197859219482547, 2746: 0.31814829878135714, 2747: -0.2003590942066381, 2748: 0.3055921784120898, 2749: -0.6596895986795674, 2750: -0.5798084360600734, 2751: 0.23014351981613274, 2752: -0.1392545115633093, 2753: 0.2696122454244109, 2754: 0.14939065702534185, 2755: -0.11745836351085842, 2756: -0.010364059597745537, 2757: 0.004878318394021886, 2758: 0.6865863356799436, 2759: 0.12450179377112973, 2760: -0.12819930186704095, 2761: -0.04342531315093196, 2762: 0.26735460396899624, 2763: 0.06616469641424359, 2764: -0.20294847736292962, 2765: -0.1937732671022662, 2766: 0.1794222226450607, 2767: 0.2300480314741528, 2768: 0.47421681173345387, 2769: -0.3027813962239618, 2770: -0.028874361931784834, 2771: 0.12591896475576245, 2772: -0.09988321555704487, 2773: -0.30787588669403526, 2774: -0.6591996725592111, 2775: 0.23377404582584443, 2776: -0.024871090581805182, 2777: 0.5105553705932947, 2778: 0.5564423005062341, 2779: -0.15537268145294858, 2780: 0.1678016864066438, 2781: 0.24697101653247866, 2782: 0.40383955270113553, 2783: 0.4536834552177643, 2784: -0.6193954907493662, 2785: 0.3344223181870887, 2786: -0.2519360817379203, 2787: 0.039025980955863744, 2788: 0.5645165444535593, 2789: -0.11943170998025887, 2790: -1.093571635174545, 2791: 0.6867341244107819, 2792: -0.11318933053729117, 2793: -0.004511666849011313, 2794: -0.540970103346185, 2795: 0.4458231854665436, 2796: 0.14176264160012886, 2797: 0.26755896612812435, 2798: 0.09180026817058318, 2799: 0.48468629605967367, 2800: -0.15919170034027688, 2801: -0.14019904509590048, 2802: 0.06069601872038618, 2803: 0.7106391220306226, 2804: -0.8406004561461734, 2805: 0.4303542424729199, 2806: 0.4791988763057281, 2807: 0.1080777107976087, 2808: 0.24968069922286273, 2809: 0.21146883505454453, 2810: 0.11648553830507946, 2811: -0.3668830190393325, 2812: 0.380481142439743, 2813: 0.2985536564808748, 2814: 0.2636311374830554, 2815: -0.1476888907501317, 2816: 0.6895325754441348, 2817: 0.04676074521383134, 2818: -0.2709441466245404, 2819: 0.0403125642002178, 2820: -0.08788719954840456, 2821: -0.41649827650951815, 2822: 0.20734049355248843, 2823: 0.4319231900949827, 2824: 0.31940701430929785, 2825: -0.14331175649711614, 2826: 0.4616660131829737, 2827: 0.1882758559443766, 2828: 0.02115918100155772, 2829: 0.7635424778481692, 2830: -0.6352222289156294, 2831: -0.2288995275193766, 2832: -0.13418961468371654, 2833: -0.27231698813641203, 2834: -0.22976950025547935, 2835: 0.3494169041185637, 2836: -0.3939935133023077, 2837: 0.93479770808279, 2838: 0.1259956563064537, 2839: 0.9568188771948272, 2840: -0.7613035848153241, 2841: 0.23335055641451735, 2842: -0.25676275210001337, 2843: -0.5575571578819821, 2844: -0.10714536836925936, 2845: -0.1039111226492654, 2846: 0.23004135294565825, 2847: 0.07938406135524698, 2848: -0.31774343997133914, 2849: 0.2667277195629982, 2850: 0.018307396848575533, 2851: -0.35551253350223067, 2852: -1.0198550009204577, 2853: -0.12555636598797293, 2854: -0.46460922900636525, 2855: 0.2630034526223057, 2856: 0.483771959278107, 2857: 0.209452385909356, 2858: 0.3773548376953179, 2859: 0.47981915398495345, 2860: -0.18435317440086596, 2861: 0.09113305969932282, 2862: 0.5359033306242783, 2863: 0.10097654926250421, 2864: 0.17878916202000214, 2865: 0.7075711134501607, 2866: -0.060881815641378054, 2867: 0.12428271630637905, 2868: -0.13501796641382124, 2869: -0.4895943853655916, 2870: 0.7119947042197312, 2871: 0.2132796032992353, 2872: -0.38436403246020645, 2873: -0.2008168449102375, 2874: -0.006413722755979567, 2875: -0.5208603522082598, 2876: 0.3991106467140767, 2877: 0.38013929781827865, 2878: -0.4847893498717942, 2879: -0.20978128536749022, 2880: 0.04590723802972192, 2881: -0.004009410957752951, 2882: -0.17838135012599068, 2883: 0.10929687397571496, 2884: -0.3089820441600316, 2885: -0.012024209005241555, 2886: 0.06326815791155245, 2887: -0.4651562921074225, 2888: 0.0285376150536419, 2889: -0.4743117798788414, 2890: -0.5902367470796254, 2891: 0.45172968079279485, 2892: 0.13914304225572496, 2893: 0.19223056848118633, 2894: -0.3621602014608724, 2895: -0.19417973645783146, 2896: 0.4429936722433567, 2897: -0.504854866228135, 2898: -0.13664998489555089, 2899: 0.5192360909755619, 2900: 0.37593758331521177, 2901: -0.09983913920541569, 2902: 0.11453142895977815, 2903: 0.5791483740692016, 2904: -0.45555547304688365, 2905: -0.6813712744787327, 2906: -0.18126735586399823, 2907: 0.06324601985968613, 2908: 0.006718546777914774, 2909: 0.05151881803976317, 2910: 0.4940044381641563, 2911: 0.05380273197149778, 2912: 0.19342939151932917, 2913: -0.1309307985747083, 2914: 1.0539609973674107, 2915: 0.7882102702013324, 2916: -0.5312369290831963, 2917: 0.1420939897973703, 2918: -0.03309207673990107, 2919: 0.4317665705789963, 2920: -0.1937514281175025, 2921: 0.4353961387790664, 2922: -0.7101393151998997, 2923: -0.7740810261502369, 2924: 0.2868995551690982, 2925: 0.042319097282169024, 2926: 0.7475961788284896, 2927: 0.4938084761599455, 2928: -0.6473964959299557, 2929: 0.4000319187353789, 2930: 0.22436780329036748, 2931: -0.32056684434717425, 2932: 0.10113012422411992, 2933: 0.6648180144635998, 2934: -0.026842920412079883, 2935: 0.29996912789089475, 2936: 0.1154358278058065, 2937: 0.7752502506341952, 2938: 0.3956203380876302, 2939: 0.12277250140363356, 2940: 0.45724628083065283, 2941: -0.36273795479465226, 2942: 0.015384932670160823, 2943: 0.3997648283439787, 2944: 0.08860020609566199, 2945: -0.05676035767610442, 2946: -0.298774757447468, 2947: 0.7006812014624872, 2948: 0.09971074487027155, 2949: -1.010380957886912, 2950: -0.4707794035177635, 2951: -0.26390381683447256, 2952: -1.005432214681972, 2953: -0.41483421195337367, 2954: -0.04577133669850013, 2955: -0.16856472025306973, 2956: 0.467290943246465, 2957: 0.3979699885643398, 2958: -0.9270380571990522, 2959: -0.2664624316187603, 2960: -0.025777940292130277, 2961: -0.5238259945662093, 2962: -0.4315785838168962, 2963: 0.2224281894269622, 2964: 0.2758916587871154, 2965: -0.29043707162043897, 2966: -0.22552098504009593, 2967: -0.14179151556106703, 2968: 0.70060924812312, 2969: -0.2540271762147833, 2970: 0.10035019659429248, 2971: -0.7126973655546464, 2972: 0.1787681996972644, 2973: -0.014875377234691678, 2974: -0.13352377068321833, 2975: -0.1366073733748533, 2976: 0.34398964190237835, 2977: -0.3826766415428228, 2978: 0.31097388143585886, 2979: -0.6729027124324786, 2980: -0.8085555008517915, 2981: 0.121066864507778, 2982: -0.6488021842869459, 2983: -0.10537886171064897, 2984: 0.054974607848527354, 2985: -0.006881372427320303, 2986: -0.821975519473986, 2987: 0.0439284592419939, 2988: 0.13553695443203084, 2989: -0.2707831935599509, 2990: -0.23164512884059174, 2991: -0.28629178991786414, 2992: 0.05997970176368971, 2993: 0.5035152455471731, 2994: 0.22882336047251356, 2995: -0.1373744765555489, 2996: 0.2724545081355619, 2997: -1.8682848413966444, 2998: 0.8749221479416045, 2999: 0.6651955577318794, 3000: -0.3364624345160775, 3001: 0.01059145771540701, 3002: -0.7132022844342597, 3003: 0.11842268563600153, 3004: 0.013504017273416869, 3005: -0.2570191646015185, 3006: 0.2883955157452074, 3007: -0.3159562974580316, 3008: -0.06369400610410536, 3009: 0.18042255637228385, 3010: 0.004745949573600108, 3011: -0.09279887541046909, 3012: 0.014308283557595614, 3013: -0.4000555055042052, 3014: 0.07556305234226586, 3015: -0.7705078592733702, 3016: -0.18581020998801515, 3017: -0.18492230567730047, 3018: -0.4571982985865956, 3019: 0.6431365861857055, 3020: 0.15088125951150916, 3021: -0.30480026683575495, 3022: -0.18132247487779288, 3023: 0.1390565162409786, 3024: 0.3607189883610812, 3025: 0.39993365281338455, 3026: 0.24476796298642392, 3027: 0.20516504613309552, 3028: 0.03222933502779382, 3029: -0.33222773935967503, 3030: 0.9260306507999643, 3031: 0.4059942211206997, 3032: 0.38822622385425704, 3033: -0.0028663979490446043, 3034: 0.4909455509542299, 3035: 0.2977227589318659, 3036: 0.1688216393071468, 3037: 0.16720807755373276, 3038: 0.45851930624056775, 3039: -0.05579811388070817, 3040: -0.2636282116405005, 3041: 0.14975225270437734, 3042: 0.829406405342305, 3043: -0.293488781146852, 3044: -0.18671856820253369, 3045: 0.0506107345455066, 3046: 0.29469050710722827, 3047: -0.22751174193968918, 3048: 0.024110847290317712, 3049: -0.3110891895253065, 3050: -0.5063361707602653, 3051: 0.35434508020261885, 3052: 0.39973802740731573, 3053: 0.33140836484456515, 3054: -0.6780881837079827, 3055: -0.7409786479998134, 3056: 0.7813884221564664, 3057: 0.43404429631616814, 3058: 0.5364794593919862, 3059: 0.27687367316593475, 3060: 0.5493421281389873, 3061: 0.057733333349211186, 3062: -0.03336806063541528, 3063: 0.04229938800420222, 3064: 0.20407944465367844, 3065: -0.7645003737586297, 3066: -0.19385385761601026, 3067: -0.20361974200264063, 3068: -0.21358945055811027, 3069: 0.13705894683168485, 3070: -0.13501592724591588, 3071: 0.11317503067560299, 3072: 0.28399149385367456, 3073: -0.4736686428921448, 3074: -0.28339223795665286, 3075: -0.6770515654900352, 3076: 0.06519894592047572, 3077: -0.4876279058793327, 3078: 0.04532501012485473, 3079: -0.2947876764252127, 3080: 0.42733357760415497, 3081: 0.29270734719401426, 3082: 0.2655097714045865, 3083: 0.6324253645146295, 3084: 0.10019921946730348, 3085: 0.18884172416776168, 3086: -0.2963179336985135, 3087: 0.37461716250245625, 3088: -0.6794156349325741, 3089: -0.33894835028106296, 3090: -0.23511327480094726, 3091: 0.06719282160504098, 3092: -0.3459685046337536, 3093: -0.32817337955724185, 3094: 0.07454912064100282, 3095: -0.5442080465797634, 3096: 0.03327698233481495, 3097: 0.3462146795234362, 3098: 0.2598373428616285, 3099: 0.4099533041680081, 3100: 0.11630810370870025, 3101: 0.45244001888262175, 3102: -2.1919270387358174, 3103: 0.4709622843544147, 3104: -0.21447263345698248, 3105: 0.3428333696216788, 3106: -0.8477402263511471, 3107: -0.06118221879879868, 3108: -1.7778347004824966, 3109: -0.0064014230320193636, 3110: 0.012732621329355428, 3111: -0.6017749662659738, 3112: 0.03772788925996287, 3113: 0.07593261529795368, 3114: 0.06054115730787202, 3115: 0.5736670305899864, 3116: 0.33472068091365714, 3117: 0.6034438572897443, 3118: -0.10970913428390489, 3119: -0.27478655174889227, 3120: 0.33775057469922487, 3121: 0.26738529505561326, 3122: -0.19419678011031782, 3123: 0.11909254527272965, 3124: -0.1800038751236697, 3125: 0.11165631076734162, 3126: 0.13783185422446298, 3127: -0.04153477976651912, 3128: 0.1303263263509281, 3129: 0.3522139387469031, 3130: 0.36704156966108636, 3131: -0.06538212429599684, 3132: 0.21392302720837433, 3133: -0.15361524027524592, 3134: -0.13973223431883253, 3135: 0.5670890832351261, 3136: -0.4102007614809682, 3137: -0.02684706969425455, 3138: 0.22931136881084396, 3139: -0.45076971582138636, 3140: -0.0802251439006208, 3141: 0.1589340786046467, 3142: 0.13485261368895207, 3143: -0.27387527187084854, 3144: -0.21361432823535545, 3145: 0.018469204606012948, 3146: -0.2805900598135997, 3147: -0.6488334246289656, 3148: -0.16548165871078566, 3149: -0.17024670985343682, 3150: 0.2453934176657526, 3151: 0.5533507185041591, 3152: 0.08200134099551047, 3153: -0.5371101156315281, 3154: 0.471104867658689, 3155: 0.2838992730548862, 3156: -0.23543332536010145, 3157: 0.277747525581028, 3158: 0.6357424726562232, 3159: -0.4680957041307315, 3160: -0.6313661823044481, 3161: -0.16070659401638382, 3162: 0.031581956356266386, 3163: -0.027968745555291375, 3164: -0.016555503107169304, 3165: 0.36053177026703587, 3166: 0.18992144811668218, 3167: 0.5757967783569862, 3168: 0.04622898232890212, 3169: -0.30507300784172015, 3170: 0.06643607255935527, 3171: 0.3567050608299124, 3172: -0.3213247950838102, 3173: 0.1857671575982032, 3174: -0.29034984584344325, 3175: 0.10971287879265117, 3176: 0.1506914685479546, 3177: 0.221172585623187, 3178: -0.006216028488142252, 3179: -0.6424197533812627, 3180: 0.6084639991747595, 3181: 0.8872886660039516, 3182: -0.10955566287444993, 3183: -0.21468040470668556, 3184: -0.9380449669139238, 3185: 0.5275678782307734, 3186: -0.034809363740876995, 3187: 0.04338812043327852, 3188: 0.16281946239744202, 3189: -0.09802857667721104, 3190: 0.05266869102336399, 3191: -0.8383740306328105, 3192: 0.6123097634683321, 3193: 0.47145533664779754, 3194: 0.2684219908915516, 3195: 0.020974804339977945, 3196: 0.07675726501486092, 3197: 0.01937962998736169, 3198: 0.09361805550376667, 3199: 0.21786526362394157, 3200: -0.2491005527886329, 3201: 0.11234649149503412, 3202: 0.1826374397877173, 3203: 0.054965436535005956, 3204: 0.35549713050849036, 3205: 0.2997572210193157, 3206: -0.4835762041907886, 3207: 0.5430136434928817, 3208: 0.1453038816899682, 3209: -0.334869401078263, 3210: 0.729211321009894, 3211: -0.012747803247317347, 3212: -0.07903323642128432, 3213: -0.016314633939291667, 3214: 0.23963111060883965, 3215: -0.7491834954105246, 3216: -0.4945713753307035, 3217: 0.21604541859260132, 3218: -0.07940363722788032, 3219: 0.2594329903368387, 3220: -0.6040276644529038, 3221: -0.019372923367921135, 3222: 0.2154423390407132, 3223: 0.649277989907011, 3224: -0.49887993791827484, 3225: -0.2566021679662653, 3226: -0.11507464580222637, 3227: 0.028638153678748394, 3228: 0.15056514982167907, 3229: -0.20761198810792705, 3230: 0.25167032615949525, 3231: -0.17864059109923716, 3232: 0.06288183470855105, 3233: -0.3954890181615078, 3234: 0.17404461625981224, 3235: 0.6035382924956285, 3236: 0.07541753517966625, 3237: -0.31563541213911744, 3238: 0.22789976461986122, 3239: 0.013744637061066545, 3240: 0.6105709504795483, 3241: 0.16211374752474536, 3242: -0.37031395947446005, 3243: -0.01542407391215006, 3244: 0.34703248399985404, 3245: 0.13908010395573037, 3246: 0.06105123999297025, 3247: 0.36635706964742165, 3248: -0.08864359159294805, 3249: 0.6941141522967406, 3250: -0.3506438764513685, 3251: 0.16692863047209144, 3252: 0.13164282788642664, 3253: 0.2809930409934605, 3254: -0.023203982771375416, 3255: 0.13894822837423212, 3256: 0.3096013401753531, 3257: 0.3203900744671119, 3258: 0.20998483987076197, 3259: -0.24740107386723753, 3260: 0.16964602046467203, 3261: 0.36621524567370295, 3262: -0.10991000749249981, 3263: -0.056160507964645376, 3264: -0.12281923051059404, 3265: 0.01990977327692017, 3266: -0.10573622054776999, 3267: 0.07160063381423618, 3268: 0.14103118349951646, 3269: -0.4215423178447108, 3270: 0.16467668443839306, 3271: -0.7006590013302977, 3272: 0.5010591015570851, 3273: 0.5600463467010702, 3274: 0.1101931611242093, 3275: -0.17926769650983326, 3276: 0.13728002741321582, 3277: 0.605219516737199, 3278: 0.3879646400658208, 3279: -0.4235719099275298, 3280: 0.1343296822088816, 3281: -0.4264626580174576, 3282: -0.5790378745359331, 3283: -0.2184963831927162, 3284: -0.02588119904862508, 3285: -0.07311448757573143, 3286: 0.7608345480418547, 3287: 0.37274092847971224, 3288: 0.053076746273967745, 3289: -0.050187243161900555, 3290: 0.08773351679982849, 3291: -0.2639463489238253, 3292: -0.24965757742387001, 3293: -0.01722327705805884, 3294: 0.39046757710820956, 3295: 0.38538730446658537, 3296: -0.20608056088151955, 3297: 0.41817952235355366, 3298: -0.4516950509625591, 3299: 0.3081083286657023, 3300: 0.19379354049562925, 3301: 0.044101596043648834, 3302: 0.6146282784355658, 3303: -0.025235215883164765, 3304: 0.09553629393169642, 3305: -0.47375173883341465, 3306: -0.004076183451766211, 3307: -0.22521100558044807, 3308: -0.256322010281382, 3309: 0.3606301086187687, 3310: 0.013376110527525024, 3311: -0.238503488862713, 3312: -0.19651001352735858, 3313: -0.1498090181949, 3314: 0.1186944547081721, 3315: 0.029638288928572076, 3316: 0.17094157391243867, 3317: 0.3439192283500457, 3318: -0.6003746728832406, 3319: 0.017015723409910737, 3320: 0.45598663362117237, 3321: 0.18539220943325072, 3322: 0.10247486804371501, 3323: -0.23788085999310032, 3324: -0.9306651561843381, 3325: 0.027550280266080095, 3326: 0.2292939939548328, 3327: -0.4868412457647673, 3328: -0.11087370519624778, 3329: -0.44879260234663565, 3330: -0.1561685421135723, 3331: -0.5016905970654721, 3332: -0.2793058916446851, 3333: -0.42431127428712206, 3334: 0.12385886757279874, 3335: 0.15191459620103423, 3336: 0.1628809186889447, 3337: 0.05084748119723366, 3338: -0.0248067661230548, 3339: -0.4564054408701955, 3340: -0.5384242392984476, 3341: 0.29811735826588376, 3342: -0.21254037705109532, 3343: 0.41487417481180344, 3344: -0.7176631638335244, 3345: -0.050594863169691695, 3346: 0.0672123943722137, 3347: 0.4347262803707521, 3348: -0.15314415226050024, 3349: -0.05836397842890526, 3350: 0.2532064266995154, 3351: 0.49430770926095896, 3352: -0.4358888467907661, 3353: -0.1529552745419993, 3354: -0.29244496913848345, 3355: -0.18288744205120971, 3356: -0.18687735441560718, 3357: 0.41294638368594533, 3358: -0.057255337785942474, 3359: 0.00593700374859136, 3360: -0.19947265982181847, 3361: 0.07270395017479263, 3362: 0.38534944648466063, 3363: -0.5122901888757149, 3364: 0.3804042102784845, 3365: 0.007654366446441718, 3366: 0.11945666818324142, 3367: 0.13712851334684498, 3368: 0.561566900549732, 3369: 0.2654492574651964, 3370: 0.4369698648369592, 3371: 0.14190926160755807, 3372: 0.07026473315953044, 3373: 0.29426269466044386, 3374: 0.293156955288676, 3375: 0.41284354688268465, 3376: -0.1355901105551735, 3377: 0.266771061266392, 3378: 0.258318935875413, 3379: -0.2730486542126077, 3380: -0.7682643209919894, 3381: 0.5180582933415848, 3382: 0.5279648065919178, 3383: -0.8265582993485372, 3384: -0.3446274051735017, 3385: 0.04673211288266546, 3386: -0.6650904829655163, 3387: -0.7904297742552573, 3388: 0.31837932978377864, 3389: -0.3840106361544057, 3390: -0.8642748238964586, 3391: 0.7182745031728371, 3392: 0.7693112859838133, 3393: -0.5023311805800394, 3394: -0.34449368832668714, 3395: -0.15373966517633908, 3396: 0.37970836319824053, 3397: -1.5836479311160412, 3398: -0.253768436083542, 3399: 0.4547365646681134, 3400: -0.2648877807181212, 3401: 0.18036637195291855, 3402: -0.4128240828676305, 3403: -0.06015467917001279, 3404: 0.2703997430606078, 3405: -0.25700911711110724, 3406: 0.40435672974352144, 3407: -0.5081038400985685, 3408: 0.3046448107796723, 3409: 0.8886204137805656, 3410: 0.15765723169918383, 3411: 0.1536148812202114, 3412: -0.11692925679566231, 3413: 0.0769007551408739, 3414: -0.18443259130125708, 3415: -0.23367138539846993, 3416: -0.09174653536694145, 3417: -0.6183445857080822, 3418: 0.25103991338199455, 3419: -0.7186802501240824, 3420: -0.1962108961503847, 3421: -0.3231641898690395, 3422: 0.051133200664668275, 3423: -0.4784595783997782, 3424: 0.06252138434714857, 3425: 0.24951175548902635, 3426: -0.23527657110212474, 3427: 0.7018406099613039, 3428: 0.5095708809189109, 3429: 0.1540622951820294, 3430: -0.4315922568165286, 3431: -0.1214237809522695, 3432: 0.12730025037646156, 3433: 0.09043827149237794, 3434: 0.4265188836328115, 3435: -0.8251240552700378, 3436: 0.14909383968203585, 3437: 0.19961295171873317, 3438: 0.23916021329984002, 3439: -0.77962378625088, 3440: -0.3103681093067612, 3441: -0.20349988028841823, 3442: -0.9474428250211543, 3443: -0.8189972887649444, 3444: -0.007653712225387743, 3445: 0.06799112970230113, 3446: 0.4410000639935377, 3447: 0.4351409735867624, 3448: 0.1438530745042935, 3449: 0.8336777115911633, 3450: -0.008962301372863126, 3451: 0.035989361656715686, 3452: 0.6256364869260012, 3453: 0.5663124803453543, 3454: -0.1244014423050158, 3455: 1.796483068909004, 3456: -0.17474673797113038, 3457: 0.31406702663773045, 3458: -0.4045680051773416, 3459: -0.01678103632915104, 3460: -0.43553674950866744, 3461: -0.6494413181721299, 3462: -0.5091700688028946, 3463: -0.02100132702103421, 3464: -0.04093478307525721, 3465: -0.1119806546136278, 3466: 1.0751830517525955, 3467: -0.029339733139335862, 3468: -0.02946025696130053, 3469: 0.34655397028621515, 3470: -0.44927955126078434, 3471: -0.40384674461528014, 3472: -0.036616057962671235, 3473: -0.08558061526837026, 3474: -0.6810233554558363, 3475: 0.031974479063652944, 3476: -0.6918412401192064, 3477: -0.1580181102608033, 3478: 0.6775833330303408, 3479: -0.10256666873247088, 3480: 0.07375613728473417, 3481: -0.3606053473456919, 3482: 0.3478852537677949, 3483: -0.11672840892246056, 3484: 0.38215112762946896, 3485: 0.6378924402398316, 3486: -0.06016912579764427, 3487: -1.1606180035863713, 3488: -0.03406940992831793, 3489: 0.8000494833865283, 3490: -0.07624138175476816, 3491: -0.34990870525936796, 3492: 0.2935599248510712, 3493: -0.07253733455488938, 3494: -0.8113766209977423, 3495: 0.4565814361112938, 3496: 0.05957549743636283, 3497: -0.3967284223002644, 3498: -0.43302726024587446, 3499: 0.2680323628664726, 3500: 0.4566266945359165, 3501: -0.5202864228644208, 3502: -0.2067008024782229, 3503: 0.4871412513298961, 3504: -0.07330975003287896, 3505: 0.389570152390236, 3506: 0.4109528134924039, 3507: -0.14248660156157922, 3508: 0.2051233498927916, 3509: 0.283977471463794, 3510: 0.36844774897725896, 3511: -0.30147664845711963, 3512: 0.17941227838736662, 3513: -0.24199356344901998, 3514: 0.3022906591001242, 3515: -0.15307783358115756, 3516: 0.5908605126148067, 3517: -0.01277486944872973, 3518: -0.192312146574865, 3519: 0.1395069802674315, 3520: -0.21047478635716188, 3521: -0.2044251400017925, 3522: -0.3712463241055878, 3523: 0.23753285268648064, 3524: -0.19706180130309486, 3525: 0.04935638841735226, 3526: 0.4655486314822132, 3527: -0.06510867170165666, 3528: -0.6928214539297526, 3529: 0.21505568670192937, 3530: -0.16048909791204208, 3531: 0.0900306744146568, 3532: 0.5808517941422193, 3533: -0.16398683921954052, 3534: -0.132723023145837, 3535: 0.059553758906275546, 3536: -0.3706484028841342, 3537: 0.24304948703468288, 3538: 0.22367003521762682, 3539: -0.14109795862762808, 3540: 0.3078008738206633, 3541: -0.6331890037998714, 3542: 0.26799734294834404, 3543: 0.012699268304796639, 3544: -0.16691354751526788, 3545: 0.11722832677530047, 3546: -0.20629587765836074, 3547: 0.00848350093119083, 3548: -1.0880225155061098, 3549: -0.1215916313874254, 3550: 0.24689621978380424, 3551: 0.10652754241162568, 3552: 0.14646412994173583, 3553: -0.23272154809736179, 3554: -0.9412726500555407, 3555: -0.6112230563002518, 3556: 0.43866720622190347, 3557: 0.17630036685930314, 3558: -0.3433202946785787, 3559: 0.05074787924465943, 3560: -0.0792220702816773, 3561: 0.6059393973048715, 3562: -0.17573616553493965, 3563: -0.42297783849375525, 3564: -0.08439182425462065, 3565: -1.1548173406621582, 3566: 0.13748531865469857, 3567: -0.909295701604075, 3568: 0.12888228391446982, 3569: -0.6297868541608832, 3570: -0.6118941232424534, 3571: 0.062496155316435736, 3572: 0.3122178793953971, 3573: -0.40990632355411044, 3574: -0.1931275697483269, 3575: 0.14982071134739955, 3576: 0.3334361050961268, 3577: -0.6638166146572279, 3578: -0.13146442946610848, 3579: 0.5877175184772888, 3580: 0.825743543769177, 3581: 0.4815570329350268, 3582: -0.5007294238657136, 3583: 0.2947947509401576, 3584: -0.9476113505109827, 3585: 0.33665724025982496, 3586: 0.06446695412630875, 3587: -0.5103527072268019, 3588: 0.5228025030324033, 3589: -0.07470553771349144, 3590: 0.038073426855862645, 3591: 0.09595219679110166, 3592: -0.05424023374691449, 3593: 0.04970782817592396, 3594: -0.5819627917872336, 3595: -0.47189524389025456, 3596: -0.21412298162908097, 3597: -0.5986707769081848, 3598: 0.3478388141040499, 3599: -0.29120716012540004, 3600: 0.17445386941185148, 3601: 0.4902333628368216, 3602: -1.2154967022550622, 3603: -0.11850704468983496, 3604: -0.27542360500810786, 3605: -0.6459469522558041, 3606: -0.18742569277387036, 3607: -0.02859709277687547, 3608: 0.06733226408773767, 3609: 0.3258443436628744, 3610: -0.45984751417622605, 3611: -0.29631050105844237, 3612: -1.0715492403232767, 3613: 0.8907900660638359, 3614: 0.13847408061987782, 3615: 0.31023438604978565, 3616: 0.47614052897369086, 3617: -0.09269561314251147, 3618: -0.2575752478139893, 3619: -1.082239343821136, 3620: 0.12563112840126686, 3621: -0.21837239123044422, 3622: 0.3172283983673862, 3623: 0.4492476277949405, 3624: 0.33155546688560944, 3625: 0.02227765531363832, 3626: 0.5689240653593558, 3627: -0.37652148631483134, 3628: 0.14535961225893623, 3629: -0.32571124179049343, 3630: 0.29843451167716384, 3631: -0.05347179194716216, 3632: 0.16301811518051176, 3633: -0.30200450781008925, 3634: 0.5267423570256639, 3635: 0.40895781676919835, 3636: -0.1365447492671049, 3637: 0.18024806531582738, 3638: -0.4024833956689211, 3639: 0.20755953815370343, 3640: 0.4095043362841512, 3641: -0.09730881269840613, 3642: -0.33532846049392656, 3643: 0.19066204067947196, 3644: 0.3198357880652647, 3645: 0.15809567607795325, 3646: 0.5661643568841698, 3647: -0.4778791626001051, 3648: -0.7202641365136822, 3649: -0.05498026070869678, 3650: -0.0258379306912745, 3651: 0.09196882527310554, 3652: -0.30853752584449795, 3653: 0.07807301875660688, 3654: -0.12494627549028203, 3655: 0.14175653858616816, 3656: -0.24173446192839315, 3657: -0.1019616822811258, 3658: 0.11179300654604664, 3659: 0.3789352082196603, 3660: 0.3133971710279733, 3661: -0.05855461713013986, 3662: -0.36797584012858153, 3663: -0.5715082002005758, 3664: 0.40482426881784467, 3665: 0.2569083130024819, 3666: 0.21875886254836607, 3667: 0.00848352035351232, 3668: -0.011631371193266862, 3669: 0.4571360134810783, 3670: 0.3319391520855894, 3671: -0.15807914521032365, 3672: -0.29406828685374636, 3673: 0.13113427272072598, 3674: -0.21522206143764253, 3675: 0.4081497820467872, 3676: 0.09942144337318422, 3677: 0.502640204896199, 3678: 0.2615230553216431, 3679: 0.1876152439081233, 3680: -0.3345512764554531, 3681: 0.04200607663034945, 3682: -0.08745869358730257, 3683: 0.6226168788644231, 3684: 0.4097597382171898, 3685: -0.41182012437698184, 3686: -0.22450006732377972, 3687: -0.8814854811095405, 3688: -0.1011514519532036, 3689: 0.2945597787610569, 3690: 0.1426875362040406, 3691: 0.28940200237504976, 3692: -0.002760521904715793, 3693: 0.4274470015962416, 3694: 0.5970922740671609, 3695: -0.6342384701721089, 3696: 0.47244769239997625, 3697: -0.47568684609890616, 3698: 0.24308652324417315, 3699: 0.26242617467329876, 3700: -0.008828080182157094, 3701: -0.05156615113728784, 3702: 0.5262341093382764, 3703: -0.9447136032954611, 3704: 0.15538078642235634, 3705: -0.2983163166392264, 3706: -0.004756502308091778, 3707: -0.17820904948073749, 3708: -0.2844546563900025, 3709: -0.37989625747769573, 3710: -0.26436243741045395, 3711: 0.33068813499338706, 3712: -0.28113651535251954, 3713: 0.19866634261960475, 3714: 0.124171725006384, 3715: -0.30278205789000784, 3716: 0.23646107712324418, 3717: -0.5162649915373886, 3718: -0.510573309493703, 3719: -0.1141747629064344, 3720: -0.3467411208174769, 3721: 0.05298078992602682, 3722: -0.18054599982471067, 3723: 0.4320244523254537, 3724: -0.345710299259929, 3725: -0.3868622362607519, 3726: -0.045441355883156974, 3727: 0.45825050204356704, 3728: 0.2912548665585592, 3729: 0.11639128180437827, 3730: -0.0777747369369186, 3731: -0.3903684342511682, 3732: 0.012755721524535135, 3733: -0.21857343222788647, 3734: -0.16339511514591054, 3735: 0.4026643858545358, 3736: -0.8817522291624413, 3737: 0.6263289848517894, 3738: -0.4266406710912594, 3739: 0.27445354406150435, 3740: -0.0704231981158119, 3741: -0.12255831567458411, 3742: -0.18065010367542553, 3743: 0.26017057526028403, 3744: 0.40446354669384427, 3745: -0.27616921094611874, 3746: 0.5334598068468714, 3747: 0.08645626623990582, 3748: 0.038684001427819886, 3749: -1.0815292020694183, 3750: -0.21706951005136876, 3751: -0.47718844000410243, 3752: -0.03275153348125224, 3753: -0.20838082680283282, 3754: -0.5826954607346079, 3755: -0.1019195340514433, 3756: -0.4308810316962264, 3757: -0.6126730388303799, 3758: 0.1989819332485853, 3759: -0.18788294129289043, 3760: -0.17203094400220578, 3761: 0.11248133239512442, 3762: 0.27706132763332153, 3763: 0.03097183294842641, 3764: 0.3938601620813109, 3765: -0.1647153666380173, 3766: 0.6858845745372507, 3767: 0.23574463769446177, 3768: -0.4370561323445136, 3769: 0.3809207041228686, 3770: 0.08055244799360477, 3771: -1.434558716279597, 3772: 0.02808609771094498, 3773: -0.14993286605343975, 3774: 0.06436613489685399, 3775: 0.6484887572887489, 3776: 0.43523359705452663, 3777: 0.3453367259924353, 3778: 0.2886729339888275, 3779: 0.1304553168195668, 3780: -0.42346786170628076, 3781: -0.05802422755651263, 3782: -0.02380589709410949, 3783: 0.027678183586568383, 3784: 0.4859921754284205, 3785: 0.30338514320491017, 3786: 0.0501319587549957, 3787: -0.10881923911415145, 3788: -0.5309375040088427, 3789: 0.34538702903885815, 3790: -0.2537810435316133, 3791: -0.08109350097591754, 3792: -0.3025340062278691, 3793: -0.33768811891566924, 3794: -0.1547842761702552, 3795: 0.34864696380945565, 3796: 0.11719143378623897, 3797: -0.19194002199817128, 3798: 0.5470608339373481, 3799: -0.5166426249458607, 3800: 0.32262567670768166, 3801: 0.18796860807884, 3802: -0.32143933352541926, 3803: -0.0935454176666747, 3804: 0.6493595455586688, 3805: 0.6307253523472921, 3806: 0.4202806444573978, 3807: 0.3966280967086429, 3808: 0.6794551407148269, 3809: 0.28639458980641014, 3810: 0.2085764146583265, 3811: 0.1371555439527955, 3812: -0.04114255890556252, 3813: 0.4755355428581394, 3814: -0.7394783974498524, 3815: -0.25780265310243505, 3816: 0.5604009195259548, 3817: -0.07743378709762717, 3818: 0.4588666586465419, 3819: -0.5283873173641477, 3820: -0.13902395211231142, 3821: 0.2041263582774432, 3822: 0.37587927181839353, 3823: -0.11917967758680487, 3824: -0.4154165707106373, 3825: 0.2699684841330407, 3826: -0.20027510595661355, 3827: 0.11876846750819062, 3828: -0.023832888054445115, 3829: -0.12243679266985437, 3830: -0.08240633173495697, 3831: 0.09886635004984982, 3832: -0.3650834255580074, 3833: -0.8294190040514866, 3834: -0.00737180021436683, 3835: -0.12271111251940817, 3836: 0.2547749603936217, 3837: -0.09296765551397818, 3838: 0.10107884901170804, 3839: -0.06298005112851765, 3840: -0.5579265735698082, 3841: 0.4202244199159379, 3842: 0.21521425421417026, 3843: -1.156861282131124, 3844: -0.5547666148734791, 3845: 0.2670277573369192, 3846: -0.5764490482387821, 3847: -0.55302768928502, 3848: -0.4031867501270143, 3849: -0.4780966391780728, 3850: -0.03880415117049641, 3851: -0.44784109905026126, 3852: 0.408058789538343, 3853: 0.10904376097976126, 3854: -0.6362620881914, 3855: 0.08394216928190876, 3856: 0.17016997698254413, 3857: -0.4182357875890737, 3858: 0.2283397660371874, 3859: -0.23912605619120053, 3860: 0.5225580161840231, 3861: -0.19462795741122083, 3862: -0.8239487135404113, 3863: -0.37253054820440634, 3864: 0.15881933101663148, 3865: -0.041453840821401765, 3866: -0.15852974090493407, 3867: 0.08082425878420968, 3868: -0.19719997214937043, 3869: -0.5477891513899963, 3870: 0.10205637806890124, 3871: 0.33056653360028043, 3872: 0.06044337469727354, 3873: 0.17952710058010568, 3874: -0.2756159830707414, 3875: 0.2601124131093046, 3876: -0.24013532839706264, 3877: 0.03307965267468884, 3878: -0.07479582723638119, 3879: 0.08666613378214086, 3880: -0.4422774020543064, 3881: 0.17272629589107716, 3882: 0.4422017947427731, 3883: -0.0030903299626906266, 3884: -0.2203894617044654, 3885: -0.06887685395020784, 3886: -0.7293604800883314, 3887: 0.6441638729298804, 3888: 0.23534469754504797, 3889: 0.2326443035139818, 3890: 0.28589789564055, 3891: -0.5564637893672487, 3892: 0.16344078426887393, 3893: -0.47304299884200457, 3894: 0.5794521297353166, 3895: -0.45014897144158106, 3896: -0.33443285890625246, 3897: 0.4678598527035549, 3898: 0.1494320056966426, 3899: 0.21376151295070528, 3900: 0.023681901851916598, 3901: -0.06014930926456828, 3902: 0.12459554558212735, 3903: 0.14841691737231033, 3904: 0.5390620947310854, 3905: -0.2853013605511574, 3906: 0.2844146714771186, 3907: 0.2884016349113842, 3908: 0.7209620252021883, 3909: 0.2435556738948719, 3910: 0.2380393302305949, 3911: -0.4079097475600802, 3912: 0.5283883474005884, 3913: 0.9171044791427975, 3914: 0.3295794510778775, 3915: 0.4750538778419591, 3916: 0.42449141733529006, 3917: 0.012139258661845842, 3918: -0.12442040938790122, 3919: 0.15567403799057283, 3920: 0.5439225022115353, 3921: 0.39782999170123906, 3922: -0.33654690450863944, 3923: 0.15495108491998427, 3924: -0.10319625154923433, 3925: -0.5141195701151858, 3926: -0.12242350446275524, 3927: -0.24299855921270783, 3928: 0.6870904684599389, 3929: -0.5352832739788494, 3930: 0.47618337833560315, 3931: 0.10435605427504759, 3932: -0.18914111293777888, 3933: -0.08841345339688177, 3934: 0.1705937729803295, 3935: -0.40365135274285147, 3936: 0.3650463037525827, 3937: 0.3586447824736995, 3938: -0.1497871742709437, 3939: -0.32420598966498293, 3940: 0.31876298197127145, 3941: 0.45778473668689007, 3942: 0.36226324485879074, 3943: 0.04510002435989946, 3944: 0.22813048123391946, 3945: -0.028398952147550078, 3946: -0.22617602084447586, 3947: -0.19372611389975578, 3948: 0.07316518301378241, 3949: -0.0432276122505099, 3950: 0.4217449642771785, 3951: -0.20146590758476896, 3952: 0.11294424312318928, 3953: -0.12530115550719445, 3954: -0.1536991111111602, 3955: -0.22975982884694326, 3956: 1.0453134083170044, 3957: 0.2352061008105631, 3958: 0.34979024122823493, 3959: -0.20876196257810714, 3960: 0.07135999408183348, 3961: 0.5376193741775442, 3962: 0.1416651072183774, 3963: 0.7326575003041215, 3964: 0.8179888731595282, 3965: 0.009592770056700273, 3966: 0.12063200101209424, 3967: 0.16058566079030465, 3968: -0.2184452917062174, 3969: -0.06144487540514866, 3970: 0.36178312959549425, 3971: 0.1303657565676096, 3972: -0.3477998782116363, 3973: 0.297915072501781, 3974: 0.7872783640026936, 3975: 0.0756464577558053, 3976: -1.0737477233904777, 3977: 0.09906113973376486, 3978: -0.4497163817600523, 3979: -0.06216394991039409, 3980: -0.1374181343629279, 3981: 0.1506162818211222, 3982: -0.199513046816723, 3983: -0.46317437557076097, 3984: -0.10191564038189031, 3985: 0.17778802315644912, 3986: 0.08683876825219083, 3987: -0.23463105834758194, 3988: -0.084226360461866, 3989: -0.9039543015672487, 3990: 0.4616242674763707, 3991: 0.2917651787291425, 3992: 0.3323907274995385, 3993: 0.19499141716932303, 3994: -0.3648432193745941, 3995: 0.28962167208495687, 3996: -0.09555548266580471, 3997: -0.18802521364095867, 3998: -0.08243631006520986, 3999: -0.2945818558019073, 4000: -0.22202443781049974, 4001: 0.43388190414674604, 4002: 0.25830845970390426, 4003: 0.43278116883921935, 4004: -0.2231720847495271, 4005: 0.5101104486019813, 4006: 0.18288030012266465, 4007: 0.12049371333138693, 4008: -0.4629996322799788, 4009: -0.06650504211838068, 4010: 0.3753554981629954, 4011: -0.20556437062194277, 4012: 0.6571793639186546, 4013: 0.33916371580302634, 4014: 0.24451399660170656, 4015: 0.19436490770755355, 4016: -0.04636212356958296, 4017: -0.4519714845973551, 4018: 0.6356899843099383, 4019: 0.3259549740815183, 4020: 0.5347045008808543, 4021: 0.5966681901761417, 4022: -0.316117170410456, 4023: -0.29217686553136263, 4024: 0.004678929253758699, 4025: 0.2050094424537558, 4026: -0.04882983661967945, 4027: 0.3581954303983479, 4028: -0.1626876378957289, 4029: 0.043648808455080554, 4030: 0.09962305721962834, 4031: -0.22747091539524794, 4032: 0.361799920963441, 4033: -0.3760694211782137, 4034: -0.3887016188832232, 4035: 0.5246078655743321, 4036: -0.024366940341363597, 4037: 0.1666411845168334, 4038: -0.015568939668649565, 4039: 0.39824068333116625, 4040: -1.0172903480301048, 4041: -0.14314221539708424, 4042: 0.36218573056051295, 4043: -0.3474601185556711, 4044: -0.43160179103353097, 4045: 1.0530370124720343, 4046: 0.5259038628036419, 4047: -0.5101680661051334, 4048: 0.33692886970466446, 4049: -0.31073411932969147, 4050: -0.2277353312774913, 4051: -0.03385584573345627, 4052: -0.0021889509388634803, 4053: 0.6936812870746111, 4054: 0.11816465944883892, 4055: 0.9497091395803443, 4056: -0.23730576224530192, 4057: 0.21681254631665142, 4058: 0.15276292181055157, 4059: -0.46703946065102053, 4060: 0.30413542719129705, 4061: -0.2908906037536312, 4062: 0.0349383258155161, 4063: 0.4738626272814468, 4064: -0.1586148816709811, 4065: -0.6690845533870645, 4066: -0.23218963800460143, 4067: -0.495502679504617, 4068: 0.33291442670869076, 4069: 0.12415776275784507, 4070: 0.06464557033933514, 4071: 0.3932996485831218, 4072: -0.5972944843708883, 4073: -0.034137334717879685, 4074: -0.11800152021219765, 4075: -0.03656643991466436, 4076: -0.47354357516494267, 4077: 0.5458542509537818, 4078: -0.07941475472177494, 4079: -0.1991590984514126, 4080: 0.28347394274437493, 4081: 0.355710168182232, 4082: 0.7094047987449973, 4083: 0.03870130629738713, 4084: -0.3543597571405193, 4085: -0.00417183704209592, 4086: -0.20475764699330326, 4087: 0.7463837337814166, 4088: -0.20111598492829724, 4089: 0.15728965146161483, 4090: 0.5517407699049403, 4091: -0.15189204290943342, 4092: -0.34374165187896893, 4093: -0.19254469609941421, 4094: 0.3845570786528003, 4095: 0.3319469161459086, 4096: 0.23728436972502373, 4097: -0.2470974786407563, 4098: 1.0561224983122424, 4099: 0.17821044474944667, 4100: -0.3554113881317114, 4101: -0.0876405711655415, 4102: 0.4122228419307394, 4103: -0.12857922161239274, 4104: 0.31882547695897817, 4105: 0.21292601061495203, 4106: -0.19345095240211713, 4107: -0.1943334209930267, 4108: -0.5012554410738764, 4109: 0.02695719509967831, 4110: 0.29020347692401516, 4111: 0.3122638196397887, 4112: -0.24593960641894155, 4113: 0.29740067367974105, 4114: 0.2413429015581048, 4115: 0.2740322287998344, 4116: -0.7572391858601637, 4117: -0.2502696264541343, 4118: -0.19738895161282963, 4119: 0.4261557937366327, 4120: -0.03162513825919192, 4121: -0.21918916082653978, 4122: -0.17548352934041073, 4123: -0.0303967122193134, 4124: -0.6717080148921439, 4125: 0.19605840827694018, 4126: -0.027649709417278446, 4127: -0.17396767820443348, 4128: 0.09013513861265056, 4129: -0.24099766744338175, 4130: 0.5122507341120349, 4131: -0.24037705348676602, 4132: -0.07048540828064605, 4133: -0.08596077872896611, 4134: 0.6085716971045662, 4135: 0.05623582809103196, 4136: -0.7349964110242805, 4137: 0.4122167274685055, 4138: -0.24254283063326734, 4139: 0.43901231295879156, 4140: 0.20175814241239706, 4141: 0.1053599445976947, 4142: -0.4858625589171414, 4143: 0.2219527014173544, 4144: -0.4318524705505633, 4145: -0.3410388483267112, 4146: -0.16159947032302857, 4147: -0.141408649124389, 4148: 0.09860747944641853, 4149: -0.08310853422267786, 4150: 0.3972990791828021, 4151: 0.383952796884337, 4152: 0.5393615872158118, 4153: 0.628498677436328, 4154: -0.34045213564721494, 4155: 0.2427188608892461, 4156: -0.3000391434797462, 4157: 0.15837428411154744, 4158: -0.08121600980200934, 4159: 0.21878087681977013, 4160: 0.6736346684673838, 4161: 0.11016583266335236, 4162: 0.02373245448930915, 4163: 0.20070912734338517, 4164: 0.3725887073494365, 4165: 0.20712664745396622, 4166: 0.13917678397250496, 4167: -0.36930930675458234, 4168: -0.131756028993437, 4169: -0.11108889982217425, 4170: -0.6933831842681735, 4171: -0.35691168412322455, 4172: 0.6764069640814215, 4173: 0.061356549041306246, 4174: 0.09042045036622919, 4175: -0.458599527657474, 4176: 0.1686070560832832, 4177: 0.4780406825967235, 4178: 0.5691828061549078, 4179: 0.30636517661896434, 4180: -0.17394658948468716, 4181: 0.057692479040130355, 4182: 0.8931952293506987, 4183: 0.1855316793866661, 4184: 0.3024128892909912, 4185: 0.8013954003368062, 4186: 0.09635849112640224, 4187: 0.1673920928022921, 4188: -0.3898212975954024, 4189: -0.11752185396200843, 4190: -0.16884361543279272, 4191: -0.4706651471465724, 4192: -0.07030626927839476, 4193: 0.23731122177664016, 4194: -0.22870401874135732, 4195: -0.08690620059874545, 4196: -0.06700547229503759, 4197: 0.35928276179055413, 4198: 0.02225678802741875, 4199: 0.5795983193009598, 4200: -0.053642621504782675, 4201: 0.13549851514788352, 4202: -0.18982087488067595, 4203: -0.056842671792257264, 4204: 0.2617486131695004, 4205: 0.6015556410390549, 4206: 0.18044608936075632, 4207: 0.07723218136053711, 4208: 0.36162807568768346, 4209: 0.29628952798502045, 4210: 0.41338601797843044, 4211: -0.4165203629455587, 4212: -0.5982268074966347, 4213: -0.16625105049942984, 4214: 0.14393673661337764, 4215: 0.6554307586736872, 4216: 0.014290985775950607, 4217: -0.6563494722149785, 4218: -0.872637647487268, 4219: 0.512347866106913, 4220: 0.05008907446088191, 4221: 0.6101628774388694, 4222: -0.6401655929766141, 4223: 0.3888206847559495, 4224: 0.11812818903017935, 4225: -0.06922519983242953, 4226: 0.3502877011453223, 4227: -0.9005784988262449, 4228: -0.11997541105604093, 4229: 0.39667599474389126, 4230: -0.29419917779518506, 4231: -0.3027149627468195, 4232: 0.04569941238664017, 4233: 0.012289326637111915, 4234: -0.016114959206568778, 4235: 0.13891021314060656, 4236: 0.002756090282065767, 4237: -0.3471023577562552, 4238: 0.2055603564729925, 4239: -0.12166766681442845, 4240: 0.05808572631732075, 4241: 0.6117025510728392, 4242: 0.2324336884776757, 4243: -1.236131770855393, 4244: -0.5308999613111076, 4245: 0.4137846179366315, 4246: 0.04922020316222764, 4247: -0.06583468812851483, 4248: 0.4190843545476403, 4249: -0.2546230837483155, 4250: -0.2858912566412516, 4251: 0.265952685026539, 4252: 0.3416384331045806, 4253: 0.4025228912436549, 4254: 0.3719307106676666, 4255: 0.018817974118113267, 4256: -0.3982185747539084, 4257: -0.3569980688702813, 4258: -0.04348084642302396, 4259: 0.04277816476911109, 4260: -0.10095371222269774, 4261: -0.2989256518826851, 4262: -0.7350812662778312, 4263: -0.34837582140223766, 4264: 0.2443615779357904, 4265: 0.217589974034762, 4266: -0.4526795727798925, 4267: -0.22823586517935252, 4268: 0.12352901505760029, 4269: 0.5819668790747173, 4270: 0.3774143432286936, 4271: 0.38005491642367506, 4272: -0.029856358770226833, 4273: -0.08501977802512181, 4274: -0.12275741041924304, 4275: 0.2058685523781998, 4276: -0.16248782475194373, 4277: -0.26114584244585476, 4278: -0.4543182648079297, 4279: 0.3154893936505439, 4280: -0.14241255362858188, 4281: -0.8426201170292619, 4282: 0.2612525032009864, 4283: 0.04971995817259855, 4284: 0.34925524482212006, 4285: 0.08276836280233346, 4286: 0.30734824723907855, 4287: -0.3206703341912267, 4288: -0.27353698114851854, 4289: 0.5220760467308767, 4290: -0.1501486146057357, 4291: 0.1733634407650235, 4292: -0.22839849895544148, 4293: 0.3066912086434323, 4294: 0.688336005401776, 4295: -0.2945229960622771, 4296: -0.1526174172579558, 4297: -0.28912586849397326, 4298: 0.2873956139440226, 4299: 0.210194965265269, 4300: 0.10936186804132222, 4301: -0.5626517454066162, 4302: -0.5365838264528828, 4303: 0.008972159877497448, 4304: 0.5020644620763072, 4305: -0.12323138042090438, 4306: 0.13612629633084833, 4307: 0.15323629281447318, 4308: 0.37694425513714297, 4309: -0.326135195959481, 4310: -0.17996879492817625, 4311: 0.09501993540811979, 4312: 0.783339096590544, 4313: 0.7598895233762863, 4314: 0.1892094771665411, 4315: -0.3351897605117281, 4316: -0.15605438281539935, 4317: -0.6312406418910029, 4318: -0.19821468093249542, 4319: -0.0698156430491008, 4320: -0.421908253109917, 4321: 0.6584704044334002, 4322: -0.3696240624725323, 4323: 0.26754118628462675, 4324: 0.24866945817460154, 4325: 0.20180194756708444, 4326: -1.2906583948855934, 4327: -0.0537858420304224, 4328: 0.10082958975274199, 4329: 0.48086930964130076, 4330: 0.056301853160329304, 4331: 0.2535193360182213, 4332: -0.4470863473878608, 4333: 0.42747527266034446, 4334: -0.012084805222789145, 4335: -0.5183364881946871, 4336: 0.38904866565289903, 4337: 0.27583868890808466, 4338: 0.061859074753048686, 4339: -0.0022418560004011504, 4340: -0.33481241553462826, 4341: -0.3000715125776163, 4342: -0.2424764329680037, 4343: 0.3917657185146061, 4344: -0.00414381705265827, 4345: 0.22113005559428628, 4346: 0.5666820144699876, 4347: 0.35917008179865, 4348: 0.3276132479495622, 4349: -0.28634000254571423, 4350: 0.14971160181386725, 4351: 0.12435279105359162, 4352: 0.23265473704621628, 4353: 0.5476347520545898, 4354: -0.050828799398482866, 4355: 0.17863958136393723, 4356: 0.32159200074834243, 4357: -0.24161118451629027, 4358: -0.10597958137320035, 4359: 0.12541392602716417, 4360: 0.7341792495849649, 4361: -0.351572439290026, 4362: 0.1452635933391368, 4363: -0.33423653271209103, 4364: 0.09707380032929427, 4365: -0.39320177291227476, 4366: -0.3933666617483174, 4367: -0.09704921853109454, 4368: -0.11043587765826794, 4369: -0.34586226575698786, 4370: 0.013345878049371217, 4371: -0.47834915207153916, 4372: -0.11309157463860475, 4373: 0.15241600278871267, 4374: 0.19895379448820982, 4375: -0.020631058378318835, 4376: 0.19433925706724772, 4377: -0.6137171148459986, 4378: -0.06186103451464158, 4379: 0.4101352651659499, 4380: -0.44833493960033544, 4381: 0.04664141312281895, 4382: 0.19313054479385672, 4383: -0.008995970412710975, 4384: -0.04922678735660457, 4385: -0.17914658977482223, 4386: -0.24923781738498452, 4387: 0.09712740901802586, 4388: 0.3521931703239177, 4389: 0.13605847057057718, 4390: -0.292188843205061, 4391: -0.11628634270118661, 4392: -0.05118867700568185, 4393: 0.2437783673236125, 4394: -0.5976143705539917, 4395: -0.130025448358233, 4396: -0.3762250951957485, 4397: -0.2342206828724027, 4398: 0.11990149486556155, 4399: 0.4447540121461125, 4400: 0.46017125724188795, 4401: -0.40744922318857923, 4402: 0.036961804824989786, 4403: 0.3471310457825097, 4404: -0.3905200721308059, 4405: -0.20450610427258548, 4406: 0.17521500831654713, 4407: 0.19754307679792682, 4408: 0.3943182402625492, 4409: -0.2440573835641669, 4410: 0.2907094550700249, 4411: -0.16781722875519825, 4412: -0.23662889912054869, 4413: 0.17774145580683717, 4414: -0.512537920425378, 4415: -0.019944695822039466, 4416: 0.4716753286401548, 4417: 0.3951190201045392, 4418: 0.16352166843217592, 4419: 0.5621600204550566, 4420: 0.1488388872736949, 4421: -0.24402755367986007, 4422: 0.11252721972143728, 4423: 0.12436475228059386, 4424: 0.5574680419542304, 4425: -0.4220080761476856, 4426: -0.24422070768146234, 4427: 0.040888853528857586, 4428: -0.17987198764587756, 4429: -0.02102343589411675, 4430: 0.12554250364056674, 4431: -0.685839525054162, 4432: -0.20299965729874503, 4433: -0.047108097205131476, 4434: -0.29605582621427745, 4435: 0.5189032998362232, 4436: -0.2867516245952718, 4437: 0.3491795872970331, 4438: 0.6711651633169772, 4439: 0.5647791322042667, 4440: -0.38838972183869686, 4441: 0.2639329571562534, 4442: -0.1662550382835318, 4443: -0.1401162366670074, 4444: -0.35174221487100227, 4445: 0.45239069262091447, 4446: 0.3163072304932164, 4447: -1.3077221743560397, 4448: 0.36368521634773804, 4449: 0.4886025267311271, 4450: 0.6529301025022805, 4451: -0.7764889688932741, 4452: -0.3122605082510997, 4453: -0.3662344542430634, 4454: -0.07743634699185403, 4455: -0.43317969650393245, 4456: -0.5333134453441887, 4457: -0.2811726614582507, 4458: 0.022188327128678756, 4459: 0.5814611290556192, 4460: 0.10811444991306479, 4461: -0.21627895805720124, 4462: 0.08701992074216795, 4463: -0.2707790164847168, 4464: -0.4419822742126267, 4465: 1.0922844025726066, 4466: 0.08563673136163051, 4467: -0.12419458397190401, 4468: 0.35656082605662276, 4469: -0.08246362802280363, 4470: -0.2923752655575308, 4471: -0.38468235664058115, 4472: -0.04329578003348453, 4473: -0.20878685520799845, 4474: 0.13410017311524164, 4475: -0.2872864781309593, 4476: 0.4724536095174556, 4477: 0.36604513662959554, 4478: -1.3345511916123909, 4479: -0.327397204108899, 4480: -0.30482430191167037, 4481: 0.5924322698374413, 4482: -0.2422826142307026, 4483: -0.14350100535210286, 4484: -0.3185702478310753, 4485: -0.2262638662932006, 4486: -0.09450083786160973, 4487: 0.35464396678591903, 4488: 0.14442796001455185, 4489: -0.21779060322890934, 4490: 0.029216402800240123, 4491: 0.8064396644375844, 4492: -0.21106043318271203, 4493: -0.07506728844990303, 4494: 0.6876906327414106, 4495: 0.11879426722843263, 4496: -0.029326552696051555, 4497: -0.18532235666489486, 4498: 0.23799988820194895, 4499: 0.46120987137622443, 4500: -0.724755473579582, 4501: 0.45050128537109635, 4502: 0.22537920138593792, 4503: -0.052717101144285336, 4504: 0.17504991212994403, 4505: 0.28392905762594006, 4506: -0.4211113796863021, 4507: 0.7486172805116316, 4508: -0.6508706978317212, 4509: -0.4576553964128737, 4510: 0.1816201174029712, 4511: 0.3284464970385433, 4512: 0.1654747508030505, 4513: -0.14700725953004729, 4514: 0.49262494456152406, 4515: -0.7114377846722055, 4516: 0.15083845038898774, 4517: 0.17557977412849948, 4518: 0.3002423788397317, 4519: 0.31897680409848694, 4520: 0.32415675900802643, 4521: -0.3854832309535391, 4522: -0.13931406447793568, 4523: 0.18780330949235316, 4524: -0.10829788346674225, 4525: -0.053902519743729574, 4526: -0.035611561701424536, 4527: -0.07046688056674065, 4528: -0.01949954117204436, 4529: 0.7145717464498529, 4530: 0.08007229901138439, 4531: -0.17194259765643186, 4532: -0.09930864535807618, 4533: -0.12076754954434812, 4534: -0.05191923066070844, 4535: 0.2400876623832454, 4536: 0.5687896487102414, 4537: -0.27403203604998433, 4538: 0.281507180875367, 4539: -0.08832918212090254, 4540: -0.23784632715126647, 4541: 0.014650767370517237, 4542: -0.8133076137693536, 4543: 0.1657358013441482, 4544: 0.2043152941515723, 4545: -0.11882073184531476, 4546: 0.3302338337210932, 4547: 0.026805685388860426, 4548: 0.8170231731510124, 4549: 0.09385834444733579, 4550: -0.11872023624705348, 4551: -0.03684689586568793, 4552: 0.34175708677958444, 4553: -0.3264126875299089, 4554: -0.11377804146057278, 4555: 0.27753457044559593, 4556: -0.028719726041912672, 4557: -0.32846981364765804, 4558: -0.34642774819253175, 4559: -0.4125661735976396, 4560: 0.08765525752522745, 4561: 0.07292030847519006, 4562: -0.5220511128858393, 4563: 0.5615324499145542, 4564: 0.10685596841460883, 4565: 0.12463914907100579, 4566: 0.263618316208442, 4567: 0.09682676594917335, 4568: 0.17586957731304584, 4569: -0.5017288429916146, 4570: 0.37013174458494696, 4571: -0.5317288401196815, 4572: -0.4778341654381918, 4573: -0.03806458530580882, 4574: -0.12165340738655848, 4575: 0.6290749532762395, 4576: 0.3163404229090574, 4577: -0.1962068926001796, 4578: -0.1861968098563046, 4579: -0.22682603492203082, 4580: 0.1279274431539376, 4581: 0.24971309788424623, 4582: -0.07602856030439226, 4583: -0.32768495487686833, 4584: 0.06857647826286474, 4585: -0.12826154429273498, 4586: -0.03110526684407571, 4587: -0.26559827015201143, 4588: -0.0604245059352217, 4589: -0.7744547620011681, 4590: 0.40450473411772153, 4591: 0.03848892840612055, 4592: -0.17455239511829437, 4593: -0.666477814734658, 4594: -0.48758790422663906, 4595: -0.1821786558411117, 4596: 0.34506827638774956, 4597: -0.28595367407710925, 4598: 0.007005356910575388, 4599: 0.049590373548590735, 4600: 0.01719538617014391, 4601: 0.11725890691004297, 4602: 0.06670413667960418, 4603: 0.44659742465335306, 4604: -0.027099090781521284, 4605: -0.5436378007170947, 4606: 0.264775833531966, 4607: 0.34421462973526734, 4608: 0.05742033730168926, 4609: -0.3664544856636321, 4610: -0.10366569174757065, 4611: -0.022453530029320466, 4612: 0.18656499832348272, 4613: 0.05211684275662407, 4614: 0.2356147342544087, 4615: -0.30468582199031163, 4616: 0.3833637255788045, 4617: -0.8351916294224254, 4618: 0.009384718184141785, 4619: 0.5407908282858378, 4620: -0.7180297728833865, 4621: -0.54921794130057, 4622: -0.24294382788085556, 4623: -0.8249312984579347, 4624: 0.760242853639254, 4625: 0.06776074503012416, 4626: 0.168113954571412, 4627: -0.08948131947861881, 4628: 0.31642305746624344, 4629: 0.8383885979478461, 4630: 0.15679539152037517, 4631: 0.2351206503668884, 4632: 0.32224471793067005, 4633: 0.036404638098521534, 4634: 0.6229014685813616, 4635: 0.07375701159722269, 4636: -0.3939734934955702, 4637: -0.35482619587891484, 4638: -0.5036225052429069, 4639: -0.1049160480652852, 4640: -0.0026116222151827463, 4641: -0.10175820079136984, 4642: -0.32877181121428445, 4643: 0.5116003093901818, 4644: 0.3451475514749082, 4645: -0.2546845523943597, 4646: 0.12122754578058302, 4647: -0.29839104428652746, 4648: -0.5050597381302486, 4649: 0.32841030468103666, 4650: 0.2738461890897529, 4651: -0.24320700061535525, 4652: 0.02739057910886691, 4653: -0.0427040769505942, 4654: 0.12611875758655858, 4655: -0.4614695883883082, 4656: 0.22733950355048704, 4657: 0.173537089862752, 4658: -0.010383044596514441, 4659: 0.44017950364669345, 4660: -0.3544960689543432, 4661: 0.17779511312447957, 4662: -0.8680202164789693, 4663: -0.24857345365005257, 4664: 0.33935472783005965, 4665: 0.05446422631122283, 4666: 0.5606327477580554, 4667: 0.01535953192828419, 4668: 0.1252971924363555, 4669: 0.6385039026522317, 4670: -0.010524054007199777, 4671: 0.05222163314845874, 4672: -0.16060239749745506, 4673: 0.10538990943457285, 4674: 0.6358160544161232, 4675: 0.24746327625354467, 4676: 0.4164458647365259, 4677: 0.43760227149948355, 4678: 0.47887566018635885, 4679: 0.17889972106721666, 4680: 0.214907053253959, 4681: -0.7338468136749607, 4682: -0.4356047458554195, 4683: 0.3275136622338113, 4684: 0.10558074071740176, 4685: -0.44092203981082084, 4686: 0.1982186120899689, 4687: -0.43202623977057336, 4688: 0.40840653644365976, 4689: 1.0283933539190662, 4690: 0.26910019692559567, 4691: 0.36122556928016947, 4692: 6.564251504614927e-06, 4693: -0.26989292982948926, 4694: -0.18763397655091515, 4695: -0.4573424364544739, 4696: 0.734724769481206, 4697: 0.5034866873713338, 4698: -0.12987188172805683, 4699: 0.09930282328564623, 4700: 0.009723204552083649, 4701: 0.039945380062119895, 4702: 0.23421934959352617, 4703: -0.29285951187674, 4704: -0.49323357274486596, 4705: -0.023698920386276818, 4706: 0.215783930253909, 4707: -0.340727589090114, 4708: 0.07311128676278063, 4709: -0.10472784624271944, 4710: -0.18998147735324641, 4711: 0.797441520477242, 4712: -0.20291420423618428, 4713: -0.014235200233651225, 4714: 0.14842934502693161, 4715: 0.6136451263671724, 4716: 0.20042774821896364, 4717: -0.902857868937298, 4718: -0.007800450495533735, 4719: 0.04290544830593883, 4720: -0.052484991294287055, 4721: 0.23656172606641757, 4722: 0.048756358746820216, 4723: -0.1352377676158524, 4724: -0.9666659234741202, 4725: 0.31907441594700414, 4726: -0.3134597619549914, 4727: 0.3274897557281929, 4728: 0.034019458843082044, 4729: 0.02712134066047679, 4730: -0.35529402746682653, 4731: 0.256962725800787, 4732: -0.4433472155064822, 4733: -0.5626528105081722, 4734: -0.5689035400516392, 4735: -0.09893122791367807, 4736: 0.4599808831952669, 4737: -0.9397335672637369, 4738: 0.29099966227755325, 4739: -0.06016840205602209, 4740: 0.2719941569705263, 4741: 0.24899123978414672, 4742: 0.2837824498270514, 4743: 0.24549287297731567, 4744: 0.6362043793294959, 4745: 0.4820630097533354, 4746: -0.125063574806734, 4747: 0.37171995145198916, 4748: -0.6923467197452059, 4749: 0.0926055497655079, 4750: -0.17211064377510113, 4751: -0.4076338335018048, 4752: -0.03539586222152148, 4753: 0.5278781939262583, 4754: 0.10645332326540871, 4755: -0.7557727795355502, 4756: -0.06131735760535135, 4757: 0.1142302370967919, 4758: 0.3307066945963703, 4759: 0.09034108051962746, 4760: -0.05231741593293326, 4761: -0.6182249457344374, 4762: 0.5062864044233778, 4763: 0.1349242797752242, 4764: 0.0950696699478019, 4765: -0.3065837761393015, 4766: -0.45716314081295045, 4767: -0.20795356155142405, 4768: 0.2802677575635397, 4769: -0.07784649194396738, 4770: 0.3115618315617737, 4771: -0.30279645227263163, 4772: -0.09905924485437266, 4773: -0.33432392151366863, 4774: 0.007793174709386426, 4775: -0.4214154277766477, 4776: 0.8645372968805394, 4777: -0.38724427225109714, 4778: 0.3350895171314599, 4779: -0.07783530080418556, 4780: 0.013913113504612542, 4781: -0.2508368344513798, 4782: 0.0024422251522435916, 4783: 0.46552592736528925, 4784: 0.27578723083623147, 4785: -0.3987394952163098, 4786: 0.003614833142172362, 4787: -0.03862925717976583, 4788: -0.22179485006904462, 4789: -0.23501432976519368, 4790: 0.3949229456070977, 4791: 0.429780987790194, 4792: 0.4938087679831512, 4793: -0.0016412070478213853, 4794: -0.01297313205785835, 4795: 0.37944820780218735, 4796: 0.4900979417371904, 4797: 0.038961063630945945, 4798: -0.0982253738472496, 4799: -0.27240568735190346, 4800: 0.14892471501040072, 4801: 0.5550346996779084, 4802: 0.06115338871187519, 4803: 0.06058987539428739, 4804: 0.17661897282199954, 4805: -0.021254613908156493, 4806: -1.0869011817747867, 4807: 0.11996797168272866, 4808: 0.5921662557232314, 4809: 0.017696466155723907, 4810: 0.31131085020258736, 4811: -0.5556209166795101, 4812: 0.2579054058013406, 4813: -0.27369552709272704, 4814: -0.037219098865765604, 4815: 0.08073131708604875, 4816: -0.1208554670349388, 4817: 8.429757398357772e-05, 4818: -0.3085698350513435, 4819: 0.3056359958225634, 4820: -0.21953953841917825, 4821: -0.5604371485634164, 4822: -0.08988185076690287, 4823: 0.25394514330883017, 4824: -0.24454497033028785, 4825: -0.04585028643458013, 4826: -0.5119783866316108, 4827: 0.25578899615329925, 4828: -0.36303842421926635, 4829: -0.024244724687547067, 4830: -0.9238560809149345, 4831: -0.27402278718756823, 4832: 0.12730508462034215, 4833: -0.34861311312409315, 4834: -0.25865215578481326, 4835: 0.40830981871732097, 4836: -0.265917742648591, 4837: 0.37248818338382345, 4838: 0.04516303423612629, 4839: -0.5808793701944347, 4840: -0.13170522298722476, 4841: 0.13931292747034302, 4842: -0.12430793480103389, 4843: -0.0032836980602068133, 4844: 0.2927182229145182, 4845: -0.13993379474831016, 4846: 0.20814128951388464, 4847: 0.5998800765909139, 4848: 0.9654820201068189, 4849: -0.29494204711332067, 4850: -0.08516823728509103, 4851: -0.0075714912204430055, 4852: -0.0356785184964854, 4853: -0.3916333676765887, 4854: 0.29172289431437926, 4855: 0.48381472219931676, 4856: -0.22827169690184856, 4857: 0.20295028219806308, 4858: 0.20110303527382775, 4859: -0.02879716707835613, 4860: -0.4472458190133348, 4861: 0.6345882167362943, 4862: 0.1440631004839176, 4863: -0.4044734402797481, 4864: 0.3160999403297266, 4865: 0.09730547717274379, 4866: -0.8808680206711825, 4867: 0.6562867003363705, 4868: -0.027223173802243008, 4869: 0.7663147033276937, 4870: -0.14493182795160392, 4871: 0.08249156449496464, 4872: -0.5212825320852046, 4873: 0.0514415962893051, 4874: 0.5244965476327854, 4875: 0.1486674898906104, 4876: 0.303124778963543, 4877: -0.13593646021765488, 4878: 0.02289118150406068, 4879: 0.8590538326393815, 4880: 0.5340252453864808, 4881: 0.49876971135239195, 4882: 0.05810039914474595, 4883: 0.24616174931880921, 4884: 0.09357756132022116, 4885: 0.017545238067141162, 4886: -0.5764032487939622, 4887: -0.13362063539974137, 4888: -0.2779738329870468, 4889: -0.2687349345726844, 4890: -0.17235770313137622, 4891: -0.044599124288601286, 4892: 0.5527501465733046, 4893: 0.4096795976951253, 4894: 0.4341260477583232, 4895: 0.0519902195117189, 4896: 0.2836173902310702, 4897: -0.09522428264316142, 4898: -0.11581170112652218, 4899: -0.19023794931589025, 4900: -0.5257075000558672, 4901: -0.10094159346098354, 4902: -0.16528894898319121, 4903: 0.0715515810289983, 4904: 0.010250246247076726, 4905: 0.31131460322433185, 4906: 0.2278742106886108, 4907: -0.46398167921043426, 4908: -0.2722202395591059, 4909: -0.062281859126298106, 4910: -0.19929529489243372, 4911: -0.6045849088528699, 4912: 0.25636542198176193, 4913: 0.15873467251819923, 4914: 0.08901565754497152, 4915: 0.2935329219194295, 4916: 0.25134314460294727, 4917: -0.7304664155279857, 4918: -0.26724119134912455, 4919: 0.3970641878678157, 4920: -0.11117617455122376, 4921: 0.09420548320307494, 4922: -0.5272018684596267, 4923: -0.27696981307686314, 4924: -0.42557141674926685, 4925: -0.441372551911768, 4926: -0.8136362966301917, 4927: 0.07992049415936649, 4928: 0.4255681177058818, 4929: -0.4009060403504295, 4930: -0.3910827358864898, 4931: 0.25387329300098044, 4932: 0.31817457907264535, 4933: 0.07576772884566559, 4934: -0.31101881107970747, 4935: 0.2985590888096083, 4936: -0.4787440394857615, 4937: 0.4330395000925596, 4938: 0.11980591163859182, 4939: -0.06601175954061023, 4940: -0.44641725224865614, 4941: -0.09770695474566884, 4942: 0.40650518119152257, 4943: -0.14063798834042981, 4944: -0.10410520750601872, 4945: -0.005268385675352102, 4946: 0.19706710782990783, 4947: -0.19759640400869727, 4948: 0.09421071459678675, 4949: -0.0397133742868199, 4950: -0.9896825964675466, 4951: 0.5039974356939284, 4952: 0.21889104518348676, 4953: 0.08574309650566371, 4954: 0.3990444460060558, 4955: 0.08769664769605463, 4956: 0.21657925010629406, 4957: -0.06960125064494667, 4958: 0.249468927072199, 4959: 0.41436493150451476, 4960: -0.14755195096424334, 4961: -0.15930417667800775, 4962: 0.043809598189857114, 4963: 0.39953780151673435, 4964: 0.0970900428691219, 4965: -0.29617784880071024, 4966: -0.10194810411206039, 4967: 0.10717531457079757, 4968: -0.17787920796048753, 4969: 0.4226424100694522, 4970: -0.14058781460178757, 4971: 0.5022982006075865, 4972: 0.4833805900562041, 4973: 0.03038029323206217, 4974: -0.48119043611284396, 4975: -0.0944115211659814, 4976: -0.4145377051734331, 4977: -0.008906837935073587, 4978: -0.0007568384643773865, 4979: 0.33973411774043677, 4980: -0.21422645286703698, 4981: 0.3035341848482215, 4982: 0.005118062612611896, 4983: -0.5842451159362892, 4984: 0.42417393937611964, 4985: 0.9554139048576509, 4986: -0.1642600850907389, 4987: -0.3145709637662535, 4988: 0.6320254859926872, 4989: -0.827315259304272, 4990: 0.15289158829886937, 4991: 0.5108350913126419, 4992: -0.4747351047034173, 4993: -0.11344557059188559, 4994: -0.2651985140347156, 4995: 0.2811978821948182, 4996: 0.13031206333356812, 4997: 0.2780133642479275, 4998: 0.08504769817853361, 4999: 0.23467391157537346, 5000: -0.20132233677111633, 5001: -0.12409789764335692, 5002: 0.4473609862576698, 5003: 0.8305090995916251, 5004: 0.18047871618315928, 5005: 0.38404326062146343, 5006: 0.08544552600396725, 5007: -0.0021638696821990695, 5008: -0.13836208399768957, 5009: 0.6831709930757384, 5010: 0.08703167590989414, 5011: 0.3830252669292753, 5012: 0.19456911356866413, 5013: 0.5394367899212659, 5014: 0.48599064556328014, 5015: -0.19209207476424606, 5016: -0.12545800404498372, 5017: 0.3204279576437584, 5018: -0.13588699409368224, 5019: -0.03508533475516123, 5020: -0.42117901399546803, 5021: 0.16004640104164705, 5022: 0.16139303211727812, 5023: 0.2520011070669189, 5024: 0.18851385739100843, 5025: 0.9373302048898671, 5026: 0.462733640546866, 5027: -0.8353770761272673, 5028: -0.018948613276851756, 5029: 0.30130119030289704, 5030: -0.3252780832056748, 5031: 0.3628782844325107, 5032: -0.5607909729292441, 5033: 0.3022488591705797, 5034: -0.3930366743646502, 5035: -0.10991469720315637, 5036: -0.07231077591608909, 5037: -0.9877932208457791, 5038: -0.008643971913802792, 5039: 0.013396897318191948, 5040: 0.17835697365892855, 5041: -0.15932505737155855, 5042: -0.049313404135477204, 5043: 0.12431194828657158, 5044: 0.1603412677287341, 5045: 0.20671817744662346, 5046: 0.10836524353470901, 5047: 0.016611703748294203, 5048: -0.15880672986767674, 5049: -0.27362225495078274, 5050: -0.4753193528895032, 5051: 0.0660624958030981, 5052: -0.17870144871994248, 5053: 0.3326256001304524, 5054: 0.07714866834892674, 5055: -0.1700702577121153, 5056: -0.2422214521515568, 5057: 0.09988341088474878, 5058: 0.4988603530064617, 5059: 0.5259517974367918, 5060: 0.488441119769561, 5061: 0.5769684609733134, 5062: 0.1869001782993117, 5063: -0.37849198934477446, 5064: -0.0203752145203963, 5065: 0.4133549615163617, 5066: 0.11104844283158744, 5067: -0.021358537582773687, 5068: 0.504095598301105, 5069: 0.31292008251714953, 5070: 0.3462436872862778, 5071: 0.8701048740861831, 5072: 0.40856281857940385, 5073: 0.5090299080044538, 5074: 0.662182012983956, 5075: -0.22479223536814255, 5076: 0.02293451718454743, 5077: 0.11284649549788459, 5078: 0.10510668968842322, 5079: -0.26367910459973887, 5080: 0.36851163982136126, 5081: 0.2429936660173598, 5082: 0.6804228295313032, 5083: -0.28164395192159347, 5084: 0.2626511009716736, 5085: -0.29749567766266993, 5086: -0.5031053502328341, 5087: -0.11992224155628324, 5088: -0.28003460053542456, 5089: -0.2525613073166579, 5090: -0.3789562391315478, 5091: -0.035314253580813075, 5092: 0.3771900529691202, 5093: 0.20500519496707495, 5094: -0.5297671895668694, 5095: 0.4911704702354837, 5096: -1.044615127532844, 5097: 0.28342332695145406, 5098: 0.3910335511459438, 5099: 0.22990095386117718, 5100: 0.06898242421245025, 5101: 0.48240009036535597, 5102: -0.7262567395441656, 5103: 0.06119024014733097, 5104: 0.3551576903877038, 5105: 0.1320074517455639, 5106: -0.07850488486619321, 5107: -0.4297032121371562, 5108: 0.15347588388470956, 5109: 0.16027410533622027, 5110: 0.1956645433571177, 5111: 0.09996717660524908, 5112: 0.1547546484915911, 5113: 0.2539265507816252, 5114: -0.12910655416348274, 5115: 0.22019772826470715, 5116: 0.2170623868027096, 5117: 0.3269268933216634, 5118: -0.07231456486122746, 5119: -0.4291677808583932, 5120: 0.35978883009930784, 5121: 0.43148350750252606, 5122: 0.3769678640220149, 5123: -0.09416313654319731, 5124: -0.3444502506134906, 5125: -0.23720324225356454, 5126: 0.30292590779594447, 5127: 0.4999174957744491, 5128: 0.08184556675120751, 5129: -0.19971742789296748, 5130: 0.21097221405397504, 5131: 0.2334085622380634, 5132: 0.1322321901879907, 5133: 0.1057084289395861, 5134: -0.045792785450112526, 5135: 0.10557011156917857, 5136: 0.05547622645042773, 5137: 0.3395781087126963, 5138: 0.06879085700588715, 5139: -0.022517464336366547, 5140: -0.2210053884394407, 5141: 0.19237525626022445, 5142: 0.08483025482433776, 5143: 0.014881511471580434, 5144: -0.30274343694785233, 5145: -0.5096128534126211, 5146: 0.0795819172656309, 5147: -0.34033137799412977, 5148: -0.1704042181299293, 5149: -0.243837891004133, 5150: 0.1951655085690723, 5151: -0.28036007899870885, 5152: -0.18903353944205722, 5153: 0.3847939613544811, 5154: 0.07903176699511014, 5155: 0.23808418331049144, 5156: 0.39519367454744114, 5157: 0.16557818882986772, 5158: 0.45424596423947117, 5159: 0.09182990767421773, 5160: 0.5642290446353592, 5161: 0.020469090616912086, 5162: 0.6360689307949412, 5163: 0.28644282001364557, 5164: -0.21301719898182508, 5165: 0.27572063048697526, 5166: -0.35695027023960496, 5167: 0.512296572597168, 5168: 0.26127887917132336, 5169: -0.2920484813762446, 5170: -1.1973249206250818, 5171: -0.22166470003462366, 5172: 0.22143324915719392, 5173: -0.1293702161055603, 5174: 0.2284355787296, 5175: -0.3816171033900818, 5176: -0.11747826729703073, 5177: -0.6433815904481205, 5178: -0.37543504152276946, 5179: -0.7026917790500532, 5180: -0.31095708090286117, 5181: -0.33721724247633494, 5182: -0.16060132932390067, 5183: 0.4433225763677871, 5184: 0.19339493421395115, 5185: 0.04941491292132598, 5186: -0.6512022390745056, 5187: -0.2175873599127295, 5188: 0.048556064107986234, 5189: 0.24958567947459182, 5190: 0.6470738952088849, 5191: -0.02059017049310243, 5192: -1.2796139294477602, 5193: -0.8615738753578623, 5194: 0.5600599124396188, 5195: -0.8566222499367696, 5196: 0.43135746708347517, 5197: 0.07968487110002621, 5198: -0.7138590269498267, 5199: 0.39463975232519144, 5200: 0.5559637329030185, 5201: 0.060901869641861284, 5202: -0.24717144253523327, 5203: 0.032210284394537575, 5204: 0.72890142091767, 5205: -0.258490678051788, 5206: 0.03617135703206225, 5207: 0.2975054924419124, 5208: -0.28338954784095977, 5209: -0.27702483751134366, 5210: 0.5826974428263284, 5211: -0.30213438477605586, 5212: -0.26515237651493845, 5213: 0.3620836414273787, 5214: -0.23094238969224126, 5215: 0.6039182814096702, 5216: -0.23614943306664346, 5217: 0.27626615533517807, 5218: 0.42981842297906325, 5219: -0.7705366930537647, 5220: -0.09260702690110882, 5221: 0.10527906802813207, 5222: -0.35883389720470543, 5223: -0.5124346611999655, 5224: 0.0003922901284310213, 5225: -0.12669077175771035, 5226: -0.16986847137392483, 5227: -0.1713618321374524, 5228: -0.5927651456360117, 5229: -0.3167276170293474, 5230: -0.04469319246110219, 5231: -0.33350278591755667, 5232: 0.7862208660841975, 5233: 0.226005800632652, 5234: -0.2696340809033901, 5235: -0.06578758976446236, 5236: 0.0214306159171301, 5237: -0.041220360340351266, 5238: 0.016039484422650276, 5239: -0.08430442774769681, 5240: -0.11696057158979115, 5241: -0.4736155708317067, 5242: 0.009666031408385012, 5243: 0.4405816605471984, 5244: -0.01703625249271193, 5245: -0.5272067911821772, 5246: 0.20965246483672512, 5247: 0.19827476003447586, 5248: -0.5079923978676814, 5249: -0.1111149464099574, 5250: -0.1781274560589395, 5251: -0.17149461215482067, 5252: -0.11021743847772583, 5253: -0.42286928519706074, 5254: 0.3493536569622346, 5255: 0.5684905547275951, 5256: -0.2967086119437892, 5257: 0.21814463646179363, 5258: -0.23434651910546003, 5259: 0.22680669988312482, 5260: 0.22546085620990436, 5261: 0.367345201035711, 5262: -0.22545960027169354, 5263: 0.3144913731609032, 5264: -0.005883158803031123, 5265: 0.4801833275775598, 5266: -0.22913615545586355, 5267: 0.6838007485803923, 5268: -0.04165251100835198, 5269: -0.1558959037309724, 5270: 0.029410785536952283, 5271: -0.18022792545134772, 5272: -0.15902069761988602, 5273: 0.01805076965393574, 5274: 0.02242994776501634, 5275: 0.04391453056865536, 5276: -0.02627160416091392, 5277: 0.17250152787063125, 5278: -0.036685326580390865, 5279: 0.3017770561325113, 5280: 0.1385983493030194, 5281: 0.11898600153058006, 5282: 0.2724337213003726, 5283: -0.25433309799845477, 5284: -0.17179433711383565, 5285: -0.08859348397317102, 5286: -0.3487714364638584, 5287: -0.26864824486396455, 5288: -0.1148861694859531, 5289: 0.31789700406476945, 5290: 0.1033744861111067, 5291: 0.1529610559253135, 5292: -0.08461107959587681, 5293: -0.46766383642204074, 5294: -0.6020611696327812, 5295: -0.1928321664279187, 5296: -0.6268295553591711, 5297: -0.6557717270956386, 5298: -0.22968738937333535, 5299: 0.5162977289395191, 5300: -0.13072786474258477, 5301: 0.030870812136683096, 5302: 0.04358418756742546, 5303: 0.026847521964567463, 5304: 0.19150001792541063, 5305: 0.043809715737129225, 5306: -0.09567316892058797, 5307: 0.12557360183319763, 5308: -0.08218499966777705, 5309: -0.3824408831250545, 5310: 0.39544430561113025, 5311: 0.5070286475671968, 5312: 0.0357902332499151, 5313: 0.007864067882595305, 5314: 0.33681012618931744, 5315: 0.20677317566365047, 5316: 0.5773252069533892, 5317: 0.24491032300058133, 5318: -0.4126607895844167, 5319: -0.1220652779410409, 5320: 0.209069584246314, 5321: -0.19034011114671365, 5322: 0.5474697701261797, 5323: -0.4474906675640848, 5324: 0.04486594395854375, 5325: 0.2730147674901674, 5326: 0.254320942356739, 5327: 0.0132960643976859, 5328: 0.011551508358254758, 5329: -0.03109792854711735, 5330: 0.10458767369897445, 5331: 0.5198344415632001, 5332: -0.8483760236178196, 5333: -0.3052164808646866, 5334: 0.07228737860150841, 5335: -0.6678234680081089, 5336: -0.15163388736378933, 5337: -0.502782041477363, 5338: -0.21943201799734374, 5339: 0.09592635779994503, 5340: -0.5823427617932442, 5341: -0.0042882554748021095, 5342: 0.38557210200035646, 5343: 0.5278194915897627, 5344: -0.0240662156559499, 5345: 0.14686719352483982, 5346: -0.2888136730854818, 5347: -0.012185895135845788, 5348: 0.14452872691335086, 5349: 0.48771574225856545, 5350: 0.345832683295443, 5351: 0.23136196834774012, 5352: 0.5976230820307077, 5353: -0.07592110302817012, 5354: 0.05805988425952506, 5355: -0.2958492377537035, 5356: -0.11715429370177399, 5357: 0.16689455717756418, 5358: -0.37942111089498115, 5359: 0.07219021836247454, 5360: -0.5180377780032427, 5361: 0.6614908384129591, 5362: -0.4890137341626002, 5363: -0.2749443040247979, 5364: 0.4075401550478588, 5365: 0.18966065562021356, 5366: -0.2419736952482354, 5367: 0.11955572752005504, 5368: -0.32580026825610453, 5369: -0.3484037085970166, 5370: -0.0948002054326108, 5371: -0.6146642411940583, 5372: 0.4292751044767047, 5373: 0.08851646096813547, 5374: -0.12519134859481118, 5375: 0.3670595366481096, 5376: 0.19542265169005993, 5377: -0.33225152032532035, 5378: -0.008581307721027212, 5379: -0.3619914186142771, 5380: -0.21844570107498051, 5381: 0.24630461158955438, 5382: -0.2203667073619089, 5383: -0.16785840152535433, 5384: 0.3616117711738619, 5385: -0.46158793702083345, 5386: 0.17067506700566126, 5387: -0.43603083096696016, 5388: 0.15825897540670603, 5389: 0.6127680162575887, 5390: 0.6608092762362674, 5391: -0.36507515126478896, 5392: 0.5190528634310588, 5393: 0.36680557671171243, 5394: 0.14292864767653524, 5395: 0.5071298629102832, 5396: 0.7655848794773892, 5397: 0.05926265217034111, 5398: -0.21063250723109564, 5399: -0.051318285795350436, 5400: 0.03405505455102714, 5401: -0.1469401720045942, 5402: 0.07419812241934999, 5403: -0.013307153051385634, 5404: 0.26819115290155265, 5405: -0.2549174022555876, 5406: -0.09582174970856099, 5407: -0.5058821245452767, 5408: 0.23249239654046894, 5409: -0.43332681550563584, 5410: -0.46050881070050864, 5411: -0.08868103853617308, 5412: 0.3964087095048962, 5413: -0.09841141482037627, 5414: -0.805841037257253, 5415: 0.05110970698792733, 5416: 0.09166431917192948, 5417: -0.11209671502308959, 5418: 0.368884166360735, 5419: 0.22091605435328351, 5420: -0.18831167255896605, 5421: 0.2859086941814479, 5422: -0.22266837258180255, 5423: -0.3869296727146103, 5424: -1.1069711140927159, 5425: 0.07832828947611481, 5426: -0.0726371401287766, 5427: 0.501247911833454, 5428: -0.4262377067809344, 5429: 0.5142363028789932, 5430: 0.08087349681587465, 5431: -0.006004403417327606, 5432: 0.0009221655678660709, 5433: 0.5692012341017556, 5434: -0.13027361243064778, 5435: 0.15680664994907315, 5436: 0.07668331956747686, 5437: 0.31386404236917875, 5438: 0.37106902024988003, 5439: -0.060653184348944233, 5440: 0.19030457830389338, 5441: -0.8536487417400702, 5442: 0.1605856819162044, 5443: -0.47279930524664243, 5444: 0.22887891296225468, 5445: 0.20408296144127608, 5446: 1.0112696916300465, 5447: -0.3696761469953818, 5448: 0.009716963158838845, 5449: 0.47938516337064263, 5450: 0.4807475388814877, 5451: -0.12893182943210912, 5452: -0.3219560851431065, 5453: -0.15946274655612297, 5454: 0.4203339705035279, 5455: 0.09655522160921957, 5456: 0.019816649973868977, 5457: 0.39854027743229253, 5458: 0.16359740177123508, 5459: -0.43184377530984663, 5460: 0.40590978043770637, 5461: -0.2509996454237384, 5462: -0.18643560945552276, 5463: -0.12404332137387752, 5464: -0.6790115345783886, 5465: 0.26627092318256257, 5466: -0.2712772160557444, 5467: 0.29650173873462593, 5468: -0.01195864453193147, 5469: -0.0878936164077238, 5470: -0.008672980969215727, 5471: -0.754508224889575, 5472: -0.06621709504167778, 5473: -0.5171323102854425, 5474: -0.11911040343956376, 5475: -0.07912530433255718, 5476: -0.06675070129290915, 5477: -0.28588695352584004, 5478: -0.33169718068273696, 5479: 0.05647748166468136, 5480: 0.32443192466949766, 5481: 0.275196613030485, 5482: 0.37893520702304073, 5483: 0.1022829373540383, 5484: -0.07777456380457257, 5485: 0.286816009722031, 5486: 0.017629397698083943, 5487: 0.326397088531556, 5488: 0.31189480056475444, 5489: 0.20908812097378235, 5490: -0.058732592051278905, 5491: 0.2409472806322414, 5492: -0.30344147827715034, 5493: -0.8349128860160198, 5494: -0.205518151177038, 5495: 0.30871579431613483, 5496: -0.03579402245732865, 5497: -0.4170330596712297, 5498: -0.12701891202774362, 5499: -0.11630540354971824, 5500: -0.006797741393913793, 5501: 0.09335166322705991, 5502: -0.14819311539274954, 5503: 0.2526314693535927, 5504: 0.3261736470048355, 5505: -0.21979416373140914, 5506: -0.08564709377054072, 5507: 0.014834892315653058, 5508: -0.2837830863211088, 5509: 0.3787331059540248, 5510: 0.2709789803051336, 5511: -0.9126924807604512, 5512: -0.07151921074571176, 5513: 0.1865168917437567, 5514: 0.05629453924364062, 5515: 0.08697021893383068, 5516: -0.07647589717836115, 5517: -0.6299424294828727, 5518: 0.2906198130755953, 5519: 0.056866533473641956, 5520: -0.38997602050375263, 5521: 0.7192980626203289, 5522: 0.0930107201483478, 5523: -1.345910823368875, 5524: 0.7375876324923903, 5525: -0.039366241626416186, 5526: 0.042912444357650105, 5527: -0.040073985700591556, 5528: -0.0829989743601092, 5529: -1.169977431308669, 5530: -0.14766065868666775, 5531: -0.2622134718725221, 5532: 0.3620145607353833, 5533: -0.20576424196851714, 5534: -0.24947403572270274, 5535: -0.1449718034690992, 5536: -0.16401421951687153, 5537: 0.4279627492761845, 5538: 0.3833320473681038, 5539: -0.15405925907579024, 5540: -0.1786320259951087, 5541: -0.45447461219044405, 5542: -0.13520752893299465, 5543: -0.1471026559264565, 5544: -0.537651515295957, 5545: -0.1088863433279653, 5546: -0.07204236688617337, 5547: -0.5445040805341591, 5548: 0.18622757031342857, 5549: 0.4787726591331477, 5550: 0.026100390916882644, 5551: -0.39241324924735216, 5552: -0.24098703029294802, 5553: -1.3634630323941674, 5554: -0.25506317548066176, 5555: -0.002960345977192454, 5556: -0.5451048960842326, 5557: 0.3837581273942533, 5558: -0.35525505482310266, 5559: -0.12330434531829604, 5560: 0.05605329408396343, 5561: 0.3768172471292058, 5562: 0.016502943009422566, 5563: -0.5311028081339034, 5564: -0.3236232700658673, 5565: 0.2530774489194307, 5566: -0.20412707726606544, 5567: 0.5303248281373458, 5568: 0.5908274455697868, 5569: -0.6406792306653154, 5570: 0.37518066583662163, 5571: 0.07697955441739765, 5572: -0.2430706908312321, 5573: -0.46052777206588186, 5574: -0.4018647767045312, 5575: -0.07564509453091185, 5576: -0.16829933113251686, 5577: 0.2725872861855072, 5578: 0.2363041254643848, 5579: -0.2889471655637536, 5580: 0.5344829834056675, 5581: -0.14085599086625186, 5582: -0.6680295092639873, 5583: 0.5105102675656817, 5584: 0.2606216198037836, 5585: 0.3004470404622146, 5586: 0.17687627896490718, 5587: 0.14380585928494427, 5588: 0.42286632882998204, 5589: -0.4839098737689613, 5590: 0.17723333885376497, 5591: 0.061073892988544376, 5592: -0.12325460930514022, 5593: -0.9035326630329373, 5594: 0.38578993332045286, 5595: 0.2097414454076977, 5596: 0.19257023989047006, 5597: 0.31199201501822454, 5598: -0.0246806810136354, 5599: 0.4683125835287314, 5600: 0.9308741602965181, 5601: -0.05160064511783629, 5602: -0.17680216468571222, 5603: 0.32058131493284026, 5604: -0.9560580076886814, 5605: 0.09178653094620695, 5606: -0.14220806513770656, 5607: 0.6150179410307286, 5608: 0.017181562636301356, 5609: 0.33983479101088276, 5610: 0.1422173605520028, 5611: 0.2824420040423486, 5612: -0.30894925450185295, 5613: -0.1690310531796756, 5614: -0.06375298733201358, 5615: -0.14142706116795756, 5616: -0.05479209456145457, 5617: -0.7104844802096225, 5618: 0.07513822336321259, 5619: -0.1615991796801687, 5620: 0.3241257942504156, 5621: -0.02172336369310142, 5622: 0.5735687239695284, 5623: 0.4797236322687197, 5624: 0.49292651366836493, 5625: -0.22383511865076952, 5626: 0.19302270570536004, 5627: 0.2629145237726542, 5628: -0.32576500649759166, 5629: -0.03780166009971868, 5630: -0.3435772890802351, 5631: 0.13277511375806125, 5632: -0.37910190916131986, 5633: -0.12939606508458462, 5634: 0.1377062361221935, 5635: 0.17096177806958987, 5636: 0.8906076920223543, 5637: -1.2554794404990741, 5638: -0.35985092410305836, 5639: 0.2379719821606557, 5640: 0.02948037598435983, 5641: -0.06272416292375857, 5642: -0.6811554247831872, 5643: 0.09609814898433255, 5644: -0.005839402296986092, 5645: 0.05544190584167148, 5646: -0.5359231550924689, 5647: -0.21910092949136312, 5648: 0.09957948426234503, 5649: 0.11282359459197493, 5650: 0.04164330490608411, 5651: 0.5378606285467116, 5652: -0.4607868772958213, 5653: 0.017122997570518793, 5654: 0.11506551659313655, 5655: -0.30125360972851045, 5656: 0.14667210967452324, 5657: -0.5343709051538017, 5658: 0.09640440264155486, 5659: 0.10625732612213423, 5660: -0.3692863689764362, 5661: 0.17981864285935562, 5662: -0.1770540282883915, 5663: -0.8910602719117057, 5664: 0.5316621221703298, 5665: -0.18534619351636117, 5666: 0.015580900902874667, 5667: -0.19907067311263488, 5668: -2.4206823379239526, 5669: -0.37528287894061646, 5670: 0.20199871058194538, 5671: -0.3511786612604124, 5672: 0.019865035983138005, 5673: -0.11599890160125642, 5674: -0.3885009773832864, 5675: -0.12515262752992895, 5676: -0.0535683794815079, 5677: 0.13000468292373704, 5678: -0.19214624999199065, 5679: -0.19083453119772076, 5680: 0.5062138289350634, 5681: -0.042639670935845836, 5682: -1.1184689071538394, 5683: -0.0554315622136776, 5684: 0.48637941118852496, 5685: -0.05087501262512729, 5686: -0.58980127447934, 5687: -0.10304462891139349, 5688: -0.8029511395066973, 5689: -0.15148234156347531, 5690: -0.19189150248373937, 5691: 0.21876982874271864, 5692: -0.09425026260322006, 5693: -0.05452095626639062, 5694: 0.34585165805162515, 5695: -0.09809426555058012, 5696: -0.21037288188357925, 5697: -0.15036360993434575, 5698: -0.3524267230658865, 5699: -0.1522663668945515, 5700: 0.11593304943466691, 5701: -0.2470937077604694, 5702: 0.10805489413597488, 5703: 0.06697131519877784, 5704: 0.023609539550421672, 5705: 0.3427683718466516, 5706: 0.06626740794872109, 5707: -0.553755471820391, 5708: 0.3670228897681926, 5709: 0.08195022975292046, 5710: -0.5968674234424436, 5711: 0.49826929599140724, 5712: -0.14290214285843392, 5713: -0.16270770639311355, 5714: 0.04938797868315274, 5715: -0.2919706879330073, 5716: -0.5751485985676823, 5717: 0.07526955706353351, 5718: -0.38478589755337095, 5719: -0.849037569646602, 5720: -0.7070141966812667, 5721: -0.28256342288611813, 5722: 0.032174131806078886, 5723: -0.34458555176383376, 5724: 0.05675829512658488, 5725: 0.11236136664292969, 5726: 0.29020287217845164, 5727: -0.15860501518904283, 5728: 0.13628797057788858, 5729: 0.2224982340495535, 5730: 0.21683198144590293, 5731: -0.4218482451849536, 5732: 0.22874900518598335, 5733: 0.11355994250680222, 5734: -0.9491958536553384, 5735: -0.17149283161302126, 5736: -0.011287455182081983, 5737: -0.9065783821335052, 5738: 0.033521919411023345, 5739: -0.2079727297312574, 5740: 0.12254993402919659, 5741: 0.14457166046561457, 5742: 0.019624374506650073, 5743: 0.006726741490665666, 5744: 0.5220311459010575, 5745: 0.32394777109951384, 5746: 0.36450115172420433, 5747: 0.12780810646563412, 5748: 0.38478368353129516, 5749: 0.16472799638906785, 5750: -0.9426303339592272, 5751: 0.2823667885590988, 5752: -1.47142806619872, 5753: 0.1720763959053955, 5754: 0.7786835347199847, 5755: 0.025864548963018184, 5756: -0.09743158588203928, 5757: 0.2197137994442246, 5758: 0.4954911487258776, 5759: 0.14346200003896478, 5760: 0.5380655193144417, 5761: -0.17118886152873591, 5762: 0.4553060602814614, 5763: 0.3388340873390041, 5764: -0.35902386275175374, 5765: 0.06270659406631604, 5766: 0.08670416880239046, 5767: 0.4240719428070786, 5768: -0.3504981430059655, 5769: 0.3697196395448277, 5770: 0.27578185380274706, 5771: 0.6099678551981946, 5772: 0.36406982789768927, 5773: -0.15965364087956235, 5774: -0.41866781622799204, 5775: 0.470983820673586, 5776: 0.11938988675501655, 5777: 0.03034955163794295, 5778: 0.07279088464823792, 5779: 0.28969066325259313, 5780: -0.313576827492764, 5781: 0.6182080945795626, 5782: -0.46590558208287275, 5783: -0.7082072346452154, 5784: -0.04822174294623624, 5785: 0.2234443154681002, 5786: 0.13301445641377696, 5787: 0.11696422495000434, 5788: 0.11893738599284667, 5789: -0.2802916559465433, 5790: -0.5201565575978456, 5791: 0.08684213714198552, 5792: -0.44255083027604963, 5793: 0.4435029076489791, 5794: 0.24968022713803723, 5795: -0.4685287577847924, 5796: 0.005806067402599819, 5797: 0.4988306081064919, 5798: 0.20548594056112499, 5799: 0.28165978160271626, 5800: 0.9300039995619659, 5801: 0.2523292044988725, 5802: -0.14845929061298407, 5803: 0.05239582733358994, 5804: 0.17034747992295632, 5805: -0.03990756983208853, 5806: 0.4932372797475896, 5807: -0.13007782811890156, 5808: 0.3651542381860908, 5809: -0.2796131009248318, 5810: -0.05694965546602288, 5811: -0.031686589547773335, 5812: 1.0283154603101348, 5813: -0.5241924650851475, 5814: -0.6465438026450137, 5815: -0.8010867787370863, 5816: 0.08512103535246147, 5817: -0.7989338384340676, 5818: -0.36106352016200843, 5819: 0.41741029022754655, 5820: 0.10527662050842827, 5821: -0.012543590386398388, 5822: -0.4548931801501237, 5823: 0.01948867379948367, 5824: 0.36264084959326615, 5825: 0.4205358633821138, 5826: 0.38006529925734334, 5827: 0.8948669013695113, 5828: 0.44518323926841236, 5829: 0.1252441746070086, 5830: -0.25883125099630205, 5831: -0.47465360934453343, 5832: 0.17783429537601647, 5833: -0.11170806673904608, 5834: -0.04573831253027967, 5835: -0.697214537454857, 5836: -0.19856019102223965, 5837: -0.9244155757430206, 5838: 0.257527083294572, 5839: 0.3225116716860391, 5840: -0.016508780993006504, 5841: 0.4771716330416833, 5842: -0.18966775251618423, 5843: -1.0465841712997368, 5844: -0.0990551333605821, 5845: 0.39589370368747206, 5846: -0.5931952069363681, 5847: 0.20899005289917977, 5848: 0.4967526657523307, 5849: -0.32032820250095295, 5850: 0.4446934307467259, 5851: -0.07768644023223181, 5852: -0.22193147926906687, 5853: -0.32449765951579435, 5854: 0.07750921441222386, 5855: 0.7051111051621404, 5856: 0.18937546266144467, 5857: 0.377046245712817, 5858: 0.20565694981863228, 5859: -0.22177879903691297, 5860: -0.23632151577521815, 5861: -0.10119477442887446, 5862: 0.2942257262119138, 5863: 0.34121506780889416, 5864: -0.18190016183279115, 5865: 0.23047514536447442, 5866: 0.6811669657129166, 5867: 0.21578975330181685, 5868: -0.6635642073591447, 5869: -0.4619378980847424, 5870: -0.31352125089701444, 5871: -0.04523914606634337, 5872: 0.3373058811108056, 5873: 0.15716872875177473, 5874: 0.34063562400474506, 5875: -0.3597761854560255, 5876: -0.24464610546319923, 5877: 0.08279372296426002, 5878: 0.42232389880497306, 5879: 0.8566506057824899, 5880: -0.565037647328234, 5881: -0.4680005523558928, 5882: 0.04575575658726025, 5883: -0.0475275985495387, 5884: -0.15029781948740445, 5885: 0.4196553745192938, 5886: 0.11342643099661787, 5887: 0.18013361548961082, 5888: -0.3922681509618941, 5889: -0.07386930987453963, 5890: -0.09269225203437975, 5891: -0.04846102755445052, 5892: 0.1328214496775987, 5893: 0.514522994040945, 5894: 0.27081482833009085, 5895: -0.017097477842091664, 5896: 0.03223582013450399, 5897: -0.23157517855500132, 5898: 0.3882954382229244, 5899: -0.5918048404980832, 5900: 0.4234693619626434, 5901: 0.3917911025943667, 5902: 0.3201436222678051, 5903: 0.3221965765621814, 5904: -0.10071674018198115, 5905: -0.013003362214839581, 5906: 0.7706464394939049, 5907: -0.3277115023379581, 5908: 0.3312942741624931, 5909: -0.06860684135168685, 5910: -0.19295736571768426, 5911: -0.4377937295116243, 5912: 0.06685655410201145, 5913: 0.1467697629860468, 5914: -0.4962246246296858, 5915: 0.36456325326120737, 5916: 0.06814113431584126, 5917: 0.0861945193341169, 5918: -0.3215463496763489, 5919: 0.25428156968166077, 5920: 0.6433091879068523, 5921: 0.04997330102256993, 5922: 0.08387424630214292, 5923: -0.03126603568256007, 5924: -0.20582666268645672, 5925: 0.4383885252499717, 5926: 0.3013222997461663, 5927: 0.030539202797434228, 5928: -0.10454889043389386, 5929: -0.08856943359446423, 5930: -0.5319263831886029, 5931: 0.30762337326572636, 5932: 0.35998020315856516, 5933: 0.28534792588295677, 5934: 0.13527943692852154, 5935: 0.14626872593125873, 5936: -0.1848897749002502, 5937: -0.49457376414172305, 5938: -0.8753854441824543, 5939: 0.4568260039882376, 5940: -0.32300446299283936, 5941: -0.11148118372174763, 5942: -0.1164096869948766, 5943: 0.13749058350438112, 5944: -0.25359867398078434, 5945: 0.30511924870763, 5946: 0.14183380223099676, 5947: -0.170001123826987, 5948: -0.18237348297218892, 5949: 0.48381779065345765, 5950: 0.04097192546158097, 5951: -0.3683563476957383, 5952: -0.4559932784961055, 5953: 0.5179756505146135, 5954: -1.1279678902165768, 5955: -0.3086159764993051, 5956: -0.1063781996703106, 5957: 0.17029702541186317, 5958: -0.14976412557638785, 5959: 0.2527867538837501, 5960: -0.15905916925112645, 5961: 0.014986273502372813, 5962: 0.06740711724744732, 5963: 0.023690001405491188, 5964: -0.10651714720404121, 5965: 0.1758111471920179, 5966: 0.08485136595600871, 5967: 0.1191194063860134, 5968: -0.4143962241855159, 5969: 0.06524170872563541, 5970: 0.7303756310583536, 5971: 0.3344680586909317, 5972: -0.06710962493641331, 5973: 0.21560569230931287, 5974: -0.6704155103042476, 5975: 0.18592431633368736, 5976: 0.15825065081981302, 5977: -0.31436863384982233, 5978: -0.2769145984823051, 5979: -0.5914533908386261, 5980: -0.5913719947900279, 5981: -0.6219218023310016, 5982: 0.048134787770364396, 5983: 0.1464884255998008, 5984: 0.23872690448788247, 5985: -0.6509859545217965, 5986: -0.5889844192023491, 5987: 0.27255879953194295, 5988: -0.511592235866083, 5989: 0.21839353480043133, 5990: 0.1671341077862284, 5991: 0.38961851859249497, 5992: 0.5601461180859286, 5993: 0.30591811456357, 5994: -0.6836020063245235, 5995: 0.04818417631356579, 5996: -0.5136400300526522, 5997: -0.5264556819420472, 5998: 0.6593344514805387, 5999: 0.12269800073976161, 6000: -0.47355735778783475, 6001: -0.6448530135179863, 6002: -0.0746749331853914, 6003: -0.5343167342473689, 6004: 0.04462982062465721, 6005: -0.14977140374434095, 6006: 0.2460889043871913, 6007: -0.011374188460047696, 6008: -0.4050780664749154, 6009: -0.5378232036214392, 6010: -0.10821494721991116, 6011: 0.3030254751229649, 6012: -0.11865281722288358, 6013: 0.14482608245641077, 6014: 0.02382846795012354, 6015: -0.5095065886088112, 6016: 0.1504811615689868, 6017: -0.05614335832891017, 6018: -1.023191165449574, 6019: 0.01197117474908934, 6020: -0.2500631699462935, 6021: 0.5054701507056495, 6022: -0.2111125395671757, 6023: 0.029641705641425542, 6024: -0.43901259374778834, 6025: 0.2682423355454503, 6026: -0.12244268915583524, 6027: -0.12260869558866738, 6028: -0.42130833366860315, 6029: -0.33771925190122176, 6030: 0.09286090389082238, 6031: -0.21209019278565372, 6032: -0.19137355335157977, 6033: -0.21065568638702944, 6034: -0.04822582985736757, 6035: -0.3777626944444981, 6036: -0.23269004367768856, 6037: -0.029159416785394354, 6038: 0.324515849900745, 6039: -0.20457984093668774, 6040: -0.17564023846120122, 6041: -0.48009639332227894, 6042: 0.6319414244527949, 6043: -0.246653713675521, 6044: -0.02340895483646616, 6045: 0.04079449411906138, 6046: -0.23594513266952213, 6047: -0.45459924948267316, 6048: 0.15116094438061126, 6049: 0.4748800988152676, 6050: -0.1570878143067187, 6051: 0.14626565239007505, 6052: 0.09377870791593332, 6053: 0.38823532531563504, 6054: -0.5277387174905066, 6055: 0.398496315337857, 6056: 0.531596438913296, 6057: 0.22617017478880638, 6058: 0.32921305206614876, 6059: -0.8654405273299273, 6060: 0.2713481372152468, 6061: 0.31960057463056124, 6062: -0.30112343200904684, 6063: 0.0734669000128468, 6064: -1.0152271896892566, 6065: 0.3214137921453972, 6066: -0.22609227333029844, 6067: -0.3375078853104416, 6068: 0.12548524309965314, 6069: -0.5555555942129025, 6070: 0.27247397394699724, 6071: 0.1648953667848915, 6072: 0.16675934659206665, 6073: 0.2204604147981708, 6074: 0.4495908107148625, 6075: -0.19777227318010915, 6076: -0.04354996429593874, 6077: -0.11805659129946942, 6078: 0.49632629248237436, 6079: -0.7101623095025003, 6080: -0.479087478476821, 6081: 0.7299393473865107, 6082: 0.315442902724437, 6083: 0.6291299646275055, 6084: 0.547628572992244, 6085: 0.05535694969954898, 6086: -0.29312511892182536, 6087: -0.04745979551139729, 6088: -0.5125052198983197, 6089: -0.05933713017985692, 6090: -0.11302727422388013, 6091: 0.2618922641694309, 6092: -0.07785369973809883, 6093: -0.27826267468487, 6094: 0.7356780351534743, 6095: -0.2866952430622482, 6096: 0.0512357459048432, 6097: -0.15811623063793104, 6098: -0.7031495260367793, 6099: -0.5327339136020457, 6100: -0.3660921028750044, 6101: 0.09315221343109495, 6102: -0.07364909377253798, 6103: 0.2333734496400706, 6104: 0.1362853189196132, 6105: -0.2593890868194729, 6106: -0.988012771398882, 6107: 0.5864037166870624, 6108: 0.7257420097407462, 6109: -0.01694097788935581, 6110: 0.33264597768783766, 6111: -0.1917490201662115, 6112: 0.6440514993957439, 6113: -0.7569673916182507, 6114: -0.8604905596459173, 6115: -0.2539300753255237, 6116: -0.27638275084796887, 6117: 0.3333742505599796, 6118: 0.33582541500164653, 6119: 0.06667546722289462, 6120: 0.2655415758021049, 6121: 0.21255206494615989, 6122: -0.19985264466472763, 6123: 0.21768553068124977, 6124: 0.1481288135266689, 6125: 0.38854402548272, 6126: -0.010672064563612844, 6127: 0.7845976132584478, 6128: -0.589827400211978, 6129: 0.8061458654334488, 6130: 0.000750301265616061, 6131: 0.43708262242880974, 6132: -0.37863059747568334, 6133: -0.23786078289895637, 6134: -0.1357031059598449, 6135: 0.2360802874499656, 6136: -0.26306643283491904, 6137: -1.0626908994189372, 6138: 0.04697261417015283, 6139: -0.49062294830566633, 6140: -0.015554243978975757, 6141: -0.2503768385931268, 6142: -0.9658731214484131, 6143: -0.11260890410770592, 6144: -0.38436861462440725, 6145: 0.5320218168467991, 6146: 0.17411441417880213, 6147: -0.32750818736493653, 6148: -0.24982937257726642, 6149: -0.6509304605918991, 6150: 0.10699920263194918, 6151: 0.1814303950073655, 6152: 0.20817896135783823, 6153: 0.465759239397535, 6154: -0.07053627774679022, 6155: 0.6272657734436832, 6156: -0.5837481846404475, 6157: -0.02551482629819193, 6158: -0.1810281212469027, 6159: 0.21251883440119046, 6160: -0.9839635647443152, 6161: 0.43145686579706244, 6162: -0.5171547216339957, 6163: -0.2315273026678795, 6164: 0.004129279899637961, 6165: 0.3900665269385095, 6166: -0.6616935941738816, 6167: 0.13989959770186788, 6168: -0.049362520281219534, 6169: 0.28693559784819556, 6170: -0.6547378818463804, 6171: -0.16264187965093665, 6172: -0.4211562564029032, 6173: 0.34079509897789306, 6174: -0.1404906847892829, 6175: 0.39731713053007695, 6176: -0.4658958725169116, 6177: 0.17928434669846458, 6178: 0.08382412992534019, 6179: -0.5795620821579202, 6180: 0.3810867608781306, 6181: 0.2460744504303259, 6182: -0.5492809478995087, 6183: -0.19437152158610269, 6184: 0.5358609450524896, 6185: 0.4477186783499117, 6186: 0.06440748296176693, 6187: -0.381988154753325, 6188: -0.6439787309404053, 6189: -0.01713163487241369, 6190: -0.9378888171127167, 6191: 0.6408901952867029, 6192: 0.7196156951273612, 6193: 0.012442192744197658, 6194: 0.3775000015778544, 6195: 0.0674407086578434, 6196: 0.2643119220422787, 6197: -0.3228392431614023, 6198: 0.3490642917402542, 6199: 0.2306981998901603, 6200: -0.4491938556925627, 6201: 0.2752214123634645, 6202: 0.3018012136313708, 6203: 0.30701720310278435, 6204: -0.5119952756513121, 6205: -0.31165186783156823, 6206: -0.007363316897617066, 6207: 0.21328308407260002, 6208: 0.4380237334969801, 6209: 0.02411279479626158, 6210: 0.39770604204628573, 6211: 0.08306871268140249, 6212: -0.34406349480112286, 6213: 0.04645949701652995, 6214: -0.40702758002971146, 6215: -0.18489668534237055, 6216: -1.004442714222682, 6217: 0.15079839011439272, 6218: -0.1292733800957846, 6219: 0.4416482350957339, 6220: 0.08538176874037423, 6221: 0.47468275444880953, 6222: -0.49385210749871217, 6223: -0.5633757949197821, 6224: -0.3081713237542288, 6225: 0.05035282473708842, 6226: -0.603629306582663, 6227: -0.23212012598925427, 6228: 0.37253251867568143, 6229: 0.06173520384836093, 6230: -0.636957514796012, 6231: -0.9654043015162312, 6232: 0.04276498493962403, 6233: -0.013362446130179643, 6234: 0.013900665999916413, 6235: 0.3430312283019511, 6236: -0.1515826346213176, 6237: 0.4104430365018193, 6238: 0.09693974710912613, 6239: 0.12570716655421055, 6240: 0.5089335356575587, 6241: -0.6119405895903143, 6242: -0.13831174517672826, 6243: 0.20287317602765834, 6244: 0.49287895664162473, 6245: 0.29523035951069765, 6246: 0.1723026018877894, 6247: 0.03826292191616176, 6248: -0.49217398808313934, 6249: -0.5357613265520992, 6250: -0.2901009577040877, 6251: -0.24489981046416068, 6252: 0.6738995203878507, 6253: 0.30565369783333035, 6254: -0.5633510757569984, 6255: 0.7848421370207691, 6256: -0.1657647347648574, 6257: -0.8821101332704107, 6258: 0.7178379842505227, 6259: -0.02634586417826777, 6260: 0.40062759535595255, 6261: 0.13184862149190515, 6262: -0.28559689031804586, 6263: -0.29020792243814647, 6264: -0.021323901935985677, 6265: 0.11838130781013327, 6266: 0.2883066305692947, 6267: -0.3916902428200325, 6268: -0.07319030729765832, 6269: -0.4376133513293992, 6270: -0.5100191684534943, 6271: 0.8728302834865337, 6272: 0.13818368490227223, 6273: -0.11152047167193745, 6274: -0.6640615217959882, 6275: -0.34753793983275, 6276: 0.3505628755040406, 6277: -0.1493085635094233, 6278: -0.07824241717565422, 6279: 0.3595378443833846, 6280: 0.4509973728081891, 6281: -0.14782479727056647, 6282: -0.15586686395350932, 6283: 0.287303159500065, 6284: 0.25612427345614447, 6285: 0.27796722860782586, 6286: -0.030785673798902957, 6287: -0.8891820835744237, 6288: 0.030680322005747825, 6289: 0.16140563260699176, 6290: 0.3708616482794639, 6291: 0.5024846230720981, 6292: -0.03136825195851323, 6293: -0.15796930224858569, 6294: -0.4115519691427112, 6295: 0.08786832351977504, 6296: 0.4036984977227692, 6297: 0.031660804507163735, 6298: -0.53157822412562, 6299: -0.025474647082521527, 6300: 0.09176298605642219, 6301: -0.06237642216552549, 6302: 0.14242141713080148, 6303: -0.5224134143210115, 6304: 0.18037147902494216, 6305: -0.2615521819303834, 6306: -0.23373251522010624, 6307: -0.0137700562535892, 6308: -0.1871745939259471, 6309: 0.30576789068659815, 6310: -0.05712290533515166, 6311: -0.07973669091441955, 6312: -0.5524956580704229, 6313: 0.1717686860194872, 6314: -0.8132860535538075, 6315: 0.4163685504903807, 6316: 0.8604126046289602, 6317: -0.3461564209369134, 6318: 0.23458635975451556, 6319: 0.19874807802660618, 6320: 0.11043818394638155, 6321: -0.3477078630452705, 6322: -0.7697930786627595, 6323: -0.0060167282560430165, 6324: -0.26600874444953415, 6325: 0.04249027618383711, 6326: 0.15758184518391108, 6327: 0.5525829176074449, 6328: 0.07837017640402671, 6329: 0.09276243258749786, 6330: 0.22160741935187822, 6331: 0.38657188502738776, 6332: -0.07777663097296775, 6333: -0.05568772907730765, 6334: -0.13659363914112896, 6335: -0.3926312211179838, 6336: 0.12687013218986634, 6337: 0.2143834483611701, 6338: 0.4097582039390961, 6339: -0.037564986796626995, 6340: 0.4452426846144742, 6341: -0.4643429141569234, 6342: 0.304112079907274, 6343: 0.28966262442028395, 6344: 0.16394846585772646, 6345: 0.5839054698207639, 6346: -0.26689191605062523, 6347: -0.019546240586962943, 6348: 0.6968728645058031, 6349: 0.9117212021854014, 6350: -0.37600513368934096, 6351: -0.23918964071750512, 6352: 0.44507920932099954, 6353: -0.6470297517321723, 6354: 0.510187005658095, 6355: -0.11823680691342953, 6356: 0.15604636735713578, 6357: 0.04849038017527834, 6358: 0.017408754371034712, 6359: 0.20826999490002954, 6360: 0.6191618665699349, 6361: 0.11476146958620911, 6362: 0.18476919042394857, 6363: 0.40061569272751346, 6364: 0.15142946916482633, 6365: -0.08091298222205312, 6366: -0.13666551780738626, 6367: 0.16216196942002878, 6368: 0.03925609485223536, 6369: 0.054460357928668775, 6370: 0.33134699837717985, 6371: -0.662963391338152, 6372: 0.4333520505267928, 6373: -0.2673567010283407, 6374: 0.7858829838747572, 6375: 0.22382090353095752, 6376: -0.42569844607031954, 6377: 0.07632435463997439, 6378: 0.05263399394272052, 6379: 0.7087246398964828, 6380: 0.358999881759076, 6381: 0.19369025108558438, 6382: 0.589447903055271, 6383: -0.25049164047639694, 6384: -0.026946581012207996, 6385: 0.5093323260507953, 6386: -0.7356806771911664, 6387: 0.493399894944152, 6388: 0.7499830548436666, 6389: 0.5819428718351242, 6390: -0.3468504776237321, 6391: -0.26232365416503767, 6392: -0.674395149210519, 6393: 0.7685255396815637, 6394: 0.07938967498113636, 6395: 0.46323536362147666, 6396: 0.033395698641270295, 6397: -0.06068733842848126, 6398: -0.043008457940393416, 6399: -0.25148957646487896, 6400: -0.23530916838543223, 6401: 0.25685221766598587, 6402: -0.13128261840423902, 6403: -0.12674945616993297, 6404: -0.1263342777028225, 6405: 0.17324826055335876, 6406: 0.6601017819656282, 6407: -0.22808278465164797, 6408: 0.03453740886409989, 6409: 0.1773351879440131, 6410: 0.14009340931766595, 6411: -0.1373754931405664, 6412: 0.43050958395021116, 6413: -0.09707554038087902, 6414: -0.5140818431359756, 6415: -0.28970919368211334, 6416: -0.3288928003929759, 6417: -0.28267623577313494, 6418: 0.4093664453922577, 6419: -0.49561217116006623, 6420: -0.6215859790968273, 6421: 0.3856966113197926, 6422: 0.41088143256737136, 6423: 0.2154183386847443, 6424: 0.1359612871382455, 6425: 0.6421372175513547, 6426: 0.05412935536308702, 6427: -0.07907112970611317, 6428: 0.45884270824767476, 6429: -0.4400815594368995, 6430: 0.3153469295586089, 6431: 0.7931055175772741, 6432: -0.16458875638774978, 6433: -0.1980097674202211, 6434: 0.17881871106635439, 6435: 0.09318768919613166, 6436: 0.1327230592312017, 6437: 0.14518276300633987, 6438: -0.7377187269948874, 6439: -0.6666650183872386, 6440: -0.0861637498077258, 6441: 0.5935364225819004, 6442: 0.3829305193788674, 6443: 0.0026610718641051053, 6444: -0.5705249795174672, 6445: 0.023481343164251628, 6446: 0.3182876929495098, 6447: 0.3236220285972842, 6448: -0.2269828816678298, 6449: -0.05086885223428476, 6450: -0.08101488319906576, 6451: -0.21724993969803547, 6452: 0.4379141411901183, 6453: 0.012825859953083925, 6454: 0.06051061292922046, 6455: 0.08411084742539253, 6456: -0.18471859539747665, 6457: -0.3743211720550826, 6458: -0.010675944842561598, 6459: -0.22164603749200198, 6460: -0.0618156265553975, 6461: -0.04114110681427567, 6462: 0.20052383072519295, 6463: 0.269176799065837, 6464: -0.06227739231683155, 6465: -0.03643797106458402, 6466: -0.15545467860929973, 6467: 0.12474166446482725, 6468: -0.8475232413425658, 6469: 0.7161805598634721, 6470: 0.3652281535259522, 6471: -0.11278914834644616, 6472: -0.07437652638299082, 6473: 0.324665991670043, 6474: -0.11580286234207238, 6475: 0.44762657781808535, 6476: -0.08093484103583308, 6477: -0.09342109432296537, 6478: -0.44177357791086197, 6479: -0.41696896096952313, 6480: 0.23506751415420224, 6481: 0.18491834807734822, 6482: 0.346122610158864, 6483: 0.338768046937045, 6484: 0.06271255049597603, 6485: 0.48886237849502584, 6486: -0.17257109272795693, 6487: 0.4819177753075654, 6488: 0.5152677813658307, 6489: -0.0671632408983954, 6490: 0.20075847584345405, 6491: -0.1765562008696981, 6492: 0.1436124020509008, 6493: 0.41269941732184034, 6494: -0.23970528739237457, 6495: 0.42770173478387985, 6496: 0.06911147094839022, 6497: 0.20045241073591072, 6498: 0.6035215914949501, 6499: 0.21690626822817335, 6500: 0.2205543070662283, 6501: -0.04781620173637398, 6502: 0.02142510106599425, 6503: -0.43562541969329316, 6504: -0.12163526091979207, 6505: 0.2854282187508535, 6506: 0.47846586343814224, 6507: -0.02288012160606124, 6508: -0.6190567007535261, 6509: -0.3171712918154586, 6510: 1.0475229138513678, 6511: 0.26333845364975417, 6512: -0.31274141128658733, 6513: 0.05059228779261706, 6514: 0.2152914895622198, 6515: -0.10335055680161985, 6516: -0.09412585798313279, 6517: -1.4197918185968268, 6518: 0.04695408573227898, 6519: 0.15733145297160783, 6520: 0.28807798510261323, 6521: -0.4451455835106694, 6522: 0.010151227438848144, 6523: -0.03983147651684191, 6524: 0.23319540629200441, 6525: 0.20912792743293857, 6526: 0.07233745421706156, 6527: 0.6396375537542365, 6528: 0.01118824397231802, 6529: 0.5000420201486224, 6530: -0.2014566120489941, 6531: -0.14530198650068682, 6532: 0.10590819268070753, 6533: 0.48661246998596164, 6534: -0.05951525455518144, 6535: 0.09115154001919391, 6536: -0.09009395358812854, 6537: 0.1854710249267915, 6538: 0.30663539407238727, 6539: 0.49528732789369756, 6540: 0.0534982971592918, 6541: 0.7852670224320051, 6542: 0.12355543359957999, 6543: -0.14671151093204696, 6544: -0.6201805696613834, 6545: -0.0839573258908536, 6546: 0.4275269889558742, 6547: -0.05640875302861703, 6548: 0.16995075187353997, 6549: -0.05668342828110096, 6550: 0.18110969896787735, 6551: -0.010633666141543183, 6552: 0.2736680472665492, 6553: -0.21944122420046394, 6554: -0.13747728843534127, 6555: 0.4713719008830923, 6556: 0.9252081190967357, 6557: 0.16480915544250244, 6558: -0.12934022462178307, 6559: -0.5059804004254966, 6560: 0.422245479575664, 6561: -0.40919731067284204, 6562: 0.15482928782844274, 6563: 0.14013282731756516, 6564: -0.17130148778652957, 6565: -0.42639681604452306, 6566: 0.06629139007662674, 6567: -0.12083078992263, 6568: 0.6702342097278834, 6569: -0.6011373401965179, 6570: 0.40549316805625973, 6571: -0.3957692899987379, 6572: 0.22279915042684806, 6573: 0.4652651395375617, 6574: -0.03910898544491622, 6575: -0.30311915189155203, 6576: 0.9158969087054366, 6577: -0.25563887697273885, 6578: -0.9811543955178391, 6579: -0.3584983422422632, 6580: -0.8927404716468924, 6581: 0.11536578682090431, 6582: -0.395489558050302, 6583: 0.16402023031985774, 6584: 0.44656852717963164, 6585: -0.3378626077698368, 6586: 0.06620680000861348, 6587: 0.08855290498541038, 6588: 0.2900412671202912, 6589: -0.8304523494353455, 6590: 0.049891090206876945, 6591: 0.6267622657190831, 6592: 0.09387694247011998, 6593: -0.0298716033699333, 6594: 0.3342735828346724, 6595: 0.24704972668237787, 6596: 0.08416720499864243, 6597: -0.4301647514186237, 6598: 0.2828015473836071, 6599: 0.15481660262765232, 6600: 0.09411911241218635, 6601: -0.3916032137264984, 6602: 0.41611585723358924, 6603: 0.2442541884851305, 6604: -0.28212693290899027, 6605: 0.07811023272145777, 6606: -0.28346091471749735, 6607: 0.1245208376870896, 6608: 0.12485832696818969, 6609: 0.275023176099791, 6610: 0.5223644060029702, 6611: -0.23671911423247616, 6612: -0.21605010809205, 6613: -0.05986075047487601, 6614: 0.4015763944362283, 6615: -1.1940062275544996, 6616: 0.11331350952387935, 6617: 0.2843242691499349, 6618: 0.39175356998156, 6619: -0.3743787613056331, 6620: 0.25443200285663115, 6621: -0.5590631673285316, 6622: 0.07183020065531044, 6623: -0.20569301502671206, 6624: 0.09233581468437842, 6625: -0.42755201959378886, 6626: 0.12050721570210272, 6627: -0.4331533572398833, 6628: 0.03340927816947309, 6629: -0.3424595044251979, 6630: 0.47812955039128296, 6631: 0.021149465591376374, 6632: -0.4249310186186162, 6633: -0.20988778705614058, 6634: -0.6052887136345103, 6635: -0.24379362939277294, 6636: 0.35697356995228763, 6637: 0.5103448619841519, 6638: 0.09087793486761778, 6639: 0.06740986891869993, 6640: 0.6711236590976192, 6641: -0.2905058849730279, 6642: -0.23343508749245048, 6643: -0.06913510011303892, 6644: 0.19986945789407995, 6645: -0.05068577186144989, 6646: -0.5454385993565523, 6647: 1.295756778142405, 6648: 0.3295629087072799, 6649: -0.458690001374137, 6650: -0.014180573490762745, 6651: -0.588592489303508, 6652: 0.23302267177148944, 6653: 0.4884145422412196, 6654: -0.1289627116159223, 6655: 0.45073450922713487, 6656: -0.28820675332577556, 6657: 0.6454462838634657, 6658: 0.5206701989043524, 6659: 0.5405845312945119, 6660: 0.29552623785148824, 6661: -0.42439573918291695, 6662: -0.40845858884076996, 6663: 0.20173943390672402, 6664: -0.38632815537543747, 6665: 0.509292691928795, 6666: -0.15678012001245617, 6667: 0.0409890109347145, 6668: 0.5234342803595023, 6669: -0.40790111124521994, 6670: 0.04768263105804001, 6671: 0.22963019252168484, 6672: 0.34184265898077254, 6673: -0.3520164499981699, 6674: 0.015043998816464047, 6675: 0.1268235075082779, 6676: -1.6707044859898585, 6677: -0.08522336440202634, 6678: -0.2819589182417343, 6679: 0.20982362776142072, 6680: -0.08969825272753384, 6681: 0.18621559858726225, 6682: -0.0071825077544144305, 6683: 0.38981783143502313, 6684: -1.008545041886095, 6685: 0.21839153517126797, 6686: -0.2304044381249849, 6687: 0.6481076779068837, 6688: -0.009937380757104273, 6689: -0.20504742377086888, 6690: -0.22819364107020146, 6691: -0.3693693315185368, 6692: -0.03215407734302112, 6693: 0.16779786320365322, 6694: -0.09257379604179779, 6695: -0.08452776694321629, 6696: 0.028173351394842297, 6697: 0.10491230490283981, 6698: 0.032056339274613224, 6699: 0.13520223461064942, 6700: -0.8955690480577915, 6701: 0.314878360936394, 6702: 0.1598355927118231, 6703: 0.04157516509428343, 6704: -0.3361051397196992, 6705: 0.24494499384197693, 6706: -0.06157821914657682, 6707: -1.1706001703842865, 6708: -0.29449717542047177, 6709: -0.11058830552762881, 6710: 0.025355899242950165, 6711: -0.6287276645955054, 6712: 0.15877993596579296, 6713: -0.7111793102051235, 6714: 0.31305367616233876, 6715: 0.24796231849457512, 6716: -0.08426925242961973, 6717: 0.630054989408184, 6718: 0.044901359788201985, 6719: 0.18992221346522398, 6720: -0.02922254604618683, 6721: 0.31431370955590865, 6722: -0.1983459761791141, 6723: 0.38771677430547075, 6724: 0.29249927007826915, 6725: -0.735607126803652, 6726: 0.36082863144320004, 6727: 0.1741002505078301, 6728: -0.0884185381111179, 6729: 0.5540711905381422, 6730: -0.6634120438019758, 6731: 0.0007831543444212219, 6732: -0.6658766651394213, 6733: 0.07726300168150303, 6734: -0.3665643446276872, 6735: -0.14341485931405487, 6736: -0.6420596062800714, 6737: -0.16547436631321008, 6738: -0.16034671901957548, 6739: 0.33263185939634615, 6740: 0.12045544829558018, 6741: -0.29696587749649117, 6742: -0.31088950188710107, 6743: 0.18585437665731439, 6744: 0.2347101296148546, 6745: -0.0027147421742867483, 6746: 0.43174684114273926, 6747: -0.3731100704459019, 6748: -0.32060123485669406, 6749: 0.23021446265408635, 6750: -0.5443005058038787, 6751: 0.17179556418587558, 6752: -0.2136041567898523, 6753: 0.27436809155466996, 6754: 0.4063144192508184, 6755: 0.2279308115269964, 6756: 0.09808852176578729, 6757: -0.3827296316206148, 6758: 0.09724187291362273, 6759: 0.17428715654332638, 6760: 0.07913568958218338, 6761: 0.10710598419560605, 6762: -0.19834422990514117, 6763: 0.2596821816907837, 6764: 0.20819428565811432, 6765: 0.06859558369049948, 6766: 0.06214006826175738, 6767: -0.5420130150257365, 6768: 0.5663331496091403, 6769: 0.2294990882781196, 6770: 0.34686407939360747, 6771: -0.12335539442725078, 6772: -0.12623168942796473, 6773: 0.4341402005711925, 6774: 0.29830469741752513, 6775: 0.10229943990764237, 6776: 0.0781687562799849, 6777: -0.3330653185680465, 6778: 0.7410815011391695, 6779: -0.41023969589719816, 6780: 0.5554636353780095, 6781: 0.18457358756926526, 6782: 0.3761477446046051, 6783: -0.1271137966292218, 6784: 0.20211751335547284, 6785: 0.03904155647590237, 6786: 0.32507427829671437, 6787: 0.4641919321322148, 6788: 0.05145129102198449, 6789: 0.34851233778270657, 6790: 0.21435522288792336, 6791: 0.5729985990096725, 6792: -0.13945659132121424, 6793: -0.08712782268473125, 6794: -0.4899199573292304, 6795: 0.5322299810543183, 6796: 0.11144426331722178, 6797: 0.3435939503118545, 6798: -0.04417751973577359, 6799: -0.06558526950093337, 6800: 0.34232671872238557, 6801: -0.15038045278195034, 6802: 0.8328252366600642, 6803: -0.13528235415690343, 6804: -0.29967611906378283, 6805: 0.07520730245482779, 6806: -0.31102413436284687, 6807: 0.1550058163943886, 6808: 0.38450230367973603, 6809: 6.240610720303403e-05, 6810: -0.04190533288522833, 6811: -0.1286922507643292, 6812: 0.14377148036140838, 6813: -0.8926992381451723, 6814: 0.06688126056157968, 6815: 0.421732597010604, 6816: -0.23025468065343857, 6817: -0.04927411747816508, 6818: -0.007454573701883697, 6819: 0.055117330699092304, 6820: -0.3221006471087992, 6821: 0.08723829679646454, 6822: -0.27929336179917047, 6823: 0.13040018114892854, 6824: 0.1902392981309535, 6825: -0.17356383401977551, 6826: 0.24384084801444728, 6827: 0.0793106758834514, 6828: 0.5750243226839505, 6829: -0.28696245994491065, 6830: -0.519778917392478, 6831: -0.07767858520868268, 6832: 0.06328932276455505, 6833: -0.7651065665085789, 6834: 0.1367011489101002, 6835: 0.6779490162798422, 6836: 0.08146082468855698, 6837: -0.12638715775477335, 6838: 0.1188624544862947, 6839: -0.3586662546627849, 6840: 0.7186514352478589, 6841: 0.08229887503807314, 6842: 0.41953922475213284, 6843: 0.2566853659899876, 6844: 0.03563261031108688, 6845: 0.4431958914038885, 6846: 0.3234161406166613, 6847: -0.07858446426162519, 6848: -0.37939267441895547, 6849: 0.4967359027742328, 6850: -0.10192497108989058, 6851: 0.409448059516872, 6852: 0.3635009607282392, 6853: -0.0364554497936135, 6854: -0.08581570529269933, 6855: -0.4726703313111516, 6856: 0.1862129454398697, 6857: -0.10475219038528784, 6858: -0.3218536103187985, 6859: -0.2849327261951223, 6860: 0.045623239114468354, 6861: 0.21010927539824073, 6862: -0.25978644723536226, 6863: 0.4783644448793315, 6864: -0.11273358377991885, 6865: 0.21944158994473584, 6866: 0.6553628600205635, 6867: 0.29732139620098175, 6868: 0.018658757882560963, 6869: 0.03593062388835261, 6870: 0.4618073583733039, 6871: 0.10907268034221611, 6872: -0.33149560965177405, 6873: -0.4154617830539843, 6874: -0.21403409830855355, 6875: -0.13847848867532042, 6876: -0.5956300446879282, 6877: 0.474231942799152, 6878: 0.012110805730839634, 6879: 0.06838709001728173, 6880: 0.3941368932318252, 6881: -0.17299230766735957, 6882: -0.015384133453207665, 6883: 0.24626485436638768, 6884: 0.1122621482728682, 6885: 0.19271042164422714, 6886: -0.28351654467193127, 6887: 0.08664667959521728, 6888: -0.5256000224076913, 6889: 0.14553456041751636, 6890: 0.2912741395862825, 6891: 0.3519074929456966, 6892: 0.31895387884224274, 6893: -0.19214652727412482, 6894: -0.18478868665021983, 6895: 0.011110818479128768, 6896: -0.03958974083696217, 6897: -0.4150009453672287, 6898: -0.6616441957721124, 6899: 0.28986428086353266, 6900: 0.15922654202998152, 6901: 0.1966566631209367, 6902: -0.17466438270536633, 6903: 0.053725797869002535, 6904: 0.05689749405043642, 6905: 0.25152468641895676, 6906: 0.6616885885350664, 6907: 0.17110132138864875, 6908: 0.2975142590112918, 6909: 0.13754141448307486, 6910: -0.2641545318495005, 6911: 0.32204058879760633, 6912: -0.6405164252707789, 6913: -0.060622242959450796, 6914: 0.16566206328199545, 6915: -0.3851144868902264, 6916: 0.1253545414437348, 6917: -0.07273864745013997, 6918: -0.11781405689601476, 6919: -0.03152866400710151, 6920: -0.018320371935491353, 6921: 0.22332086674599871, 6922: 0.09905663889273172, 6923: -0.059693601255715385, 6924: -0.8371978119690954, 6925: -0.11914610163785704, 6926: -0.37289849431327193, 6927: 0.13889334635669515, 6928: -0.10892851287588208, 6929: 0.09130018857532875, 6930: 0.5032992601623213, 6931: -0.350680813468925, 6932: 0.18184349326692112, 6933: -0.2515530917526829, 6934: -0.05533876652476251, 6935: 0.24364306609441977, 6936: -0.12619668033329084, 6937: -0.23693615824534364, 6938: 0.1261026453502429, 6939: -0.3100612665720393, 6940: -0.8655580320852951, 6941: 0.7108868389294256, 6942: 0.22032167885699772, 6943: 0.07833634358303151, 6944: 0.026541188903047273, 6945: -0.14117145313520946, 6946: 0.8294764880440126, 6947: 0.5275591608227062, 6948: -0.38482266364250106, 6949: -0.037768280993915666, 6950: -0.46351802984955776, 6951: -0.09231694931586734, 6952: 0.3323976118696051, 6953: -0.31601954608040234, 6954: 0.1190969154638943, 6955: -0.629974154205562, 6956: 0.32487997463160867, 6957: 0.1882333433425525, 6958: 0.2200544788590395, 6959: 0.8709485440842275, 6960: -0.1936688844056901, 6961: 0.1238308831726846, 6962: 0.15807018351948102, 6963: 0.37164324346847516, 6964: 0.7381354901474039, 6965: -0.2482480380657517, 6966: -0.38353243262606185, 6967: -0.07512556113158686, 6968: 0.11710991617244457, 6969: 0.6726066961425041, 6970: -0.8659798120288845, 6971: 0.18535493680769236, 6972: -0.5281972212781659, 6973: 0.05789574164045297, 6974: -0.27948576266673764, 6975: 0.3677264858691794, 6976: 0.2847177571501985, 6977: -0.3532854137900043, 6978: 0.3618420306819744, 6979: -0.0388494759611689, 6980: -0.08229656554126898, 6981: 0.2750747813657908, 6982: 0.1320730169403889, 6983: 0.8720148196157156, 6984: -0.34228894352464884, 6985: -0.19173093391996518, 6986: -0.12842747674303742, 6987: -0.18368696806107143, 6988: -0.1854340863321686, 6989: 0.7157620620796584, 6990: -0.1836304514376245, 6991: -0.08212740823225607, 6992: 0.24883687489947956, 6993: -0.4600784225242781, 6994: -0.6549126450322006, 6995: 0.18274713896081182, 6996: 0.06008221358334472, 6997: -0.055382773273677535, 6998: -0.2424968173974106, 6999: -0.20113455195737495, 7000: 0.2632291055814879, 7001: -0.39431077757509675, 7002: -0.29973175702092003, 7003: -0.2399398390177593, 7004: -0.20843626130867757, 7005: -0.44002107593567585, 7006: -0.8563880744244403, 7007: 0.2931841631894547, 7008: 0.8871350403460337, 7009: 0.4254602864204135, 7010: -0.014850212319276114, 7011: 0.09752058915924451, 7012: 0.18501845654540666, 7013: 0.08473567195005327, 7014: 0.39873817550181534, 7015: 0.23266753485089553, 7016: 0.3389620214828362, 7017: 0.4358488672044411, 7018: 0.06025048905069154, 7019: 0.14279124037019936, 7020: 0.13022844006206924, 7021: -0.02204803116866631, 7022: -0.8573589925899625, 7023: 0.056230146980219435, 7024: -0.05941672677675052, 7025: 0.2741441258208189, 7026: -0.26393691191153007, 7027: 0.22560675162051294, 7028: 0.3463426180408467, 7029: -0.22248246260562904, 7030: 0.2728410124072238, 7031: -0.18903939592577493, 7032: 0.23398527139458128, 7033: -0.03361192872250433, 7034: -0.00045797361353733246, 7035: -0.034290435650223806, 7036: 0.42400330153265625, 7037: -0.29183240282921574, 7038: -0.07953056083266666, 7039: 0.7997324888213458, 7040: -0.30730038562125483, 7041: 0.1326483160083324, 7042: 0.05503488535072222, 7043: 0.1479346762857684, 7044: -0.10887815889698088, 7045: 0.032209840001692365, 7046: 0.179942875606236, 7047: -0.02579904423643195, 7048: 0.4751619316608172, 7049: -0.16802468315736072, 7050: 0.5810673791717191, 7051: 0.46129736985524583, 7052: 0.07610655872966442, 7053: 0.49558739323539586, 7054: -0.3464385862222453, 7055: 0.05278982623894424, 7056: -0.13652024875065036, 7057: 0.038322322469424686, 7058: 0.47829442655042737, 7059: 0.2525846456128671, 7060: -0.10838555062232302, 7061: -0.008101080694985555, 7062: 0.4089333156516631, 7063: 0.3767798365807384, 7064: 0.0999116346991943, 7065: 0.3111782561596384, 7066: -0.5210421296849714, 7067: -0.3766687420446165, 7068: 0.14392460818028996, 7069: 0.22245722149163016, 7070: 0.5004651262193783, 7071: 0.02842183207287574, 7072: -0.7611545256892199, 7073: 0.14280300312040856, 7074: -0.9449358776877146, 7075: 0.08359670546773314, 7076: -0.2268949556282951, 7077: 0.09198700668393252, 7078: -0.104656949915429, 7079: -0.19241770298002794, 7080: -1.1069293746595354, 7081: 0.20880140118272017, 7082: -0.8795070547261631, 7083: -0.12953699671274593, 7084: 0.3868323599994695, 7085: -0.3821950953623394, 7086: 0.22021783526081073, 7087: -0.27778691444538606, 7088: 0.2679322215462466, 7089: 0.41457750663536447, 7090: 0.1019462026254226, 7091: 0.6471553662325115, 7092: -0.6877722056541886, 7093: -0.43799435860578184, 7094: -0.4879085806629927, 7095: 0.003497748267740391, 7096: 0.15025238531431054, 7097: 0.11127938568486961, 7098: 0.24373145512602348, 7099: -0.5007979949822843, 7100: 0.2051718857280401, 7101: -0.8355049818973795, 7102: 0.6074554576888974, 7103: -0.0637099974945954, 7104: 0.12385217831162486, 7105: -0.5625532216166572, 7106: -0.23377185400880718, 7107: -0.26412212106826, 7108: -0.34341950140982874, 7109: 0.3686217020295272, 7110: -0.28925840968362937, 7111: -0.477110885712786, 7112: -0.44958410704259966, 7113: -0.09821852259844897, 7114: 0.5830611532547032, 7115: 0.5643156095058348, 7116: -0.14674506717321278, 7117: -0.20838910234366892, 7118: -0.4144804512314033, 7119: 0.2545612793993666, 7120: 0.3342229413831382, 7121: 0.17008531632639745, 7122: -0.1509460248154342, 7123: -0.16558699263126045, 7124: 0.20746297186876042, 7125: 0.3447226180630053, 7126: -0.9122977749008638, 7127: 0.41436149615982676, 7128: -0.5138585592194179, 7129: -0.046190923826885874, 7130: 0.6162949941670163, 7131: 0.33847989457847033, 7132: -0.7297313259454493, 7133: 0.2664261632278536, 7134: -0.04558594925314022, 7135: -0.10797735154523087, 7136: -1.0581537485860026, 7137: -0.0664517497417178, 7138: -0.13295690087969012, 7139: -0.2538787123258516, 7140: 0.031485403848086055, 7141: -0.0950396105360649, 7142: -0.1896490612844065, 7143: 0.3441851488248353, 7144: 0.4040312741547641, 7145: 0.5108884688337219, 7146: -0.14293664279163595, 7147: -0.03989420257432189, 7148: -0.02498567177085162, 7149: 0.11539177454449426, 7150: 0.2922015983513301, 7151: -0.05955245473145344, 7152: 0.1954293082456253, 7153: -0.2665444909694351, 7154: -0.39940056779096017, 7155: 0.20875726057750146, 7156: -0.7256090389613903, 7157: 0.5967625890014662, 7158: 0.05158880365750531, 7159: -0.6095212249511063, 7160: -0.28194238845185643, 7161: 0.7606267660191275, 7162: -0.4715549967352137, 7163: -0.4005673071385969, 7164: -0.236813112812011, 7165: 0.3797026968178538, 7166: -0.06530872757088436, 7167: -0.3091039670738141, 7168: 0.07730853340968465, 7169: 0.2680406245532119, 7170: 0.2611245945002593, 7171: -0.32993242764359815, 7172: 0.1959697620267118, 7173: -0.14646985097376006, 7174: -0.10267290471377329, 7175: 0.044641067363340954, 7176: -0.10741569840575226, 7177: -0.13895812023835835, 7178: -0.06911410778607406, 7179: 0.7010771731911731, 7180: 0.07368992454637485, 7181: 0.21485664301449262, 7182: -0.8649696177778112, 7183: -0.44763263897520245, 7184: 0.3173149626347863, 7185: 0.21184697369166075, 7186: 0.30535061366810556, 7187: 0.023997558475560666, 7188: 0.004819280688873435, 7189: 0.12415812443548753, 7190: 0.4649878274290543, 7191: -0.494443251653562, 7192: 0.8906015402774506, 7193: -0.2628039660700871, 7194: 0.20679213499210441, 7195: -0.5867251622427909, 7196: -0.2648284154309598, 7197: 0.7799726766036081, 7198: 0.006781100915289526, 7199: -0.08805150445647351, 7200: 0.4422836772730808, 7201: -0.529999598518773, 7202: -0.8330815279329853, 7203: 0.022206514751711866, 7204: 0.11431783518866488, 7205: 0.050902798623087275, 7206: 0.13827152383107075, 7207: -0.16275626427069664, 7208: -0.37712865899777726, 7209: -0.2791201556435062, 7210: -0.4610348943843309, 7211: -0.9304698636377813, 7212: 0.5923460550420919, 7213: -0.18850472332518922, 7214: -0.45269482846614423, 7215: 0.2495760695982724, 7216: 0.013243859641674707, 7217: -0.15190623563671185, 7218: -0.582828750567409, 7219: 0.6901265585494792, 7220: -0.3280911357908141, 7221: -0.07049229506074924, 7222: -0.044906918076687, 7223: -0.20354463648140342, 7224: -0.364644456151782, 7225: 0.36254375187679694, 7226: 0.09811622100658107, 7227: 0.0026725355185066965, 7228: 0.2414721672625371, 7229: 0.2639049295957325, 7230: 0.3742266317355324, 7231: -0.13519336702028575, 7232: 0.3967806289529063, 7233: 0.438675766023208, 7234: -0.7670774652882456, 7235: 0.17501503936023757, 7236: -0.15239526039312792, 7237: -0.910888082835898, 7238: -0.030298039790609365, 7239: -0.0019912082935314903, 7240: -0.19655506935070624, 7241: 0.0720119706160413, 7242: 0.6330725752852675, 7243: -0.007876060673419505, 7244: -0.19060878764886355, 7245: -0.27500116947973535, 7246: 0.6000739166365827, 7247: 0.5203622211461547, 7248: 0.20807361307036434, 7249: 0.3455831704115497, 7250: 0.3455450334407836, 7251: 0.0964177533396204, 7252: -0.2042652349276718, 7253: -0.26982391722814125, 7254: 0.15702621199785094, 7255: -0.309382153692651, 7256: 0.7899850805822134, 7257: -1.5006156571487663, 7258: 0.15043910541499395, 7259: 0.09163313046616563, 7260: -0.6639888684123159, 7261: -0.3672502034401445, 7262: -0.06698570365237876, 7263: -0.22382704123261404, 7264: -0.38690663712750845, 7265: 0.4598223650372129, 7266: 0.3534467231670926, 7267: -0.42010296254008334, 7268: 0.23581820001602607, 7269: -0.13408245152343315, 7270: 0.2675344365204709, 7271: -0.56549245723526, 7272: 0.024083935551806407, 7273: 0.3932124960954597, 7274: -0.23301331607654277, 7275: 0.8045985931523432, 7276: -0.44542312035337683, 7277: -0.22798973622081017, 7278: 0.59128244881824, 7279: 0.1745345253019672, 7280: 0.30803733386938276, 7281: -0.11879577197306324, 7282: -0.5917898494947387, 7283: 0.24482627493857187, 7284: 0.18370188383294137, 7285: 0.31462610425781895, 7286: -0.038746384144331444, 7287: 0.02202159106340236, 7288: -0.44697172396884, 7289: 0.30466147632171414, 7290: -0.1158085638182834, 7291: 0.16796682723064357, 7292: 0.5370389529297245, 7293: 0.39168867903243854, 7294: -0.04650204725988935, 7295: -0.03219435152606069, 7296: 0.6611933993075623, 7297: -0.5966355730356261, 7298: -0.04045181776416825, 7299: -0.011962889267697138, 7300: 0.25529704842722684, 7301: 0.51579929509135, 7302: -0.6789451983345649, 7303: 0.0153333893044785, 7304: 0.036794742689423225, 7305: -0.14481293901302794, 7306: -0.26468646525248857, 7307: -0.5137111321036618, 7308: -0.011676816646155951, 7309: 0.2968054058830914, 7310: 0.09703143360983106, 7311: 0.15041039046697227, 7312: -0.44824959913455875, 7313: 0.3608971769976943, 7314: 0.25125942266317797, 7315: -0.053765720977322656, 7316: 0.10614606045867347, 7317: 0.6279562428021035, 7318: -0.5897652799772768, 7319: 0.2674455279262762, 7320: -0.06750808081596739, 7321: 0.09846394237481998, 7322: -0.49134092604456875, 7323: 0.1573602430022174, 7324: -0.26666493279695597, 7325: 0.23769084272434216, 7326: 0.05078600456479681, 7327: 0.03190531110822587, 7328: -0.9621732326072653, 7329: 0.20566674708618188, 7330: -0.31057175775127743, 7331: -0.20460444765711777, 7332: 0.03186520258033227, 7333: 0.3591594775085377, 7334: -0.5678346354047565, 7335: -0.18908090335706842, 7336: 0.02428891750502195, 7337: -0.16575241137308072, 7338: 0.15245066489213985, 7339: 0.3880266341504045, 7340: -0.5227373190396842, 7341: 0.25866138453591564, 7342: -0.7258612363069545, 7343: -0.3225928299651674, 7344: -0.4383796969086411, 7345: 0.3037667390359736, 7346: -1.266789141849584, 7347: -0.22647419553972647, 7348: 0.03220578964655532, 7349: -0.015166688997129807, 7350: 0.02587913962318084, 7351: 0.4933320531952987, 7352: -0.3508042070012823, 7353: -0.3863949555765835, 7354: 0.4975875093317114, 7355: 0.33317851538592497, 7356: 0.7395648714718228, 7357: -0.1957106405675612, 7358: 0.4001397387466389, 7359: -0.083627003428732, 7360: 0.031412244995785994, 7361: -0.033809194244824314, 7362: -0.8075429610351803, 7363: 0.006890587934515986, 7364: -0.007528778639853716, 7365: 0.048790924252376584, 7366: -1.082278399205722, 7367: -0.09046469358794298, 7368: 0.15851176493799746, 7369: 0.10435222815072308, 7370: -0.08233329200569385, 7371: 0.34278223409399733, 7372: 0.1316950924910124, 7373: 0.2994064525122024, 7374: -0.07801468369378096, 7375: -0.025413741294158864, 7376: 0.5502373548963383, 7377: 0.2739354747286739, 7378: -0.01476777097486437, 7379: -0.05433855955217794, 7380: 0.13425991803942572, 7381: -0.10010599026476343, 7382: -0.35823954046696077, 7383: -0.5448799641804924, 7384: 0.8402020422165132, 7385: 0.5102753415924471, 7386: 0.30074366745790876, 7387: -0.20329063281290402, 7388: 0.4849934194729615, 7389: -0.2400605314690003, 7390: 0.08146717073550186, 7391: 0.10101405023886519, 7392: 0.31612978799600255, 7393: -0.4814241927767762, 7394: 0.8627338786778724, 7395: 0.5329461773156454, 7396: 0.013014786243113382, 7397: -0.19883084029154738, 7398: -0.1965389068844619, 7399: 0.6671382551200576, 7400: -0.07979969228857356, 7401: -0.612435090481296, 7402: -0.03579110442916556, 7403: 0.3440376811864423, 7404: -0.2651748609725048, 7405: 0.5685550985786035, 7406: 0.24208398178129378, 7407: 0.06280893679954878, 7408: -0.3444350772955549, 7409: 0.2420559672949095, 7410: -0.644448837491376, 7411: 0.30281187839262413, 7412: 0.14340027794886634, 7413: -0.10393212316436072, 7414: 0.07895046679641218, 7415: 0.20599985317641614, 7416: 0.12727393008887594, 7417: 0.053752622460138344, 7418: 0.6430015926864534, 7419: -0.14767964434493142, 7420: 0.014313980874357585, 7421: 0.00948646825267923, 7422: 0.6153953237223599, 7423: -0.2588625323624195, 7424: 0.07744360785055175, 7425: -0.35771218071857047, 7426: 0.10718059581651783, 7427: 0.26598969699786174, 7428: -0.26278534157112304, 7429: -0.1561757083465474, 7430: 0.15360215213546977, 7431: 0.2906677506294867, 7432: 0.28875507546462265, 7433: 0.2084343956431804, 7434: 0.3934929750504754, 7435: 0.2150424918331392, 7436: 0.21986854963385152, 7437: -0.2111370320910481, 7438: 0.33879750239888085, 7439: -0.2464441149189333, 7440: 0.21175977747617644, 7441: -0.4761772385801386, 7442: -0.3143766454509049, 7443: 0.09681434043630578, 7444: 0.6544477314173208, 7445: 0.0334129686783399, 7446: 0.6373371253061624, 7447: -0.08919675483373501, 7448: -1.5691417691013074, 7449: 0.3961378942011651, 7450: 0.27819225254913454, 7451: -0.37955361123316295, 7452: 0.48001370075725835, 7453: -0.7464586513778213, 7454: 0.23653401239534666, 7455: -0.11074551382395913, 7456: 0.07864818521467896, 7457: 0.04652271409376801, 7458: -0.1501979348434225, 7459: 0.12932438734822077, 7460: 0.47556593875805164, 7461: 0.13159298637905742, 7462: 0.9580434474921594, 7463: -0.05469992097631179, 7464: 0.246575934683283, 7465: -0.003464775757035093, 7466: 0.005167186172286018, 7467: 0.0865998415256777, 7468: -0.09727189130565428, 7469: 0.18568185745380192, 7470: 0.09420247346572853, 7471: 0.20976073007963195, 7472: 0.3915564160923264, 7473: 0.5616887957401104, 7474: 0.015018552533503943, 7475: -0.6124453564584458, 7476: 0.13581826663057578, 7477: -0.031491384606154506, 7478: 0.32761664908217075, 7479: 0.07489814174583359, 7480: 0.008818639271896545, 7481: 0.3024556354633959, 7482: 0.5634452839105486, 7483: -0.10876587290489012, 7484: 0.2970960257334535, 7485: 0.18591862825379052, 7486: -0.8796585429449133, 7487: -0.04035582345841727, 7488: 0.14824165792696078, 7489: 0.3749734467596245, 7490: -0.16591655582781872, 7491: 0.39286894555033713, 7492: 0.2831988186332883, 7493: -0.17920385773727232, 7494: 0.374006442838304, 7495: 0.3131947628819232, 7496: 0.3823245472870361, 7497: 0.051462894548414954, 7498: 0.21936580405410197, 7499: 0.32869415294155285, 7500: 0.5763388329166845, 7501: 0.07824087107572342, 7502: 0.3257254517647676, 7503: 0.7864474377650155, 7504: -0.40713955889278103, 7505: 0.6490206971918904, 7506: 0.05445657482359707, 7507: 0.41456854511912444, 7508: 0.0690682378610078, 7509: 0.1881833503115294, 7510: 0.11056208801627794, 7511: 0.42721801323618314, 7512: -0.07770212985920916, 7513: 0.08896050291938887, 7514: 0.77550843665239, 7515: -0.8308113928085206, 7516: -0.5502063564432006, 7517: 0.12271899740788564, 7518: 0.45028629885153254, 7519: 0.05256584151238134, 7520: 0.022107201433124175, 7521: -0.39635979146076616, 7522: 0.09748644929570668, 7523: 0.4970066863869936, 7524: 0.6398145262408054, 7525: 0.06139158652919375, 7526: 0.3135038100763548, 7527: 0.12057998909117788, 7528: -0.01996622845815026, 7529: -0.005539764386132248, 7530: 0.4411601623511201, 7531: -0.07417685962188066, 7532: -0.07096313919782814, 7533: 0.4579988486645837, 7534: -0.007449040267873058, 7535: -0.17015518975857477, 7536: 0.3968599038504413, 7537: -0.10225928102034174, 7538: -0.3307016307589688, 7539: 0.10280954601353079, 7540: 0.1876434578487652, 7541: 0.3186657620840998, 7542: 0.5097898913300959, 7543: -0.18014143300143148, 7544: 0.9523812665826404, 7545: -0.9785618869903147, 7546: 0.36018169844135584, 7547: -0.0864913444495038, 7548: -1.045988162490846, 7549: -0.3978967305276613, 7550: 0.7605432490541362, 7551: -0.8675893359541494, 7552: -0.43610404937317687, 7553: -0.47304553975241975, 7554: -0.2634222502729882, 7555: 1.0715259031019093, 7556: 0.5027563614446517, 7557: 0.3304170969026286, 7558: 0.3678382060903409, 7559: -0.10116149417282033, 7560: 0.2595711646575854, 7561: -0.223005695349555, 7562: -0.3590042315914788, 7563: -0.1802306966040914, 7564: -1.0791787713877383, 7565: -0.13984143056201184, 7566: -0.2442376973448506, 7567: -0.08116217679796697, 7568: 0.37034950401927136, 7569: -0.9260092393804581, 7570: 0.5550927429788747, 7571: -0.06089835529113351, 7572: 0.18471143955974234, 7573: 0.05570198413058279, 7574: 0.30868247597781656, 7575: 0.1359957247444449, 7576: 0.6647173155534626, 7577: 0.06960575118896403, 7578: -0.4462906342436952, 7579: -0.2406048695422381, 7580: -0.09946717265923455, 7581: -0.11101026581267905, 7582: 0.08436688471434693, 7583: -0.8428912476589125, 7584: -1.1476552302537504, 7585: 0.4363952052533258, 7586: -0.1802843501794999, 7587: -0.6495339965231707, 7588: -0.6152589603079653, 7589: 0.46545025971902815, 7590: 0.08740351430491364, 7591: -0.5846555870889285, 7592: -0.20790455941256547, 7593: 0.750526848299579, 7594: 0.09807671542938438, 7595: -0.5505339556011873, 7596: 0.19752177953762431, 7597: 0.5236384205265353, 7598: 0.13154577861451433, 7599: -0.6460124013970358, 7600: 0.3371619774788658, 7601: 0.22367339890968543, 7602: 0.11954640749487988, 7603: 0.14305055552258625, 7604: -0.38150698993213034, 7605: 0.563607231189883, 7606: 0.24106522403522024, 7607: -0.10167434167458096, 7608: -0.12125295988937115, 7609: 0.13495840129807415, 7610: 1.1148745792634618, 7611: -0.6913761836838491, 7612: 0.19759548408554412, 7613: 0.16112314503164515, 7614: -0.3119507341042853, 7615: -0.09526025529371981, 7616: -0.4081744425430169, 7617: -0.8085712135661459, 7618: -0.31185167174960043, 7619: 0.0059866329347500824, 7620: 0.30231913034482805, 7621: 0.1606672485725632, 7622: 0.6256498635243284, 7623: 0.07511148545294251, 7624: -0.12244530693477755, 7625: 0.009513518379343685, 7626: 0.4998282452892377, 7627: 0.16008533313068649, 7628: 0.4407960441721214, 7629: 0.14918367758412995, 7630: -0.9746015376913312, 7631: -0.040102650522890235, 7632: 0.20411000179184105, 7633: -0.5032796645505607, 7634: 0.2752488526463676, 7635: 0.382698431507218, 7636: 0.4466788097627329, 7637: -0.42585713544231063, 7638: 0.05113153717259691, 7639: -0.13381439215029176, 7640: 0.5915308542476977, 7641: 0.1989778186456873, 7642: 0.001957452945012424, 7643: -0.32235580120328133, 7644: 0.18800313280209519, 7645: -0.27089541294930725, 7646: 0.09417656186830348, 7647: -0.6324520987520842, 7648: 0.4082980087634877, 7649: 0.3723384013425404, 7650: 0.11721157940698411, 7651: 0.618443738233933, 7652: -0.5671075637187436, 7653: -0.2766466177726866, 7654: -0.0027628756530754368, 7655: -0.21324307772629214, 7656: -0.3254248760972022, 7657: 0.291707934992078, 7658: -0.12490914390946155, 7659: -0.09515890601010661, 7660: 0.21826343926943084, 7661: -0.49259981914562256, 7662: -0.21245416684709173, 7663: 0.32555722477289567, 7664: 0.2485667362305271, 7665: 0.2059046203681853, 7666: 0.09724400353033878, 7667: 0.490771138155545, 7668: -0.1767784835710668, 7669: -1.1968271242726047, 7670: -0.3872968225206555, 7671: -0.0971042569869227, 7672: -0.1643408151157931, 7673: 0.25848889783176665, 7674: 0.8272809969706351, 7675: 0.24610966556968045, 7676: -0.37756804821298545, 7677: -0.9175119596484591, 7678: -0.09897368483792886, 7679: 0.15795559382084695, 7680: 0.24083743517058892, 7681: -0.2785728609098664, 7682: 0.19903942374124833, 7683: -0.182808263411784, 7684: 0.02139930401721989, 7685: 0.1965107820178247, 7686: 0.7825075680664031, 7687: -0.11036314168201952, 7688: -0.26380645288713195, 7689: 0.46064993499292856, 7690: -0.3113496230024277, 7691: 0.06465353816427352, 7692: -0.12446625382294774, 7693: 0.6737721436102523, 7694: 0.3047725649496173, 7695: 0.5615032234613312, 7696: 0.599918067760578, 7697: -0.02769883961332806, 7698: 0.18815288593304702, 7699: -0.2262931613663123, 7700: -0.29235953854835534, 7701: -0.14009772447762786, 7702: -0.40783739912996, 7703: -0.3304991493481172, 7704: -0.5841428384374805, 7705: 0.25863618856300075, 7706: -0.13343437761414265, 7707: 0.18516364126365167, 7708: -0.3919543174131789, 7709: 0.029137416470127173, 7710: -0.08806265371972302, 7711: 0.308718742984266, 7712: -0.24237368211902677, 7713: 0.33732169862202754, 7714: 0.22463567159829462, 7715: 0.5016534566950169, 7716: -0.520007809779835, 7717: 0.5681795466469491, 7718: -0.3294235981199173, 7719: 0.15675182253587566, 7720: 0.13966025735047574, 7721: 0.21380807979537436, 7722: -0.0581139132072652, 7723: 0.15034039287821047, 7724: 0.9237133307670414, 7725: 0.16433471190840226, 7726: 0.15765699137901068, 7727: 0.8406856323600327, 7728: 0.34364151666344106, 7729: 0.4080726642100423, 7730: -0.2974840530105846, 7731: 0.30721563620476044, 7732: 0.13728159786923624, 7733: -0.3200429689232904, 7734: -0.45189867983230836, 7735: 0.056368854233407636, 7736: -0.9947766052614299, 7737: -0.6279218458583486, 7738: 0.567558442992031, 7739: 0.10862963916466661, 7740: -0.2523955731778097, 7741: 0.24938357562933514, 7742: 0.017504767522664107, 7743: -0.6488201962945573, 7744: 0.015456117609553137, 7745: -0.1359797244810164, 7746: 0.08920180405294058, 7747: -0.0760732437023306, 7748: -0.16894740589604393, 7749: -0.08930193744222391, 7750: 0.26122764511884217, 7751: 0.08662408462242498, 7752: 0.6464384556286513, 7753: 0.14929922236837717, 7754: -0.11580791655638566, 7755: 0.5343300693186829, 7756: -0.09064038208735249, 7757: 0.09600959162621595, 7758: -0.5046236527923992, 7759: 0.30248152630487485, 7760: 0.29802126616419855, 7761: -0.14116500681517252, 7762: -0.4497679620386184, 7763: -0.37964366528927446, 7764: 0.032331794481127225, 7765: -0.6331015850990979, 7766: -0.10577309220053151, 7767: 0.4106078659557252, 7768: 0.17576340704836405, 7769: -0.54520935704963, 7770: -0.5377011820828413, 7771: 0.6111818172341891, 7772: -0.3961027529817731, 7773: 0.0997703830664325, 7774: -0.22714235140854822, 7775: -0.5342647568006742, 7776: -0.5949983554231527, 7777: -0.03729920191343942, 7778: -0.12770787975148962, 7779: -0.12006912232351374, 7780: 0.1083755331431076, 7781: 0.15247876946390268, 7782: 0.22609978085770524, 7783: -0.0641255330565623, 7784: -0.2143245564000116, 7785: -0.3791824362205884, 7786: -0.11431604231628927, 7787: 0.06204944011919704, 7788: 0.11368508199722971, 7789: 0.31618436950684986, 7790: 0.6127626404990748, 7791: 0.21121626681351363, 7792: -0.07528350269127494, 7793: -0.39928442103548084, 7794: 0.3423474900915473, 7795: 0.2134654663680974, 7796: -0.10232565844644809, 7797: 0.042023406490882535, 7798: 0.3247821790624287, 7799: -0.5610693942656508, 7800: -0.002776518061122795, 7801: 0.43692999765916485, 7802: 0.07942203924553791, 7803: 0.3987225360925839, 7804: 0.2551398011906289, 7805: -0.3087980814832081, 7806: 0.21320440439289226, 7807: -0.40405854356924975, 7808: 0.858230293634695, 7809: 0.433605552363805, 7810: -0.5788907487608226, 7811: -0.8210706898901056, 7812: 0.07382605729441763, 7813: -0.4125006616599466, 7814: 0.22822326639137963, 7815: 0.1431836525280998, 7816: 0.08781286034957349, 7817: 0.2651576293924751, 7818: -1.413163880079646, 7819: -0.652610395228673, 7820: -0.18305328190920278, 7821: -0.21780990432532904, 7822: 0.18305172368863876, 7823: 0.38817016715166336, 7824: -0.10693006501608127, 7825: 0.5214733890672764, 7826: 0.24688441606084813, 7827: 0.23070954821277742, 7828: -0.8612431423458946, 7829: -0.01815237902835638, 7830: -0.49775025348027957, 7831: 0.592243659466039, 7832: 0.19279908498367337, 7833: -0.22531655652585839, 7834: -0.1188835019149577, 7835: 0.29608879767579666, 7836: -0.04886867919649058, 7837: 0.33638322861814024, 7838: -0.003917600384095236, 7839: -0.13524943780629953, 7840: -0.19433036068830847, 7841: -0.4323644770534971, 7842: 0.20289748988206022, 7843: -0.4826742389963516, 7844: -0.15336872004794655, 7845: 0.06908751453452093, 7846: 0.2884394426288099, 7847: 0.08805905306301073, 7848: 0.455954549405438, 7849: 0.27675636578842133, 7850: -0.3569682596957638, 7851: 0.017133217655681564, 7852: 0.21144386786364766, 7853: 0.1920109314965883, 7854: 0.12119611883733306, 7855: -0.5289625550376889, 7856: -0.04810506892546349, 7857: 0.07831804082012443, 7858: -0.5664050545803855, 7859: 0.014227136796495518, 7860: -0.19324868042764692, 7861: -0.07610672484876198, 7862: -0.1438846181723155, 7863: -0.19524414344764568, 7864: 0.0891812430027244, 7865: -0.11204945100575828, 7866: 0.07241783632988269, 7867: -0.146322711604616, 7868: 0.2479866368686602, 7869: 0.048760835214105576, 7870: -0.16789781438440915, 7871: -0.19745773068934255, 7872: 0.516030253647786, 7873: -0.8355849527045655, 7874: 0.39616667500529845, 7875: 0.059658261624799924, 7876: 0.16416999888238076, 7877: -0.1553012569913855, 7878: 0.8254722729628138, 7879: 0.41034924630894565, 7880: 0.7688643646329221, 7881: 0.6378222447274566, 7882: -0.6679039974953196, 7883: 0.07607830183491837, 7884: 0.3659768841041494, 7885: -0.40206126517934304, 7886: -0.04741680486119757, 7887: 0.16303851236762262, 7888: 0.23934820073304597, 7889: -0.0888193974801332, 7890: -0.6332564058977792, 7891: 0.19695676382329536, 7892: -0.48295241338541606, 7893: -0.20215556531345077, 7894: -0.42185227635645006, 7895: -0.04204717121017965, 7896: -0.07739270224531859, 7897: -0.14604601889853613, 7898: -0.5478269690391254, 7899: -0.11797975674022818, 7900: 0.05446609214081835, 7901: -0.2478322755482922, 7902: 0.25321386978509913, 7903: -0.7114889514817407, 7904: 0.7530035223789074, 7905: 0.9687213695126695, 7906: 1.0500083503042594, 7907: -0.0945702016455303, 7908: -0.5017404418197379, 7909: -0.2854174831415715, 7910: 0.03267188216904418, 7911: -0.03940937880083287, 7912: -0.10402024774619074, 7913: 0.4798680516046439, 7914: -0.21277932402402583, 7915: -0.5486982438359375, 7916: 0.5600470405822254, 7917: -0.06368617141166306, 7918: -0.4200375402305608, 7919: 0.08210105552434539, 7920: -0.08646415889312196, 7921: -0.23019723048401766, 7922: -0.10459393850849995, 7923: 0.20487361212097538, 7924: 0.2766313434539949, 7925: -0.47415761760200575, 7926: -0.19321881167237479, 7927: -0.053828007040268466, 7928: 0.3959949310226131, 7929: 0.037243334163011, 7930: -0.0347265782624051, 7931: -0.11686364499303493, 7932: 0.04458053539885791, 7933: -0.32274103475706767, 7934: -0.430971009663543, 7935: -0.19223602161116662, 7936: 0.25810151169667406, 7937: 0.2513076804769403, 7938: -0.7141715275478302, 7939: -0.4351130960037899, 7940: -0.4071403816815927, 7941: -0.5321263234904685, 7942: -0.20699864885192815, 7943: -0.44395136826307535, 7944: 0.06347775520882724, 7945: -0.23421098261950635, 7946: -0.6075256862813377, 7947: 0.009495454133822911, 7948: 0.12206613270115141, 7949: 0.4159311977984827, 7950: 0.305751233087735, 7951: -0.11662473563017176, 7952: -0.10292295844833092, 7953: 0.4615302056879903, 7954: -0.4150343238159838, 7955: 0.02152603314990215, 7956: -0.18402404402579042, 7957: 0.43192637960411356, 7958: -0.24479844761359898, 7959: -0.4336772750623568, 7960: -0.35055825706814975, 7961: 0.5070846765861444, 7962: 0.8305102044286232, 7963: 0.03509196489231833, 7964: 0.4460344439978006, 7965: 0.028356538532663917, 7966: 0.7004341783820062, 7967: -0.29507084019177154, 7968: -0.4070091918140326, 7969: 0.26746511627531, 7970: -0.37873216523594155, 7971: 0.24144710539424688, 7972: 0.5790064471684544, 7973: 0.2419986259442809, 7974: -0.21647656330132695, 7975: 0.2455072310786019, 7976: -0.45170268601076174, 7977: 0.11421984274045287, 7978: 0.5301598056540984, 7979: 0.6640710654717661, 7980: -0.3583845292596805, 7981: -0.09887619231783819, 7982: 0.15076640120201457, 7983: 0.007608196241306304, 7984: -0.2450385514124961, 7985: -0.28389357070804017, 7986: -1.081703731195111, 7987: -0.6853842729966907, 7988: -0.5867122544133471, 7989: 0.11036203790807803, 7990: 0.08330373551871902, 7991: 0.030241830843235104, 7992: 0.36995884303541987, 7993: -0.11806402599487231, 7994: 0.22197251846751356, 7995: 0.587821375424778, 7996: 0.38836432806133064, 7997: 0.4193212636078636, 7998: 0.36450501126383866, 7999: -0.0718023517859629, 8000: 0.6551103916145121, 8001: -0.5513731582160044, 8002: 0.5883829229486125, 8003: 0.10712314080831957, 8004: -0.04353218680826837, 8005: 0.069582123474412, 8006: 0.08561248745784013, 8007: 0.15490281473711545, 8008: 0.06843489521466163, 8009: -0.4587571753463047, 8010: -0.6564267620815872, 8011: -0.7670796620575694, 8012: 0.37928542348982835, 8013: -0.08716276034763078, 8014: -0.45538849313878843, 8015: 0.22577614872843166, 8016: -0.22277899573244633, 8017: 0.40120498687598405, 8018: -0.17280393199830685, 8019: -0.6193484665214897, 8020: -0.8951818675143699, 8021: 0.4660124142975258, 8022: 0.04148805159606347, 8023: -0.318305391640074, 8024: 0.29924354420721494, 8025: -0.29810849449319654, 8026: 0.032555638786722324, 8027: 0.29660775090445035, 8028: 0.5664247269843845, 8029: -0.8821170963372622, 8030: 0.3094124696567073, 8031: 0.20418981111127363, 8032: -0.14328831620722987, 8033: 0.34455497871150637, 8034: -0.028008746063916113, 8035: 0.404219027167763, 8036: 0.7186751694023539, 8037: -0.09538448039093608, 8038: 0.24486313839589313, 8039: 0.1816156919681153, 8040: 0.18343347845392746, 8041: -0.472717269850778, 8042: -0.1923575369266173, 8043: 0.4125624840245023, 8044: 0.4099898196108533, 8045: -0.7220061588805605, 8046: -0.6008031513952367, 8047: -0.2051295364369021, 8048: 0.14721639734372097, 8049: -0.5816378721473168, 8050: 0.14628709355047667, 8051: -0.009223783269693758, 8052: 0.5966850489508081, 8053: -0.06494404484473097, 8054: 0.04431470195753513, 8055: 0.02595145447610003, 8056: -0.4503498381450368, 8057: 0.12759289788049344, 8058: -0.025885921055044298, 8059: -0.43926077414882364, 8060: -0.96962981340513, 8061: 0.011740664202320188, 8062: 0.3890487814219015, 8063: -0.1410646936910268, 8064: 0.16761538467953951, 8065: 0.15256527279277102, 8066: -0.5058909851000888, 8067: -0.6029154615301202, 8068: 0.6762119466185251, 8069: 0.4027112358228635, 8070: 0.06801587962081813, 8071: -0.0171925053733538, 8072: 0.127077897081747, 8073: -0.7248593933414443, 8074: -0.12578968604765337, 8075: 0.1769525666401542, 8076: -0.09935326661799493, 8077: -0.24121589523489867, 8078: 0.5681717026535048, 8079: -0.18962220627651297, 8080: -0.9498835450074338, 8081: -0.32388888335803045, 8082: 0.037460099901914116, 8083: 0.21097042101925575, 8084: 0.39733968039469075, 8085: -0.10396131491325245, 8086: 0.24194213202922693, 8087: -0.20657671703373162, 8088: -0.08587295695261823, 8089: 0.26163358388840713, 8090: 0.25778271019574944, 8091: 0.06538415784437022, 8092: 0.4634075125907433, 8093: 0.47825074522318983, 8094: -0.3163829178992696, 8095: 0.38253072487117556, 8096: 0.2909455221372654, 8097: -0.3120681356597132, 8098: -0.21692657418021882, 8099: -0.06593203693217993, 8100: 0.07999844081163064, 8101: 0.6809901371681891, 8102: 0.25465437199698315, 8103: 0.752985887707063, 8104: -0.8553679002974143, 8105: -0.024208770533971805, 8106: 0.18204039273538838, 8107: -0.3852229573324349, 8108: -0.09575861147902484, 8109: 0.37904500700955596, 8110: -0.2965615674071479, 8111: 0.18277080889721584, 8112: 0.08808324063575436, 8113: -0.013172555339916186, 8114: 0.4894775406367433, 8115: -0.04252824262327207, 8116: 0.477973469523856, 8117: 0.37817788715409656, 8118: 0.20805869351042722, 8119: -0.5457735591256829, 8120: -0.19711551905892943, 8121: -0.086840059126083, 8122: -0.12101970286674157, 8123: -0.37840962947828893, 8124: 0.08119657758792913, 8125: -0.3887239683826453, 8126: 0.7202890390778744, 8127: 0.08021117198361569, 8128: 0.1966285373964865, 8129: 0.16220968980544095, 8130: 0.013209675627902828, 8131: -0.6770734936283377, 8132: -0.37998258904557414, 8133: -0.35604682600345383, 8134: 0.4543165583869133, 8135: 0.3361375686348176, 8136: -0.09898958822595225, 8137: -0.15607861968900988, 8138: -0.5291809528153971, 8139: -0.35769508151063084, 8140: 0.29991967125811236, 8141: 0.2504612863745199, 8142: -0.21729469445120037, 8143: 0.4052921329032436, 8144: 0.2628498543991355, 8145: 0.40099175762675315, 8146: -0.545878782548947, 8147: 0.38131621552276623, 8148: -0.38367609649416856, 8149: -0.18023020863931408, 8150: -0.1937126490257389, 8151: -0.022919661358525956, 8152: 0.2419049461492565, 8153: 0.17526390308637585, 8154: 0.14866822371140556, 8155: -0.054653993690589514, 8156: 0.9424977931828317, 8157: -0.07945655543887228, 8158: -0.11136039547947243, 8159: -0.2939932322134802, 8160: 0.18679462158047544, 8161: 0.058189526637248926, 8162: 0.7508010675479077, 8163: -0.5149248271858728, 8164: 0.07943530301460447, 8165: 0.134336513768681, 8166: -0.18384887655775894, 8167: 0.3890132695656683, 8168: -0.09928360124241213, 8169: 0.405246509202123, 8170: -0.09621370006948289, 8171: -0.2420615789592472, 8172: 0.4801618925755927, 8173: -0.8913338810714146, 8174: -0.10491935262070416, 8175: -0.17489626368247713, 8176: 0.26042690619292136, 8177: 0.06810688371950585, 8178: -0.03594768204937552, 8179: 0.016520375931508867, 8180: 0.09205195894737672, 8181: 0.3280442144467793, 8182: 0.3994318949288341, 8183: 0.15298967380776293, 8184: 0.33541026551050174, 8185: 0.126452618370026, 8186: -0.4928587208275889, 8187: 0.08919752663720909, 8188: 0.36774451590284307, 8189: -0.23677562543294334, 8190: -0.10386551671591916, 8191: -0.47334224271047753, 8192: -0.44943513031926663, 8193: -0.04130225336211338, 8194: -0.6760901803769799, 8195: -0.24388636832486899, 8196: -0.4934530175987378, 8197: -0.45779893937940197, 8198: 0.057946361400200604, 8199: 0.00020951250316394242, 8200: -0.7799293581218203, 8201: 0.050874739346005574, 8202: -0.2187310152275802, 8203: 0.21818633092868597, 8204: -0.0772568566018354, 8205: -0.34448928991193156, 8206: -0.10374267341054953, 8207: 0.16842169483052827, 8208: -0.0063935113226304685, 8209: -0.23254974360274433, 8210: 0.24479003034852093, 8211: -0.5410630489090654, 8212: 0.07324737179430749, 8213: 0.07972315326522536, 8214: -0.3094685683268078, 8215: 0.2539168652818862, 8216: -0.06621899105030431, 8217: 0.6371076640664985, 8218: 0.08640992662155625, 8219: -0.20257128615704578, 8220: 0.2066184707068235, 8221: 0.37787156332843436, 8222: -0.6657222986484713, 8223: -0.07405167700991502, 8224: -0.04247297288414804, 8225: -0.1498725744049389, 8226: 0.1864368230428386, 8227: 0.28377942898309394, 8228: -0.23295881089259846, 8229: 0.329607521029776, 8230: -1.0985158488575522, 8231: 0.601075493048129, 8232: -0.0063591088329231675, 8233: 0.31080041229181987, 8234: 0.6949117473362943, 8235: -0.486631714567816, 8236: -0.9096733795593295, 8237: -0.36490178185884653, 8238: -0.35993606516919086, 8239: 0.17351408002524452, 8240: 0.13472290801627135, 8241: -0.4170908314177406, 8242: -0.7170481291123837, 8243: 0.17923759663090877, 8244: -0.08670004525667886, 8245: -0.8541236747837857, 8246: 0.5568661350112519, 8247: -0.4948387905027413, 8248: -0.5553466744614827, 8249: 0.25785145664654835, 8250: 0.5693945820201608, 8251: 0.6753319258531729, 8252: -0.44019334121492104, 8253: 0.12435793824178008, 8254: -0.03736303746818914, 8255: -0.2208476567507659, 8256: 0.23969956901608788, 8257: 0.08436402786720797, 8258: -0.9817498705884353, 8259: -0.019587320831596693, 8260: -0.21804717169607313, 8261: -0.04388533550197413, 8262: 0.023161167252049423, 8263: 0.18997033772974128, 8264: 0.5853539448557906, 8265: -0.019688241483017826, 8266: 0.29854620750092364, 8267: -0.3523208477268747, 8268: 0.27763263068568755, 8269: 0.05561744528340961, 8270: 0.5735864006204845, 8271: 0.10860074756714205, 8272: 0.4161906757822695, 8273: -0.22957573009499074, 8274: -0.03428713897591842, 8275: -0.20800294883814646, 8276: 0.45907478622959125, 8277: 0.1580903999302543, 8278: -0.04249365711315555, 8279: 0.40911646638830507, 8280: 0.4807979232484648, 8281: 0.10301166432445154, 8282: 0.47945094645218445, 8283: 0.8360991971546, 8284: 0.4302249457704459, 8285: -0.26472269494273176, 8286: 0.14638008579860765, 8287: 0.8163336345558053, 8288: 0.27845057971448345, 8289: 0.12535866132187945, 8290: -0.7528814055324159, 8291: 0.3361342813777208, 8292: 0.24661205133951172, 8293: -0.06878800676431217, 8294: 0.28360234677587376, 8295: 0.2082464563060688, 8296: -0.3423635557668699, 8297: 0.7787508501200872, 8298: 0.17746896819481947, 8299: -0.6269190510848344, 8300: -0.18880851769619614, 8301: 0.10366287744033742, 8302: -0.4243376947319909, 8303: 0.3401835068877771, 8304: -0.3660766065215118, 8305: 0.02004418222903073, 8306: 0.7242093519356255, 8307: 0.024501841938834843, 8308: -0.0734223942165838, 8309: -0.249198802962645, 8310: 0.0829836551827883, 8311: 0.5556821008435893, 8312: 0.7301687811070302, 8313: -0.18862801654505848, 8314: 0.5609966636777987, 8315: -0.3203858142949248, 8316: 0.5425379070452633, 8317: -0.021385452185397447, 8318: 0.3886947803715589, 8319: 0.003702980954471151, 8320: 0.3575690207230454, 8321: 0.12318441618075654, 8322: 0.48259584131991257, 8323: 0.07870253644418175, 8324: 0.21958246086411573, 8325: 0.06553308978644452, 8326: 0.6952422923334892, 8327: -0.1867094651220166, 8328: 0.044112411809758716, 8329: 0.8249263544887158, 8330: 0.10043495639825284, 8331: -0.3110072249549542, 8332: 0.6040381746053757, 8333: 0.07188533475101055, 8334: 0.026063746740403355, 8335: -1.500687878982614, 8336: 0.2236325728063894, 8337: 0.24991079181892267, 8338: 0.1268310937764194, 8339: 0.5912898815555954, 8340: 0.22144779307021603, 8341: -0.22356705074322997, 8342: -0.3594604136809563, 8343: -0.26169042216804755, 8344: -0.20618964542465737, 8345: 0.18434616540662427, 8346: 0.5488599376331263, 8347: 0.2552563178859773, 8348: 0.02726405908819062, 8349: -0.21050378263759675, 8350: 0.06651980895123373, 8351: -0.4965777872037827, 8352: 0.2656898513991766, 8353: 0.1438155908159354, 8354: 0.17060236282660185, 8355: 0.078552563022605, 8356: 0.4076829743084302, 8357: 0.054156448791679114, 8358: 0.5042144952037323, 8359: 0.029864565302350255, 8360: 0.1476124423305168, 8361: 0.13468817010147077, 8362: -0.3383091875616927, 8363: 0.3344456506332764, 8364: 0.03575928232761971, 8365: -0.309314966579773, 8366: 0.07093243162303825, 8367: -0.0419728076975634, 8368: 0.15673943860319614, 8369: -0.033958429465707284, 8370: -0.48458433760011277, 8371: 0.37607443774555854, 8372: 0.46162059885630485, 8373: 0.17129743510414464, 8374: -0.3654180348732981, 8375: -0.02293512952048304, 8376: 0.05047739384732719, 8377: 0.3488630639405603, 8378: -0.26308196507377607, 8379: 0.26794113918887735, 8380: 0.4352758539563896, 8381: 0.329991347783434, 8382: -0.0025359246631322906, 8383: -0.1636115785911376, 8384: 0.6106204805231933, 8385: 0.0022996730223975507, 8386: 0.8753622118672182, 8387: 1.0779105379516851, 8388: 0.27593183647097846, 8389: 0.8438303679899408, 8390: -0.3737276482100278, 8391: -0.2980149179867762, 8392: 0.19001483108009556, 8393: 0.05503294615655661, 8394: 0.23072612804637627, 8395: 0.10338535395470633, 8396: -0.2423241935340438, 8397: 0.1288861982433943, 8398: 0.3481369369165843, 8399: 0.47134465599347597, 8400: 0.27359440581952355, 8401: 0.523649792353289, 8402: 0.26091439148748324, 8403: 0.10272763575678458, 8404: 0.22396093480419707, 8405: -0.3787605231483474, 8406: 0.009618567800142605, 8407: 0.10781671286951042, 8408: 0.4701851222732669, 8409: 0.17349391306679546, 8410: 0.4467780772830263, 8411: -0.14149522281390237, 8412: -0.04196967829708429, 8413: 0.18800610786425595, 8414: 0.33981004521232444, 8415: -0.4631782036062427, 8416: 0.45874822906066093, 8417: 0.07779662016592251, 8418: 0.39726135625425485, 8419: -0.38113120962855607, 8420: -0.35667770612926697, 8421: 0.47555031044364865, 8422: -0.1718946373662508, 8423: -0.12111857392128958, 8424: 0.2108476014040287, 8425: -0.7175155799104508, 8426: 0.6459256647688569, 8427: 0.2246862923887658, 8428: 0.3755151567797092, 8429: -0.13214537124261216, 8430: 0.12952744769615332, 8431: -0.5721886494089262, 8432: -0.28542756381821427, 8433: -0.30543549239264445, 8434: -0.007939779877573893, 8435: -0.1124817232801567, 8436: -0.013496868285740064, 8437: 0.1636509710494395, 8438: 0.3815669251697914, 8439: -0.2072940630630244, 8440: 0.03720705250229081, 8441: 0.1462489660923909, 8442: 0.2857681880709687, 8443: -0.03336325068596918, 8444: -0.5275783572653142, 8445: 0.8658480847709885, 8446: -0.08367139753810454, 8447: 0.5844830072572269, 8448: 0.11471311730285812, 8449: 0.697122222726256, 8450: 0.37057378374161276, 8451: -0.13586579945720156, 8452: 0.08003028539459113, 8453: 0.4992417864102457, 8454: 0.17372484747260716, 8455: -0.3596431073427191, 8456: 0.019496968221328143, 8457: -0.08376969416758231, 8458: 0.33106145628613387, 8459: -0.04900229398839207, 8460: 0.5773029805636622, 8461: 0.2404122581992558, 8462: 0.10151199612189679, 8463: -0.5134124867913433, 8464: 0.20243649554549925, 8465: 0.33296168122148123, 8466: -0.042623940587539204, 8467: 0.016675635444057504, 8468: -0.4134365357594187, 8469: 0.4874570590420177, 8470: -0.35040311126119256, 8471: -0.13715775407915895, 8472: 0.14079817366283556, 8473: -0.17360323102678324, 8474: -0.39033842667819435, 8475: 0.2719318593531451, 8476: 0.33341687819049576, 8477: 0.2280904883936921, 8478: 0.6551205177155044, 8479: 0.45540363549024765, 8480: -0.0068964556586591595, 8481: 0.2858530811739278, 8482: 0.21951343329031472, 8483: 0.6299576375310116, 8484: 0.009216406136654549, 8485: -0.025908228945134885, 8486: 0.3319108203251095, 8487: -0.38440442520618273, 8488: 0.14277109009858535, 8489: 0.6866156839056644, 8490: 0.27453575806825165, 8491: -0.06021081631587738, 8492: -0.5939594318721944, 8493: 0.48013898001307437, 8494: -0.24773378758334913, 8495: 0.18392478198821935, 8496: 0.2090461119298287, 8497: 0.43207823386231714, 8498: 0.5428597517472429, 8499: 0.7857278741040465, 8500: 0.8733633337245431, 8501: -0.11744427182818022, 8502: 0.29213082627795084, 8503: 0.3466904041873361, 8504: 0.2648737143362943, 8505: 0.3413668844856541, 8506: 0.3751624133090311, 8507: -0.10815374542741021, 8508: 0.14494144625633062, 8509: -0.41780300098525064, 8510: -0.3474963925131604, 8511: 0.16318962780641297, 8512: 0.4303153071800554, 8513: 0.7560190529674269, 8514: 0.6169723234399391, 8515: -0.8630802675645947, 8516: 0.16502644254260349, 8517: -0.056019476432929476, 8518: 0.7116963323901496, 8519: 0.7614047450555058, 8520: 0.13760967908874752, 8521: 0.7715875843690061, 8522: 0.21511918933312016, 8523: 0.038746460518343406, 8524: -0.12830520460734215, 8525: 0.2915536721842153, 8526: 0.5284150821514334, 8527: 0.009907519125861445, 8528: 0.5473604635301969, 8529: 0.3680398559657743, 8530: -0.37007491591377645, 8531: 0.4811255788527793, 8532: -0.027829307123894857, 8533: -0.3507892298684339, 8534: 0.5536238985319234, 8535: -0.18699331109499934, 8536: -0.016621917124814443, 8537: 0.1107327332964758, 8538: -0.1454145691340856, 8539: 0.04010946350032174, 8540: 0.5199411937753068, 8541: 0.470179376987719, 8542: -0.7132830530415555, 8543: -0.007068357677461875, 8544: -0.006322141043815584, 8545: 0.5045359907211346, 8546: 0.21792380147697019, 8547: 0.04781916825450937, 8548: -0.5320022018286098, 8549: 0.35412872484438435, 8550: -0.5060938148902147, 8551: 0.15619576694608306, 8552: 0.6334834071120764, 8553: 0.7846398286926656, 8554: -0.20648045991703753, 8555: -0.4479401236158931, 8556: 0.6915790129833007, 8557: 0.4172645593929271, 8558: 0.05327006719027203, 8559: 1.0705366805603473, 8560: 0.5871613039356722, 8561: 0.5121050841220235, 8562: 0.0879345261225935, 8563: -0.014925173698554643, 8564: 0.20225747238311068, 8565: -0.04060195969430137, 8566: 0.14236594371393413, 8567: -0.6007522797417173, 8568: 0.10119913634248809, 8569: 0.41182246810622336, 8570: 1.46118069490441, 8571: 0.05378968960488806, 8572: -0.009284551819031032, 8573: 0.1449699610792348, 8574: 0.12063728910237416, 8575: 0.08061111588168451, 8576: 0.5763609511938598, 8577: 0.24587328151126875, 8578: 0.7728328138532351, 8579: 0.08649492895284103, 8580: 0.08564602861071066, 8581: 0.32786370799144654, 8582: 0.3360130238464785, 8583: 0.03703324366169827, 8584: 0.07894143174555136, 8585: -0.1463834865815128, 8586: 0.32029458126130805, 8587: 0.45932289963069883, 8588: 0.776709533215027, 8589: 0.07527744931362144, 8590: -0.15949920364826678, 8591: -0.0006245476298077035, 8592: 0.17963047368333995, 8593: 0.5657411582546654, 8594: 1.0472713607896709, 8595: -0.10888697692012475, 8596: 0.4109277945253147, 8597: 0.10753550150455377, 8598: 0.19548276653996857, 8599: 0.4625237710219641, 8600: 0.3333435093569752, 8601: 0.3753119957452046, 8602: 0.31671704545020796, 8603: 0.2690062975403191, 8604: 0.33485461468071626, 8605: -0.02382079468282914, 8606: -0.12861635490192758, 8607: 0.05267078210024164, 8608: -0.4692782412530537, 8609: 0.24446064380098215, 8610: 0.23995838464478603, 8611: -0.1734868023896113, 8612: -0.10569900040096265, 8613: 0.2608016054624082, 8614: -0.0356251328326042, 8615: -0.49422621645325143, 8616: -0.39050415061845833, 8617: 0.159613803668101, 8618: 0.553015328545636, 8619: 0.09220538127318421, 8620: 0.7492372752978624, 8621: 0.5811191073490402, 8622: 0.15321861110023113, 8623: -0.11441821250316307, 8624: 0.07449453953538081, 8625: 0.010649101760610357, 8626: -0.318188415529375, 8627: 0.11481668949029929, 8628: -0.5415339971383244, 8629: -0.5518869491987048, 8630: -0.45068652389246044, 8631: 0.5326378043096611, 8632: 0.0247264935825468, 8633: -0.4119062601519008, 8634: 0.640124190373259, 8635: -0.45064377123712057, 8636: 0.2836321287851677, 8637: 0.05360528266338248, 8638: 0.44895390305577565, 8639: 0.3037887388733286, 8640: -0.13898679002910758, 8641: 0.10604409858487869, 8642: 0.07026698615511881, 8643: 0.1558437316540697, 8644: 0.47423600981557534, 8645: -0.3744412775863063, 8646: 0.5575443088773577, 8647: -0.6229614277992165, 8648: 0.10145321732151434, 8649: 0.10106072858125262, 8650: -0.29985194684457517, 8651: -0.11191699094993644, 8652: -0.17664541029181496, 8653: 0.4725548277203462, 8654: 0.13549009034104495, 8655: -0.32530537427165707, 8656: 0.053399198734296854, 8657: -0.32518224395362677, 8658: -0.032453534615257136, 8659: -0.4445269251366573, 8660: -0.4063569530194782, 8661: -0.1136688738417844, 8662: -0.09947007792995813, 8663: -0.4589113211618178, 8664: 0.6567606229002806, 8665: 0.31284802471332185, 8666: 0.020552085994648816, 8667: 0.4640011048949115, 8668: 0.3978574575684862, 8669: 0.4401855903537692, 8670: 0.7325867001212717, 8671: -0.11717424086822756, 8672: -0.05795593863592367, 8673: -0.03464959651498278, 8674: 0.32384921747250545, 8675: -0.4753003761946985, 8676: 0.3661074479498389, 8677: -0.35680108715569797, 8678: -0.759246385779177, 8679: 0.16461593605857544, 8680: 0.37057038564892925, 8681: 0.42406202980195784, 8682: -0.24890681347255073, 8683: -0.29249389061871783, 8684: 0.1749042872322561, 8685: 0.44480867539197044, 8686: 0.6893263953412072, 8687: 0.22517238819585375, 8688: 0.26771301798336505, 8689: 0.43899349161883955, 8690: -0.2955609154674736, 8691: -1.0524019702274894, 8692: -0.5311171846215363, 8693: -0.31270359936498077, 8694: -0.30745722328334746, 8695: 0.30545507314195536, 8696: -0.10575491355342694, 8697: 0.5594571586125602, 8698: -0.20404413020839687, 8699: 1.1314307919336974, 8700: -1.734616200766561, 8701: -0.2547334387063873, 8702: 0.20503270903813367, 8703: 0.142577432523324, 8704: 0.15326124057537496, 8705: -0.3477335089993521, 8706: -0.09155742798316224, 8707: -0.25588684955128077, 8708: 0.31800984610095334, 8709: 0.019348851555881192, 8710: 0.06316728229977803, 8711: -0.6753779368489854, 8712: 0.24112589316562547, 8713: 0.2980522773079857, 8714: 0.9556446346524158, 8715: 0.6489825150143128, 8716: -0.3474652577380636, 8717: -0.15228072915231136, 8718: -0.3207305538745571, 8719: 0.3822547884087571, 8720: 0.04788463361649618, 8721: 0.819288195322497, 8722: -0.3568221346281564, 8723: 0.6798140925139913, 8724: -0.30716442255874127, 8725: 0.1084652595024687, 8726: -0.3900080514747515, 8727: 0.5389271810246796, 8728: -0.5414427080530447, 8729: 0.002185327929354395, 8730: -0.9111387692973489, 8731: 0.28263814308324264, 8732: 0.280239772601647, 8733: -0.21605034984190472, 8734: -0.2648288493772373, 8735: -0.5164927331836566, 8736: 0.07010419672032916, 8737: 0.25983406753338967, 8738: -0.3269982750005545, 8739: 0.10914979199017193, 8740: 0.46667411459951536, 8741: 0.8819465001254834, 8742: 0.3658112771795923, 8743: 0.6704484470897925, 8744: 0.41691852003236224, 8745: -0.8122452850415766, 8746: -0.2724737939719971, 8747: 0.1987324939865792, 8748: 0.5064256462874632, 8749: 0.17707518252159385, 8750: 0.7569100200962572, 8751: -0.5074797261441488, 8752: 0.13615383330551156, 8753: 0.24577055746496226, 8754: -0.3722907206050707, 8755: 0.3018977719755256, 8756: -0.3432169508845213, 8757: -0.022973156121940157, 8758: -0.12827063441751213, 8759: 0.1463035930870894, 8760: 0.21049141222061396, 8761: -1.2216905702595382, 8762: 0.33166007697178534, 8763: -0.11620666195505856, 8764: 0.30167243013329564, 8765: 0.09658410453323124, 8766: -0.8846290095571894, 8767: 0.17501893855733702, 8768: -0.042491043022328694, 8769: 0.12416806148619602, 8770: -0.1907830711847258, 8771: 0.7088619437213954, 8772: 0.20390617045642417, 8773: 0.10171899336829693, 8774: 0.23772737557089002, 8775: 0.42232144388396115, 8776: 0.20729742845762547, 8777: -0.30044698157566735, 8778: 0.14472653946144703, 8779: -0.5795461403565724, 8780: 0.14722910300094283, 8781: -1.938422355889254, 8782: 0.3167778810763124, 8783: 0.3597155286711918, 8784: -0.29425205360724166, 8785: 0.5457181573855212, 8786: 0.6413579574917891, 8787: 0.5040319944354826, 8788: 0.18533997466546123, 8789: -0.5423936972461997, 8790: 0.37719505901217043, 8791: 0.4749764926007963, 8792: 0.1668979630419312, 8793: 0.015763497778041854, 8794: -0.009293128291728073, 8795: 0.01141536768569014, 8796: 0.5815159000180976, 8797: 0.5171873733956397, 8798: 0.4815893256060692, 8799: -0.28582931463979977, 8800: -0.16019801251020443, 8801: 0.17435258845921534, 8802: 0.4659821162464861, 8803: 0.02467898517146151, 8804: -0.16991691388961308, 8805: -0.2617024952608895, 8806: -0.01724350380470572, 8807: 0.13011582880300612, 8808: 0.7078687905964708, 8809: 0.5746899048378349, 8810: 0.37781394376622257, 8811: -0.14073123207992336, 8812: -0.2758475828551792, 8813: 0.8065673124932128, 8814: -0.22926520643022877, 8815: 0.6579587523925126, 8816: 0.10212420319814426, 8817: 0.6999005862189456, 8818: -0.2653493615360174, 8819: 0.0009203272990305339, 8820: 0.29675874040780875, 8821: 0.2564658702107246, 8822: 0.6884748863553019, 8823: -0.02523352545148129, 8824: -0.07753619780363408, 8825: 0.26480160944990816, 8826: 0.20894763754387335, 8827: -0.3868716026693686, 8828: -0.1958015603545039, 8829: 0.0882947841098825, 8830: 0.10890219692457066, 8831: -0.004999045024723884, 8832: 0.31475623273928227, 8833: -0.32262927446215534, 8834: -0.3449967325548939, 8835: -0.2742002345258074, 8836: -1.2647744994562038, 8837: 0.6064277203874783, 8838: 0.46100068109045317, 8839: -0.21862092576580183, 8840: 0.11293314634977254, 8841: -0.17450910645606466, 8842: -0.1403720731317102, 8843: 0.16123709075746245, 8844: -0.4439958459788298, 8845: 1.0099296592802725, 8846: -0.7455229470698149, 8847: -0.2066338057635792, 8848: 0.3166683481288835, 8849: -0.03429898327133925, 8850: 1.275516521245682, 8851: -0.5890204128835724, 8852: -0.5408925776980659, 8853: 0.47762150593840785, 8854: -0.31968906155147125, 8855: 0.9571210676131728, 8856: 0.08808785212530944, 8857: 0.4947711709773642, 8858: -0.21195651703215038, 8859: 0.21769941789786684, 8860: 0.9176096080727276, 8861: 0.12814324835111449, 8862: 0.018566572985463787, 8863: 0.3724355784124665, 8864: -0.3519851331149381, 8865: -0.42281144182333125, 8866: -0.02281896547583669, 8867: 0.3488555363335846, 8868: -0.2149162689093931, 8869: 0.09755691695829591, 8870: -0.861318375768277, 8871: -0.21048457470469392, 8872: 0.3665652690641768, 8873: 0.023919718280046316, 8874: 0.14134033123182146, 8875: 0.5683614431609554, 8876: 0.21127020552474407, 8877: 0.10150508607102356, 8878: 0.16895123691183261, 8879: -0.4843305515236443, 8880: -0.04700846746662277, 8881: 0.6071836388228233, 8882: 0.579518229917518, 8883: 0.20391000901056508, 8884: -0.5852013663746413, 8885: 0.03160836333229268, 8886: 0.2620683206393524, 8887: 0.220618135192372, 8888: 0.515725668351845, 8889: 0.12938285660882176, 8890: 0.8548147202173199, 8891: -0.3531405151850515, 8892: -0.02544897596323914, 8893: 0.265075060299449, 8894: 0.1962094731769703, 8895: 0.05143290551569775, 8896: -0.2512867753811898, 8897: 0.6518366264511879, 8898: -0.05945550932473206, 8899: 0.06770780551919224, 8900: 0.15042890859279817, 8901: 0.08906821256680102, 8902: 0.3440429761247906, 8903: 0.4792165232297098, 8904: -0.2954021459746736, 8905: -0.35583224896382165, 8906: -0.1496753936639304, 8907: 0.08574987133431856, 8908: 0.4424496077892061, 8909: 0.22511796210656984, 8910: 0.5567807255683205, 8911: 0.4235581794914145, 8912: 0.18770923102383968, 8913: 0.39757195362528774, 8914: 0.4268618938088645, 8915: 0.11751774001722902, 8916: 0.2066163460047973, 8917: -0.03301879737458476, 8918: 0.16560814262880816, 8919: -0.48129433297462126, 8920: 0.8535073969463076, 8921: -0.2986148725869822, 8922: 0.6137367842540036, 8923: -0.10106488140682149, 8924: 1.0205148674430389, 8925: -0.38978384989282033, 8926: 0.6715467767201545, 8927: -0.33858860697075355, 8928: 0.44274143366884783, 8929: 0.2659853438572802, 8930: 0.5347998275318429, 8931: 0.49690019142840214, 8932: -0.12744535606485569, 8933: -0.5219071153402178, 8934: -0.4161924194196677, 8935: 0.030349276854854387, 8936: -0.20353182306953563, 8937: 0.22789668644098468, 8938: 0.23548157881655266, 8939: 0.03117402026824807, 8940: -0.24534807545556483, 8941: -0.05187774707289616, 8942: -0.6425882780550591, 8943: -0.0868937310711436, 8944: 1.2564317143444619, 8945: -0.11788947545097567, 8946: 0.138426601218546, 8947: -0.1127314967530533, 8948: -0.08100704242723988, 8949: -0.8084004684924272, 8950: -0.19133481267481703, 8951: -0.1905597788456833, 8952: 0.6466868568222505, 8953: -0.06733875500705858, 8954: 0.4329772973044787, 8955: -0.3105263905494924, 8956: -0.33643858793522313, 8957: 0.20395496086213208, 8958: -0.1892761387554289, 8959: 0.8771615031304533, 8960: 0.7302398642388013, 8961: 0.36793030453592684, 8962: -0.41861115492011314, 8963: 0.14948257305456147, 8964: 0.4636359383919013, 8965: 0.3691712194709517, 8966: -0.2929476422156338, 8967: -0.15737374331122808, 8968: -0.054894144895428175, 8969: 0.4735725291673452, 8970: 0.2833048799474104, 8971: -0.1380129611895048, 8972: -0.4343109614894928, 8973: -0.2405744352636336, 8974: 0.10954470077783209, 8975: -0.09577756013598973, 8976: 0.27430729361272393, 8977: -0.9961251636122301, 8978: -0.4084272249814243, 8979: -1.6621103449195562, 8980: 0.3445645871163889, 8981: -0.09397810756779298, 8982: 0.5723131830382464, 8983: -0.47289055338353414, 8984: -0.6225802144103268, 8985: 0.08039690758637605, 8986: 0.15745246954616232, 8987: -0.37153646543277297, 8988: 0.27454104253037653, 8989: 0.4464679545539363, 8990: -0.006458015012816903, 8991: -0.23325566110293794, 8992: -0.6077265976476218, 8993: -0.2031424462112834, 8994: 0.2833442165045337, 8995: 0.06367251079374636, 8996: -0.27683060674361293, 8997: 0.18055130717328216, 8998: -0.3272456430567109, 8999: 0.21334872879895625, 9000: -1.1303798637058557, 9001: -0.6471588891269376, 9002: 0.2842137068344302, 9003: 0.26821594721767156, 9004: -0.2797745418493022, 9005: -0.5299302854663933, 9006: -0.06556473135365117, 9007: 0.06725288149953601, 9008: -0.783571645193191, 9009: -0.021216622124491834, 9010: 0.4847895243667623, 9011: 0.04557659930561944, 9012: 0.6540983796744724, 9013: 0.006318285289999239, 9014: -0.17584177558794495, 9015: -0.20789090136099062, 9016: -0.17711031219769602, 9017: 0.326005272794505, 9018: 0.08806795748010444, 9019: 0.6412258670147561, 9020: 0.1521617654623001, 9021: 0.11512531457329539, 9022: 0.026017552929957763, 9023: 0.5565935116199558, 9024: 0.2875545967118111, 9025: 0.3155841955908423, 9026: 0.7972366335093806, 9027: 0.389297197298923, 9028: -0.03555428254455616, 9029: -0.35757362448880975, 9030: 0.30286029618031174, 9031: 0.7237632342109623, 9032: 0.31344594548668103, 9033: 0.5544866973184435, 9034: 0.347829521709962, 9035: -0.24579366679040107, 9036: 0.2289141658775658, 9037: -0.1061222841251798, 9038: 0.2888740153984859, 9039: -0.006131343693858865, 9040: 0.27028493875675286, 9041: 0.7386458248573912, 9042: 0.256886961051392, 9043: -0.224882536587138, 9044: 0.1309882218971613, 9045: -0.0024058265999295455, 9046: 0.2302703797640147, 9047: 0.5400864794818776, 9048: 0.2716893854108375, 9049: -0.1587685002976695, 9050: 0.18151377369211313, 9051: 0.09789127501446868, 9052: 0.09073194671099469, 9053: 0.48176961117608763, 9054: 0.8645249934574583, 9055: -0.3232436514866601, 9056: -0.016789248969325574, 9057: -0.11980212933162902, 9058: 0.10568368780549539, 9059: -0.2303008321091615, 9060: -0.5673149493247392, 9061: 0.23125468988309703, 9062: 0.2726319609183476, 9063: 0.0007967498383062591, 9064: -0.05904233561963897, 9065: 0.4991225248092827, 9066: 0.17965122477506767, 9067: 0.5103353180508245, 9068: 0.2829215762145246, 9069: 0.4396641460666497, 9070: -0.020898714058565138, 9071: -0.3702060209150599, 9072: 0.5156096462257378, 9073: -0.3320347651700554, 9074: -0.27682853328681484, 9075: 0.5231177570740518, 9076: 0.18303713435068097, 9077: -0.3107364826929005, 9078: -0.30700761787305947, 9079: -0.20388558003247015, 9080: 0.31702301140607925, 9081: -0.4618588008353454, 9082: 0.1870307162685586, 9083: 0.24241734105014517, 9084: 0.11012957080511697, 9085: 0.2811426470947066, 9086: -0.273222795326692, 9087: -0.030907567479571157, 9088: 0.11512641663478626, 9089: -0.20595726108235746, 9090: 0.527892725945825, 9091: -0.345940110889966, 9092: -0.8667683085078297, 9093: -0.022299973619915606, 9094: 0.17582385908841122, 9095: 0.047745688466745685, 9096: 0.31292192369929067, 9097: 0.24002675155207934, 9098: 0.5803528472463817, 9099: 0.030926491803549064, 9100: 0.2703377832526612, 9101: 0.37415476084514654, 9102: 0.5766382195719629, 9103: -0.11766180250880054, 9104: 0.2607162961451206, 9105: 0.528632797808614, 9106: -0.5698818992878282, 9107: -0.13899932490402897, 9108: -0.20778041284608056, 9109: -0.24057213955334344, 9110: -0.05849441730109896, 9111: 0.43274395942678084, 9112: 0.5665845320846631, 9113: 0.562050500008587, 9114: -0.0675619373880504, 9115: 0.12549338992166503, 9116: -0.8502939549943946, 9117: 0.4932679187841572, 9118: 0.6215598994117874, 9119: 0.051991051899466845, 9120: 0.24471163418432137, 9121: 0.24349621353108505, 9122: 0.5120726849451147, 9123: -0.00981356848024635, 9124: -0.6057864934829976, 9125: -0.2874872463009293, 9126: 0.028182231235269768, 9127: 0.28968113613450347, 9128: -0.2837881283804717, 9129: 0.47005349027942245, 9130: 0.46044698551408575, 9131: -0.2645733429339822, 9132: 0.27915428873046144, 9133: 0.8127480546692887, 9134: 0.6700659129674639, 9135: 0.004977676246509048, 9136: 0.11865384776046593, 9137: 0.4986976351571242, 9138: 0.2106476394414051, 9139: -0.12242226978708834, 9140: 0.08406655300318257, 9141: 0.17721330931305035, 9142: 0.17432427332849582, 9143: 0.5166453117664871, 9144: 0.23604883701196233, 9145: 0.6139730757389034, 9146: -0.17257578706936597, 9147: -0.4350206638660571, 9148: -0.17891840763218375, 9149: -0.23473147097039462, 9150: -0.5706336151398991, 9151: 0.1599801676464705, 9152: 0.20948686022622112, 9153: 0.7728890044423865, 9154: 0.5271940841474002, 9155: -0.16787587772137613, 9156: -0.06484256608249743, 9157: -0.5941046215524454, 9158: 0.1926526067765465, 9159: -0.11678384764567055, 9160: 0.7786475582047324, 9161: 0.0946524515774655, 9162: 0.06702006225339398, 9163: 0.20376274786177825, 9164: -0.05764749523712941, 9165: -0.31075920763274145, 9166: -0.37890109196488064, 9167: -0.0012154721995658792, 9168: 0.4683642345863766, 9169: 0.41035667068105713, 9170: 0.2649613680783211, 9171: -0.21349843624983106, 9172: -0.5559584925716117, 9173: 0.2403618768145282, 9174: 0.0783514000680438, 9175: 0.08267763358252027, 9176: 0.5213234395500226, 9177: -0.5186099408870746, 9178: 0.5334790308755384, 9179: -0.602592104591716, 9180: 0.2816616726056048, 9181: 0.7253629310789704, 9182: 0.11573213549937579, 9183: -0.02715678679349159, 9184: 0.24994004083906066, 9185: -0.13370334330792344, 9186: 0.13332837775563527, 9187: 0.07960668551427684, 9188: -0.4243449644029189, 9189: -0.28483007965036233, 9190: -0.3327209429791782, 9191: 0.5388333530099779, 9192: -0.21202770182342462, 9193: 0.1693733700868776, 9194: 0.023933884899646367, 9195: 0.21648487321629695, 9196: -0.05376856003189909, 9197: 0.3255857872717316, 9198: -0.1557540239884175, 9199: 0.128863761834576, 9200: -0.45364061405797435, 9201: -0.38327427972155154, 9202: -0.28883682338149125, 9203: 0.5863062590661612, 9204: -0.34036230496843173, 9205: 0.4857314268499422, 9206: -0.2312508937030957, 9207: 0.3236786500783496, 9208: -0.3393138527535313, 9209: 0.3324277242388496, 9210: -0.1943459446379238, 9211: -0.8375291216548095, 9212: 0.160655984138299, 9213: 0.17033682311388484, 9214: -0.3705577014776172, 9215: -0.4079814563976114, 9216: -0.3795759034542465, 9217: 0.017954281179307204, 9218: 0.08406273545279622, 9219: -0.6505194513369409, 9220: -0.17934821834557302, 9221: 0.1381214513085967, 9222: 0.5351199402821647, 9223: -0.25684205867828563, 9224: -0.325024020032408, 9225: 0.47001714720177196, 9226: -0.3642382232267991, 9227: -0.470279538668287, 9228: -0.5751931177962333, 9229: -0.06319279516616279, 9230: 0.12249309679107064, 9231: 0.2206053411723292, 9232: 0.4749942347533335, 9233: -0.09187004793570094, 9234: -0.2209226183952254, 9235: -0.7044618925942626, 9236: -0.3401349233986782, 9237: 0.3742031753148963, 9238: -0.22402343020295107, 9239: 0.2701945531824341, 9240: -0.003747398063400957, 9241: -0.08578711074451423, 9242: 0.2321038758532566, 9243: -0.017429951570617167, 9244: 0.09227783279478664, 9245: -0.34755052304899886, 9246: -0.045006347196166474, 9247: 0.7883252986397223, 9248: -0.33120943690918186, 9249: 0.010593083875621991, 9250: 0.4375712635492673, 9251: -0.2919383382390776, 9252: -0.5405278946710991, 9253: -0.3686952120155268, 9254: -0.24423225206045165, 9255: 0.9701870160476527, 9256: 0.289039366151934, 9257: 0.488932973884931, 9258: 0.4959672700125544, 9259: 0.7986382456887429, 9260: 1.117395187056143, 9261: -0.36938251662809884, 9262: 0.31041860551251993, 9263: -0.04774196590067844, 9264: 0.037099351132280016, 9265: -0.4994845130960419, 9266: 0.12969803814514708, 9267: -0.5328353323151196, 9268: -0.07189212291031155, 9269: -0.27820597704806943, 9270: -0.29484358597138977, 9271: -0.15760908353868883, 9272: -0.37427769290328056, 9273: -0.5391238848983562, 9274: 0.1823658476984344, 9275: -0.636998472287441, 9276: -0.1192929146090107, 9277: 0.7529815776630177, 9278: -0.1973958985750572, 9279: 0.11803462465501043, 9280: 0.6504193439789668, 9281: 0.9803227433242114, 9282: 0.052885708223254675, 9283: -0.196305549161469, 9284: -0.23430989257701643, 9285: 0.5826976432482445, 9286: -0.062396036516981154, 9287: -0.3506366653186641, 9288: -0.1594673281409369, 9289: 0.306204809856533, 9290: 0.6107609798520635, 9291: -0.898535133149386, 9292: -0.5054395537696752, 9293: 0.36484608309645716, 9294: 0.2773063524551293, 9295: -0.874366961385766, 9296: 0.6320150486579159, 9297: 0.0339869217047811, 9298: 0.0871024252284875, 9299: 0.16073771319978564, 9300: 0.08338135065074136, 9301: 0.1107949335017984, 9302: 0.009645279422450841, 9303: 0.1253638144788822, 9304: -0.029387588687940874, 9305: -0.895148726152571, 9306: 0.45132744946514386, 9307: 0.40966610847576507, 9308: -0.4006132836907922, 9309: 0.25617776181209845, 9310: 0.1856373389720344, 9311: 0.14113971140522838, 9312: -0.1086444480981235, 9313: 0.37675702377477377, 9314: -1.5433222065998182, 9315: 0.12393713244824925, 9316: 0.20453782446615928, 9317: 0.10227188704776946, 9318: 0.18159099395498585, 9319: -0.13925750562530206, 9320: 0.15512688144281045, 9321: -0.4582465836549155, 9322: 0.8696159610106148, 9323: -0.07176986616087234, 9324: -0.08052736027218185, 9325: -1.1825710607798268, 9326: 0.7802508807495806, 9327: 0.28726205708918756, 9328: -1.1693187103193374, 9329: 0.11514200253788902, 9330: 0.41366737061804537, 9331: -0.32006036649456593, 9332: -0.40138193850263804, 9333: -0.001218768705869594, 9334: 0.33432001991927307, 9335: -0.2798695477315513, 9336: -0.43743204918973716, 9337: 0.3081654303150953, 9338: -0.12437425401234493, 9339: 0.4801604885850329, 9340: 0.3109841855758538, 9341: 0.07384331286783526, 9342: 0.16498226382598916, 9343: -0.11768331869244437, 9344: -0.03722278049688068, 9345: -0.8719655748545314, 9346: -1.081599402646467, 9347: -0.10338549974060085, 9348: -0.8673347478196402, 9349: 0.06857413324406055, 9350: -0.5488615242988071, 9351: 0.12396693936602537, 9352: 0.024485988281626177, 9353: 0.46269163046697587, 9354: 0.8416246816984638, 9355: -0.840944268884339, 9356: -0.33070369806576516, 9357: 0.7135020720214282, 9358: 0.10235110738791474, 9359: -0.0794974689846205, 9360: 0.5479256338332457, 9361: 0.0852604475630554, 9362: 0.3597726454621132, 9363: 0.3313891549153531, 9364: 0.23952643576550867, 9365: -0.39888828854265834, 9366: -0.7833448498258615, 9367: -0.15993017062293877, 9368: 0.07649651341486122, 9369: -0.5109810523632112, 9370: 0.5188984242831167, 9371: 0.049448307946123836, 9372: 0.2888151957727381, 9373: -0.3778774484730687, 9374: 0.3261079277953876, 9375: 0.16069735109364486, 9376: -0.5884020748778611, 9377: 0.23789696414759898, 9378: -0.960984597555245, 9379: 0.507102089521005, 9380: 0.6171480071783721, 9381: 0.036140521829847616, 9382: -0.6444517122734684, 9383: 0.5666247710739148, 9384: 0.8927912770167081, 9385: 0.03189080616530576, 9386: -0.36721056656092455, 9387: 0.44720116291417766, 9388: 0.18328032964520344, 9389: -0.3547975586809348, 9390: 0.5682589974556027, 9391: 0.8389348578677513, 9392: -0.03809712402533508, 9393: -0.09328800843282403, 9394: -0.031432580487394925, 9395: -0.46480076259654196, 9396: 0.11618515228155721, 9397: 0.04158294220172619, 9398: 0.28022356973687773, 9399: -0.0314012831265445, 9400: -0.8764279638906468, 9401: 0.20851664618779375, 9402: -0.036025357755000646, 9403: 0.25969091119374615, 9404: -0.17209913528517976, 9405: 0.03256211969391653, 9406: 0.11151727819572252, 9407: 0.3120723101484989, 9408: 0.3773481624491077, 9409: -0.15848398016110274, 9410: 0.2086669480121014, 9411: 0.09221498608510018, 9412: -0.5265510753644793, 9413: 0.40948808473118187, 9414: -0.019835113014059106, 9415: -0.5552033189650437, 9416: 0.37187103501052154, 9417: -0.07165802645169267, 9418: 0.34586922937875625, 9419: 0.17725706667174798, 9420: -0.17256785620247989, 9421: 0.3268965674094479, 9422: 0.6593248726884298, 9423: -0.5433308271318041, 9424: 0.45416033708540554, 9425: -0.5166641339017893, 9426: -0.1597214326648545, 9427: 0.18071653642080457, 9428: 0.026710891618662733, 9429: -0.6586888304348152, 9430: -0.24919938828433033, 9431: 0.4791160641334565, 9432: 0.7018047697298176, 9433: -0.2820488453716511, 9434: 0.39722959869412877, 9435: 0.1429626216998623, 9436: -0.08005682419525452, 9437: -0.1702609486864197, 9438: -0.12798804447031742, 9439: 0.6600223497896635, 9440: 0.07301584089771135, 9441: 0.5639263746058236, 9442: 0.15848665849410784, 9443: 0.5866243684027604, 9444: 0.11409061769162578, 9445: 0.0033067054530365827, 9446: 0.20861122650653766, 9447: 0.0793621528807576, 9448: -0.24630874460142776, 9449: 0.13915196294749604, 9450: -0.21567086953296088, 9451: -0.1641322219773561, 9452: 0.39269578236754665, 9453: -1.3753176424368931, 9454: -0.1627546454335989, 9455: 0.7028048659382388, 9456: -0.32933308769014086, 9457: -0.5274404765155951, 9458: 0.020477423781377447, 9459: -0.008852211872479315, 9460: -0.0671413782032624, 9461: -0.9140248258508222, 9462: 0.49205206288835146, 9463: -0.23461849228486303, 9464: 0.13453224671961148, 9465: 0.14113759003384216, 9466: -0.0848539643742662, 9467: 0.6966390699735736, 9468: -0.26443637142286613, 9469: -0.6403971910425977, 9470: -0.2316108140308758, 9471: 0.4579385019203535, 9472: 0.6790815292150586, 9473: -0.09109036276441335, 9474: 0.6978907970486793, 9475: 0.5069925254217698, 9476: -0.1869735067774366, 9477: -0.20365149262636542, 9478: -0.6660743526810189, 9479: -0.05354960906863311, 9480: 0.3977707012326245, 9481: 0.20139755668208906, 9482: 0.21136012396371964, 9483: 0.5022958893218458, 9484: 0.21008682153517824, 9485: -0.3688483975095949, 9486: 0.25901791645900546, 9487: 0.5603720481574765, 9488: -0.26384500052987137, 9489: 0.09621292520018747, 9490: 0.12753721042539382, 9491: -0.3285366769976116, 9492: 0.1225743066505388, 9493: 0.2353952632459414, 9494: 0.13780456151631354, 9495: -0.7875550283919299, 9496: 0.4120194284744906, 9497: 0.3000332452399012, 9498: -0.08741473372416124, 9499: 0.2693864674209881, 9500: 0.8175104144120872, 9501: -0.7047401563975002, 9502: 0.42464043233216214, 9503: -1.4580169102823781, 9504: 0.6746374836329145, 9505: 0.5893588323094631, 9506: -0.5758903535306934, 9507: 0.466355766585216, 9508: 0.6198393811444405, 9509: -0.24370854197622832, 9510: -0.04218034776277715, 9511: 0.18928831446997565, 9512: -0.42862191480503237, 9513: -0.06898950250788521, 9514: -0.3236670637671366, 9515: 0.19857721554894664, 9516: -0.23818195352005186, 9517: -0.6905067124715542, 9518: 0.2954513761231079, 9519: 0.4528026749755222, 9520: -0.43877458881457543, 9521: 0.30397271456451086, 9522: 0.06166712803540043, 9523: 0.4363989748044388, 9524: 0.2810002582876765, 9525: 0.346976249681066, 9526: 0.20645922989193458, 9527: -0.13715282921660332, 9528: 0.231301843450441, 9529: -0.7177243031734509, 9530: 0.05891457886134469, 9531: 0.3475060630456887, 9532: 0.8292502666648509, 9533: 0.5149072809175267, 9534: -0.1951315524717135, 9535: 0.10336803118357389, 9536: 0.16550046773937044, 9537: 0.022911572911893607, 9538: 1.171373215781392, 9539: 0.3244048158639372, 9540: 0.7279015332653103, 9541: -0.08339094488797205, 9542: -0.3323499482216599, 9543: -0.3247223955194166, 9544: -0.346897535558061, 9545: 0.24501454969433406, 9546: -0.1910587083740631, 9547: 0.325815347495046, 9548: -0.09375516875507524, 9549: 0.5037956511639006, 9550: 0.23891952600964417, 9551: -0.47698093031245725, 9552: 0.3365415505893201, 9553: 0.7709623360208407, 9554: 0.6169630265900621, 9555: 0.34247693271037977, 9556: 0.21079991096370404, 9557: -0.29726397448010194, 9558: -0.05630360352935546, 9559: 0.031483668101733385, 9560: 0.4837617332105153, 9561: 0.09422028048770868, 9562: -0.21016930421785993, 9563: 0.5977926161562578, 9564: 0.2787432190457096, 9565: 0.294372864775379, 9566: -0.44355019803540946, 9567: -0.4526789919482829, 9568: 0.07748910364624717, 9569: 0.6349101748131973, 9570: 0.8310986263908804, 9571: 0.44750202103319836, 9572: -0.2690025560336117, 9573: 0.5048814968991134, 9574: 0.46130237239039995, 9575: 0.34618864493697094, 9576: 0.3721070625662674, 9577: 0.3780154712882145, 9578: 0.005722868899821293, 9579: 0.1720771292858903, 9580: 0.5605426098035214, 9581: -0.542043667182869, 9582: -0.13822356470833883, 9583: -0.5277570119509382, 9584: -0.33689361747446084, 9585: -0.2924116662598355, 9586: 0.32397016154103003, 9587: 0.04707605028398296, 9588: 0.18334769887541302, 9589: 0.014649390636250528, 9590: 0.009344525872662364, 9591: 0.5063563873906187, 9592: -0.15736261006558722, 9593: 0.22830112178684198, 9594: -0.11654709553654703, 9595: 1.0667539015749385, 9596: 0.2138325303070814, 9597: -0.3918438174747937, 9598: -0.8036805156764112, 9599: 0.1756709167407755, 9600: -1.2607035558957749, 9601: 0.582736489744194, 9602: 0.6300165119755358, 9603: -0.7058116788385083, 9604: 0.7234162933369146, 9605: 0.16324470834991245, 9606: -0.41104860611384736, 9607: -0.007505210138714789, 9608: -0.48407265054473286, 9609: -0.15968811201383779, 9610: -0.13779780747380468, 9611: -0.026724542157565506, 9612: 0.3338475917224256, 9613: 0.4262449561159136, 9614: 0.22177191008789407, 9615: -0.002177489323666754, 9616: -0.44684129449102744, 9617: 0.07642809168474497, 9618: 0.20326209971802744, 9619: -0.739701626394061, 9620: -0.015524828380484404, 9621: -0.13725325911807956, 9622: 0.05245831196238662, 9623: -0.15733670919552012, 9624: -1.0049440611915847, 9625: -0.08240354628517309, 9626: -0.4358017148783225, 9627: 0.06671460108461025, 9628: 0.08537116259333054, 9629: -0.26580935400082917, 9630: -0.5144330934928962, 9631: 0.5525160498525641, 9632: 0.06621789480033437, 9633: -0.0722863083785337, 9634: 0.008926813182931634, 9635: 0.024311222940256137, 9636: 0.3981952320846439, 9637: 0.4061929829061507, 9638: -0.5605447245249576, 9639: 0.1888057565853743, 9640: 0.29263028525860724, 9641: 1.0326514174963715, 9642: -0.9970737915371912, 9643: 1.183824933488509, 9644: -0.08419287584183818, 9645: 0.22979146447027055, 9646: -0.6639956610535275, 9647: -0.10855564772898958, 9648: -0.6023207124822496, 9649: 0.35076616901309815, 9650: 0.5540902718604614, 9651: 0.11852938905040368, 9652: 0.18396680946151944, 9653: 0.03057213027435035, 9654: -0.05761672077703451, 9655: 0.18251137743333212, 9656: 0.5170841630019584, 9657: -0.0971242307962261, 9658: 0.36298572992684974, 9659: 0.29187202847387245, 9660: 0.20584322729870064, 9661: -0.16324491969501567, 9662: -0.5666742752974646, 9663: 0.01315030038327055, 9664: -0.21718557568130165, 9665: -0.041071809849014665, 9666: 0.36161491826671294, 9667: -0.7077271203510087, 9668: 0.4698569025554998, 9669: 0.07806306281390328, 9670: -0.2956669256234045, 9671: 0.24050860521262757, 9672: 0.30604767505442804, 9673: 0.029843718205091668, 9674: -0.719682188634332, 9675: 0.5789927357987729, 9676: 0.6129618063843055, 9677: -0.5623178719428125, 9678: 0.5627796657306207, 9679: -0.16282006403899255, 9680: -0.06402459332189166, 9681: -0.14385835693609195, 9682: -0.15619102598362325, 9683: -0.4184944313352675, 9684: 0.8516713503681723, 9685: -0.7704021707877128, 9686: -0.5389604509902028, 9687: -0.48033104055077797, 9688: -0.1797526280124765, 9689: -0.054898235921348945, 9690: -0.022727109056174033, 9691: -0.33803355032298665, 9692: -0.02982978883679321, 9693: -0.06564260032934088, 9694: 0.16749223504099722, 9695: 0.5008620415750534, 9696: 0.5099313522690487, 9697: 0.8896507051926448, 9698: -0.44638305375872295, 9699: -0.07606087167072736, 9700: -0.695592655651466, 9701: 0.18596324383063784, 9702: -0.39233745118212615, 9703: 0.07533616120398395, 9704: 0.11569775536191645, 9705: -0.039506145067426994, 9706: 0.13128926300939542, 9707: -0.15705230958881572, 9708: 0.005090503968906737, 9709: 0.059286353186608076, 9710: 0.7345971862125866, 9711: -0.6219457533919608, 9712: -0.006683690463355638, 9713: 0.21224746658914972, 9714: 0.550478604899854, 9715: -0.5213572379520752, 9716: 0.50253447908468, 9717: 0.035861268747485006, 9718: 0.7278036014294003, 9719: -0.1434926374785637, 9720: -0.22055861378096006, 9721: 0.6740065082850619, 9722: 0.36396349406947354, 9723: -0.02222256701036175, 9724: 0.06739339861998997, 9725: 0.2103755839309909, 9726: 1.0913618382183046, 9727: -0.059505369060744905, 9728: -0.10368724196790323, 9729: -0.48691820712218453, 9730: 0.5009336521630071, 9731: -0.7630420438718473, 9732: -0.06829789274559395, 9733: 0.34448365697309735, 9734: -0.5882367908010622, 9735: -0.09113468320040852, 9736: 0.6397111822801023, 9737: 0.156648141058339, 9738: -0.4049383444823586, 9739: -0.06353262641771568, 9740: 0.06019119043855376, 9741: 0.521229743372033, 9742: 0.1842189562030023, 9743: -0.12662056887147824, 9744: -0.07412279221530967, 9745: -0.7072451575927658, 9746: -0.42022297107691786, 9747: 0.47086851203140906, 9748: 0.4030735328754981, 9749: 0.6615858255257258, 9750: 0.21242792823237935, 9751: 0.06266453874078305, 9752: -0.18379792517761537, 9753: 0.4338118236606977, 9754: -0.5075227599239469, 9755: 0.5193221890390128, 9756: -0.0463965542733638, 9757: 0.04973463204982089, 9758: 0.1705471132167204, 9759: -0.37534214703483126, 9760: -0.5446949349373224, 9761: -0.9213062884792336, 9762: 0.5405513073510652, 9763: 0.17234263003989536, 9764: -0.2396934667776522, 9765: 0.025971121699823962, 9766: -1.0153895764329002, 9767: -0.24330368872325123, 9768: 0.43242659032851544, 9769: -0.1190555183926663, 9770: 0.2656400904543396, 9771: -0.329263492938679, 9772: 0.10340591804108971, 9773: 0.5573777322905153, 9774: 0.02746019245180098, 9775: 0.3717247489148459, 9776: -0.015663618265089763, 9777: 0.06015142334273423, 9778: 0.659506663398535, 9779: -0.3449188621584455, 9780: 0.23912259935785332, 9781: 0.22758701682787288, 9782: 0.4390130380553066, 9783: 0.3223933246297202, 9784: 0.7639420881185008, 9785: 0.40859631945156744, 9786: -0.15053072076374982, 9787: -0.7492189280580817, 9788: 0.6426492079903446, 9789: -0.6282217061403934, 9790: 0.9193880350135644, 9791: 0.0303968308563638, 9792: 0.283529290633779, 9793: 0.4026798283092797, 9794: 0.7280102893105013, 9795: -0.25660958635571385, 9796: 0.524407185441449, 9797: -0.020497554418022014, 9798: 0.08919047841982701, 9799: 0.26806175352574174, 9800: 0.17091037871788908, 9801: 1.0147403712400085, 9802: 0.23197657770053595, 9803: 0.36291650861366914, 9804: 0.5248529553507565, 9805: -0.025678943506782386, 9806: 0.036210975729733454, 9807: 0.1253143724374196, 9808: 0.3667829329074198, 9809: 0.32366756872474123, 9810: 0.2223580681719022, 9811: 0.6744658415194791, 9812: -0.5317044312861908, 9813: -0.13230124314381458, 9814: -0.09556288095369575, 9815: 0.6151031196410318, 9816: -0.11545411975912048, 9817: 0.1982379906509035, 9818: -0.551488826790317, 9819: -0.15183557384858096, 9820: -0.4284098430419725, 9821: -0.3639159998895231, 9822: -0.7342431083757035, 9823: -0.06455602088775446, 9824: -0.38130164719743465, 9825: -0.17107130619354272, 9826: 0.8779267110496831, 9827: 0.5159049079539969, 9828: -0.19828565736369466, 9829: 0.4063986792107774, 9830: -0.2889379376431527, 9831: 0.06747469787649264, 9832: 0.046541015094444096, 9833: -0.2157593138605868, 9834: -0.22220344429984548, 9835: 0.2811799338159451, 9836: -0.11194294068234739, 9837: 0.30777461297846004, 9838: 0.2835484236687906, 9839: 0.23380322554586186, 9840: 0.21448758012628003, 9841: 0.12313416048448408, 9842: 0.0023439172921464876, 9843: 0.2586921198010837, 9844: 0.3405318070572454, 9845: 0.06223050126305694, 9846: -0.1428087117849148, 9847: 0.4227870384598491, 9848: 0.008959179558026513, 9849: 0.46454306694587083, 9850: -0.5786267261639474, 9851: -0.5215429200583, 9852: -0.17763134466032354, 9853: 0.20911415059801639, 9854: -0.37316755221519976, 9855: -0.19196433615205805, 9856: -0.0801807216009107, 9857: 0.4428442568727592, 9858: 0.011359125743318918, 9859: 0.4213708710022336, 9860: 0.3003792676520887, 9861: -0.36017613291036804, 9862: 0.4220876365118009, 9863: 0.09870550611169734, 9864: -0.24206238728282511, 9865: -0.0262298970874071, 9866: -0.1286521669656464, 9867: 0.1532008336765471, 9868: 0.2991402989170392, 9869: -0.003065278362946743, 9870: 0.17795168422339086, 9871: 0.2184960554348103, 9872: -0.009418582993107777, 9873: -0.9493798222220061, 9874: 0.09337491178195587, 9875: 0.5333846393474402, 9876: -0.4091085838477496, 9877: 0.6385379962925837, 9878: -0.381979043338531, 9879: -0.7827453267999187, 9880: 0.20351075682026537, 9881: 0.2183760803461027, 9882: 0.6661183564325359, 9883: 0.2649473351689651, 9884: 0.6014684591939702, 9885: 0.014977410862536756, 9886: 0.09943998157429033, 9887: -0.6317297075560657, 9888: -0.6428614973939607, 9889: 0.2941896746454249, 9890: -0.8461693994551325, 9891: 0.3222613420428499, 9892: 0.4024525884521351, 9893: 0.19772629087178703, 9894: -0.08342205999685215, 9895: -0.12753696540906984, 9896: 0.06746192299649222, 9897: -0.4742211298812979, 9898: 0.13933998391772004, 9899: -0.09036651106900383, 9900: 0.4631701861967774, 9901: 0.6376510284667722, 9902: 1.4033865494413502, 9903: 0.39703521883683945, 9904: 0.5803714121430572, 9905: -0.6249538839201416, 9906: 0.3875869453791944, 9907: -0.1877923480939717, 9908: -0.3365920301058917, 9909: 0.037656332124453684, 9910: -0.3610694916455563, 9911: -0.2549007884155623, 9912: -0.0786565741353906, 9913: 0.8091663307738034, 9914: -0.6966613259706251, 9915: -0.019025055610051248, 9916: 0.20087273198075048, 9917: -0.022054394033103608, 9918: 0.2751105140625714, 9919: 0.2049399431837725, 9920: 0.21309445479959024, 9921: 0.40803872109445666, 9922: 0.3264257033023833, 9923: 0.0289112351018601, 9924: 0.026711934132367037, 9925: 0.8196741669350345, 9926: -1.1052417237788814, 9927: -0.17976854168749432, 9928: 0.18356081299815033, 9929: -0.1302969006631777, 9930: 0.2988487754134585, 9931: 0.13097326920317276, 9932: 0.34733038944576494, 9933: -0.5350233790110587, 9934: -0.777162903978617, 9935: 0.582832925046805, 9936: 0.037054003607971175, 9937: -0.10734902277482589, 9938: -0.43671288685168286, 9939: -0.3739644550883908, 9940: 0.10372104329552015, 9941: -0.3501169700350127, 9942: -0.21464139435468146, 9943: -0.8510728839476944, 9944: 0.0161046657768406, 9945: 0.5003318246702391, 9946: 0.4953344541869439, 9947: 0.17909646464249188, 9948: -0.08850304943311929, 9949: -0.09386041276552755, 9950: -0.21723801209733698, 9951: -0.5993756182862444, 9952: 0.19186820040830885, 9953: -0.07331346666090068, 9954: 0.1996246978851361, 9955: 0.15575336820118857, 9956: 0.14110759096876682, 9957: -0.054584020711330346, 9958: -0.361744397455848, 9959: 0.26153091193048505, 9960: -0.00802217258168537, 9961: 0.24296841102825145, 9962: 0.24109217348630152, 9963: 0.2666509488315239, 9964: -0.09014780401279393, 9965: 0.8643543343278334, 9966: 0.12814102311774, 9967: 0.26029657734961187, 9968: 0.32816120711497465, 9969: -0.3247264841246574, 9970: -0.6631321619755443, 9971: -0.2789239264721185, 9972: 0.3067649052594504, 9973: -0.049284343443543044, 9974: 0.5995842172843311, 9975: 0.005510549398536235, 9976: -0.14432757774184782, 9977: 0.05120009195591529, 9978: -0.29892763245024956, 9979: 0.2328391941388671, 9980: 0.27558334685757, 9981: -0.3588052240434663, 9982: 0.8936579312123928, 9983: 0.2776736762589999, 9984: -0.9139896408290227, 9985: -0.4105937534666381, 9986: -0.04021540064028064, 9987: -0.060092460746121554, 9988: -0.06467201954244331, 9989: 0.6987092139833098, 9990: -0.23942158351524379, 9991: -0.038939312060909496, 9992: -0.28775092807348784, 9993: -0.08987664045764782, 9994: -0.03704428391260851, 9995: 0.05816734755841126, 9996: 0.4054108080702178, 9997: 0.3671258866364006, 9998: -0.20084302195225018, 9999: 0.26437988669528933, 10000: 0.4411807661506098, 10001: 0.3515740817417137, 10002: 0.06765632097498919, 10003: 0.42045390319608505, 10004: -0.41228745550338114, 10005: -0.2038795846748951, 10006: -0.22119047299982986, 10007: 0.019745020185030618, 10008: -0.011262862638949524, 10009: 0.33549135603908975, 10010: -0.4002279210628589, 10011: -0.10577376904291645, 10012: 0.48452897406583545, 10013: 0.0004155531353957314, 10014: 0.22302896372309836, 10015: 0.09271000512621383, 10016: 0.3149245525624764, 10017: 0.5060041518358372, 10018: 1.0283240761572436, 10019: 0.6258652605373678, 10020: 0.620957134400967, 10021: -0.33156806577096315, 10022: -0.571348520724234, 10023: 0.004757976843132866, 10024: 0.4252106734551968, 10025: -0.13381172900151173, 10026: -0.07602178775599644, 10027: 0.18158614913914972, 10028: 0.06892899551160961, 10029: -0.11238214571963474, 10030: 0.24103749315837097, 10031: -0.15839023843478853, 10032: -0.3884067528333508, 10033: 0.1366667426041029, 10034: 0.042901836797252645, 10035: 0.6703827476956613, 10036: -0.1932101450568496, 10037: -0.1253910258206431, 10038: -0.09121615496376591, 10039: -0.6587086302548342, 10040: -0.178413075161563, 10041: -0.4680729410172838, 10042: 0.2093724105525351, 10043: -0.4697200949803395, 10044: -0.43338442830442536, 10045: 0.011729575495768712, 10046: 0.12892550251335136, 10047: 0.29828318499966805, 10048: -0.05152233047306202, 10049: -0.17558028878087165, 10050: 0.7814556939152602, 10051: -0.4194299426487188, 10052: 0.1276699586517089, 10053: 0.0392203600849624, 10054: 0.04833236153468397, 10055: 0.5163327797718161, 10056: -1.0419796760571212, 10057: 0.5346157131133461, 10058: 0.6857448855648127, 10059: -0.13872654720661462, 10060: -0.3597935688918127, 10061: 0.3635911736134261, 10062: 0.29363809047097894, 10063: -0.09164689488609623, 10064: 0.24464621147320856, 10065: -0.03561721132999577, 10066: 0.380809718648396, 10067: 0.3488830579865542, 10068: -0.41088732199148015, 10069: 0.3343845204136917, 10070: 0.1906590839762538, 10071: 0.3925394788612304, 10072: 0.33377255333386857, 10073: -0.2631148444194337, 10074: -0.13874049700473987, 10075: -0.8868365560859124, 10076: 0.3777968668994451, 10077: 0.7956602178537728, 10078: -0.06463794865814114, 10079: -0.61410347212047, 10080: 0.7310882589457237, 10081: 0.042215338684563744, 10082: 0.10374309731489749, 10083: 0.07381308124841411, 10084: 0.6365881568072749, 10085: 0.6014771810909222, 10086: -0.40819017506760474, 10087: -0.09996826267599103, 10088: -0.33970553621137195, 10089: -0.5433412587236434, 10090: 0.9918401012937523, 10091: -0.01964587747912277, 10092: 0.2959135120103733, 10093: -0.6389668948944028, 10094: -0.19622587639438477, 10095: 0.632662618381834, 10096: -0.42866750124735403, 10097: 0.4881139328913007, 10098: 0.49994615951112337, 10099: -0.03428967323509197, 10100: 0.016531291583356634, 10101: -0.5125295208792756, 10102: -0.5505042072021583, 10103: 0.332986763464636, 10104: -0.19778630156646151, 10105: 0.421562705592656, 10106: -0.5142119666139844, 10107: -0.27013623128121633, 10108: 0.12292311063727146, 10109: -0.37064951690464665, 10110: -1.1610593699090548, 10111: 0.31821463989808146, 10112: 0.26317914718462604, 10113: 0.8307289916660927, 10114: 0.6746225183257999, 10115: -0.3753289568663691, 10116: -0.028578979165943996, 10117: 0.19381313547421952, 10118: 0.00031528097880229033, 10119: 0.8535119230551977, 10120: 0.03234422787318659, 10121: 0.20016873812744457, 10122: -0.1313011812294764, 10123: 0.10166877082457741, 10124: -0.4674519940341876, 10125: 0.181473670629339, 10126: -0.09146071856128304, 10127: 0.7435444797741496, 10128: -0.3435949238883781, 10129: 0.5612113017331763, 10130: 0.14515730207557048, 10131: 0.5677617295575366, 10132: 0.2478285411935694, 10133: -0.40054114284228554, 10134: 0.5783676881137579, 10135: 0.8886238777152035, 10136: 0.5356610429716354, 10137: -0.12653750129055985, 10138: 0.15883159232230748, 10139: -0.02375890272487019, 10140: -0.4337056174799946, 10141: -0.4310711829624312, 10142: 0.2232514797169298, 10143: -0.45124098521588546, 10144: 0.12407898034414923, 10145: 0.4755990524031818, 10146: -0.03724034320430929, 10147: -0.3470552698346387, 10148: -0.5115846033225114, 10149: 0.28758395159106404, 10150: -0.06645290584140374, 10151: 0.5961252992771833, 10152: 0.530436601412087, 10153: -0.17854005100243836, 10154: -0.04043310264549932, 10155: 0.16758752312114344, 10156: 0.4238885340228565, 10157: 0.4413693294070162, 10158: 0.7265139841527871, 10159: -0.692869661162042, 10160: 0.6655340351496861, 10161: -0.3753056765210649, 10162: 0.43923599355203335, 10163: -0.31074163731827154, 10164: 0.7398945689364491, 10165: -0.31838430116660266, 10166: 0.15243553552941322, 10167: -0.11622900983514454, 10168: -0.04391774421259358, 10169: -0.6606223235297958, 10170: 0.020879567412386127, 10171: 0.8088173144737746, 10172: -0.4675639476705509, 10173: -0.45614182980240275, 10174: 0.2019368243549367, 10175: 0.2693550502847375, 10176: 0.23181726609068457, 10177: 0.5151616838281262, 10178: -0.20568138148615564, 10179: 0.39287786481235804, 10180: 0.2342202492561785, 10181: 0.3055378630264046, 10182: -0.31439738340869505, 10183: 0.2132218151970604, 10184: -1.0590747637696207, 10185: -0.36290237129986264, 10186: -0.02536002772933955, 10187: -0.4724949119739086, 10188: -0.07400968461772683, 10189: 0.40947562650197905, 10190: -0.03828125721135291, 10191: 0.2735641156438666, 10192: -0.4733065651989571, 10193: 0.09546490355616098, 10194: -0.35685962344594924, 10195: 0.5960342630649355, 10196: -0.1658628400059322, 10197: -0.22235944175586914, 10198: 0.012366424304975728, 10199: -0.6202542245692503, 10200: -0.1676170676308902, 10201: 0.32143618961025305, 10202: -0.3415436664199173, 10203: -0.11879850354813079, 10204: 0.3222865679230783, 10205: -0.2557956483831257, 10206: -0.15050308320925349, 10207: 0.546717588428656, 10208: 0.13456234314504623, 10209: -0.4529849453853987, 10210: 0.10120890899404483, 10211: -1.1556443141017647, 10212: 0.3764140893505875, 10213: 0.20192922585614662, 10214: -0.34431176958947957, 10215: 0.3592596721873884, 10216: 0.3159955964366499, 10217: 0.2387387104336271, 10218: 0.4921686712473733, 10219: -0.44399812915074854, 10220: -0.006524878801882451, 10221: 0.421907804271295, 10222: -0.6885492661266984, 10223: 0.12426077292601174, 10224: -0.2252653542089166, 10225: 0.17980471457230962, 10226: 0.7444931608270831, 10227: -0.016181368453768438, 10228: -0.020187094037479238, 10229: 0.5178436169247166, 10230: -0.15976093984705791, 10231: -0.024146961879429087, 10232: -0.28858030766321635, 10233: 0.6101887448028589, 10234: 1.0121083557587138, 10235: 0.5284772397733722, 10236: -0.18231461296023102, 10237: -0.40723299623629133, 10238: 0.025405357922642313, 10239: -0.06558991666027704, 10240: 0.9181983958979603, 10241: 0.017462026157176538, 10242: 0.1138384426984795, 10243: -0.6742647223341568, 10244: -0.20315264299193045, 10245: -0.7041039536576899, 10246: -0.12633923021335156, 10247: -0.07282160543979939, 10248: 0.3207486782613729, 10249: 0.2522950475091887, 10250: 0.5082292625297931, 10251: 0.2116023800855571, 10252: -0.34168635244812867, 10253: -0.262881001178438, 10254: 0.07007041342290429, 10255: 0.039767734552904624, 10256: 0.20974395566591, 10257: 0.3612874863126343, 10258: 0.1650925405145661, 10259: -0.6791881450804058, 10260: 0.3308800005413909, 10261: 0.15299945010830196, 10262: -0.11412750620023267, 10263: 0.22646642654403604, 10264: 0.07369611410808442, 10265: -0.3978299794049099, 10266: -0.5571322082660713, 10267: -0.08843256786631597, 10268: -0.09803769416869458, 10269: 0.4146769812969656, 10270: 0.5237537259061343, 10271: -0.1256480892958704, 10272: -0.2691235611549417, 10273: -0.3772073365339424, 10274: 0.38701892728560044, 10275: -0.2014079264570386, 10276: 0.25721982966587736, 10277: -0.21428399618149915, 10278: 0.42036823282109764, 10279: -0.11950385725677809, 10280: 0.611185126182342, 10281: -0.5210598403232716, 10282: -0.7898748285240794, 10283: -0.07402647047982869, 10284: 0.10764092761120185, 10285: -0.38604196398221147, 10286: 0.28712013788844243, 10287: 0.1640878273394211, 10288: -0.04422059628497838, 10289: -0.08825658912104241, 10290: 0.5654372947574071, 10291: 0.14686482570153897, 10292: 0.7031431162381211, 10293: 0.583394462781376, 10294: -0.1807782546264667, 10295: 0.3737623277034393, 10296: -0.014472588613468442, 10297: 0.5530629370870819, 10298: 0.3911351211514089, 10299: 0.4135373421180797, 10300: 0.6144270868087738, 10301: 0.257132407127949, 10302: -0.5875636403409986, 10303: -0.44644210648155086, 10304: 0.03226259932995712, 10305: -0.2981908758465837, 10306: 0.24137928746705162, 10307: 0.17153216620901432, 10308: -0.8034679534413129, 10309: 0.626601717386091, 10310: -0.24649170682003377, 10311: 0.24354099771100632, 10312: 0.7093114121116528, 10313: -0.0023091224892992646, 10314: 0.10396643634169654, 10315: 0.05576482370065552, 10316: -0.5831159206608466, 10317: -0.37074363113088465, 10318: -0.20829866014162066, 10319: -0.05117623020567345, 10320: 0.12596063009431618, 10321: -0.0013493014452718814, 10322: 0.24153126239521272, 10323: 0.6235128875984485, 10324: 0.24248773939902823, 10325: 0.029523470591609077, 10326: -0.06177235776660198, 10327: -0.2635940101735424, 10328: -0.2205971210915984, 10329: 0.459520475051812, 10330: 0.5246347994624572, 10331: 0.5684454174752294, 10332: 0.23410491531810146, 10333: -0.35328417322742484, 10334: 0.318537550079976, 10335: 0.16879549573140948, 10336: 0.473319297509177, 10337: 0.20577491719883292, 10338: -0.07929747438004581, 10339: 0.20762253191982916, 10340: -0.10575669120854835, 10341: -0.04186213469429858, 10342: -0.0038689488363585142, 10343: 0.07524332344642323, 10344: -0.0394574423748422, 10345: 0.14645602218288617, 10346: 0.06344854977703687, 10347: -0.1729274041511504, 10348: 0.3083278877842414, 10349: 0.6368666233298556, 10350: 0.07252873891833132, 10351: -0.13451989509668635, 10352: 0.09732824504214231, 10353: -0.5212344205273901, 10354: 0.4806857560795767, 10355: 0.16283405740891818, 10356: 0.4458783353847864, 10357: -0.19160989687312674, 10358: 0.5950620017976739, 10359: 0.5884627944808356, 10360: -0.32684139101109044, 10361: 0.3962584473998151, 10362: 0.25865989756613017, 10363: -0.3699717481540519, 10364: -0.5136390598547597, 10365: -0.5397767587812603, 10366: -0.49101769617480245, 10367: 0.1369792564859977, 10368: -0.13438616083418278, 10369: 0.6945605256708205, 10370: -0.04357618102388413, 10371: -0.7481932494487588, 10372: -0.10233071645351825, 10373: -0.210665859706659, 10374: 0.3134845403953475, 10375: 0.7889116009395845, 10376: -0.20009233502910903, 10377: -0.06978391302913198, 10378: -0.6808283223552359, 10379: 0.582960794677559, 10380: 0.3168812556409939, 10381: -0.10345081046040054, 10382: -0.37610355125684475, 10383: 0.5102313990782666, 10384: 0.17655936823814897, 10385: 0.0781910329929259, 10386: -0.37555216410249553, 10387: -0.07853605983509128, 10388: -0.07388168300678521, 10389: 1.1003071046662254, 10390: 0.3047921555133772, 10391: -0.09940932931075262, 10392: 0.32528038669104353, 10393: 0.009652344925597594, 10394: -0.25890785446263825, 10395: 0.4015440975322863, 10396: 0.20324166690112783, 10397: -0.03170567017837935, 10398: -0.35093933328937205, 10399: 0.4729301606080851, 10400: -0.3184733475443939, 10401: -0.15943397692265127, 10402: 0.3086521801709266, 10403: -0.037688226252848046, 10404: 0.15031710731370304, 10405: 0.17281165095522774, 10406: 0.5428570442715621, 10407: -0.2153839522683031, 10408: -0.6857601587422085, 10409: -0.02488360695794456, 10410: 0.06652734910048325, 10411: -0.15356887123857557, 10412: -0.4032886281961378, 10413: -0.23357072356941602, 10414: 0.00686624221360053, 10415: -0.15871724447486132, 10416: 0.5646977251442331, 10417: 0.3993777143489619, 10418: 0.45334821665930447, 10419: 0.22011275299658414, 10420: 0.6772175403141586, 10421: 0.18433473651067736, 10422: -0.07226532680494417, 10423: -0.09167754966166651, 10424: 0.049448334102042114, 10425: 0.08222538033939376, 10426: 0.3134036267769796, 10427: 0.4974936823967173, 10428: 0.08377932409988273, 10429: 0.35772081538499856, 10430: -0.013582056055238859, 10431: 0.32893290972827594, 10432: 0.27632700848005537, 10433: 0.28465108555364277, 10434: 0.787595821841292, 10435: -0.05294843193432296, 10436: 0.5107530547385545, 10437: 0.08153520260468429, 10438: -0.4439743004608797, 10439: 0.2348602320197793, 10440: 0.10002449081850874, 10441: 0.6182311855141164, 10442: -0.20841543978527588, 10443: 0.17450206837641535, 10444: 0.07150103071201214, 10445: -0.2275424772844141, 10446: -0.1951901777565578, 10447: -0.23140881619353385, 10448: 0.40311003895029346, 10449: -0.6424997449919364, 10450: -0.25900646493871815, 10451: -0.05968651339960145, 10452: 0.06942421298438654, 10453: 0.09311081916801377, 10454: 0.1029208347755211, 10455: 0.07366914928658376, 10456: -0.23867398287579908, 10457: 0.4657561877561435, 10458: -0.28031405415658733, 10459: -0.36526636151234193, 10460: -0.7325507989152498, 10461: 0.022393786549651993, 10462: -0.22826558836787986, 10463: 0.48275792688665004, 10464: -0.19051283098045452, 10465: -0.05233474091563309, 10466: 0.9496003716168934, 10467: -0.22062061621042572, 10468: 0.23902115234893465, 10469: -0.8588118877011818, 10470: 0.9836099351821308, 10471: 0.09452396055370922, 10472: -0.020262397530168896, 10473: -0.7294322343610596, 10474: 0.28240389164948787, 10475: 0.7315945269128168, 10476: 0.01828337168881747, 10477: -0.5162982283697136, 10478: -0.1487546375097254, 10479: -0.8936034175166195, 10480: 0.39071921476066473, 10481: 0.13634965908524868, 10482: 0.2270966812035927, 10483: 0.7639243850501584, 10484: 0.4922595785453077, 10485: 0.6179355958612963, 10486: 0.41329109558289084, 10487: -0.10610779161082502, 10488: 0.320109736853392, 10489: -0.6904676374649809, 10490: 0.3490267420275524, 10491: -0.02110903968199233, 10492: 0.37949239135617885, 10493: -0.0827243022970721, 10494: 0.33901204772558263, 10495: 0.5516860047050007, 10496: 0.2833700389133657, 10497: -0.3844244776317829, 10498: 0.20099465391853688, 10499: 0.07556849151614567, 10500: 0.25073986677834853, 10501: 0.3602540078685801, 10502: -0.05257248021676708, 10503: 0.13867748814235067, 10504: 0.13694088727319054, 10505: 0.12398301779075864, 10506: 0.45707781609316683, 10507: 0.6473093524556057, 10508: 0.7020430301454967, 10509: -0.16288164224536433, 10510: 0.24590834257534738, 10511: -0.30939241685552576, 10512: 0.1967767243967706, 10513: 0.15593092139831807, 10514: 0.4486263647425469, 10515: -0.065309155785175, 10516: -0.21432785865279574, 10517: -0.9071610661952669, 10518: -0.6856398917545145, 10519: -0.09124903733733147, 10520: 0.6227568217656895, 10521: 0.3874668208011476, 10522: -0.3327867903117099, 10523: 0.4494959066142919, 10524: -0.06202803445434276, 10525: -0.09388369757696625, 10526: -0.08727852154658265, 10527: -0.06477467542217162, 10528: 0.24666801895366955, 10529: -0.24731992791726506, 10530: -0.01948040352670997, 10531: -0.33276051429670056, 10532: -0.12238328925302737, 10533: 0.21309016286329244, 10534: 0.6487760807872588, 10535: 0.6302419082375572, 10536: -0.537634748893477, 10537: -0.013831266954263458, 10538: -0.09333001511100429, 10539: -0.9123172530666124, 10540: 0.09606074973274198, 10541: 0.2150207628388416, 10542: 0.7869655400607362, 10543: -0.5657865547577298, 10544: 0.4979324445728267, 10545: -0.01903263659857124, 10546: -0.13429184718416615, 10547: -0.02994508348291104, 10548: -0.49718765819194854, 10549: -0.6742246356692014, 10550: -0.4993420167155058, 10551: 0.57740422181994, 10552: -0.3970236859368361, 10553: 0.5659576473791668, 10554: 0.4399412773062646, 10555: 0.16441725558766165, 10556: -0.07237070599851371, 10557: 0.1683808896203934, 10558: 0.07744259733061838, 10559: -0.3850880079113698, 10560: -0.3822479353143549, 10561: -0.28227508271859797, 10562: -0.35372285828304323, 10563: 0.3533506630735594, 10564: -0.16552279897244143, 10565: 0.45445868644718534, 10566: 0.12737268702899193, 10567: 0.45594486326670763, 10568: 0.2395674425029267, 10569: 0.41729014724315566, 10570: 0.5134820352949272, 10571: -0.17909040594646838, 10572: 0.15667178750383529, 10573: -0.43705877107192653, 10574: -0.074925018958574, 10575: -0.04827267758447804, 10576: -0.039460571009650156, 10577: 0.13833662781678124, 10578: 0.2527691361152304, 10579: -1.3551958198343568, 10580: 0.38607033052526984, 10581: 0.12624391934108128, 10582: -0.010239743679504695, 10583: 0.04065702384580067, 10584: -0.43776255651131457, 10585: -0.3324204695799976, 10586: 0.37221843772154334, 10587: -0.3299597227026556, 10588: 0.337272248282511, 10589: -0.12666435875339765, 10590: 0.1844636206747546, 10591: 0.11341043810982071, 10592: 0.23486986876653207, 10593: 0.3746566645818433, 10594: 0.22353241377852096, 10595: -0.5274759550792606, 10596: 0.4877365430520528, 10597: -0.24117589341278864, 10598: 0.5256310214236952, 10599: -0.3918939936622653, 10600: -0.014140233458369273, 10601: 0.6877098819386496, 10602: -0.03443265445444712, 10603: -0.8420130166610198, 10604: -0.1305089921029676, 10605: 0.260931131528862, 10606: 0.0724757155879759, 10607: -0.31751812042902255, 10608: 0.10442957217724733, 10609: 0.3518191397926511, 10610: 0.018177617640066725, 10611: 0.024109873229484526, 10612: -0.07393310218447015, 10613: 0.03853791770938775, 10614: -0.8721818069503058, 10615: 0.8974641212570791, 10616: -0.34046349160259093, 10617: -0.11019041986624385, 10618: -0.1426961060221161, 10619: 0.670600353792736, 10620: 0.6029746127882165, 10621: 0.49417099407230436, 10622: -0.1250798232822502, 10623: 0.18616527867141294, 10624: 0.06664475826655729, 10625: -0.25991465684514997, 10626: -0.33406576641609775, 10627: 0.49551131605477083, 10628: -0.3052282104859912, 10629: 0.3057793092684357, 10630: 0.4096995872011678, 10631: 0.501377291004969, 10632: -0.2498675259964441, 10633: -0.5826138683451013, 10634: -0.4951265896769074, 10635: -0.1546617122515007, 10636: -0.4073105196771968, 10637: 0.0988706311492614, 10638: -0.8329036844086851, 10639: 0.28845969753649287, 10640: 0.028139377101114752, 10641: 0.019504164184146595, 10642: -0.5780647230870185, 10643: -0.20657261633030355, 10644: 0.1484767533468639, 10645: 0.4069950127277275, 10646: 0.8925396802868445, 10647: -0.06037976909712433, 10648: 0.3978252148535224, 10649: -0.31053148261329594, 10650: 0.14585340826378776, 10651: 0.2969349584677381, 10652: 0.33593144934563396, 10653: 0.5528479606749943, 10654: -0.008533225943473026, 10655: 0.06419113733201437, 10656: 0.42281091971264, 10657: 0.3935602124435134, 10658: -0.1307584631775298, 10659: -0.2262502033300211, 10660: -0.09164240446970384, 10661: 0.29126776652605285, 10662: 0.33774999979569065, 10663: -0.17035943351991284, 10664: -0.16987876018517106, 10665: -0.1773820606175569, 10666: 0.30598115760561456, 10667: -0.05408164619331455, 10668: 0.6830957670491522, 10669: -0.0033781364538156555, 10670: 0.05951297833882225, 10671: 0.1801708304710279, 10672: -0.4918591823861131, 10673: 0.44362868743152384, 10674: -0.1789561529896661, 10675: 0.6338166463409842, 10676: -0.09397850523812869, 10677: 0.28208105298989783, 10678: 0.498960427287848, 10679: 0.13636818594485886, 10680: 0.28393737412053677, 10681: 0.09654987369541711, 10682: 0.38076118314812035, 10683: -0.0034983897314004517, 10684: 0.4255287850027424, 10685: 0.27064894827276187, 10686: 0.2913917673175774, 10687: 0.5889820391724554, 10688: 0.20240188623946362, 10689: 0.3292542398698278, 10690: 0.45086207037126386, 10691: 0.28367798723010856, 10692: 0.21507640110768514, 10693: -0.3733493882435247, 10694: -0.05105152987775346, 10695: -0.09339462900203288, 10696: 0.35948732002097444, 10697: 0.0906298594639372, 10698: 0.2982516593066979, 10699: 0.550460285610427, 10700: 0.18985656407732146, 10701: 0.2750524233175528, 10702: 0.6292115350940507, 10703: -0.2193586860852956, 10704: 0.18592064386579948, 10705: -0.01608268365052433, 10706: -0.15552902210371464, 10707: 0.075651401563251, 10708: 0.24249554064992584, 10709: -0.5045285432329215, 10710: 0.5456769115391317, 10711: 0.17745929260994595, 10712: -0.6848071396660055, 10713: 0.5753460119800847, 10714: -0.3542086707564012, 10715: -0.48391908644561676, 10716: -0.45958259220543396, 10717: -0.1326257433307364, 10718: 0.26910857950595, 10719: 0.5968266358960225, 10720: 0.5697206173735233, 10721: -0.5145589875477777, 10722: 0.1507892040011194, 10723: -0.07010620148753391, 10724: -0.15371666626235858, 10725: -0.665443803722019, 10726: 0.7405919958778114, 10727: -0.12857876634948298, 10728: 0.6664303681700263, 10729: -0.39585532237409454, 10730: 0.12923818565319084, 10731: 0.4569010939331859, 10732: -0.5381116974782784, 10733: 0.010801868210892825, 10734: -0.002183567711452566, 10735: -0.5641469358968588, 10736: -0.5200103843179854, 10737: 0.18100968774802595, 10738: -0.4919529705304743, 10739: 0.5295548225398247, 10740: -0.7542979384828382, 10741: 0.2715813754982536, 10742: 0.4019539429934049, 10743: 0.35632602742040786, 10744: -0.12966954969323327, 10745: 0.3584678653689716, 10746: -0.285731649689995, 10747: 0.279206154396991, 10748: -0.4250945448526654, 10749: -0.16207835551723201, 10750: -0.376641468113045, 10751: 0.36370597631870555, 10752: 0.19920568334430555, 10753: 0.01899609832551017, 10754: 0.05501901460024447, 10755: 0.3166442074726345, 10756: 0.518483604094781, 10757: -1.8568192708003395, 10758: -0.7507774161536923, 10759: 0.6650232475106987, 10760: 0.09351354776461643, 10761: 0.8035890423799038, 10762: 0.2502246784977365, 10763: -0.0438839894438344, 10764: -0.9575953139914724, 10765: 0.9790123821711664, 10766: -0.5189379828916928, 10767: 0.44178715359846155, 10768: -0.4879288365127619, 10769: 0.07877503208642854, 10770: 0.21468600071549696, 10771: 0.41882020605231624, 10772: 0.017598032143854265, 10773: -0.7846499394112254, 10774: 0.19674622820639537, 10775: -0.34243807344099747, 10776: -0.12190032755940054, 10777: -0.2683623382236159, 10778: -0.2455173170253246, 10779: 0.5440392165840924, 10780: -0.23935376079762646, 10781: 0.3078511890792575, 10782: 0.023199449340077293, 10783: 0.38006428265530534, 10784: -0.006753514498906222, 10785: 0.6920071001776953, 10786: -0.6149858977258569, 10787: -0.1621840451120411, 10788: -0.15648668438661895, 10789: 0.058817567214022114, 10790: 0.09494673802254967, 10791: 0.41066529165539956, 10792: 0.26975663187041304, 10793: 0.38526989223754876, 10794: 0.17707997729595923, 10795: 0.31975812919093083, 10796: 0.7883971598105627, 10797: -0.013958209925120571, 10798: 0.32695583190690325, 10799: 0.11721164647774861, 10800: -0.23755654464273704, 10801: 0.4679508338715234, 10802: 0.0238166345338669, 10803: -0.15726082120084134, 10804: 0.2637683979437118, 10805: 0.15821306912959573, 10806: -0.09752417725375322, 10807: -0.01769776769038937, 10808: 0.17540904564503765, 10809: -0.4348204037104492, 10810: 0.17163902710325393, 10811: 0.17009012653247035, 10812: -0.3272659729167476, 10813: -0.012183564916134098, 10814: 0.28719300628786004, 10815: 0.10471203467101255, 10816: 0.023841418299287445, 10817: -0.8090603767171679, 10818: 0.01585043603036438, 10819: 0.38921903256246754, 10820: 0.6788073293841111, 10821: 0.13480359249898574, 10822: 0.8718090791982481, 10823: -0.02154006407414815, 10824: -0.17499200897183914, 10825: -0.21478652364593764, 10826: -0.3217954133318484, 10827: 0.0364380153958177, 10828: 0.11047042925443895, 10829: 0.29601592318531883, 10830: 0.6477373799573143, 10831: 0.5273801111890054, 10832: -0.5005669009297854, 10833: 0.6390757766638413, 10834: 0.22441218403672716, 10835: -0.05649794275610776, 10836: -0.11044153227813057, 10837: 0.7554982329102858, 10838: 0.3156076249335306, 10839: 0.5874760027111656, 10840: 0.11401062428136709, 10841: 0.09643805311973963, 10842: 0.03113120564774716, 10843: -0.006684587016530648, 10844: 0.09145486633183456, 10845: -0.35092496334293427, 10846: 0.004274749977319726, 10847: 0.09394724469595689, 10848: -0.5885437307017972, 10849: 0.05529245728808858, 10850: -0.4556612942877196, 10851: 0.12685200225097967, 10852: 0.10726610784083772, 10853: -0.20757200055603567, 10854: 0.3729069166147215, 10855: 0.5449810739964567, 10856: -0.1809892007313305, 10857: 0.1223411011724572, 10858: 0.0650574382675125, 10859: 0.026985578538834987, 10860: -0.1140037844033614, 10861: 0.5973261199990322, 10862: 0.5661733325294063, 10863: 0.14375949137493957, 10864: 0.23790670030935043, 10865: -0.39831486168244307, 10866: 0.19762805610700143, 10867: -0.42317248380396505, 10868: 0.28114308226346174, 10869: 0.1844602358332451, 10870: -0.2752635813984223, 10871: 0.3483811689449722, 10872: 0.5737084308314059, 10873: 0.3631045237199034, 10874: 0.2930620277013079, 10875: -0.34287645802673095, 10876: -1.0135835874725923, 10877: 0.3474890237352677, 10878: -0.05388994158676836, 10879: -0.023622122518884608, 10880: 0.08646694704636632, 10881: -0.023270318928092375, 10882: 0.4330605386476683, 10883: 0.0506401301763374, 10884: 0.42618512381325435, 10885: 0.35897699185867427, 10886: -0.42210606673180157, 10887: -0.5135165560374101, 10888: 0.3661814672992758, 10889: 0.150661108060074, 10890: 0.28279198944726214, 10891: 0.3835687052734515, 10892: -0.14982279538235918, 10893: 0.06651492019773594, 10894: 0.10179183436126822, 10895: -0.8210775516990924, 10896: 0.2581475797425012, 10897: 0.1675929452481276, 10898: 0.1860804883384893, 10899: 0.2912279918879244, 10900: 0.016878637746254643, 10901: 0.19265885847807684, 10902: -0.5028062762605771, 10903: 0.19460024023422026, 10904: 1.0304053625828238, 10905: 0.9257329609841581, 10906: 0.7601207049676635, 10907: 0.24065125113993846, 10908: 0.027342539100606817, 10909: -0.22539842014856537, 10910: 0.23363321995446826, 10911: -0.11532621697997639, 10912: -0.8226035309541119, 10913: 0.17652706610598629, 10914: -0.27118462167637375, 10915: 0.22784377960951918, 10916: 0.310133460251343, 10917: -0.3439858245966405, 10918: 0.22514928044972102, 10919: 0.014339983829907447, 10920: 0.5120371503180797, 10921: -0.17047415724160975, 10922: 0.26109962845701273, 10923: 0.07901845536371589, 10924: 0.516635463912438, 10925: 0.019619757881244874, 10926: -0.13921212360038232, 10927: -0.1713524213368774, 10928: 0.3832666908777102, 10929: 0.17476646791544004, 10930: 0.06801662069629406, 10931: 0.32043337342224726, 10932: 0.08704558527813838, 10933: 0.6227702392992145, 10934: -0.3417413727660485, 10935: -0.32054019203478173, 10936: -0.14456021054079396, 10937: 0.6884322146533478, 10938: 0.8797701591736844, 10939: -0.07734434171072771, 10940: -0.40127667634594527, 10941: 0.5243615112924519, 10942: -0.027234057026599937, 10943: 0.2782144180355223, 10944: 0.24881374507836607, 10945: -0.15737460241621268, 10946: 0.0452909835427286, 10947: -0.7875681883569992, 10948: -0.06495691052450242, 10949: -0.30721231950812256, 10950: -0.3482167254807429, 10951: -0.19852472919335024, 10952: 0.6149334724930053, 10953: -0.0436885234865691, 10954: -0.1699199917860863, 10955: -0.2982830036016464, 10956: 0.15093963201497193, 10957: 0.2713097938302307, 10958: -0.08872890831066674, 10959: 0.019698094927863875, 10960: -0.7108166710833891, 10961: 0.4925895296526335, 10962: -0.15126283026807444, 10963: 0.8137453126605, 10964: -0.8968580555165883, 10965: -0.9352548409801287, 10966: 0.5241313896121446, 10967: 0.8158643478769331, 10968: 0.10414061039783815, 10969: -0.12562722908999394, 10970: 0.12096975728044, 10971: 0.7022385177884573, 10972: -0.22153024955009684, 10973: 0.4673076484106588, 10974: -1.2490302406648062, 10975: 0.15420749589717608, 10976: -0.6257294291337042, 10977: 1.1111050016837671, 10978: 0.5234440024859243, 10979: 0.5474266842051235, 10980: 0.67103450018453, 10981: 0.39431348644729103, 10982: 0.201885203780765, 10983: 0.2435452336737966, 10984: -0.33216158524062683, 10985: 0.5967215178159788, 10986: 0.06206445307157306, 10987: 0.2202908253516869, 10988: 0.35499644021947546, 10989: 0.2531439131804803, 10990: -0.07000647810469615, 10991: 0.05054361017679649, 10992: 1.3140949845070642, 10993: 0.237037973736896, 10994: 0.1290457885573035, 10995: 1.0538682196977411, 10996: 0.10051268350745701, 10997: 0.6032509121684908, 10998: -0.34894158607229775, 10999: -0.1472908371295394, 11000: 0.03280106261731371, 11001: 0.6731031248902686, 11002: 0.10154905534902604, 11003: -0.3939055597153727, 11004: 0.02304980428127852, 11005: -0.48685733912415935, 11006: -0.5292903170967515, 11007: -0.4495645318475727, 11008: 0.16772971031953407, 11009: -0.08932595960544522, 11010: 0.528299202575797, 11011: 0.05633980971299195, 11012: -0.10127994548722108, 11013: 0.34377222572486754, 11014: 0.44068883798711517, 11015: 0.6923525231817732, 11016: 0.3754462555320149, 11017: 0.39970193209434784, 11018: 0.06814525244997728, 11019: 0.33258136959351847, 11020: -0.5786087896164562, 11021: -0.4371870355386419, 11022: 0.2878251063747553, 11023: -0.2222374246398276, 11024: 1.2567160260289647, 11025: 0.8365956047273583, 11026: -0.12165534982222154, 11027: 0.7419838071019589, 11028: -0.0047232033386391025, 11029: 0.49126053011516624, 11030: 0.8831011367064718, 11031: 0.8243643549866859, 11032: -0.3678883873002047, 11033: -0.40342693874395813, 11034: -0.12776138291990446, 11035: 0.40050926159277983, 11036: 0.3655611855996622, 11037: 0.6011618865903894, 11038: 0.4317866548880436, 11039: -0.12409005851130103, 11040: -0.24806967654763912, 11041: 0.078321336362758, 11042: 0.01971110983841833, 11043: -0.13958614559788357, 11044: -0.05437990675541675, 11045: -0.6583062939591656, 11046: -0.12136458529093007, 11047: -0.2804238733176918, 11048: -0.2811666924477873, 11049: -0.27284595451385574, 11050: 0.08323673568559323, 11051: -0.04981586700141962, 11052: 0.6833583127628932, 11053: 0.5468013672213976, 11054: -0.32200831606119046, 11055: -0.13482646049196997, 11056: 0.2985760719369959, 11057: -0.3788593158606668, 11058: -0.9175301298460798, 11059: -0.27014417990806483, 11060: -0.07601850619800818, 11061: 0.4168730771925285, 11062: -0.27165356833542376, 11063: -0.0774343465642712, 11064: -0.08462165655322806, 11065: 0.23626503164472826, 11066: 0.15864502074691844, 11067: 0.1646508391500829, 11068: 0.3682012237601169, 11069: 0.3699092648968066, 11070: 0.33002553706197424, 11071: 0.23758011343606114, 11072: 0.4589989828091077, 11073: -0.5202189744400875, 11074: -0.17250394408799916, 11075: 0.4028409672315517, 11076: 0.7645474108874745, 11077: -0.029138885747848207, 11078: 0.6553239225266828, 11079: 0.6967544196618749, 11080: 0.23567045173727638, 11081: 0.13268750888852796, 11082: 0.3774312151245975, 11083: -0.13042538335074658, 11084: -0.1628489295258542, 11085: 0.2657166501891195, 11086: -0.14247241860129833, 11087: -0.39738920992336113, 11088: 0.24317431507332862, 11089: -0.17794760763184272}\n",
            "{0: 0.021811451134092143, 1: 0.35428455724412794, 2: -0.20996493179979808, 3: 0.034475680700598185, 4: 0.3402869761320905, 5: -0.10023607716039519, 6: 0.1507423503698449, 7: -0.9555309189633993, 8: -0.132384604106937, 9: -0.44118221549391456, 10: 0.339178510418251, 11: -1.1414451671249182, 12: 0.7501048394607688, 13: 0.07343585012030786, 14: 0.23222601463920506, 15: -0.5361637199005165, 16: -0.3788817808664139, 17: 0.18466952945292606, 18: 0.6154830634799799, 19: 0.6334166457256746, 20: -0.25195600027778503, 21: -0.21592496707949121, 22: -0.1537007348024116, 23: 0.09690831554984092, 24: -0.5844225378576152, 25: -0.07183867136884342, 26: 0.5143250002701893, 27: 0.2770307126026365, 28: -0.28943214909211923, 29: -0.47585170354019496, 30: 0.22405713038682026, 31: 0.16456432081267244, 32: 0.20968796802106565, 33: 0.7716320062163957, 34: 0.5834082849512368, 35: -0.00650776372263014, 36: -0.05351385889699209, 37: -0.43837490682954333, 38: 0.3985071895216185, 39: 0.08680904144170615, 40: 0.6131105537266335, 41: 0.12626505063430726, 42: 0.0007329534104672909, 43: 0.15629282771750747, 44: 0.3584498604995415, 45: 0.4265830292821941, 46: 0.49240320860479025, 47: -0.2765521855173157, 48: -0.8782511202654222, 49: 0.1597407847944227, 50: -0.8309777700962352, 51: -1.5929636324866379, 52: -0.2575345573764654, 53: -0.5470862618829052, 54: -0.32559025949077197, 55: -1.0558621881455732, 56: -1.392622740554832, 57: -0.748760522587735, 58: -0.9125966662063086, 59: -0.22504585409490557, 60: -0.4519706068119265, 61: -0.43668910149286416, 62: -1.504004646225998, 63: -0.3065726887722768, 64: -0.39123577576498375, 65: 0.3279709603822462, 66: -0.1624784625159745, 67: -0.5093256341449766, 68: -0.7330504143315952, 69: -0.9594686774149578, 70: -1.415243691915431, 71: -0.8800281330070443, 72: 0.1581248058749542, 73: -0.3681105394365319, 74: -0.3413999066033597, 75: -0.0002739689377746237, 76: 0.06091305001468496, 77: -0.4748354339928861, 78: -0.7707773547949507, 79: 0.588119100727789, 80: 0.6241963980477555, 81: 0.3887411419652226, 82: -0.3098650641106021, 83: -0.5478033115646295, 84: -0.3130072215008119, 85: -0.14844878677091064, 86: 0.17231403353825892, 87: -0.7969133599856767, 88: -0.4266738001052603, 89: 0.10509999722278918, 90: -0.8837045142527968, 91: -1.135598819692969, 92: -1.7980452997803438, 93: -0.6396143072360805, 94: -0.31078000033807646, 95: -1.7649734712047442, 96: -0.23199064749259765, 97: 0.06544809885207833, 98: 0.2857521325529704, 99: 0.28757640885095986, 100: 0.17403424579250537, 101: 0.08247601844031369, 102: -0.03181340879267446, 103: 0.06431995528767001, 104: 0.5219545050434212, 105: 0.3608264785446862, 106: -0.13878685104649297, 107: 0.10570552813310645, 108: 0.3229567221519959, 109: -0.33311363441740427, 110: -0.2539740673780662, 111: 0.4794452055084719, 112: 0.019733840432917128, 113: -0.16735588521543857, 114: -0.24043718343774306, 115: -0.761834783855575, 116: -0.21856167565713583, 117: -0.22110517452790757, 118: -0.3836507045518648, 119: -0.6958749298345933, 120: -0.12435408480702553, 121: -0.5335549073816636, 122: -0.04488048825366519, 123: -0.31923516753531145, 124: 0.3760716339930861, 125: -0.5707064302190348, 126: -0.35642004728405263, 127: -0.5401308655094967, 128: -0.07636322263776762, 129: 0.5158856271303505, 130: 0.3881617068805256, 131: -0.255105227589777, 132: -0.8127129715018792, 133: 0.033764675717785214, 134: -0.6349794523259163, 135: -0.3870380043571879, 136: -0.34992793887537954, 137: -0.03961256163335176, 138: -1.087369352449801, 139: 0.262633837254857, 140: -0.7014977431589455, 141: -1.4144634510363503, 142: -1.3669957923747744, 143: -1.467063431419699, 144: -0.9566133336714108, 145: -1.6979282925936825, 146: -1.5303717707483844, 147: -0.5422665918235662, 148: -0.017763300138569738, 149: -0.513572131786809, 150: -0.4458749298345933, 151: -0.8225313355521481, 152: -0.012492362249501312, 153: 0.29037971798606743, 154: 0.2577334081764338, 155: 0.04402450385579197, 156: 0.19120973657135684, 157: 0.10028291900173794, 158: -0.06026114292676449, 159: -1.3692088630663326, 160: -0.1661715245341166, 161: 0.11264021666417015, 162: -0.8199462940467359, 163: -0.20462381057038212, 164: 0.10957469583748915, 165: 0.5140059924309789, 166: 0.13875910129864286, 167: 0.6371344018156987, 168: -0.21391661988972888, 169: -0.16569062906008206, 170: -0.6501243881621173, 171: 0.22070597558310054, 172: -0.14668607765414463, 173: -1.2349810181809298, 174: 0.3862657520991138, 175: -0.11584201663317051, 176: 0.006683734662944626, 177: 0.23402230953917266, 178: -0.9026665786159606, 179: 0.17451555650692846, 180: -0.2720762127941626, 181: -1.2422665918235662, 182: -1.591945854920554, 183: -0.19289025978526175, 184: -0.8312090586073124, 185: -1.2238570626681067, 186: -0.8655811054261381, 187: -1.7217213363540382, 188: -0.26236935244980036, 189: 0.2616529853426871, 190: -1.1850499158015122, 191: 0.16928008981172055, 192: 0.04153342421424094, 193: -0.17657201112853896, 194: -0.3422665918235662, 195: -0.18986103314954814, 196: -0.4356549649546854, 197: -0.20132371864290194, 198: 0.22514182510069558, 199: 0.28129770591907494, 200: -0.12085806446500122, 201: -0.7679780821630364, 202: -0.00666370116257055, 203: 0.2260799044427879, 204: 0.008592675751593108, 205: 0.22390633770675836, 206: -0.06597769046082723, 207: -0.42919487676475065, 208: -0.5377328136284395, 209: -0.45627922830001894, 210: -0.4064415777904851, 211: 0.009098127266392704, 212: 0.0881638850443259, 213: 0.20320310036925998, 214: -1.1534165755747352, 215: 0.04205272020893476, 216: -0.326673521455314, 217: -0.07701461508006194, 218: 0.18416297021552983, 219: 0.023036548963650302, 220: 0.5397891545920965, 221: -0.7852221598529718, 222: 0.5180680538106337, 223: -0.8485091709028215, 224: -1.5649188278935269, 225: -0.06185408480702553, 226: -0.09338814284087611, 227: 0.23510165459209603, 228: -0.4356711406043963, 229: -0.06013571238021858, 230: -0.7139166198897289, 231: -0.20644157779048483, 232: -0.45239834540790314, 233: -0.074126895028055, 234: -0.7238570626681068, 235: 0.2761429373318934, 236: -0.3503797771834871, 237: 0.08596783247149249, 238: -0.45384081978948265, 239: -0.40923179457165537, 240: -0.6684735955805392, 241: -0.6958749298345933, 242: -0.5401308655094967, 243: -0.30884713646450296, 244: -1.1641537597964229, 245: -0.7135796206586119, 246: -0.21391661988972888, 247: -0.43585176869285136, 248: -0.5708749298345933, 249: -0.15109366229324164, 250: -1.4703242332989324, 251: -0.5366943531180417, 252: -0.074126895028055, 253: 0.4924680386735982, 254: -0.12125118993669713, 255: -0.47071991018827974, 256: -0.6268391955016196, 257: -0.6326443571274942, 258: 0.03231739944707012, 259: 0.1731265271094888, 260: 0.12564591519297447, 261: -1.718702294080925, 262: -0.3054106240730488, 263: -0.09931102379416057, 264: 0.29355842220951506, 265: -0.07087492983459331, 266: -0.11855549318630516, 267: 0.06414823130714867, 268: 0.6340223095391727, 269: -0.004666574877958583, 270: 0.02282945640576743, 271: -0.3598411807423409, 272: -0.5265078474090077, 273: 0.17525934241825977, 274: -0.21920604925894605, 275: 0.036083380110271124, 276: -0.2795383751810379, 277: -0.01712980978270102, 278: -0.04013086550949648, 279: -0.3208749298345933, 280: -0.43975338061738567, 281: 0.297384701742039, 282: -0.11855549318630516, 283: 0.17525934241825977, 284: 0.22680563351711855, 285: -1.1868540848070257, 286: -0.049725402145372, 287: -0.21391661988972888, 288: -0.7422665918235662, 289: -0.23144157779048485, 290: -0.12435408480702553, 291: 0.38144450681369485, 292: -0.8949229905656535, 293: -0.01057885873843366, 294: -0.28522215985297183, 295: 0.5051563377067583, 296: -1.1616665816176892, 297: -0.4798483997995071, 298: -1.2852221598529718, 299: -0.3667142055252495, 300: -0.29295361534726566, 301: -0.23504991580151197, 302: 0.06013896685045187, 303: -1.0422665918235663, 304: 0.01573693073525055, 305: -0.9639166198897289, 306: 0.11495008419848803, 307: -0.3565276998162148, 308: -0.8422665918235662, 309: -0.7852221598529718, 310: 0.16495008419848803, 311: -0.06597769046082723, 312: -0.28522215985297183, 313: -0.4381427769538209, 314: 0.0481111734803615, 315: -0.28522215985297183, 316: -0.5422665918235662, 317: -1.4040647264583765, 318: -0.21391661988972888, 319: -0.28522215985297183, 320: 0.30068897620583945, 321: -0.6422665918235662, 322: -0.5809999198109638, 323: -0.21391661988972888, 324: 0.0481111734803615, 325: 0.0481111734803615, 326: -0.06597769046082723, 327: -0.7238570626681068, 328: -1.2139166198897289, 329: 0.0481111734803615, 330: 0.38144450681369485, 331: 0.036083380110271124, 332: 0.036083380110271124, 333: -1.1868540848070257, 334: -0.8565276998162149, 335: -0.4422665918235662, 336: -0.7852221598529718, 337: -0.1673724609689014, 338: 0.036083380110271124, 339: -0.7139166198897289, 340: -0.3247406575817402, 341: 0.0481111734803615, 342: 0.054125070165406686, 343: -0.9458749298345933, 344: 0.3934723001837852, 345: 0.036083380110271124, 346: -0.880296213137296, 347: -0.7952856340966782, 348: 0.20471436590332193, 349: -0.1422665918235662, 350: 0.036083380110271124, 351: 0.3041250701654067, 352: 0.0577334081764338, 353: 0.054125070165406686, 354: 0.036083380110271124, 355: 0.06185722304617907, 356: 0.3577334081764338, 357: -0.08099991981096379, 358: 0.2860833801102711, 359: -0.07087492983459331, 360: -0.3208749298345933, 361: 0.2860833801102711, 362: -0.6829880083666394, 363: -0.2422665918235662, 364: 0.0481111734803615, 365: -0.7139166198897289, 366: -0.4422665918235662, 367: 0.5360833801102711, 368: -0.28522215985297183, 369: -0.4639166198897289, 370: 0.2860833801102711, 371: -0.4518888265196385, 372: -0.07087492983459331, 373: 0.2860833801102711, 374: 0.0577334081764338, 375: -0.4422665918235662, 376: -1.6958749298345932, 377: 0.0481111734803615, 378: 0.0577334081764338, 379: 0.0481111734803615, 380: -0.7139166198897289, 381: -0.4639166198897289, 382: -0.3208749298345933, 383: -0.9639166198897289, 384: -0.21391661988972888, 385: 0.036083380110271124, 386: 0.18814591519297447, 387: 0.2860833801102711, 388: -0.9639166198897289, 389: -0.4639166198897289, 390: -0.7852221598529718, 391: -0.21391661988972888, 392: 0.036083380110271124, 393: -0.7139166198897289, 394: 0.0481111734803615, 395: 0.036083380110271124, 396: -0.9639166198897289, 397: -1.118555493186305, 398: 0.21477784014702817, 399: 0.2860833801102711, 400: -0.7139166198897289, 401: -0.4639166198897289, 402: 0.2860833801102711, 403: 0.3577334081764338, 404: -0.7139166198897289, 405: -0.4639166198897289, 406: -0.4639166198897289, 407: -0.4639166198897289, 408: -0.11855549318630516, 409: -1.2139166198897289, 410: 0.2860833801102711, 411: -0.4639166198897289, 412: -0.9639166198897289, 413: 0.0481111734803615, 414: -1.2139166198897289, 415: 0.2860833801102711, 416: -0.7139166198897289}\n"
          ]
        },
        {
          "data": {
            "text/plain": [
              "3.5601633660387946"
            ]
          },
          "execution_count": 17,
          "metadata": {},
          "output_type": "execute_result"
        }
      ],
      "source": [
        "# Compute the global mean, movie bias and user bias\n",
        "c = 1\n",
        "global_mean = df['rating'].mean()\n",
        "movie_list = df['movieId'].unique()\n",
        "movie_bias = {}\n",
        "for i in movie_list:\n",
        "    users = get_user_ids(i)\n",
        "    movie_bias[i] = sum((get_rating(u, i)-global_mean) for u in users) / (len(users) + c)\n",
        "\n",
        "user_list = df['userId'].unique()\n",
        "user_bias = {}\n",
        "for u in user_list:\n",
        "    items = get_movie_ids(u)\n",
        "    user_bias[u] = sum((get_rating(u, i)-global_mean-movie_bias[i]) for i in items) / (len(items) + c)\n",
        "\n",
        "print(user_bias)\n",
        "print(movie_bias)\n",
        "\n",
        "pred = global_mean + user_bias[3] + movie_bias[1]\n",
        "pred"
      ]
    },
    {
      "cell_type": "code",
      "execution_count": 18,
      "id": "YfTwO_QszfH5",
      "metadata": {
        "id": "YfTwO_QszfH5",
        "outputId": "a6a2dcf6-9fce-4042-f7ce-4f929fcf32ee"
      },
      "outputs": [
        {
          "data": {
            "text/plain": [
              "[(33, 5.158610062571328),\n",
              " (167, 5.024112458170631),\n",
              " (268, 5.021000365894105),\n",
              " (19, 5.020394702080607),\n",
              " (80, 5.0111744544026875)]"
            ]
          },
          "execution_count": 18,
          "metadata": {},
          "output_type": "execute_result"
        }
      ],
      "source": [
        "# Recomend movies that the user didnt watched yet\n",
        "def RecommendMovies(userId, k = 5):\n",
        "    movie_list = df['movieId'].unique()\n",
        "    watched = get_movie_ids(userId)\n",
        "    recommend = []\n",
        "    for i in movie_list:\n",
        "        if(not i in watched):\n",
        "             # Calculate the recommendation score for each movie\n",
        "            recommendation_score = global_mean + user_bias[userId] + movie_bias[i]\n",
        "            # Append movie ID, calculated value pair to the recommend list\n",
        "            recommend.append((i, recommendation_score))\n",
        "      # Sort the recommendations in decreasing order by the calculated value\n",
        "    recommend.sort(key=lambda x: x[1], reverse=True)\n",
        "    return recommend[:k]\n",
        "\n",
        "RecommendMovies(0)"
      ]
    },
    {
      "cell_type": "code",
      "execution_count": 19,
      "id": "nlr6kHo5zfH5",
      "metadata": {
        "id": "nlr6kHo5zfH5",
        "outputId": "f3362a57-fd86-4a06-9f22-1a376448d3d3"
      },
      "outputs": [
        {
          "name": "stdout",
          "output_type": "stream",
          "text": [
            "[0, 3, 5, 6, 12, 14, 16, 18, 19, 21, 23, 29, 30, 34, 39, 54, 57, 72, 74, 84, 85, 87, 105, 106, 107]\n",
            "[(33, 4.150767969524827), (167, 4.01627036512413), (268, 4.013158272847603), (80, 4.003332361356186), (40, 3.9922465170350643)]\n"
          ]
        }
      ],
      "source": [
        "print(get_movie_ids(1))\n",
        "print(RecommendMovies(1))"
      ]
    },
    {
      "cell_type": "markdown",
      "id": "ozhC4A1XzfH6",
      "metadata": {
        "id": "ozhC4A1XzfH6"
      },
      "source": [
        "### TODO: Avaliação do desempenho do algoritmo baseline\n",
        "\n",
        "### Método que para cada usuário pega no conjunto de teste os filmes que o usuário avaliou bem (rating > 3 por exemplo) e verifica se este filme foi de fato recomendado pelo método Baseline na função RecommendMovies\n",
        "### Usar plots?"
      ]
    },
    {
      "cell_type": "markdown",
      "id": "NW_Q0fUUzfH6",
      "metadata": {
        "id": "NW_Q0fUUzfH6"
      },
      "source": [
        "# TODO\n",
        "# Modelo Apriori\n",
        "\n",
        "> Recomenda filmes considerando principalmente o contexto dos filmes e a relação (associação) entre eles"
      ]
    },
    {
      "cell_type": "markdown",
      "id": "J2Hyxy4v09Nb",
      "metadata": {
        "id": "J2Hyxy4v09Nb"
      },
      "source": [
        "### Pré-processamento e criação da tabela de filmes assistidos"
      ]
    },
    {
      "cell_type": "code",
      "execution_count": 20,
      "id": "1BX-ovijzfH6",
      "metadata": {
        "id": "1BX-ovijzfH6"
      },
      "outputs": [],
      "source": [
        "df_pivot = df.pivot(index='userId', columns='title', values='rating').fillna(0)"
      ]
    },
    {
      "cell_type": "code",
      "execution_count": 21,
      "id": "JFJPdX_g0gCi",
      "metadata": {
        "id": "JFJPdX_g0gCi"
      },
      "outputs": [],
      "source": [
        "df_pivot = df_pivot.astype('int64')"
      ]
    },
    {
      "cell_type": "code",
      "execution_count": 22,
      "id": "OOZBUNs_0g2R",
      "metadata": {
        "id": "OOZBUNs_0g2R"
      },
      "outputs": [
        {
          "name": "stderr",
          "output_type": "stream",
          "text": [
            "/tmp/ipykernel_26238/3712817876.py:7: FutureWarning: DataFrame.applymap has been deprecated. Use DataFrame.map instead.\n",
            "  df_pivot = df_pivot.applymap(lambda x: 1 if x > 0 else 0)\n"
          ]
        }
      ],
      "source": [
        "df_pivot = df_pivot.applymap(lambda x: 1 if x > 0 else 0)"
      ]
    },
    {
      "cell_type": "code",
      "execution_count": 23,
      "id": "BrCEOdoT0wGU",
      "metadata": {
        "colab": {
          "base_uri": "https://localhost:8080/",
          "height": 497
        },
        "id": "BrCEOdoT0wGU",
        "outputId": "a0b07350-d352-4d8b-b7fb-8b62d9460f8e"
      },
      "outputs": [
        {
          "data": {
            "text/html": [
              "<div>\n",
              "<style scoped>\n",
              "    .dataframe tbody tr th:only-of-type {\n",
              "        vertical-align: middle;\n",
              "    }\n",
              "\n",
              "    .dataframe tbody tr th {\n",
              "        vertical-align: top;\n",
              "    }\n",
              "\n",
              "    .dataframe thead th {\n",
              "        text-align: right;\n",
              "    }\n",
              "</style>\n",
              "<table border=\"1\" class=\"dataframe\">\n",
              "  <thead>\n",
              "    <tr style=\"text-align: right;\">\n",
              "      <th>title</th>\n",
              "      <th>100 Rifles (1969)</th>\n",
              "      <th>21 (2008)</th>\n",
              "      <th>2AM: The Smiling Man (2013)</th>\n",
              "      <th>3 Simoa (2012)</th>\n",
              "      <th>97 Percent True (2008)</th>\n",
              "      <th>A Rumor Of War (1980)</th>\n",
              "      <th>A Walk in the Woods (2015)</th>\n",
              "      <th>A mí las mujeres ni fu ni fa (1971)</th>\n",
              "      <th>About Cherry (2012)</th>\n",
              "      <th>Ace in the Hole (Big Carnival, The) (1951)</th>\n",
              "      <th>...</th>\n",
              "      <th>While You Were Sleeping (1995)</th>\n",
              "      <th>White Nights (1985)</th>\n",
              "      <th>Wild Target (2010)</th>\n",
              "      <th>Winning Team, The (1952)</th>\n",
              "      <th>Wish I Was Here (2014)</th>\n",
              "      <th>Woman, a Gun and a Noodle Shop, A (San qiang pai an jing qi) (2009)</th>\n",
              "      <th>Wonderful Days (a.k.a. Sky Blue) (2003)</th>\n",
              "      <th>Yolanda and the Thief (1945)</th>\n",
              "      <th>Zero Effect (1998)</th>\n",
              "      <th>À nous la liberté (Freedom for Us) (1931)</th>\n",
              "    </tr>\n",
              "    <tr>\n",
              "      <th>userId</th>\n",
              "      <th></th>\n",
              "      <th></th>\n",
              "      <th></th>\n",
              "      <th></th>\n",
              "      <th></th>\n",
              "      <th></th>\n",
              "      <th></th>\n",
              "      <th></th>\n",
              "      <th></th>\n",
              "      <th></th>\n",
              "      <th></th>\n",
              "      <th></th>\n",
              "      <th></th>\n",
              "      <th></th>\n",
              "      <th></th>\n",
              "      <th></th>\n",
              "      <th></th>\n",
              "      <th></th>\n",
              "      <th></th>\n",
              "      <th></th>\n",
              "      <th></th>\n",
              "    </tr>\n",
              "  </thead>\n",
              "  <tbody>\n",
              "    <tr>\n",
              "      <th>0</th>\n",
              "      <td>0</td>\n",
              "      <td>0</td>\n",
              "      <td>0</td>\n",
              "      <td>0</td>\n",
              "      <td>0</td>\n",
              "      <td>0</td>\n",
              "      <td>0</td>\n",
              "      <td>0</td>\n",
              "      <td>0</td>\n",
              "      <td>0</td>\n",
              "      <td>...</td>\n",
              "      <td>0</td>\n",
              "      <td>0</td>\n",
              "      <td>0</td>\n",
              "      <td>0</td>\n",
              "      <td>0</td>\n",
              "      <td>0</td>\n",
              "      <td>0</td>\n",
              "      <td>0</td>\n",
              "      <td>0</td>\n",
              "      <td>0</td>\n",
              "    </tr>\n",
              "    <tr>\n",
              "      <th>1</th>\n",
              "      <td>0</td>\n",
              "      <td>1</td>\n",
              "      <td>0</td>\n",
              "      <td>0</td>\n",
              "      <td>0</td>\n",
              "      <td>0</td>\n",
              "      <td>0</td>\n",
              "      <td>0</td>\n",
              "      <td>0</td>\n",
              "      <td>0</td>\n",
              "      <td>...</td>\n",
              "      <td>0</td>\n",
              "      <td>0</td>\n",
              "      <td>0</td>\n",
              "      <td>0</td>\n",
              "      <td>0</td>\n",
              "      <td>0</td>\n",
              "      <td>0</td>\n",
              "      <td>0</td>\n",
              "      <td>0</td>\n",
              "      <td>0</td>\n",
              "    </tr>\n",
              "    <tr>\n",
              "      <th>2</th>\n",
              "      <td>0</td>\n",
              "      <td>0</td>\n",
              "      <td>0</td>\n",
              "      <td>0</td>\n",
              "      <td>0</td>\n",
              "      <td>0</td>\n",
              "      <td>0</td>\n",
              "      <td>0</td>\n",
              "      <td>0</td>\n",
              "      <td>0</td>\n",
              "      <td>...</td>\n",
              "      <td>0</td>\n",
              "      <td>1</td>\n",
              "      <td>0</td>\n",
              "      <td>0</td>\n",
              "      <td>0</td>\n",
              "      <td>0</td>\n",
              "      <td>0</td>\n",
              "      <td>0</td>\n",
              "      <td>0</td>\n",
              "      <td>0</td>\n",
              "    </tr>\n",
              "    <tr>\n",
              "      <th>3</th>\n",
              "      <td>0</td>\n",
              "      <td>0</td>\n",
              "      <td>0</td>\n",
              "      <td>0</td>\n",
              "      <td>0</td>\n",
              "      <td>0</td>\n",
              "      <td>0</td>\n",
              "      <td>0</td>\n",
              "      <td>0</td>\n",
              "      <td>0</td>\n",
              "      <td>...</td>\n",
              "      <td>1</td>\n",
              "      <td>0</td>\n",
              "      <td>0</td>\n",
              "      <td>0</td>\n",
              "      <td>0</td>\n",
              "      <td>0</td>\n",
              "      <td>0</td>\n",
              "      <td>0</td>\n",
              "      <td>0</td>\n",
              "      <td>0</td>\n",
              "    </tr>\n",
              "    <tr>\n",
              "      <th>4</th>\n",
              "      <td>0</td>\n",
              "      <td>0</td>\n",
              "      <td>0</td>\n",
              "      <td>0</td>\n",
              "      <td>0</td>\n",
              "      <td>0</td>\n",
              "      <td>0</td>\n",
              "      <td>0</td>\n",
              "      <td>0</td>\n",
              "      <td>0</td>\n",
              "      <td>...</td>\n",
              "      <td>1</td>\n",
              "      <td>0</td>\n",
              "      <td>0</td>\n",
              "      <td>0</td>\n",
              "      <td>0</td>\n",
              "      <td>0</td>\n",
              "      <td>0</td>\n",
              "      <td>0</td>\n",
              "      <td>0</td>\n",
              "      <td>0</td>\n",
              "    </tr>\n",
              "  </tbody>\n",
              "</table>\n",
              "<p>5 rows × 417 columns</p>\n",
              "</div>"
            ],
            "text/plain": [
              "title   100 Rifles (1969)  21 (2008)  2AM: The Smiling Man (2013)  \\\n",
              "userId                                                              \n",
              "0                       0          0                            0   \n",
              "1                       0          1                            0   \n",
              "2                       0          0                            0   \n",
              "3                       0          0                            0   \n",
              "4                       0          0                            0   \n",
              "\n",
              "title   3 Simoa (2012)  97 Percent True (2008)  A Rumor Of War (1980)  \\\n",
              "userId                                                                  \n",
              "0                    0                       0                      0   \n",
              "1                    0                       0                      0   \n",
              "2                    0                       0                      0   \n",
              "3                    0                       0                      0   \n",
              "4                    0                       0                      0   \n",
              "\n",
              "title   A Walk in the Woods (2015)  A mí las mujeres ni fu ni fa (1971)  \\\n",
              "userId                                                                    \n",
              "0                                0                                    0   \n",
              "1                                0                                    0   \n",
              "2                                0                                    0   \n",
              "3                                0                                    0   \n",
              "4                                0                                    0   \n",
              "\n",
              "title   About Cherry (2012)  Ace in the Hole (Big Carnival, The) (1951)  ...  \\\n",
              "userId                                                                   ...   \n",
              "0                         0                                           0  ...   \n",
              "1                         0                                           0  ...   \n",
              "2                         0                                           0  ...   \n",
              "3                         0                                           0  ...   \n",
              "4                         0                                           0  ...   \n",
              "\n",
              "title   While You Were Sleeping (1995)  White Nights (1985)  \\\n",
              "userId                                                        \n",
              "0                                    0                    0   \n",
              "1                                    0                    0   \n",
              "2                                    0                    1   \n",
              "3                                    1                    0   \n",
              "4                                    1                    0   \n",
              "\n",
              "title   Wild Target (2010)  Winning Team, The (1952)  Wish I Was Here (2014)  \\\n",
              "userId                                                                         \n",
              "0                        0                         0                       0   \n",
              "1                        0                         0                       0   \n",
              "2                        0                         0                       0   \n",
              "3                        0                         0                       0   \n",
              "4                        0                         0                       0   \n",
              "\n",
              "title   Woman, a Gun and a Noodle Shop, A (San qiang pai an jing qi) (2009)  \\\n",
              "userId                                                                        \n",
              "0                                                       0                     \n",
              "1                                                       0                     \n",
              "2                                                       0                     \n",
              "3                                                       0                     \n",
              "4                                                       0                     \n",
              "\n",
              "title   Wonderful Days (a.k.a. Sky Blue) (2003)  Yolanda and the Thief (1945)  \\\n",
              "userId                                                                          \n",
              "0                                             0                             0   \n",
              "1                                             0                             0   \n",
              "2                                             0                             0   \n",
              "3                                             0                             0   \n",
              "4                                             0                             0   \n",
              "\n",
              "title   Zero Effect (1998)  À nous la liberté (Freedom for Us) (1931)  \n",
              "userId                                                                 \n",
              "0                        0                                          0  \n",
              "1                        0                                          0  \n",
              "2                        0                                          0  \n",
              "3                        0                                          0  \n",
              "4                        0                                          0  \n",
              "\n",
              "[5 rows x 417 columns]"
            ]
          },
          "execution_count": 23,
          "metadata": {},
          "output_type": "execute_result"
        }
      ],
      "source": [
        "df_pivot.head()\n"
      ]
    },
    {
      "cell_type": "markdown",
      "id": "70fTmWfV1Npr",
      "metadata": {
        "id": "70fTmWfV1Npr"
      },
      "source": [
        "### Treinando o modelo"
      ]
    },
    {
      "cell_type": "code",
      "execution_count": 24,
      "id": "NIe3MPN41Tju",
      "metadata": {
        "colab": {
          "base_uri": "https://localhost:8080/"
        },
        "id": "NIe3MPN41Tju",
        "outputId": "1f6a5160-0c09-488b-96d3-2e09f7bf317b"
      },
      "outputs": [
        {
          "name": "stderr",
          "output_type": "stream",
          "text": [
            "/home/gustavo_lelli/.local/lib/python3.10/site-packages/mlxtend/frequent_patterns/fpcommon.py:110: DeprecationWarning: DataFrames with non-bool types result in worse computationalperformance and their support might be discontinued in the future.Please use a DataFrame with bool type\n",
            "  warnings.warn(\n"
          ]
        }
      ],
      "source": [
        "from mlxtend.frequent_patterns import apriori\n",
        "\n",
        "frequent_itemset = apriori(df_pivot, min_support=0.07, use_colnames=True)"
      ]
    },
    {
      "cell_type": "code",
      "execution_count": 25,
      "id": "Hkx4yHOq1YNi",
      "metadata": {
        "colab": {
          "base_uri": "https://localhost:8080/",
          "height": 263
        },
        "id": "Hkx4yHOq1YNi",
        "outputId": "5f5f259f-8293-4972-dff3-b54760a27ed1"
      },
      "outputs": [
        {
          "data": {
            "text/html": [
              "<div>\n",
              "<style scoped>\n",
              "    .dataframe tbody tr th:only-of-type {\n",
              "        vertical-align: middle;\n",
              "    }\n",
              "\n",
              "    .dataframe tbody tr th {\n",
              "        vertical-align: top;\n",
              "    }\n",
              "\n",
              "    .dataframe thead th {\n",
              "        text-align: right;\n",
              "    }\n",
              "</style>\n",
              "<table border=\"1\" class=\"dataframe\">\n",
              "  <thead>\n",
              "    <tr style=\"text-align: right;\">\n",
              "      <th></th>\n",
              "      <th>support</th>\n",
              "      <th>itemsets</th>\n",
              "    </tr>\n",
              "  </thead>\n",
              "  <tbody>\n",
              "    <tr>\n",
              "      <th>0</th>\n",
              "      <td>0.148963</td>\n",
              "      <td>(Along Came a Spider (2001))</td>\n",
              "    </tr>\n",
              "    <tr>\n",
              "      <th>1</th>\n",
              "      <td>0.401894</td>\n",
              "      <td>(American Psycho (2000))</td>\n",
              "    </tr>\n",
              "    <tr>\n",
              "      <th>2</th>\n",
              "      <td>0.136970</td>\n",
              "      <td>(Apocalypto (2006))</td>\n",
              "    </tr>\n",
              "    <tr>\n",
              "      <th>3</th>\n",
              "      <td>0.194049</td>\n",
              "      <td>(Aristocats, The (1970))</td>\n",
              "    </tr>\n",
              "    <tr>\n",
              "      <th>4</th>\n",
              "      <td>0.107574</td>\n",
              "      <td>(Bachelor Party (1984))</td>\n",
              "    </tr>\n",
              "  </tbody>\n",
              "</table>\n",
              "</div>"
            ],
            "text/plain": [
              "    support                      itemsets\n",
              "0  0.148963  (Along Came a Spider (2001))\n",
              "1  0.401894      (American Psycho (2000))\n",
              "2  0.136970           (Apocalypto (2006))\n",
              "3  0.194049      (Aristocats, The (1970))\n",
              "4  0.107574       (Bachelor Party (1984))"
            ]
          },
          "execution_count": 25,
          "metadata": {},
          "output_type": "execute_result"
        }
      ],
      "source": [
        "frequent_itemset.head()\n"
      ]
    },
    {
      "cell_type": "code",
      "execution_count": 26,
      "id": "Q4klz5ve1ceT",
      "metadata": {
        "colab": {
          "base_uri": "https://localhost:8080/"
        },
        "id": "Q4klz5ve1ceT",
        "outputId": "a9dc81a4-1a5f-4fc2-a4b4-3233d331a7e5"
      },
      "outputs": [],
      "source": [
        "from mlxtend.frequent_patterns import association_rules\n",
        "\n",
        "rules = association_rules(frequent_itemset, metric=\"lift\", min_threshold=1)\n"
      ]
    },
    {
      "cell_type": "code",
      "execution_count": 27,
      "id": "-nJwbXsP1hgi",
      "metadata": {
        "colab": {
          "base_uri": "https://localhost:8080/",
          "height": 263
        },
        "id": "-nJwbXsP1hgi",
        "outputId": "a8721ec2-e2a9-4a73-cde6-cb587a72812c"
      },
      "outputs": [
        {
          "data": {
            "text/html": [
              "<div>\n",
              "<style scoped>\n",
              "    .dataframe tbody tr th:only-of-type {\n",
              "        vertical-align: middle;\n",
              "    }\n",
              "\n",
              "    .dataframe tbody tr th {\n",
              "        vertical-align: top;\n",
              "    }\n",
              "\n",
              "    .dataframe thead th {\n",
              "        text-align: right;\n",
              "    }\n",
              "</style>\n",
              "<table border=\"1\" class=\"dataframe\">\n",
              "  <thead>\n",
              "    <tr style=\"text-align: right;\">\n",
              "      <th></th>\n",
              "      <th>antecedents</th>\n",
              "      <th>consequents</th>\n",
              "      <th>antecedent support</th>\n",
              "      <th>consequent support</th>\n",
              "      <th>support</th>\n",
              "      <th>confidence</th>\n",
              "      <th>lift</th>\n",
              "      <th>leverage</th>\n",
              "      <th>conviction</th>\n",
              "      <th>zhangs_metric</th>\n",
              "    </tr>\n",
              "  </thead>\n",
              "  <tbody>\n",
              "    <tr>\n",
              "      <th>0</th>\n",
              "      <td>(Reservoir Dogs (1992))</td>\n",
              "      <td>(Along Came a Spider (2001))</td>\n",
              "      <td>0.719477</td>\n",
              "      <td>0.148963</td>\n",
              "      <td>0.111001</td>\n",
              "      <td>0.154280</td>\n",
              "      <td>1.035693</td>\n",
              "      <td>0.003825</td>\n",
              "      <td>1.006287</td>\n",
              "      <td>0.122853</td>\n",
              "    </tr>\n",
              "    <tr>\n",
              "      <th>1</th>\n",
              "      <td>(Along Came a Spider (2001))</td>\n",
              "      <td>(Reservoir Dogs (1992))</td>\n",
              "      <td>0.148963</td>\n",
              "      <td>0.719477</td>\n",
              "      <td>0.111001</td>\n",
              "      <td>0.745157</td>\n",
              "      <td>1.035693</td>\n",
              "      <td>0.003825</td>\n",
              "      <td>1.100770</td>\n",
              "      <td>0.040495</td>\n",
              "    </tr>\n",
              "    <tr>\n",
              "      <th>2</th>\n",
              "      <td>(Star Wars: Episode V - The Empire Strikes Bac...</td>\n",
              "      <td>(Along Came a Spider (2001))</td>\n",
              "      <td>0.855185</td>\n",
              "      <td>0.148963</td>\n",
              "      <td>0.128855</td>\n",
              "      <td>0.150675</td>\n",
              "      <td>1.011491</td>\n",
              "      <td>0.001464</td>\n",
              "      <td>1.002015</td>\n",
              "      <td>0.078451</td>\n",
              "    </tr>\n",
              "    <tr>\n",
              "      <th>3</th>\n",
              "      <td>(Along Came a Spider (2001))</td>\n",
              "      <td>(Star Wars: Episode V - The Empire Strikes Bac...</td>\n",
              "      <td>0.148963</td>\n",
              "      <td>0.855185</td>\n",
              "      <td>0.128855</td>\n",
              "      <td>0.865012</td>\n",
              "      <td>1.011491</td>\n",
              "      <td>0.001464</td>\n",
              "      <td>1.072801</td>\n",
              "      <td>0.013349</td>\n",
              "    </tr>\n",
              "    <tr>\n",
              "      <th>4</th>\n",
              "      <td>(American Psycho (2000))</td>\n",
              "      <td>(Bowling for Columbine (2002))</td>\n",
              "      <td>0.401894</td>\n",
              "      <td>0.454013</td>\n",
              "      <td>0.226330</td>\n",
              "      <td>0.563159</td>\n",
              "      <td>1.240404</td>\n",
              "      <td>0.043865</td>\n",
              "      <td>1.249854</td>\n",
              "      <td>0.324041</td>\n",
              "    </tr>\n",
              "  </tbody>\n",
              "</table>\n",
              "</div>"
            ],
            "text/plain": [
              "                                         antecedents  \\\n",
              "0                            (Reservoir Dogs (1992))   \n",
              "1                       (Along Came a Spider (2001))   \n",
              "2  (Star Wars: Episode V - The Empire Strikes Bac...   \n",
              "3                       (Along Came a Spider (2001))   \n",
              "4                           (American Psycho (2000))   \n",
              "\n",
              "                                         consequents  antecedent support  \\\n",
              "0                       (Along Came a Spider (2001))            0.719477   \n",
              "1                            (Reservoir Dogs (1992))            0.148963   \n",
              "2                       (Along Came a Spider (2001))            0.855185   \n",
              "3  (Star Wars: Episode V - The Empire Strikes Bac...            0.148963   \n",
              "4                     (Bowling for Columbine (2002))            0.401894   \n",
              "\n",
              "   consequent support   support  confidence      lift  leverage  conviction  \\\n",
              "0            0.148963  0.111001    0.154280  1.035693  0.003825    1.006287   \n",
              "1            0.719477  0.111001    0.745157  1.035693  0.003825    1.100770   \n",
              "2            0.148963  0.128855    0.150675  1.011491  0.001464    1.002015   \n",
              "3            0.855185  0.128855    0.865012  1.011491  0.001464    1.072801   \n",
              "4            0.454013  0.226330    0.563159  1.240404  0.043865    1.249854   \n",
              "\n",
              "   zhangs_metric  \n",
              "0       0.122853  \n",
              "1       0.040495  \n",
              "2       0.078451  \n",
              "3       0.013349  \n",
              "4       0.324041  "
            ]
          },
          "execution_count": 27,
          "metadata": {},
          "output_type": "execute_result"
        }
      ],
      "source": [
        "rules.head()"
      ]
    },
    {
      "cell_type": "markdown",
      "id": "CI-KhU501uZy",
      "metadata": {
        "id": "CI-KhU501uZy"
      },
      "source": [
        "### Resultados\n"
      ]
    },
    {
      "cell_type": "code",
      "execution_count": 28,
      "id": "5-Y30iA01wOL",
      "metadata": {
        "colab": {
          "base_uri": "https://localhost:8080/",
          "height": 367
        },
        "id": "5-Y30iA01wOL",
        "outputId": "4290fb8d-18bc-4756-d727-11d04a5c1b01"
      },
      "outputs": [
        {
          "data": {
            "text/html": [
              "<div>\n",
              "<style scoped>\n",
              "    .dataframe tbody tr th:only-of-type {\n",
              "        vertical-align: middle;\n",
              "    }\n",
              "\n",
              "    .dataframe tbody tr th {\n",
              "        vertical-align: top;\n",
              "    }\n",
              "\n",
              "    .dataframe thead th {\n",
              "        text-align: right;\n",
              "    }\n",
              "</style>\n",
              "<table border=\"1\" class=\"dataframe\">\n",
              "  <thead>\n",
              "    <tr style=\"text-align: right;\">\n",
              "      <th></th>\n",
              "      <th>antecedents</th>\n",
              "      <th>consequents</th>\n",
              "      <th>antecedent support</th>\n",
              "      <th>consequent support</th>\n",
              "      <th>support</th>\n",
              "      <th>confidence</th>\n",
              "      <th>lift</th>\n",
              "      <th>leverage</th>\n",
              "      <th>conviction</th>\n",
              "      <th>zhangs_metric</th>\n",
              "    </tr>\n",
              "  </thead>\n",
              "  <tbody>\n",
              "    <tr>\n",
              "      <th>9523</th>\n",
              "      <td>(Reservoir Dogs (1992), I, Robot (2004))</td>\n",
              "      <td>(Star Wars: Episode V - The Empire Strikes Bac...</td>\n",
              "      <td>0.290352</td>\n",
              "      <td>0.165014</td>\n",
              "      <td>0.106312</td>\n",
              "      <td>0.366149</td>\n",
              "      <td>2.218903</td>\n",
              "      <td>0.058400</td>\n",
              "      <td>1.317323</td>\n",
              "      <td>0.774083</td>\n",
              "    </tr>\n",
              "    <tr>\n",
              "      <th>9522</th>\n",
              "      <td>(Star Wars: Episode V - The Empire Strikes Bac...</td>\n",
              "      <td>(Reservoir Dogs (1992), I, Robot (2004))</td>\n",
              "      <td>0.165014</td>\n",
              "      <td>0.290352</td>\n",
              "      <td>0.106312</td>\n",
              "      <td>0.644262</td>\n",
              "      <td>2.218903</td>\n",
              "      <td>0.058400</td>\n",
              "      <td>1.994864</td>\n",
              "      <td>0.657887</td>\n",
              "    </tr>\n",
              "    <tr>\n",
              "      <th>7237</th>\n",
              "      <td>(Collateral (2004), Lara Croft: Tomb Raider (2...</td>\n",
              "      <td>(I, Robot (2004), Reservoir Dogs (1992))</td>\n",
              "      <td>0.167538</td>\n",
              "      <td>0.290352</td>\n",
              "      <td>0.106673</td>\n",
              "      <td>0.636706</td>\n",
              "      <td>2.192879</td>\n",
              "      <td>0.058028</td>\n",
              "      <td>1.953373</td>\n",
              "      <td>0.653458</td>\n",
              "    </tr>\n",
              "    <tr>\n",
              "      <th>7232</th>\n",
              "      <td>(I, Robot (2004), Reservoir Dogs (1992))</td>\n",
              "      <td>(Collateral (2004), Lara Croft: Tomb Raider (2...</td>\n",
              "      <td>0.290352</td>\n",
              "      <td>0.167538</td>\n",
              "      <td>0.106673</td>\n",
              "      <td>0.367391</td>\n",
              "      <td>2.192879</td>\n",
              "      <td>0.058028</td>\n",
              "      <td>1.315919</td>\n",
              "      <td>0.766547</td>\n",
              "    </tr>\n",
              "    <tr>\n",
              "      <th>7110</th>\n",
              "      <td>(Star Wars: Episode V - The Empire Strikes Bac...</td>\n",
              "      <td>(Crimson Tide (1995), I, Robot (2004))</td>\n",
              "      <td>0.318485</td>\n",
              "      <td>0.150586</td>\n",
              "      <td>0.103968</td>\n",
              "      <td>0.326444</td>\n",
              "      <td>2.167822</td>\n",
              "      <td>0.056008</td>\n",
              "      <td>1.261089</td>\n",
              "      <td>0.790456</td>\n",
              "    </tr>\n",
              "  </tbody>\n",
              "</table>\n",
              "</div>"
            ],
            "text/plain": [
              "                                            antecedents  \\\n",
              "9523           (Reservoir Dogs (1992), I, Robot (2004))   \n",
              "9522  (Star Wars: Episode V - The Empire Strikes Bac...   \n",
              "7237  (Collateral (2004), Lara Croft: Tomb Raider (2...   \n",
              "7232           (I, Robot (2004), Reservoir Dogs (1992))   \n",
              "7110  (Star Wars: Episode V - The Empire Strikes Bac...   \n",
              "\n",
              "                                            consequents  antecedent support  \\\n",
              "9523  (Star Wars: Episode V - The Empire Strikes Bac...            0.290352   \n",
              "9522           (Reservoir Dogs (1992), I, Robot (2004))            0.165014   \n",
              "7237           (I, Robot (2004), Reservoir Dogs (1992))            0.167538   \n",
              "7232  (Collateral (2004), Lara Croft: Tomb Raider (2...            0.290352   \n",
              "7110             (Crimson Tide (1995), I, Robot (2004))            0.318485   \n",
              "\n",
              "      consequent support   support  confidence      lift  leverage  \\\n",
              "9523            0.165014  0.106312    0.366149  2.218903  0.058400   \n",
              "9522            0.290352  0.106312    0.644262  2.218903  0.058400   \n",
              "7237            0.290352  0.106673    0.636706  2.192879  0.058028   \n",
              "7232            0.167538  0.106673    0.367391  2.192879  0.058028   \n",
              "7110            0.150586  0.103968    0.326444  2.167822  0.056008   \n",
              "\n",
              "      conviction  zhangs_metric  \n",
              "9523    1.317323       0.774083  \n",
              "9522    1.994864       0.657887  \n",
              "7237    1.953373       0.653458  \n",
              "7232    1.315919       0.766547  \n",
              "7110    1.261089       0.790456  "
            ]
          },
          "execution_count": 28,
          "metadata": {},
          "output_type": "execute_result"
        }
      ],
      "source": [
        "df_res = rules.sort_values(by=['lift'], ascending=False)\n",
        "df_res.head()\n"
      ]
    },
    {
      "cell_type": "markdown",
      "id": "k2g2N38q2Os8",
      "metadata": {
        "id": "k2g2N38q2Os8"
      },
      "source": [
        "### Testando o modelo"
      ]
    },
    {
      "cell_type": "code",
      "execution_count": 29,
      "id": "lM5688ft2TW6",
      "metadata": {
        "colab": {
          "base_uri": "https://localhost:8080/"
        },
        "id": "lM5688ft2TW6",
        "outputId": "44b7069a-ea30-4914-8b3a-8d50328d21ad"
      },
      "outputs": [],
      "source": [
        "movie_test = 'I, Robot (2004)'"
      ]
    },
    {
      "cell_type": "code",
      "execution_count": 30,
      "id": "PZCcbqcM124z",
      "metadata": {
        "colab": {
          "base_uri": "https://localhost:8080/"
        },
        "id": "PZCcbqcM124z",
        "outputId": "16fe39a0-a6c0-452e-f04b-e9fbd6986591"
      },
      "outputs": [],
      "source": [
        "df_test = df_res[df_res['antecedents'].apply(lambda x: len(x) == 1 and next(iter(x)) == movie_test)]"
      ]
    },
    {
      "cell_type": "code",
      "execution_count": 31,
      "id": "RQ3I8xRr2NIB",
      "metadata": {
        "colab": {
          "base_uri": "https://localhost:8080/"
        },
        "id": "RQ3I8xRr2NIB",
        "outputId": "a8465e70-c442-4a6b-a1df-31c306b70a84"
      },
      "outputs": [],
      "source": [
        "df_test = df_test[df_test['lift'] > 1.5]"
      ]
    },
    {
      "cell_type": "code",
      "execution_count": 32,
      "id": "tP0qw3XV28y6",
      "metadata": {
        "colab": {
          "base_uri": "https://localhost:8080/",
          "height": 263
        },
        "id": "tP0qw3XV28y6",
        "outputId": "44bcefe8-4771-4d35-ae99-7f17eaf02ac6"
      },
      "outputs": [
        {
          "data": {
            "text/html": [
              "<div>\n",
              "<style scoped>\n",
              "    .dataframe tbody tr th:only-of-type {\n",
              "        vertical-align: middle;\n",
              "    }\n",
              "\n",
              "    .dataframe tbody tr th {\n",
              "        vertical-align: top;\n",
              "    }\n",
              "\n",
              "    .dataframe thead th {\n",
              "        text-align: right;\n",
              "    }\n",
              "</style>\n",
              "<table border=\"1\" class=\"dataframe\">\n",
              "  <thead>\n",
              "    <tr style=\"text-align: right;\">\n",
              "      <th></th>\n",
              "      <th>antecedents</th>\n",
              "      <th>consequents</th>\n",
              "      <th>antecedent support</th>\n",
              "      <th>consequent support</th>\n",
              "      <th>support</th>\n",
              "      <th>confidence</th>\n",
              "      <th>lift</th>\n",
              "      <th>leverage</th>\n",
              "      <th>conviction</th>\n",
              "      <th>zhangs_metric</th>\n",
              "    </tr>\n",
              "  </thead>\n",
              "  <tbody>\n",
              "    <tr>\n",
              "      <th>7253</th>\n",
              "      <td>(I, Robot (2004))</td>\n",
              "      <td>(Star Wars: Episode V - The Empire Strikes Bac...</td>\n",
              "      <td>0.39486</td>\n",
              "      <td>0.151398</td>\n",
              "      <td>0.119748</td>\n",
              "      <td>0.303266</td>\n",
              "      <td>2.003106</td>\n",
              "      <td>0.059967</td>\n",
              "      <td>1.217971</td>\n",
              "      <td>0.827537</td>\n",
              "    </tr>\n",
              "    <tr>\n",
              "      <th>2171</th>\n",
              "      <td>(I, Robot (2004))</td>\n",
              "      <td>(Collateral (2004), Lara Croft: Tomb Raider (2...</td>\n",
              "      <td>0.39486</td>\n",
              "      <td>0.167538</td>\n",
              "      <td>0.131109</td>\n",
              "      <td>0.332039</td>\n",
              "      <td>1.981871</td>\n",
              "      <td>0.064955</td>\n",
              "      <td>1.246273</td>\n",
              "      <td>0.818697</td>\n",
              "    </tr>\n",
              "    <tr>\n",
              "      <th>7239</th>\n",
              "      <td>(I, Robot (2004))</td>\n",
              "      <td>(Reservoir Dogs (1992), Collateral (2004), Lar...</td>\n",
              "      <td>0.39486</td>\n",
              "      <td>0.136339</td>\n",
              "      <td>0.106673</td>\n",
              "      <td>0.270153</td>\n",
              "      <td>1.981479</td>\n",
              "      <td>0.052838</td>\n",
              "      <td>1.183345</td>\n",
              "      <td>0.818532</td>\n",
              "    </tr>\n",
              "    <tr>\n",
              "      <th>2194</th>\n",
              "      <td>(I, Robot (2004))</td>\n",
              "      <td>(Rush Hour 2 (2001), Collateral (2004))</td>\n",
              "      <td>0.39486</td>\n",
              "      <td>0.137872</td>\n",
              "      <td>0.107484</td>\n",
              "      <td>0.272208</td>\n",
              "      <td>1.974356</td>\n",
              "      <td>0.053044</td>\n",
              "      <td>1.184581</td>\n",
              "      <td>0.815523</td>\n",
              "    </tr>\n",
              "    <tr>\n",
              "      <th>7226</th>\n",
              "      <td>(I, Robot (2004))</td>\n",
              "      <td>(Karate Kid, The (1984), Collateral (2004), St...</td>\n",
              "      <td>0.39486</td>\n",
              "      <td>0.151758</td>\n",
              "      <td>0.109378</td>\n",
              "      <td>0.277004</td>\n",
              "      <td>1.825296</td>\n",
              "      <td>0.049454</td>\n",
              "      <td>1.173231</td>\n",
              "      <td>0.747172</td>\n",
              "    </tr>\n",
              "  </tbody>\n",
              "</table>\n",
              "</div>"
            ],
            "text/plain": [
              "            antecedents                                        consequents  \\\n",
              "7253  (I, Robot (2004))  (Star Wars: Episode V - The Empire Strikes Bac...   \n",
              "2171  (I, Robot (2004))  (Collateral (2004), Lara Croft: Tomb Raider (2...   \n",
              "7239  (I, Robot (2004))  (Reservoir Dogs (1992), Collateral (2004), Lar...   \n",
              "2194  (I, Robot (2004))            (Rush Hour 2 (2001), Collateral (2004))   \n",
              "7226  (I, Robot (2004))  (Karate Kid, The (1984), Collateral (2004), St...   \n",
              "\n",
              "      antecedent support  consequent support   support  confidence      lift  \\\n",
              "7253             0.39486            0.151398  0.119748    0.303266  2.003106   \n",
              "2171             0.39486            0.167538  0.131109    0.332039  1.981871   \n",
              "7239             0.39486            0.136339  0.106673    0.270153  1.981479   \n",
              "2194             0.39486            0.137872  0.107484    0.272208  1.974356   \n",
              "7226             0.39486            0.151758  0.109378    0.277004  1.825296   \n",
              "\n",
              "      leverage  conviction  zhangs_metric  \n",
              "7253  0.059967    1.217971       0.827537  \n",
              "2171  0.064955    1.246273       0.818697  \n",
              "7239  0.052838    1.183345       0.818532  \n",
              "2194  0.053044    1.184581       0.815523  \n",
              "7226  0.049454    1.173231       0.747172  "
            ]
          },
          "execution_count": 32,
          "metadata": {},
          "output_type": "execute_result"
        }
      ],
      "source": [
        "df_test.head()\n"
      ]
    },
    {
      "cell_type": "code",
      "execution_count": 33,
      "id": "FKuv7W9v3MA6",
      "metadata": {
        "colab": {
          "base_uri": "https://localhost:8080/"
        },
        "id": "FKuv7W9v3MA6",
        "outputId": "1dd5416c-c2a6-403e-f598-0c8fe43f3eb9"
      },
      "outputs": [],
      "source": [
        "movies = df_test['consequents'].values\n",
        "\n",
        "movie_list = []\n",
        "for movie in movies:\n",
        "    for title in movie:\n",
        "        if title not in movie_list:\n",
        "            movie_list.append(title)"
      ]
    },
    {
      "cell_type": "code",
      "execution_count": 34,
      "id": "4cDses5e3PDy",
      "metadata": {
        "colab": {
          "base_uri": "https://localhost:8080/"
        },
        "id": "4cDses5e3PDy",
        "outputId": "a0f3c0c0-cefc-4deb-fc5e-a5cc0661e78c"
      },
      "outputs": [
        {
          "data": {
            "text/plain": [
              "['Star Wars: Episode V - The Empire Strikes Back (1980)',\n",
              " 'Collateral (2004)',\n",
              " 'Lara Croft: Tomb Raider (2001)',\n",
              " 'Reservoir Dogs (1992)',\n",
              " 'Rush Hour 2 (2001)',\n",
              " 'Karate Kid, The (1984)',\n",
              " 'Conspiracy Theory (1997)',\n",
              " 'American Psycho (2000)',\n",
              " 'Dark City (1998)',\n",
              " 'Crimson Tide (1995)']"
            ]
          },
          "execution_count": 34,
          "metadata": {},
          "output_type": "execute_result"
        }
      ],
      "source": [
        "movie_list[0:10]\n"
      ]
    },
    {
      "cell_type": "markdown",
      "metadata": {},
      "source": [
        "# TODO\n",
        "# Modelo K-Nearest-Neighbors\n",
        "\n",
        "> Recomenda filmes com base nas preferências de usuários semelhantes"
      ]
    },
    {
      "cell_type": "code",
      "execution_count": 35,
      "metadata": {},
      "outputs": [
        {
          "name": "stdout",
          "output_type": "stream",
          "text": [
            "Defaulting to user installation because normal site-packages is not writeable\n",
            "Requirement already satisfied: scikit-surprise in /home/gustavo_lelli/.local/lib/python3.10/site-packages (1.1.3)\n",
            "Requirement already satisfied: joblib>=1.0.0 in /home/gustavo_lelli/.local/lib/python3.10/site-packages (from scikit-surprise) (1.3.2)\n",
            "Requirement already satisfied: numpy>=1.17.3 in /home/gustavo_lelli/.local/lib/python3.10/site-packages (from scikit-surprise) (1.26.2)\n",
            "Requirement already satisfied: scipy>=1.3.2 in /home/gustavo_lelli/.local/lib/python3.10/site-packages (from scikit-surprise) (1.11.4)\n",
            "Computing the cosine similarity matrix...\n",
            "Done computing similarity matrix.\n"
          ]
        },
        {
          "data": {
            "text/plain": [
              "<surprise.prediction_algorithms.knns.KNNBasic at 0x7f610c438130>"
            ]
          },
          "execution_count": 35,
          "metadata": {},
          "output_type": "execute_result"
        }
      ],
      "source": [
        "!pip install scikit-surprise\n",
        "\n",
        "from surprise import Dataset, Reader, KNNBasic\n",
        "\n",
        "reader = Reader(rating_scale=(1, 5))\n",
        "data = Dataset.load_from_df(df[['userId', 'movieId', 'rating']], reader)"
      ]
    },
    {
      "cell_type": "code",
      "execution_count": null,
      "metadata": {},
      "outputs": [],
      "source": [
        "# Essa função Percorre todos os dados de treinamento disponíveis e extrai informações necessárias para construir o conjunto\n",
        "# de treinamento. Isso inclui o conjunto completo de usuários, itens e avaliações.\n",
        "trainset = data.build_full_trainset()\n",
        "\n",
        "# Aqui estabelecemos as opções de similaridade do KNN usando cosseno (por conta de sua invariância a escala) e explicitando\n",
        "# que as recomendações são baseadas nos usuários\n",
        "sim_options = {'name': 'cosine', 'user_based': True}\n",
        "model = KNNBasic(sim_options=sim_options)\n",
        "model.fit(trainset)"
      ]
    },
    {
      "cell_type": "code",
      "execution_count": 36,
      "metadata": {},
      "outputs": [
        {
          "data": {
            "text/html": [
              "<div>\n",
              "<style scoped>\n",
              "    .dataframe tbody tr th:only-of-type {\n",
              "        vertical-align: middle;\n",
              "    }\n",
              "\n",
              "    .dataframe tbody tr th {\n",
              "        vertical-align: top;\n",
              "    }\n",
              "\n",
              "    .dataframe thead th {\n",
              "        text-align: right;\n",
              "    }\n",
              "</style>\n",
              "<table border=\"1\" class=\"dataframe\">\n",
              "  <thead>\n",
              "    <tr style=\"text-align: right;\">\n",
              "      <th></th>\n",
              "      <th>movieId</th>\n",
              "      <th>title</th>\n",
              "    </tr>\n",
              "  </thead>\n",
              "  <tbody>\n",
              "    <tr>\n",
              "      <th>30572</th>\n",
              "      <td>11</td>\n",
              "      <td>Masters of the Universe (1987)</td>\n",
              "    </tr>\n",
              "    <tr>\n",
              "      <th>41054</th>\n",
              "      <td>13</td>\n",
              "      <td>Sliding Doors (1998)</td>\n",
              "    </tr>\n",
              "    <tr>\n",
              "      <th>48984</th>\n",
              "      <td>16</td>\n",
              "      <td>Rush Hour 2 (2001)</td>\n",
              "    </tr>\n",
              "    <tr>\n",
              "      <th>71009</th>\n",
              "      <td>20</td>\n",
              "      <td>While You Were Sleeping (1995)</td>\n",
              "    </tr>\n",
              "    <tr>\n",
              "      <th>89893</th>\n",
              "      <td>24</td>\n",
              "      <td>Deep End of the Ocean, The (1999)</td>\n",
              "    </tr>\n",
              "    <tr>\n",
              "      <th>96517</th>\n",
              "      <td>28</td>\n",
              "      <td>My Best Friend's Wedding (1997)</td>\n",
              "    </tr>\n",
              "    <tr>\n",
              "      <th>100764</th>\n",
              "      <td>29</td>\n",
              "      <td>Man in the Iron Mask, The (1998)</td>\n",
              "    </tr>\n",
              "    <tr>\n",
              "      <th>110977</th>\n",
              "      <td>33</td>\n",
              "      <td>North by Northwest (1959)</td>\n",
              "    </tr>\n",
              "    <tr>\n",
              "      <th>115786</th>\n",
              "      <td>34</td>\n",
              "      <td>Roman Holiday (1953)</td>\n",
              "    </tr>\n",
              "    <tr>\n",
              "      <th>118657</th>\n",
              "      <td>36</td>\n",
              "      <td>Cloudy with a Chance of Meatballs (2009)</td>\n",
              "    </tr>\n",
              "  </tbody>\n",
              "</table>\n",
              "</div>"
            ],
            "text/plain": [
              "        movieId                                     title\n",
              "30572        11            Masters of the Universe (1987)\n",
              "41054        13                      Sliding Doors (1998)\n",
              "48984        16                        Rush Hour 2 (2001)\n",
              "71009        20            While You Were Sleeping (1995)\n",
              "89893        24         Deep End of the Ocean, The (1999)\n",
              "96517        28           My Best Friend's Wedding (1997)\n",
              "100764       29          Man in the Iron Mask, The (1998)\n",
              "110977       33                 North by Northwest (1959)\n",
              "115786       34                      Roman Holiday (1953)\n",
              "118657       36  Cloudy with a Chance of Meatballs (2009)"
            ]
          },
          "execution_count": 36,
          "metadata": {},
          "output_type": "execute_result"
        }
      ],
      "source": [
        "user_id_to_predict = 1  # Aqui é estabelecido o usuário em questão\n",
        "items_to_ignore = df[df['userId'] == user_id_to_predict]['movieId'].tolist() # Aqui guardamos os filmes já avaliados pelo usuário\n",
        "\n",
        "# Obtém IDs de filmes ainda não avaliados pelo usuário\n",
        "all_movie_ids = df['movieId'].unique()\n",
        "movies_to_predict = [movie_id for movie_id in all_movie_ids if movie_id not in items_to_ignore]\n",
        "\n",
        "# Gera previsões para os filmes não avaliados\n",
        "predictions = [model.predict(user_id_to_predict, movie_id) for movie_id in movies_to_predict]\n",
        "\n",
        "# Organiza as previsões em ordem decrescente de estimativa de classificação\n",
        "predictions.sort(key=lambda x: x.est, reverse=True)\n",
        "\n",
        "# Obtém os IDs dos filmes recomendados\n",
        "recommended_movie_ids = [prediction.iid for prediction in predictions]\n",
        "\n",
        "# Mapeia os IDs dos filmes recomendados para os títulos reais.\n",
        "recommended_movies = df[df['movieId'].isin(recommended_movie_ids)][['movieId', 'title']].drop_duplicates()\n",
        "\n",
        "recommended_movies[:10]"
      ]
    }
  ],
  "metadata": {
    "colab": {
      "provenance": []
    },
    "kernelspec": {
      "display_name": "Python 3",
      "language": "python",
      "name": "python3"
    },
    "language_info": {
      "codemirror_mode": {
        "name": "ipython",
        "version": 3
      },
      "file_extension": ".py",
      "mimetype": "text/x-python",
      "name": "python",
      "nbconvert_exporter": "python",
      "pygments_lexer": "ipython3",
      "version": "3.10.12"
    }
  },
  "nbformat": 4,
  "nbformat_minor": 5
}
